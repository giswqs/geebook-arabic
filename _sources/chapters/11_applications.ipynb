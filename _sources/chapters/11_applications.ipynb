{
 "cells": [
  {
   "cell_type": "markdown",
   "id": "c2076662",
   "metadata": {},
   "source": [
    "# Earth Engine Applications\n",
    "\n",
    "```{contents}\n",
    ":local:\n",
    ":depth: 2\n",
    "```\n",
    "\n",
    "## Introduction\n",
    "\n",
    "## Technical requirements\n",
    "\n",
    "```bash\n",
    "conda create -n gee python\n",
    "conda activate gee\n",
    "conda install -c conda-forge mamba\n",
    "mamba install -c conda-forge pygis\n",
    "```\n",
    "\n",
    "```bash\n",
    "jupyter lab\n",
    "```"
   ]
  },
  {
   "cell_type": "code",
   "execution_count": null,
   "id": "e0c49e46",
   "metadata": {},
   "outputs": [],
   "source": [
    "# %pip install pygis"
   ]
  },
  {
   "cell_type": "code",
   "execution_count": null,
   "id": "e4229151",
   "metadata": {},
   "outputs": [],
   "source": [
    "import ee\n",
    "import geemap"
   ]
  },
  {
   "cell_type": "code",
   "execution_count": null,
   "id": "b568921e",
   "metadata": {},
   "outputs": [],
   "source": [
    "geemap.ee_initialize()"
   ]
  },
  {
   "cell_type": "markdown",
   "id": "9d571802",
   "metadata": {},
   "source": [
    "## Analyzing surface water dynamics\n",
    "\n",
    "### Surface water occurrence"
   ]
  },
  {
   "cell_type": "code",
   "execution_count": null,
   "id": "40d085b9",
   "metadata": {},
   "outputs": [],
   "source": [
    "dataset = ee.Image('JRC/GSW1_4/GlobalSurfaceWater')\n",
    "dataset.bandNames()"
   ]
  },
  {
   "cell_type": "code",
   "execution_count": null,
   "id": "990289cc",
   "metadata": {},
   "outputs": [],
   "source": [
    "Map = geemap.Map()\n",
    "Map.add_basemap('HYBRID')\n",
    "Map"
   ]
  },
  {
   "cell_type": "code",
   "execution_count": null,
   "id": "7489fbed",
   "metadata": {},
   "outputs": [],
   "source": [
    "image = dataset.select(['occurrence'])\n",
    "region = Map.user_roi # Draw a polygon on the map\n",
    "if region is None:\n",
    "    region = ee.Geometry.BBox(-99.957, 46.8947, -99.278, 47.1531)\n",
    "vis_params = {'min': 0.0, 'max': 100.0, 'palette': ['ffffff', 'ffbbbb', '0000ff']}\n",
    "Map.addLayer(image, vis_params, 'Occurrence')\n",
    "Map.addLayer(region, {}, 'ROI', True, 0.5)\n",
    "Map.centerObject(region)\n",
    "Map.add_colorbar(vis_params, label='Water occurrence (%)', layer_name='Occurrence')"
   ]
  },
  {
   "cell_type": "code",
   "execution_count": null,
   "id": "2da0c885",
   "metadata": {},
   "outputs": [],
   "source": [
    "df = geemap.image_histogram(\n",
    "    image,\n",
    "    region,\n",
    "    scale=30,\n",
    "    return_df=True,\n",
    ")\n",
    "df"
   ]
  },
  {
   "cell_type": "code",
   "execution_count": null,
   "id": "877cdbca",
   "metadata": {},
   "outputs": [],
   "source": [
    "hist = geemap.image_histogram(\n",
    "    image,\n",
    "    region,\n",
    "    scale=30,\n",
    "    x_label='Water Occurrence (%)',\n",
    "    y_label='Pixel Count',\n",
    "    title='Surface Water Occurrence',\n",
    "    layout_args={'title': dict(x=0.5)},\n",
    "    return_df=False,\n",
    ")\n",
    "hist"
   ]
  },
  {
   "cell_type": "code",
   "execution_count": null,
   "id": "d4dd32e7",
   "metadata": {},
   "outputs": [],
   "source": [
    "hist.update_layout(\n",
    "    autosize=False,\n",
    "    width=800,\n",
    "    height=400,\n",
    "    margin=dict(l=30, r=20, b=10, t=50, pad=4)\n",
    ")\n",
    "hist.write_image('water_occurrence.jpg', scale=2)"
   ]
  },
  {
   "cell_type": "markdown",
   "id": "54c3bc9a",
   "metadata": {},
   "source": [
    "### Surface water monthly history"
   ]
  },
  {
   "cell_type": "code",
   "execution_count": null,
   "id": "fe7839cc",
   "metadata": {},
   "outputs": [],
   "source": [
    "dataset = ee.ImageCollection('JRC/GSW1_4/MonthlyHistory')\n",
    "dataset.size()"
   ]
  },
  {
   "cell_type": "code",
   "execution_count": null,
   "id": "e293f712",
   "metadata": {},
   "outputs": [],
   "source": [
    "dataset.aggregate_array(\"system:index\")"
   ]
  },
  {
   "cell_type": "code",
   "execution_count": null,
   "id": "2b63c0b2",
   "metadata": {},
   "outputs": [],
   "source": [
    "Map = geemap.Map()\n",
    "Map"
   ]
  },
  {
   "cell_type": "code",
   "execution_count": null,
   "id": "6818b9e9",
   "metadata": {},
   "outputs": [],
   "source": [
    "image = dataset.filterDate('2020-08-01', '2020-09-01').first()\n",
    "region = Map.user_roi # Draw a polygon on the map\n",
    "if region is None:\n",
    "    region = ee.Geometry.BBox(-99.957, 46.8947, -99.278, 47.1531)\n",
    "vis_params = {'min': 0.0, 'max': 2.0, 'palette': ['ffffff', 'fffcb8', '0905ff']}\n",
    "\n",
    "Map.addLayer(image, vis_params, 'Water')\n",
    "Map.addLayer(region, {}, 'ROI', True, 0.5)\n",
    "Map.centerObject(region)"
   ]
  },
  {
   "cell_type": "code",
   "execution_count": null,
   "id": "6e90e956",
   "metadata": {},
   "outputs": [],
   "source": [
    "geemap.jrc_hist_monthly_history(\n",
    "    region=region, scale=30, frequency='month', denominator=1e4, y_label='Area (ha)'\n",
    ")"
   ]
  },
  {
   "cell_type": "code",
   "execution_count": null,
   "id": "cfcb7c5d",
   "metadata": {},
   "outputs": [],
   "source": [
    "geemap.jrc_hist_monthly_history(\n",
    "    region=region,\n",
    "    start_month=6,\n",
    "    end_month=9,\n",
    "    scale=30,\n",
    "    frequency='month',\n",
    "    denominator=1e4,\n",
    "    y_label='Area (ha)',\n",
    ")"
   ]
  },
  {
   "cell_type": "code",
   "execution_count": null,
   "id": "52c4e14d",
   "metadata": {},
   "outputs": [],
   "source": [
    "geemap.jrc_hist_monthly_history(\n",
    "    region=region,\n",
    "    start_month=6,\n",
    "    end_month=9,\n",
    "    scale=30,\n",
    "    frequency='year',\n",
    "    reducer='mean',\n",
    "    denominator=1e4,\n",
    "    y_label='Area (ha)',\n",
    ")"
   ]
  },
  {
   "cell_type": "code",
   "execution_count": null,
   "id": "0ba272fc",
   "metadata": {},
   "outputs": [],
   "source": [
    "geemap.jrc_hist_monthly_history(\n",
    "    region=region,\n",
    "    start_month=6,\n",
    "    end_month=9,\n",
    "    scale=30,\n",
    "    frequency='year',\n",
    "    reducer='max',\n",
    "    denominator=1e4,\n",
    "    y_label='Area (ha)',\n",
    ")"
   ]
  },
  {
   "cell_type": "markdown",
   "id": "8b2d81c1",
   "metadata": {},
   "source": [
    "## Mapping flood extents\n",
    "\n",
    "### Create an interactive map"
   ]
  },
  {
   "cell_type": "code",
   "execution_count": null,
   "id": "de3640b2",
   "metadata": {},
   "outputs": [],
   "source": [
    "Map = geemap.Map(center=[29.3055, 68.9062], zoom=6)\n",
    "Map"
   ]
  },
  {
   "cell_type": "markdown",
   "id": "eb211b5a",
   "metadata": {},
   "source": [
    "### Search datasets"
   ]
  },
  {
   "cell_type": "code",
   "execution_count": null,
   "id": "f971441d",
   "metadata": {},
   "outputs": [],
   "source": [
    "country_name = 'Pakistan'\n",
    "pre_flood_start_date = '2021-08-01'\n",
    "pre_flood_end_date = '2021-09-30'\n",
    "flood_start_date = '2022-08-01'\n",
    "flood_end_date = '2022-09-30'"
   ]
  },
  {
   "cell_type": "markdown",
   "id": "a5b4abf0",
   "metadata": {},
   "source": [
    "### Visualize datasets"
   ]
  },
  {
   "cell_type": "code",
   "execution_count": null,
   "id": "c62e0e03",
   "metadata": {},
   "outputs": [],
   "source": [
    "country = ee.FeatureCollection('USDOS/LSIB_SIMPLE/2017').filter(\n",
    "    ee.Filter.eq('country_na', country_name)\n",
    ")\n",
    "style = {'color': 'black', 'fillColor': '00000000'}\n",
    "Map.addLayer(country.style(**style), {}, country_name)\n",
    "Map.centerObject(country)\n",
    "Map"
   ]
  },
  {
   "cell_type": "markdown",
   "id": "d6058f8d",
   "metadata": {},
   "source": [
    "### Create Landsat composites"
   ]
  },
  {
   "cell_type": "code",
   "execution_count": null,
   "id": "d09e563e",
   "metadata": {},
   "outputs": [],
   "source": [
    "landsat_col_2021 = (\n",
    "    ee.ImageCollection('LANDSAT/LC08/C02/T1')\n",
    "    .filterDate(pre_flood_start_date, pre_flood_end_date)\n",
    "    .filterBounds(country)\n",
    ")\n",
    "landsat_2021 = ee.Algorithms.Landsat.simpleComposite(landsat_col_2021).clipToCollection(\n",
    "    country\n",
    ")\n",
    "vis_params = {'bands': ['B6', 'B5', 'B4'], 'max': 128}\n",
    "Map.addLayer(landsat_2021, vis_params, 'Landsat 2021')"
   ]
  },
  {
   "cell_type": "code",
   "execution_count": null,
   "id": "aa467aa4",
   "metadata": {},
   "outputs": [],
   "source": [
    "landsat_col_2022 = (\n",
    "    ee.ImageCollection('LANDSAT/LC08/C02/T1')\n",
    "    .filterDate(flood_start_date, flood_end_date)\n",
    "    .filterBounds(country)\n",
    ")\n",
    "landsat_2022 = ee.Algorithms.Landsat.simpleComposite(landsat_col_2022).clipToCollection(\n",
    "    country\n",
    ")\n",
    "Map.addLayer(landsat_2022, vis_params, 'Landsat 2022')\n",
    "Map.centerObject(country)\n",
    "Map"
   ]
  },
  {
   "cell_type": "markdown",
   "id": "4d070de6",
   "metadata": {},
   "source": [
    "### Compare Landsat composites side by side"
   ]
  },
  {
   "cell_type": "code",
   "execution_count": null,
   "id": "b53ea7b6",
   "metadata": {},
   "outputs": [],
   "source": [
    "Map = geemap.Map()\n",
    "Map.setCenter(68.4338, 26.4213, 7)\n",
    "\n",
    "left_layer = geemap.ee_tile_layer(\n",
    "    landsat_2021, vis_params, 'Landsat 2021'\n",
    "   )\n",
    "right_layer = geemap.ee_tile_layer(\n",
    "    landsat_2022, vis_params, 'Landsat 2022'\n",
    ")\n",
    "\n",
    "Map.split_map(\n",
    "    left_layer, right_layer, left_label='Landsat 2021', right_label='Landsat 2022'\n",
    ")\n",
    "Map.addLayer(country.style(**style), {}, country_name)\n",
    "Map"
   ]
  },
  {
   "cell_type": "markdown",
   "id": "04f44a86",
   "metadata": {},
   "source": [
    "### Compute Normalized Difference Water Index (NDWI)"
   ]
  },
  {
   "cell_type": "code",
   "execution_count": null,
   "id": "9bc5720c",
   "metadata": {},
   "outputs": [],
   "source": [
    "ndwi_2021 = landsat_2021.normalizedDifference(['B3', 'B5']).rename('NDWI')\n",
    "ndwi_2022 = landsat_2022.normalizedDifference(['B3', 'B5']).rename('NDWI')"
   ]
  },
  {
   "cell_type": "code",
   "execution_count": null,
   "id": "26ca5202",
   "metadata": {},
   "outputs": [],
   "source": [
    "Map = geemap.Map()\n",
    "Map.setCenter(68.4338, 26.4213, 7)\n",
    "ndwi_vis = {'min': -1, 'max': 1, 'palette': 'ndwi'}\n",
    "\n",
    "left_layer = geemap.ee_tile_layer(ndwi_2021, ndwi_vis, 'NDWI 2021')\n",
    "right_layer = geemap.ee_tile_layer(ndwi_2022, ndwi_vis, 'NDWI 2022')\n",
    "\n",
    "Map.split_map(left_layer, right_layer, left_label='NDWI 2021', right_label='NDWI 2022')\n",
    "Map.addLayer(country.style(**style), {}, country_name)\n",
    "Map"
   ]
  },
  {
   "cell_type": "markdown",
   "id": "aa612f4c",
   "metadata": {},
   "source": [
    "### Extract Landsat water extent"
   ]
  },
  {
   "cell_type": "code",
   "execution_count": null,
   "id": "cc7a3123",
   "metadata": {},
   "outputs": [],
   "source": [
    "threshold = 0.1\n",
    "water_2021 = ndwi_2021.gt(threshold).selfMask()\n",
    "water_2022 = ndwi_2022.gt(threshold).selfMask()"
   ]
  },
  {
   "cell_type": "code",
   "execution_count": null,
   "id": "7eed5396",
   "metadata": {},
   "outputs": [],
   "source": [
    "Map = geemap.Map()\n",
    "Map.setCenter(68.4338, 26.4213, 7)\n",
    "\n",
    "Map.addLayer(landsat_2021, vis_params, 'Landsat 2021', False)\n",
    "Map.addLayer(landsat_2022, vis_params, 'Landsat 2022', False)\n",
    "\n",
    "left_layer = geemap.ee_tile_layer(\n",
    "    water_2021, {'palette': 'blue'}, 'Water 2021'\n",
    ")\n",
    "right_layer = geemap.ee_tile_layer(\n",
    "    water_2022, {'palette': 'red'}, 'Water 2022'\n",
    ")\n",
    "\n",
    "Map.split_map(\n",
    "    left_layer, right_layer, left_label='Water 2021', right_label='Water 2022'\n",
    ")\n",
    "Map.addLayer(country.style(**style), {}, country_name)\n",
    "Map"
   ]
  },
  {
   "cell_type": "markdown",
   "id": "b013b414",
   "metadata": {},
   "source": [
    "### Extract Landsat flood extent"
   ]
  },
  {
   "cell_type": "code",
   "execution_count": null,
   "id": "96c99592",
   "metadata": {},
   "outputs": [],
   "source": [
    "flood_extent = water_2022.unmask().subtract(water_2021.unmask()).gt(0).selfMask()"
   ]
  },
  {
   "cell_type": "code",
   "execution_count": null,
   "id": "d1fb80d8",
   "metadata": {},
   "outputs": [],
   "source": [
    "Map = geemap.Map()\n",
    "Map.setCenter(68.4338, 26.4213, 7)\n",
    "\n",
    "Map.addLayer(landsat_2021, vis_params, 'Landsat 2021', False)\n",
    "Map.addLayer(landsat_2022, vis_params, 'Landsat 2022', False)\n",
    "\n",
    "left_layer = geemap.ee_tile_layer(\n",
    "    water_2021, {'palette': 'blue'}, 'Water 2021'\n",
    ")\n",
    "right_layer = geemap.ee_tile_layer(\n",
    "    water_2022, {'palette': 'red'}, 'Water 2022'\n",
    ")\n",
    "\n",
    "Map.split_map(\n",
    "    left_layer, right_layer, left_label='Water 2021', right_label='Water 2022'\n",
    ")\n",
    "\n",
    "Map.addLayer(flood_extent, {'palette': 'cyan'}, 'Flood Extent')\n",
    "Map.addLayer(country.style(**style), {}, country_name)\n",
    "Map"
   ]
  },
  {
   "cell_type": "markdown",
   "id": "adaa560b",
   "metadata": {},
   "source": [
    "### Calculate Landsat flood area"
   ]
  },
  {
   "cell_type": "code",
   "execution_count": null,
   "id": "39858025",
   "metadata": {},
   "outputs": [],
   "source": [
    "area_2021 = geemap.zonal_stats(\n",
    "    water_2021, country, scale=1000, statistics_type='SUM', return_fc=True\n",
    ")\n",
    "geemap.ee_to_df(area_2021)"
   ]
  },
  {
   "cell_type": "code",
   "execution_count": null,
   "id": "725d19e2",
   "metadata": {},
   "outputs": [],
   "source": [
    "area_2022 = geemap.zonal_stats(\n",
    "    water_2022, country, scale=1000, statistics_type='SUM', return_fc=True\n",
    ")\n",
    "geemap.ee_to_df(area_2022)"
   ]
  },
  {
   "cell_type": "code",
   "execution_count": null,
   "id": "b941caa3",
   "metadata": {},
   "outputs": [],
   "source": [
    "flood_area = geemap.zonal_stats(\n",
    "    flood_extent, country, scale=1000, statistics_type='SUM', return_fc=True\n",
    ")\n",
    "geemap.ee_to_df(flood_area)"
   ]
  },
  {
   "cell_type": "markdown",
   "id": "0ea43fb9",
   "metadata": {},
   "source": [
    "### Create Sentinel-1 SAR composites"
   ]
  },
  {
   "cell_type": "code",
   "execution_count": null,
   "id": "04d576f9",
   "metadata": {},
   "outputs": [],
   "source": [
    "s1_col_2021 = (\n",
    "    ee.ImageCollection('COPERNICUS/S1_GRD')\n",
    "    .filter(ee.Filter.listContains('transmitterReceiverPolarisation', 'VV'))\n",
    "    .filter(ee.Filter.eq('instrumentMode', 'IW'))\n",
    "    .filter(ee.Filter.eq('orbitProperties_pass', 'ASCENDING'))\n",
    "    .filterDate(pre_flood_start_date, pre_flood_end_date)\n",
    "    .filterBounds(country)\n",
    "    .select('VV')\n",
    ")\n",
    "s1_col_2021"
   ]
  },
  {
   "cell_type": "code",
   "execution_count": null,
   "id": "75606f72",
   "metadata": {},
   "outputs": [],
   "source": [
    "s1_col_2022 = (\n",
    "    ee.ImageCollection('COPERNICUS/S1_GRD')\n",
    "    .filter(ee.Filter.listContains('transmitterReceiverPolarisation', 'VV'))\n",
    "    .filter(ee.Filter.eq('instrumentMode', 'IW'))\n",
    "    .filter(ee.Filter.eq('orbitProperties_pass', 'ASCENDING'))\n",
    "    .filterDate(flood_start_date, flood_end_date)\n",
    "    .filterBounds(country)\n",
    "    .select('VV')\n",
    ")\n",
    "s1_col_2022"
   ]
  },
  {
   "cell_type": "code",
   "execution_count": null,
   "id": "f1958f95",
   "metadata": {},
   "outputs": [],
   "source": [
    "Map = geemap.Map()\n",
    "Map.add_basemap('HYBRID')\n",
    "sar_2021 = s1_col_2021.reduce(ee.Reducer.percentile([20])).clipToCollection(country)\n",
    "sar_2022 = s1_col_2022.reduce(ee.Reducer.percentile([20])).clipToCollection(country)\n",
    "Map.addLayer(sar_2021, {'min': -25, 'max': -5}, 'SAR 2021')\n",
    "Map.addLayer(sar_2022, {'min': -25, 'max': -5}, 'SAR 2022')\n",
    "Map.centerObject(country)\n",
    "Map"
   ]
  },
  {
   "cell_type": "markdown",
   "id": "38e5d863",
   "metadata": {},
   "source": [
    "### Apply speckle filtering"
   ]
  },
  {
   "cell_type": "code",
   "execution_count": null,
   "id": "99fe7868",
   "metadata": {},
   "outputs": [],
   "source": [
    "col_2021 = s1_col_2021.map(lambda img: img.focal_median(100, 'circle', 'meters'))\n",
    "col_2022 = s1_col_2022.map(lambda img: img.focal_median(100, 'circle', 'meters'))\n",
    "\n",
    "Map = geemap.Map()\n",
    "Map.add_basemap('HYBRID')\n",
    "sar_2021 = col_2021.reduce(ee.Reducer.percentile([20])).clipToCollection(country)\n",
    "sar_2022 = col_2022.reduce(ee.Reducer.percentile([20])).clipToCollection(country)\n",
    "Map.addLayer(sar_2021, {'min': -25, 'max': -5}, 'SAR 2021')\n",
    "Map.addLayer(sar_2022, {'min': -25, 'max': -5}, 'SAR 2022')\n",
    "Map.centerObject(country)\n",
    "Map"
   ]
  },
  {
   "cell_type": "markdown",
   "id": "7b81a351",
   "metadata": {},
   "source": [
    "### Compare Sentinel-1 SAR composites side by side"
   ]
  },
  {
   "cell_type": "code",
   "execution_count": null,
   "id": "27280f92",
   "metadata": {},
   "outputs": [],
   "source": [
    "Map = geemap.Map()\n",
    "Map.setCenter(68.4338, 26.4213, 7)\n",
    "\n",
    "left_layer = geemap.ee_tile_layer(sar_2021, {'min': -25, 'max': -5}, 'SAR 2021')\n",
    "right_layer = geemap.ee_tile_layer(sar_2022, {'min': -25, 'max': -5}, 'SAR 2022')\n",
    "\n",
    "Map.split_map(\n",
    "    left_layer, right_layer, left_label='Sentinel-1 2021', right_label='Sentinel-1 2022'\n",
    ")\n",
    "Map.addLayer(country.style(**style), {}, country_name)\n",
    "Map"
   ]
  },
  {
   "cell_type": "markdown",
   "id": "aab464c1",
   "metadata": {},
   "source": [
    "### Extract SAR water extent"
   ]
  },
  {
   "cell_type": "code",
   "execution_count": null,
   "id": "9e1eb857",
   "metadata": {},
   "outputs": [],
   "source": [
    "threshold = -18\n",
    "water_2021 = sar_2021.lt(threshold)\n",
    "water_2022 = sar_2022.lt(threshold)"
   ]
  },
  {
   "cell_type": "code",
   "execution_count": null,
   "id": "5c6b5eb7",
   "metadata": {},
   "outputs": [],
   "source": [
    "Map = geemap.Map()\n",
    "Map.setCenter(68.4338, 26.4213, 7)\n",
    "\n",
    "Map.addLayer(sar_2021, {'min': -25, 'max': -5}, 'SAR 2021')\n",
    "Map.addLayer(sar_2022, {'min': -25, 'max': -5}, 'SAR 2022')\n",
    "\n",
    "left_layer = geemap.ee_tile_layer(\n",
    "    water_2021.selfMask(), {'palette': 'blue'}, 'Water 2021'\n",
    ")\n",
    "right_layer = geemap.ee_tile_layer(\n",
    "    water_2022.selfMask(), {'palette': 'red'}, 'Water 2022'\n",
    ")\n",
    "\n",
    "Map.split_map(\n",
    "    left_layer, right_layer, left_label='Water 2021', right_label='Water 2022'\n",
    ")\n",
    "Map.addLayer(country.style(**style), {}, country_name)\n",
    "Map"
   ]
  },
  {
   "cell_type": "markdown",
   "id": "1a691550",
   "metadata": {},
   "source": [
    "### Extract SAR flood extent"
   ]
  },
  {
   "cell_type": "code",
   "execution_count": null,
   "id": "f93abc66",
   "metadata": {},
   "outputs": [],
   "source": [
    "flood_extent = water_2022.unmask().subtract(water_2021.unmask()).gt(0).selfMask()"
   ]
  },
  {
   "cell_type": "code",
   "execution_count": null,
   "id": "1d98d555",
   "metadata": {},
   "outputs": [],
   "source": [
    "Map = geemap.Map()\n",
    "Map.setCenter(68.4338, 26.4213, 7)\n",
    "\n",
    "Map.addLayer(sar_2021, {'min': -25, 'max': -5}, 'SAR 2021')\n",
    "Map.addLayer(sar_2022, {'min': -25, 'max': -5}, 'SAR 2022')\n",
    "\n",
    "left_layer = geemap.ee_tile_layer(\n",
    "    water_2021.selfMask(), {'palette': 'blue'}, 'Water 2021'\n",
    ")\n",
    "right_layer = geemap.ee_tile_layer(\n",
    "    water_2022.selfMask(), {'palette': 'red'}, 'Water 2022'\n",
    ")\n",
    "\n",
    "Map.split_map(\n",
    "    left_layer, right_layer, left_label='Water 2021', right_label='Water 2022'\n",
    ")\n",
    "\n",
    "Map.addLayer(flood_extent, {'palette': 'cyan'}, 'Flood Extent')\n",
    "Map.addLayer(country.style(**style), {}, country_name)\n",
    "Map"
   ]
  },
  {
   "cell_type": "markdown",
   "id": "21df8a27",
   "metadata": {},
   "source": [
    "### Calculate SAR flood area"
   ]
  },
  {
   "cell_type": "code",
   "execution_count": null,
   "id": "f30b7a57",
   "metadata": {},
   "outputs": [],
   "source": [
    "area_2021 = geemap.zonal_stats(\n",
    "    water_2021, country, scale=1000, statistics_type='SUM', return_fc=True\n",
    ")\n",
    "geemap.ee_to_df(area_2021)"
   ]
  },
  {
   "cell_type": "code",
   "execution_count": null,
   "id": "5066f8bf",
   "metadata": {},
   "outputs": [],
   "source": [
    "area_2022 = geemap.zonal_stats(\n",
    "    water_2022, country, scale=1000, statistics_type='SUM', return_fc=True\n",
    ")\n",
    "geemap.ee_to_df(area_2022)"
   ]
  },
  {
   "cell_type": "code",
   "execution_count": null,
   "id": "35d5e7de",
   "metadata": {},
   "outputs": [],
   "source": [
    "flood_area = geemap.zonal_stats(\n",
    "    flood_extent, country, scale=1000, statistics_type='SUM', return_fc=True\n",
    ")\n",
    "geemap.ee_to_df(flood_area)"
   ]
  },
  {
   "cell_type": "markdown",
   "id": "f8e76aff",
   "metadata": {},
   "source": [
    "## Forest cover change analysis\n",
    "\n",
    "### Forest cover mapping"
   ]
  },
  {
   "cell_type": "code",
   "execution_count": null,
   "id": "eeb0bf58",
   "metadata": {},
   "outputs": [],
   "source": [
    "dataset = ee.Image('UMD/hansen/global_forest_change_2021_v1_9')\n",
    "dataset.bandNames()"
   ]
  },
  {
   "cell_type": "code",
   "execution_count": null,
   "id": "b7a9431a",
   "metadata": {},
   "outputs": [],
   "source": [
    "Map = geemap.Map()\n",
    "first_bands = ['first_b50', 'first_b40', 'first_b30']\n",
    "first_image = dataset.select(first_bands)\n",
    "Map.addLayer(first_image, {'bands': first_bands, 'gamma': 1.5}, 'Year 2000 Bands 5/4/3')"
   ]
  },
  {
   "cell_type": "code",
   "execution_count": null,
   "id": "fba84e4d",
   "metadata": {},
   "outputs": [],
   "source": [
    "last_bands = ['last_b50', 'last_b40', 'last_b30']\n",
    "last_image = dataset.select(last_bands)\n",
    "Map.addLayer(last_image, {'bands': last_bands, 'gamma': 1.5}, 'Year 2021 Bands 5/4/3')"
   ]
  },
  {
   "cell_type": "code",
   "execution_count": null,
   "id": "33d19392",
   "metadata": {},
   "outputs": [],
   "source": [
    "treecover = dataset.select(['treecover2000'])\n",
    "treeCoverVisParam = {'min': 0, 'max': 100, 'palette': ['black', 'green']}\n",
    "name = 'Tree cover (%)'\n",
    "Map.addLayer(treecover, treeCoverVisParam, name)\n",
    "Map.add_colorbar(treeCoverVisParam, label=name, layer_name=name)\n",
    "Map"
   ]
  },
  {
   "cell_type": "code",
   "execution_count": null,
   "id": "897aa81f",
   "metadata": {},
   "outputs": [],
   "source": [
    "threshold = 10\n",
    "treecover_bin = treecover.gte(threshold).selfMask()\n",
    "treeVisParam = {'palette': ['green']}\n",
    "Map.addLayer(treecover_bin, treeVisParam, 'Tree cover bin')"
   ]
  },
  {
   "cell_type": "markdown",
   "id": "752b0530",
   "metadata": {},
   "source": [
    "### Forest loss and gain mapping"
   ]
  },
  {
   "cell_type": "code",
   "execution_count": null,
   "id": "9e55c8df",
   "metadata": {},
   "outputs": [],
   "source": [
    "Map = geemap.Map()\n",
    "treeloss_year = dataset.select(['lossyear'])\n",
    "treeLossVisParam = {'min': 0, 'max': 21, 'palette': ['yellow', 'red']}\n",
    "layer_name = 'Tree loss year'\n",
    "Map.addLayer(treeloss_year, treeLossVisParam, layer_name)\n",
    "Map.add_colorbar(treeLossVisParam, label=layer_name, layer_name=layer_name)\n",
    "Map"
   ]
  },
  {
   "cell_type": "code",
   "execution_count": null,
   "id": "e86b06ce",
   "metadata": {},
   "outputs": [],
   "source": [
    "treeloss = dataset.select(['loss']).selfMask()\n",
    "treegain = dataset.select(['gain']).selfMask()\n",
    "Map.addLayer(treeloss, {'palette': 'red'}, 'Tree loss')\n",
    "Map.addLayer(treegain, {'palette': 'yellow'}, 'Tree gain')\n",
    "Map"
   ]
  },
  {
   "cell_type": "markdown",
   "id": "4783ab67",
   "metadata": {},
   "source": [
    "### Zonal statistics by country"
   ]
  },
  {
   "cell_type": "code",
   "execution_count": null,
   "id": "08675e61",
   "metadata": {},
   "outputs": [],
   "source": [
    "Map = geemap.Map()\n",
    "countries = ee.FeatureCollection(geemap.examples.get_ee_path('countries'))\n",
    "style = {'color': '#000000ff', 'fillColor': '#00000000'}\n",
    "Map.addLayer(countries.style(**style), {}, 'Countries')\n",
    "Map"
   ]
  },
  {
   "cell_type": "code",
   "execution_count": null,
   "id": "90784313",
   "metadata": {},
   "outputs": [],
   "source": [
    "geemap.zonal_stats_by_group(\n",
    "    treecover_bin,\n",
    "    countries,\n",
    "    'forest_cover.csv',\n",
    "    statistics_type='SUM',\n",
    "    denominator=1e6,\n",
    "    scale=1000,\n",
    ")"
   ]
  },
  {
   "cell_type": "code",
   "execution_count": null,
   "id": "dd243f53",
   "metadata": {},
   "outputs": [],
   "source": [
    "geemap.pie_chart(\n",
    "    'forest_cover.csv', names='NAME', values='Class_sum', max_rows=20, height=400\n",
    ")"
   ]
  },
  {
   "cell_type": "code",
   "execution_count": null,
   "id": "f78b193c",
   "metadata": {},
   "outputs": [],
   "source": [
    "geemap.bar_chart(\n",
    "    'forest_cover.csv',\n",
    "    x='NAME',\n",
    "    y='Class_sum',\n",
    "    max_rows=20,\n",
    "    x_label='Country',\n",
    "    y_label='Forest area (km2)',\n",
    ")"
   ]
  },
  {
   "cell_type": "code",
   "execution_count": null,
   "id": "91a3e7fa",
   "metadata": {},
   "outputs": [],
   "source": [
    "geemap.zonal_stats_by_group(\n",
    "    treeloss,\n",
    "    countries,\n",
    "    'treeloss.csv',\n",
    "    statistics_type='SUM',\n",
    "    denominator=1e6,\n",
    "    scale=1000,\n",
    ")"
   ]
  },
  {
   "cell_type": "code",
   "execution_count": null,
   "id": "ae84cf48",
   "metadata": {},
   "outputs": [],
   "source": [
    "geemap.pie_chart(\n",
    "    'treeloss.csv', names='NAME', values='Class_sum', max_rows=20, height=600\n",
    ")"
   ]
  },
  {
   "cell_type": "code",
   "execution_count": null,
   "id": "5eb9cbdd",
   "metadata": {},
   "outputs": [],
   "source": [
    "geemap.bar_chart(\n",
    "    'treeloss.csv',\n",
    "    x='NAME',\n",
    "    y='Class_sum',\n",
    "    max_rows=20,\n",
    "    x_label='Country',\n",
    "    y_label='Forest loss area (km2)',\n",
    ")"
   ]
  },
  {
   "cell_type": "markdown",
   "id": "2f0bed71",
   "metadata": {},
   "source": [
    "## Global land cover mapping\n",
    "\n",
    "### Dynamic World"
   ]
  },
  {
   "cell_type": "code",
   "execution_count": null,
   "id": "5cff7b8c",
   "metadata": {},
   "outputs": [],
   "source": [
    "Map = geemap.Map()\n",
    "region = ee.Geometry.BBox(-89.7088, 42.9006, -89.0647, 43.2167)\n",
    "start_date = '2021-01-01'\n",
    "end_date = '2022-01-01'\n",
    "\n",
    "image = geemap.dynamic_world_s2(region, start_date, end_date, clip=True)\n",
    "vis_params = {'bands': ['B4', 'B3', 'B2'], 'min': 0, 'max': 3000}\n",
    "Map.addLayer(image, vis_params, 'Sentinel-2 image')\n",
    "\n",
    "landcover = geemap.dynamic_world(\n",
    "    region, start_date, end_date, return_type='hillshade', clip=True\n",
    ")\n",
    "Map.addLayer(landcover, {}, 'Land Cover')\n",
    "\n",
    "Map.add_legend(\n",
    "    title=\"Dynamic World Land Cover\",\n",
    "    builtin_legend='Dynamic_World',\n",
    "    layer_name='Land Cover',\n",
    ")\n",
    "Map.centerObject(region, 13)\n",
    "Map"
   ]
  },
  {
   "cell_type": "code",
   "execution_count": null,
   "id": "905d357a",
   "metadata": {},
   "outputs": [],
   "source": [
    "classes = geemap.dynamic_world(\n",
    "    region, start_date, end_date, return_type='class', clip=True\n",
    ")\n",
    "vis_params = {\n",
    "    \"min\": 0,\n",
    "    \"max\": 8,\n",
    "    \"palette\": [\n",
    "        \"#419BDF\",\n",
    "        \"#397D49\",\n",
    "        \"#88B053\",\n",
    "        \"#7A87C6\",\n",
    "        \"#E49635\",\n",
    "        \"#DFC35A\",\n",
    "        \"#C4281B\",\n",
    "        \"#A59B8F\",\n",
    "        \"#B39FE1\",\n",
    "    ],\n",
    "}\n",
    "Map.addLayer(classes, vis_params, 'Class')"
   ]
  },
  {
   "cell_type": "code",
   "execution_count": null,
   "id": "59b33f27",
   "metadata": {},
   "outputs": [],
   "source": [
    "probability = geemap.dynamic_world(\n",
    "    region, start_date, end_date, return_type='visualize', clip=True\n",
    ")\n",
    "Map.addLayer(probability, {}, 'Visualize')"
   ]
  },
  {
   "cell_type": "code",
   "execution_count": null,
   "id": "a61adef7",
   "metadata": {},
   "outputs": [],
   "source": [
    "probability = geemap.dynamic_world(\n",
    "    region, start_date, end_date, return_type='probability', clip=True\n",
    ")\n",
    "Map.addLayer(probability, {}, 'Probability')"
   ]
  },
  {
   "cell_type": "code",
   "execution_count": null,
   "id": "c117bfb2",
   "metadata": {},
   "outputs": [],
   "source": [
    "df = geemap.image_area_by_group(classes, region=region, scale=10, denominator=1e6)\n",
    "df"
   ]
  },
  {
   "cell_type": "code",
   "execution_count": null,
   "id": "1d62231f",
   "metadata": {},
   "outputs": [],
   "source": [
    "Map = geemap.Map()\n",
    "region = ee.Geometry.BBox(-89.7088, 42.9006, -89.0647, 43.2167)\n",
    "start_date = '2017-01-01'\n",
    "end_date = '2022-12-31'\n",
    "images = geemap.dynamic_world_timeseries(\n",
    "    region, start_date, end_date, frequency='year', return_type=\"hillshade\"\n",
    ")\n",
    "Map.ts_inspector(images, date_format='YYYY')\n",
    "Map.add_legend(title=\"Dynamic World Land Cover\", builtin_legend='Dynamic_World')\n",
    "Map.centerObject(region)\n",
    "Map"
   ]
  },
  {
   "cell_type": "markdown",
   "id": "d3d5280f",
   "metadata": {},
   "source": [
    "### ESA WorldCover"
   ]
  },
  {
   "cell_type": "code",
   "execution_count": null,
   "id": "03afacbc",
   "metadata": {},
   "outputs": [],
   "source": [
    "Map = geemap.Map()\n",
    "esa_2020 = ee.ImageCollection(\"ESA/WorldCover/v100\").first()\n",
    "esa_2021 = ee.ImageCollection(\"ESA/WorldCover/v200\").first()\n",
    "Map.addLayer(esa_2020, {'bands': ['Map']}, 'ESA 2020')\n",
    "Map.addLayer(esa_2021, {'bands': ['Map']}, 'ESA 2021')\n",
    "Map.add_legend(builtin_legend='ESA_WorldCover', title='ESA Land Cover')\n",
    "Map"
   ]
  },
  {
   "cell_type": "code",
   "execution_count": null,
   "id": "c40402ea",
   "metadata": {},
   "outputs": [],
   "source": [
    "df = geemap.image_area_by_group(\n",
    "    esa_2021, scale=1000, denominator=1e6, decimal_places=4, verbose=True\n",
    ")\n",
    "df"
   ]
  },
  {
   "cell_type": "code",
   "execution_count": null,
   "id": "b402cb8d",
   "metadata": {},
   "outputs": [],
   "source": [
    "df.to_csv('esa_2021.csv')"
   ]
  },
  {
   "cell_type": "code",
   "execution_count": null,
   "id": "d3034b3f",
   "metadata": {},
   "outputs": [],
   "source": [
    "Map = geemap.Map(center=[43.0006, -88.9088], zoom=12)\n",
    "# Create Dynamic World Land Cover 2021\n",
    "region = ee.Geometry.BBox(-179, -89, 179, 89)\n",
    "start_date = '2021-01-01'\n",
    "end_date = '2022-01-01'\n",
    "dw_2021 = geemap.dynamic_world(region, start_date, end_date, return_type='hillshade')\n",
    "# Create ESA WorldCover 2021\n",
    "esa_2021 = ee.ImageCollection(\"ESA/WorldCover/v200\").first()\n",
    "# Create a split map\n",
    "left_layer = geemap.ee_tile_layer(esa_2021, {'bands': ['Map']}, \"ESA 2021\")\n",
    "right_layer = geemap.ee_tile_layer(dw_2021, {}, \"Dynamic World 2021\")\n",
    "Map.split_map(left_layer, right_layer)\n",
    "# Add legends\n",
    "Map.add_legend(\n",
    "    title=\"ESA WorldCover\", builtin_legend='ESA_WorldCover', position='bottomleft'\n",
    ")\n",
    "Map.add_legend(\n",
    "    title=\"Dynamic World Land Cover\",\n",
    "    builtin_legend='Dynamic_World',\n",
    "    position='bottomright',\n",
    ")\n",
    "Map"
   ]
  },
  {
   "cell_type": "markdown",
   "id": "ea509866",
   "metadata": {},
   "source": [
    "### Esri global land cover"
   ]
  },
  {
   "cell_type": "code",
   "execution_count": null,
   "id": "3304a765",
   "metadata": {},
   "outputs": [],
   "source": [
    "def esri_annual_land_cover(year):\n",
    "    collection = ee.ImageCollection('projects/sat-io/open-datasets/landcover/ESRI_Global-LULC_10m_TS')\n",
    "    start_date = ee.Date.fromYMD(year, 1, 1)\n",
    "    end_date = start_date.advance(1, 'year')\n",
    "    image = collection.filterDate(start_date, end_date).mosaic()\n",
    "    return image.set('system:time_start', start_date.millis())"
   ]
  },
  {
   "cell_type": "code",
   "execution_count": null,
   "id": "391e553f",
   "metadata": {},
   "outputs": [],
   "source": [
    "start_year = 2017\n",
    "end_year = 2021\n",
    "years = ee.List.sequence(start_year, end_year)\n",
    "images = ee.ImageCollection(years.map(esri_annual_land_cover))\n",
    "images"
   ]
  },
  {
   "cell_type": "code",
   "execution_count": null,
   "id": "3453b230",
   "metadata": {},
   "outputs": [],
   "source": [
    "palette = [\n",
    "    \"#1A5BAB\",\n",
    "    \"#358221\",\n",
    "    \"#000000\",\n",
    "    \"#87D19E\",\n",
    "    \"#FFDB5C\",\n",
    "    \"#000000\",\n",
    "    \"#ED022A\",\n",
    "    \"#EDE9E4\",\n",
    "    \"#F2FAFF\",\n",
    "    \"#C8C8C8\",\n",
    "    \"#C6AD8D\",\n",
    "  ]\n",
    "vis_params = {\"min\": 1, \"max\": 11, \"palette\": palette}"
   ]
  },
  {
   "cell_type": "code",
   "execution_count": null,
   "id": "1d0e6736",
   "metadata": {},
   "outputs": [],
   "source": [
    "Map = geemap.Map()\n",
    "Map.ts_inspector(images, left_vis=vis_params, date_format='YYYY')\n",
    "Map.add_legend(title=\"Esri Land Cover\", builtin_legend='ESRI_LandCover')\n",
    "Map"
   ]
  },
  {
   "cell_type": "code",
   "execution_count": null,
   "id": "6c2ec1cd",
   "metadata": {},
   "outputs": [],
   "source": [
    "Map = geemap.Map(center=[43.0006, -88.9088], zoom=12)\n",
    "# Create Dynamic World Land Cover 2021\n",
    "dw_2021 = geemap.dynamic_world(region, start_date, end_date, return_type='hillshade')\n",
    "# Create Esri Global Land Cover 2021\n",
    "esri_2021 = esri_annual_land_cover(2021)\n",
    "# Create a split map\n",
    "left_layer = geemap.ee_tile_layer(esri_2021, vis_params, \"Esri 2021\")\n",
    "right_layer = geemap.ee_tile_layer(dw_2021, {}, \"Dynamic World 2021\")\n",
    "Map.split_map(left_layer, right_layer)\n",
    "# Add legends\n",
    "Map.add_legend(\n",
    "    title=\"Esri Land Cover\", builtin_legend='ESRI_LandCover', position='bottomleft'\n",
    ")\n",
    "Map.add_legend(\n",
    "    title=\"Dynamic World Land Cover\",\n",
    "    builtin_legend='Dynamic_World',\n",
    "    position='bottomright',\n",
    ")\n",
    "Map"
   ]
  },
  {
   "cell_type": "markdown",
   "id": "a6c944d7",
   "metadata": {},
   "source": [
    "## Concluding remarks"
   ]
  }
 ],
 "metadata": {
  "jupytext": {
   "text_representation": {
    "extension": ".md",
    "format_name": "myst",
    "format_version": 0.13,
    "jupytext_version": "1.14.4"
   }
  },
  "kernelspec": {
   "display_name": "Python 3 (ipykernel)",
   "language": "python",
   "name": "python3"
  },
  "source_map": [
   12,
   36,
   40,
   45,
   47,
   53,
   58,
   64,
   76,
   86,
   100,
   108,
   112,
   117,
   121,
   126,
   138,
   144,
   156,
   169,
   180,
   186,
   189,
   193,
   199,
   203,
   211,
   215,
   228,
   240,
   244,
   260,
   264,
   269,
   280,
   284,
   290,
   309,
   313,
   317,
   338,
   342,
   349,
   356,
   363,
   367,
   380,
   393,
   402,
   406,
   418,
   422,
   434,
   438,
   444,
   463,
   467,
   471,
   492,
   496,
   503,
   510,
   515,
   521,
   526,
   533,
   539,
   548,
   553,
   557,
   567,
   573,
   577,
   585,
   596,
   602,
   613,
   624,
   630,
   639,
   645,
   669,
   691,
   698,
   705,
   710,
   722,
   726,
   736,
   743,
   747,
   770,
   774,
   783,
   791,
   808,
   815,
   835
  ]
 },
 "nbformat": 4,
 "nbformat_minor": 5
}