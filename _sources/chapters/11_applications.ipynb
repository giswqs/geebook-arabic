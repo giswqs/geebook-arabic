{
 "cells": [
  {
   "cell_type": "markdown",
   "id": "b9ce906c",
   "metadata": {},
   "source": [
    "# Earth Engine Applications\n",
    "\n",
    "```{contents}\n",
    ":local:\n",
    ":depth: 2\n",
    "```\n",
    "\n",
    "## Introduction\n",
    "\n",
    "## Technical requirements\n",
    "\n",
    "```bash\n",
    "conda create -n gee python\n",
    "conda activate gee\n",
    "conda install -c conda-forge mamba\n",
    "mamba install -c conda-forge pygis\n",
    "```\n",
    "\n",
    "```bash\n",
    "jupyter lab\n",
    "```"
   ]
  },
  {
   "cell_type": "code",
   "execution_count": null,
   "id": "96a0d587",
   "metadata": {},
   "outputs": [],
   "source": [
    "# %pip install pygis"
   ]
  },
  {
   "cell_type": "code",
   "execution_count": null,
   "id": "d5309c52",
   "metadata": {},
   "outputs": [],
   "source": [
    "import ee\n",
    "import geemap"
   ]
  },
  {
   "cell_type": "code",
   "execution_count": null,
   "id": "6cb9fb82",
   "metadata": {},
   "outputs": [],
   "source": [
    "geemap.ee_initialize()"
   ]
  },
  {
   "cell_type": "markdown",
   "id": "9aa9d2fd",
   "metadata": {},
   "source": [
    "## Analyzing surface water dynamics\n",
    "\n",
    "### Surface water occurrence"
   ]
  },
  {
   "cell_type": "code",
   "execution_count": null,
   "id": "56b49979",
   "metadata": {},
   "outputs": [],
   "source": [
    "dataset = ee.Image('JRC/GSW1_4/GlobalSurfaceWater')\n",
    "dataset.bandNames()"
   ]
  },
  {
   "cell_type": "code",
   "execution_count": null,
   "id": "1d4e4768",
   "metadata": {},
   "outputs": [],
   "source": [
    "Map = geemap.Map()\n",
    "Map.add_basemap('HYBRID')\n",
    "Map"
   ]
  },
  {
   "cell_type": "code",
   "execution_count": null,
   "id": "9822ff2e",
   "metadata": {},
   "outputs": [],
   "source": [
    "image = dataset.select(['occurrence'])\n",
    "region = Map.user_roi # Draw a polygon on the map\n",
    "if region is None:\n",
    "    region = ee.Geometry.BBox(-99.957, 46.8947, -99.278, 47.1531)\n",
    "vis_params = {'min': 0.0, 'max': 100.0, 'palette': ['ffffff', 'ffbbbb', '0000ff']}\n",
    "Map.addLayer(image, vis_params, 'Occurrence')\n",
    "Map.addLayer(region, {}, 'ROI', True, 0.5)\n",
    "Map.centerObject(region)\n",
    "Map.add_colorbar(vis_params, label='Water occurrence (%)', layer_name='Occurrence')"
   ]
  },
  {
   "cell_type": "code",
   "execution_count": null,
   "id": "1ae52a03",
   "metadata": {},
   "outputs": [],
   "source": [
    "df = geemap.image_histogram(\n",
    "    image,\n",
    "    region,\n",
    "    scale=30,\n",
    "    return_df=True,\n",
    ")\n",
    "df"
   ]
  },
  {
   "cell_type": "code",
   "execution_count": null,
   "id": "0ed3056b",
   "metadata": {},
   "outputs": [],
   "source": [
    "hist = geemap.image_histogram(\n",
    "    image,\n",
    "    region,\n",
    "    scale=30,\n",
    "    x_label='Water Occurrence (%)',\n",
    "    y_label='Pixel Count',\n",
    "    title='Surface Water Occurrence',\n",
    "    layout_args={'title': dict(x=0.5)},\n",
    "    return_df=False,\n",
    ")\n",
    "hist"
   ]
  },
  {
   "cell_type": "code",
   "execution_count": null,
   "id": "84f8e158",
   "metadata": {},
   "outputs": [],
   "source": [
    "hist.update_layout(\n",
    "    autosize=False,\n",
    "    width=800,\n",
    "    height=400,\n",
    "    margin=dict(l=30, r=20, b=10, t=50, pad=4)\n",
    ")\n",
    "hist.write_image('water_occurrence.jpg', scale=2)"
   ]
  },
  {
   "cell_type": "markdown",
   "id": "edb998e5",
   "metadata": {},
   "source": [
    "### Surface water monthly history"
   ]
  },
  {
   "cell_type": "code",
   "execution_count": null,
   "id": "9593be32",
   "metadata": {},
   "outputs": [],
   "source": [
    "dataset = ee.ImageCollection('JRC/GSW1_4/MonthlyHistory')\n",
    "dataset.size()"
   ]
  },
  {
   "cell_type": "code",
   "execution_count": null,
   "id": "f5431742",
   "metadata": {},
   "outputs": [],
   "source": [
    "dataset.aggregate_array(\"system:index\")"
   ]
  },
  {
   "cell_type": "code",
   "execution_count": null,
   "id": "d1cb92c3",
   "metadata": {},
   "outputs": [],
   "source": [
    "Map = geemap.Map()\n",
    "Map"
   ]
  },
  {
   "cell_type": "code",
   "execution_count": null,
   "id": "a633b713",
   "metadata": {},
   "outputs": [],
   "source": [
    "image = dataset.filterDate('2020-08-01', '2020-09-01').first()\n",
    "region = Map.user_roi # Draw a polygon on the map\n",
    "if region is None:\n",
    "    region = ee.Geometry.BBox(-99.957, 46.8947, -99.278, 47.1531)\n",
    "vis_params = {'min': 0.0, 'max': 2.0, 'palette': ['ffffff', 'fffcb8', '0905ff']}\n",
    "\n",
    "Map.addLayer(image, vis_params, 'Water')\n",
    "Map.addLayer(region, {}, 'ROI', True, 0.5)\n",
    "Map.centerObject(region)"
   ]
  },
  {
   "cell_type": "code",
   "execution_count": null,
   "id": "dd367211",
   "metadata": {},
   "outputs": [],
   "source": [
    "geemap.jrc_hist_monthly_history(\n",
    "    region=region, scale=30, frequency='month', denominator=1e4, y_label='Area (ha)'\n",
    ")"
   ]
  },
  {
   "cell_type": "code",
   "execution_count": null,
   "id": "771d5202",
   "metadata": {},
   "outputs": [],
   "source": [
    "geemap.jrc_hist_monthly_history(\n",
    "    region=region,\n",
    "    start_month=6,\n",
    "    end_month=9,\n",
    "    scale=30,\n",
    "    frequency='month',\n",
    "    denominator=1e4,\n",
    "    y_label='Area (ha)',\n",
    ")"
   ]
  },
  {
   "cell_type": "code",
   "execution_count": null,
   "id": "c12a2287",
   "metadata": {},
   "outputs": [],
   "source": [
    "geemap.jrc_hist_monthly_history(\n",
    "    region=region,\n",
    "    start_month=6,\n",
    "    end_month=9,\n",
    "    scale=30,\n",
    "    frequency='year',\n",
    "    reducer='mean',\n",
    "    denominator=1e4,\n",
    "    y_label='Area (ha)',\n",
    ")"
   ]
  },
  {
   "cell_type": "code",
   "execution_count": null,
   "id": "66b4aceb",
   "metadata": {},
   "outputs": [],
   "source": [
    "geemap.jrc_hist_monthly_history(\n",
    "    region=region,\n",
    "    start_month=6,\n",
    "    end_month=9,\n",
    "    scale=30,\n",
    "    frequency='year',\n",
    "    reducer='max',\n",
    "    denominator=1e4,\n",
    "    y_label='Area (ha)',\n",
    ")"
   ]
  },
  {
   "cell_type": "markdown",
   "id": "f3c2bacb",
   "metadata": {},
   "source": [
    "## Mapping flood extents\n",
    "\n",
    "### Create an interactive map"
   ]
  },
  {
   "cell_type": "code",
   "execution_count": null,
   "id": "35ecf1f6",
   "metadata": {},
   "outputs": [],
   "source": [
    "Map = geemap.Map(center=[29.3055, 68.9062], zoom=6)\n",
    "Map"
   ]
  },
  {
   "cell_type": "markdown",
   "id": "da4e180b",
   "metadata": {},
   "source": [
    "### Search datasets"
   ]
  },
  {
   "cell_type": "code",
   "execution_count": null,
   "id": "d1defe5a",
   "metadata": {},
   "outputs": [],
   "source": [
    "country_name = 'Pakistan'\n",
    "pre_flood_start_date = '2021-08-01'\n",
    "pre_flood_end_date = '2021-09-30'\n",
    "flood_start_date = '2022-08-01'\n",
    "flood_end_date = '2022-09-30'"
   ]
  },
  {
   "cell_type": "markdown",
   "id": "1a67e912",
   "metadata": {},
   "source": [
    "### Visualize datasets"
   ]
  },
  {
   "cell_type": "code",
   "execution_count": null,
   "id": "140ce2eb",
   "metadata": {},
   "outputs": [],
   "source": [
    "country = ee.FeatureCollection('USDOS/LSIB_SIMPLE/2017').filter(\n",
    "    ee.Filter.eq('country_na', country_name)\n",
    ")\n",
    "style = {'color': 'black', 'fillColor': '00000000'}\n",
    "Map.addLayer(country.style(**style), {}, country_name)\n",
    "Map.centerObject(country)\n",
    "Map"
   ]
  },
  {
   "cell_type": "markdown",
   "id": "8ada5181",
   "metadata": {},
   "source": [
    "### Create Landsat composites"
   ]
  },
  {
   "cell_type": "code",
   "execution_count": null,
   "id": "ee32491c",
   "metadata": {},
   "outputs": [],
   "source": [
    "landsat_col_2021 = (\n",
    "    ee.ImageCollection('LANDSAT/LC08/C02/T1')\n",
    "    .filterDate(pre_flood_start_date, pre_flood_end_date)\n",
    "    .filterBounds(country)\n",
    ")\n",
    "landsat_2021 = ee.Algorithms.Landsat.simpleComposite(landsat_col_2021).clipToCollection(\n",
    "    country\n",
    ")\n",
    "vis_params = {'bands': ['B6', 'B5', 'B4'], 'max': 128}\n",
    "Map.addLayer(landsat_2021, vis_params, 'Landsat 2021')"
   ]
  },
  {
   "cell_type": "code",
   "execution_count": null,
   "id": "67a6e79e",
   "metadata": {},
   "outputs": [],
   "source": [
    "landsat_col_2022 = (\n",
    "    ee.ImageCollection('LANDSAT/LC08/C02/T1')\n",
    "    .filterDate(flood_start_date, flood_end_date)\n",
    "    .filterBounds(country)\n",
    ")\n",
    "landsat_2022 = ee.Algorithms.Landsat.simpleComposite(landsat_col_2022).clipToCollection(\n",
    "    country\n",
    ")\n",
    "Map.addLayer(landsat_2022, vis_params, 'Landsat 2022')\n",
    "Map.centerObject(country)\n",
    "Map"
   ]
  },
  {
   "cell_type": "markdown",
   "id": "736e0926",
   "metadata": {},
   "source": [
    "### Compare Landsat composites side by side"
   ]
  },
  {
   "cell_type": "code",
   "execution_count": null,
   "id": "dc929c52",
   "metadata": {},
   "outputs": [],
   "source": [
    "Map = geemap.Map()\n",
    "Map.setCenter(68.4338, 26.4213, 7)\n",
    "\n",
    "left_layer = geemap.ee_tile_layer(\n",
    "    landsat_2021, vis_params, 'Landsat 2021'\n",
    "   )\n",
    "right_layer = geemap.ee_tile_layer(\n",
    "    landsat_2022, vis_params, 'Landsat 2022'\n",
    ")\n",
    "\n",
    "Map.split_map(\n",
    "    left_layer, right_layer, left_label='Landsat 2021', right_label='Landsat 2022'\n",
    ")\n",
    "Map.addLayer(country.style(**style), {}, country_name)\n",
    "Map"
   ]
  },
  {
   "cell_type": "markdown",
   "id": "556fb7d8",
   "metadata": {},
   "source": [
    "### Compute Normalized Difference Water Index (NDWI)"
   ]
  },
  {
   "cell_type": "code",
   "execution_count": null,
   "id": "3e033d80",
   "metadata": {},
   "outputs": [],
   "source": [
    "ndwi_2021 = landsat_2021.normalizedDifference(['B3', 'B5']).rename('NDWI')\n",
    "ndwi_2022 = landsat_2022.normalizedDifference(['B3', 'B5']).rename('NDWI')"
   ]
  },
  {
   "cell_type": "code",
   "execution_count": null,
   "id": "e68ec2fa",
   "metadata": {},
   "outputs": [],
   "source": [
    "Map = geemap.Map()\n",
    "Map.setCenter(68.4338, 26.4213, 7)\n",
    "ndwi_vis = {'min': -1, 'max': 1, 'palette': 'ndwi'}\n",
    "\n",
    "left_layer = geemap.ee_tile_layer(ndwi_2021, ndwi_vis, 'NDWI 2021')\n",
    "right_layer = geemap.ee_tile_layer(ndwi_2022, ndwi_vis, 'NDWI 2022')\n",
    "\n",
    "Map.split_map(left_layer, right_layer, left_label='NDWI 2021', right_label='NDWI 2022')\n",
    "Map.addLayer(country.style(**style), {}, country_name)\n",
    "Map"
   ]
  },
  {
   "cell_type": "markdown",
   "id": "b6b9597a",
   "metadata": {},
   "source": [
    "### Extract Landsat water extent"
   ]
  },
  {
   "cell_type": "code",
   "execution_count": null,
   "id": "d38f58af",
   "metadata": {},
   "outputs": [],
   "source": [
    "threshold = 0.1\n",
    "water_2021 = ndwi_2021.gt(threshold).selfMask()\n",
    "water_2022 = ndwi_2022.gt(threshold).selfMask()"
   ]
  },
  {
   "cell_type": "code",
   "execution_count": null,
   "id": "353e3607",
   "metadata": {},
   "outputs": [],
   "source": [
    "Map = geemap.Map()\n",
    "Map.setCenter(68.4338, 26.4213, 7)\n",
    "\n",
    "Map.addLayer(landsat_2021, vis_params, 'Landsat 2021', False)\n",
    "Map.addLayer(landsat_2022, vis_params, 'Landsat 2022', False)\n",
    "\n",
    "left_layer = geemap.ee_tile_layer(\n",
    "    water_2021, {'palette': 'blue'}, 'Water 2021'\n",
    ")\n",
    "right_layer = geemap.ee_tile_layer(\n",
    "    water_2022, {'palette': 'red'}, 'Water 2022'\n",
    ")\n",
    "\n",
    "Map.split_map(\n",
    "    left_layer, right_layer, left_label='Water 2021', right_label='Water 2022'\n",
    ")\n",
    "Map.addLayer(country.style(**style), {}, country_name)\n",
    "Map"
   ]
  },
  {
   "cell_type": "markdown",
   "id": "91229aae",
   "metadata": {},
   "source": [
    "### Extract Landsat flood extent"
   ]
  },
  {
   "cell_type": "code",
   "execution_count": null,
   "id": "1c3b7b0d",
   "metadata": {},
   "outputs": [],
   "source": [
    "flood_extent = water_2022.unmask().subtract(water_2021.unmask()).gt(0).selfMask()"
   ]
  },
  {
   "cell_type": "code",
   "execution_count": null,
   "id": "26c9a822",
   "metadata": {},
   "outputs": [],
   "source": [
    "Map = geemap.Map()\n",
    "Map.setCenter(68.4338, 26.4213, 7)\n",
    "\n",
    "Map.addLayer(landsat_2021, vis_params, 'Landsat 2021', False)\n",
    "Map.addLayer(landsat_2022, vis_params, 'Landsat 2022', False)\n",
    "\n",
    "left_layer = geemap.ee_tile_layer(\n",
    "    water_2021, {'palette': 'blue'}, 'Water 2021'\n",
    ")\n",
    "right_layer = geemap.ee_tile_layer(\n",
    "    water_2022, {'palette': 'red'}, 'Water 2022'\n",
    ")\n",
    "\n",
    "Map.split_map(\n",
    "    left_layer, right_layer, left_label='Water 2021', right_label='Water 2022'\n",
    ")\n",
    "\n",
    "Map.addLayer(flood_extent, {'palette': 'cyan'}, 'Flood Extent')\n",
    "Map.addLayer(country.style(**style), {}, country_name)\n",
    "Map"
   ]
  },
  {
   "cell_type": "markdown",
   "id": "15bc4319",
   "metadata": {},
   "source": [
    "### Calculate Landsat flood area"
   ]
  },
  {
   "cell_type": "code",
   "execution_count": null,
   "id": "94a8f8bf",
   "metadata": {},
   "outputs": [],
   "source": [
    "area_2021 = geemap.zonal_stats(\n",
    "    water_2021, country, scale=1000, statistics_type='SUM', return_fc=True\n",
    ")\n",
    "geemap.ee_to_df(area_2021)"
   ]
  },
  {
   "cell_type": "code",
   "execution_count": null,
   "id": "3e28651b",
   "metadata": {},
   "outputs": [],
   "source": [
    "area_2022 = geemap.zonal_stats(\n",
    "    water_2022, country, scale=1000, statistics_type='SUM', return_fc=True\n",
    ")\n",
    "geemap.ee_to_df(area_2022)"
   ]
  },
  {
   "cell_type": "code",
   "execution_count": null,
   "id": "d3872b2a",
   "metadata": {},
   "outputs": [],
   "source": [
    "flood_area = geemap.zonal_stats(\n",
    "    flood_extent, country, scale=1000, statistics_type='SUM', return_fc=True\n",
    ")\n",
    "geemap.ee_to_df(flood_area)"
   ]
  },
  {
   "cell_type": "markdown",
   "id": "b9758dac",
   "metadata": {},
   "source": [
    "### Create Sentinel-1 SAR composites"
   ]
  },
  {
   "cell_type": "code",
   "execution_count": null,
   "id": "83cb2612",
   "metadata": {},
   "outputs": [],
   "source": [
    "s1_col_2021 = (\n",
    "    ee.ImageCollection('COPERNICUS/S1_GRD')\n",
    "    .filter(ee.Filter.listContains('transmitterReceiverPolarisation', 'VV'))\n",
    "    .filter(ee.Filter.eq('instrumentMode', 'IW'))\n",
    "    .filter(ee.Filter.eq('orbitProperties_pass', 'ASCENDING'))\n",
    "    .filterDate(pre_flood_start_date, pre_flood_end_date)\n",
    "    .filterBounds(country)\n",
    "    .select('VV')\n",
    ")\n",
    "s1_col_2021"
   ]
  },
  {
   "cell_type": "code",
   "execution_count": null,
   "id": "43336f39",
   "metadata": {},
   "outputs": [],
   "source": [
    "s1_col_2022 = (\n",
    "    ee.ImageCollection('COPERNICUS/S1_GRD')\n",
    "    .filter(ee.Filter.listContains('transmitterReceiverPolarisation', 'VV'))\n",
    "    .filter(ee.Filter.eq('instrumentMode', 'IW'))\n",
    "    .filter(ee.Filter.eq('orbitProperties_pass', 'ASCENDING'))\n",
    "    .filterDate(flood_start_date, flood_end_date)\n",
    "    .filterBounds(country)\n",
    "    .select('VV')\n",
    ")\n",
    "s1_col_2022"
   ]
  },
  {
   "cell_type": "code",
   "execution_count": null,
   "id": "4b3e686e",
   "metadata": {},
   "outputs": [],
   "source": [
    "Map = geemap.Map()\n",
    "Map.add_basemap('HYBRID')\n",
    "sar_2021 = s1_col_2021.reduce(ee.Reducer.percentile([20])).clipToCollection(country)\n",
    "sar_2022 = s1_col_2022.reduce(ee.Reducer.percentile([20])).clipToCollection(country)\n",
    "Map.addLayer(sar_2021, {'min': -25, 'max': -5}, 'SAR 2021')\n",
    "Map.addLayer(sar_2022, {'min': -25, 'max': -5}, 'SAR 2022')\n",
    "Map.centerObject(country)\n",
    "Map"
   ]
  },
  {
   "cell_type": "markdown",
   "id": "08237ee0",
   "metadata": {},
   "source": [
    "### Apply speckle filtering"
   ]
  },
  {
   "cell_type": "code",
   "execution_count": null,
   "id": "d58be1ae",
   "metadata": {},
   "outputs": [],
   "source": [
    "col_2021 = s1_col_2021.map(lambda img: img.focal_median(100, 'circle', 'meters'))\n",
    "col_2022 = s1_col_2022.map(lambda img: img.focal_median(100, 'circle', 'meters'))\n",
    "\n",
    "Map = geemap.Map()\n",
    "Map.add_basemap('HYBRID')\n",
    "sar_2021 = col_2021.reduce(ee.Reducer.percentile([20])).clipToCollection(country)\n",
    "sar_2022 = col_2022.reduce(ee.Reducer.percentile([20])).clipToCollection(country)\n",
    "Map.addLayer(sar_2021, {'min': -25, 'max': -5}, 'SAR 2021')\n",
    "Map.addLayer(sar_2022, {'min': -25, 'max': -5}, 'SAR 2022')\n",
    "Map.centerObject(country)\n",
    "Map"
   ]
  },
  {
   "cell_type": "markdown",
   "id": "426911d0",
   "metadata": {},
   "source": [
    "### Compare Sentinel-1 SAR composites side by side"
   ]
  },
  {
   "cell_type": "code",
   "execution_count": null,
   "id": "84c9edba",
   "metadata": {},
   "outputs": [],
   "source": [
    "Map = geemap.Map()\n",
    "Map.setCenter(68.4338, 26.4213, 7)\n",
    "\n",
    "left_layer = geemap.ee_tile_layer(sar_2021, {'min': -25, 'max': -5}, 'SAR 2021')\n",
    "right_layer = geemap.ee_tile_layer(sar_2022, {'min': -25, 'max': -5}, 'SAR 2022')\n",
    "\n",
    "Map.split_map(\n",
    "    left_layer, right_layer, left_label='Sentinel-1 2021', right_label='Sentinel-1 2022'\n",
    ")\n",
    "Map.addLayer(country.style(**style), {}, country_name)\n",
    "Map"
   ]
  },
  {
   "cell_type": "markdown",
   "id": "92285a61",
   "metadata": {},
   "source": [
    "### Extract SAR water extent"
   ]
  },
  {
   "cell_type": "code",
   "execution_count": null,
   "id": "061a1271",
   "metadata": {},
   "outputs": [],
   "source": [
    "threshold = -18\n",
    "water_2021 = sar_2021.lt(threshold)\n",
    "water_2022 = sar_2022.lt(threshold)"
   ]
  },
  {
   "cell_type": "code",
   "execution_count": null,
   "id": "e01d7d38",
   "metadata": {},
   "outputs": [],
   "source": [
    "Map = geemap.Map()\n",
    "Map.setCenter(68.4338, 26.4213, 7)\n",
    "\n",
    "Map.addLayer(sar_2021, {'min': -25, 'max': -5}, 'SAR 2021')\n",
    "Map.addLayer(sar_2022, {'min': -25, 'max': -5}, 'SAR 2022')\n",
    "\n",
    "left_layer = geemap.ee_tile_layer(\n",
    "    water_2021.selfMask(), {'palette': 'blue'}, 'Water 2021'\n",
    ")\n",
    "right_layer = geemap.ee_tile_layer(\n",
    "    water_2022.selfMask(), {'palette': 'red'}, 'Water 2022'\n",
    ")\n",
    "\n",
    "Map.split_map(\n",
    "    left_layer, right_layer, left_label='Water 2021', right_label='Water 2022'\n",
    ")\n",
    "Map.addLayer(country.style(**style), {}, country_name)\n",
    "Map"
   ]
  },
  {
   "cell_type": "markdown",
   "id": "a684952d",
   "metadata": {},
   "source": [
    "### Extract SAR flood extent"
   ]
  },
  {
   "cell_type": "code",
   "execution_count": null,
   "id": "14811ab3",
   "metadata": {},
   "outputs": [],
   "source": [
    "flood_extent = water_2022.unmask().subtract(water_2021.unmask()).gt(0).selfMask()"
   ]
  },
  {
   "cell_type": "code",
   "execution_count": null,
   "id": "57df4329",
   "metadata": {},
   "outputs": [],
   "source": [
    "Map = geemap.Map()\n",
    "Map.setCenter(68.4338, 26.4213, 7)\n",
    "\n",
    "Map.addLayer(sar_2021, {'min': -25, 'max': -5}, 'SAR 2021')\n",
    "Map.addLayer(sar_2022, {'min': -25, 'max': -5}, 'SAR 2022')\n",
    "\n",
    "left_layer = geemap.ee_tile_layer(\n",
    "    water_2021.selfMask(), {'palette': 'blue'}, 'Water 2021'\n",
    ")\n",
    "right_layer = geemap.ee_tile_layer(\n",
    "    water_2022.selfMask(), {'palette': 'red'}, 'Water 2022'\n",
    ")\n",
    "\n",
    "Map.split_map(\n",
    "    left_layer, right_layer, left_label='Water 2021', right_label='Water 2022'\n",
    ")\n",
    "\n",
    "Map.addLayer(flood_extent, {'palette': 'cyan'}, 'Flood Extent')\n",
    "Map.addLayer(country.style(**style), {}, country_name)\n",
    "Map"
   ]
  },
  {
   "cell_type": "markdown",
   "id": "2e41632b",
   "metadata": {},
   "source": [
    "### Calculate SAR flood area"
   ]
  },
  {
   "cell_type": "code",
   "execution_count": null,
   "id": "ee76f582",
   "metadata": {},
   "outputs": [],
   "source": [
    "area_2021 = geemap.zonal_stats(\n",
    "    water_2021, country, scale=1000, statistics_type='SUM', return_fc=True\n",
    ")\n",
    "geemap.ee_to_df(area_2021)"
   ]
  },
  {
   "cell_type": "code",
   "execution_count": null,
   "id": "a7eabbe2",
   "metadata": {},
   "outputs": [],
   "source": [
    "area_2022 = geemap.zonal_stats(\n",
    "    water_2022, country, scale=1000, statistics_type='SUM', return_fc=True\n",
    ")\n",
    "geemap.ee_to_df(area_2022)"
   ]
  },
  {
   "cell_type": "code",
   "execution_count": null,
   "id": "1214a943",
   "metadata": {},
   "outputs": [],
   "source": [
    "flood_area = geemap.zonal_stats(\n",
    "    flood_extent, country, scale=1000, statistics_type='SUM', return_fc=True\n",
    ")\n",
    "geemap.ee_to_df(flood_area)"
   ]
  },
  {
   "cell_type": "markdown",
   "id": "2bcbacd1",
   "metadata": {},
   "source": [
    "## Forest cover change analysis\n",
    "\n",
    "### Forest cover mapping"
   ]
  },
  {
   "cell_type": "code",
   "execution_count": null,
   "id": "bcf442e9",
   "metadata": {},
   "outputs": [],
   "source": [
    "dataset = ee.Image('UMD/hansen/global_forest_change_2021_v1_9')\n",
    "dataset.bandNames()"
   ]
  },
  {
   "cell_type": "code",
   "execution_count": null,
   "id": "e19b040f",
   "metadata": {},
   "outputs": [],
   "source": [
    "Map = geemap.Map()\n",
    "first_bands = ['first_b50', 'first_b40', 'first_b30']\n",
    "first_image = dataset.select(first_bands)\n",
    "Map.addLayer(first_image, {'bands': first_bands, 'gamma': 1.5}, 'Year 2000 Bands 5/4/3')"
   ]
  },
  {
   "cell_type": "code",
   "execution_count": null,
   "id": "d17b99c5",
   "metadata": {},
   "outputs": [],
   "source": [
    "last_bands = ['last_b50', 'last_b40', 'last_b30']\n",
    "last_image = dataset.select(last_bands)\n",
    "Map.addLayer(last_image, {'bands': last_bands, 'gamma': 1.5}, 'Year 2021 Bands 5/4/3')"
   ]
  },
  {
   "cell_type": "code",
   "execution_count": null,
   "id": "cfce08ae",
   "metadata": {},
   "outputs": [],
   "source": [
    "treecover = dataset.select(['treecover2000'])\n",
    "treeCoverVisParam = {'min': 0, 'max': 100, 'palette': ['black', 'green']}\n",
    "name = 'Tree cover (%)'\n",
    "Map.addLayer(treecover, treeCoverVisParam, name)\n",
    "Map.add_colorbar(treeCoverVisParam, label=name, layer_name=name)\n",
    "Map"
   ]
  },
  {
   "cell_type": "code",
   "execution_count": null,
   "id": "6b571145",
   "metadata": {},
   "outputs": [],
   "source": [
    "threshold = 10\n",
    "treecover_bin = treecover.gte(threshold).selfMask()\n",
    "treeVisParam = {'palette': ['green']}\n",
    "Map.addLayer(treecover_bin, treeVisParam, 'Tree cover bin')"
   ]
  },
  {
   "cell_type": "markdown",
   "id": "edf9ac9b",
   "metadata": {},
   "source": [
    "### Forest loss and gain mapping"
   ]
  },
  {
   "cell_type": "code",
   "execution_count": null,
   "id": "493de51c",
   "metadata": {},
   "outputs": [],
   "source": [
    "Map = geemap.Map()\n",
    "treeloss_year = dataset.select(['lossyear'])\n",
    "treeLossVisParam = {'min': 0, 'max': 21, 'palette': ['yellow', 'red']}\n",
    "layer_name = 'Tree loss year'\n",
    "Map.addLayer(treeloss_year, treeLossVisParam, layer_name)\n",
    "Map.add_colorbar(treeLossVisParam, label=layer_name, layer_name=layer_name)\n",
    "Map"
   ]
  },
  {
   "cell_type": "code",
   "execution_count": null,
   "id": "9eb94e9d",
   "metadata": {},
   "outputs": [],
   "source": [
    "treeloss = dataset.select(['loss']).selfMask()\n",
    "treegain = dataset.select(['gain']).selfMask()\n",
    "Map.addLayer(treeloss, {'palette': 'red'}, 'Tree loss')\n",
    "Map.addLayer(treegain, {'palette': 'yellow'}, 'Tree gain')\n",
    "Map"
   ]
  },
  {
   "cell_type": "markdown",
   "id": "7410db8d",
   "metadata": {},
   "source": [
    "### Zonal statistics by country"
   ]
  },
  {
   "cell_type": "code",
   "execution_count": null,
   "id": "235f01ec",
   "metadata": {},
   "outputs": [],
   "source": [
    "Map = geemap.Map()\n",
    "countries = ee.FeatureCollection(geemap.examples.get_ee_path('countries'))\n",
    "style = {'color': '#000000ff', 'fillColor': '#00000000'}\n",
    "Map.addLayer(countries.style(**style), {}, 'Countries')\n",
    "Map"
   ]
  },
  {
   "cell_type": "code",
   "execution_count": null,
   "id": "5d8a4a57",
   "metadata": {},
   "outputs": [],
   "source": [
    "geemap.zonal_stats_by_group(\n",
    "    treecover_bin,\n",
    "    countries,\n",
    "    'forest_cover.csv',\n",
    "    statistics_type='SUM',\n",
    "    denominator=1e6,\n",
    "    scale=1000,\n",
    ")"
   ]
  },
  {
   "cell_type": "code",
   "execution_count": null,
   "id": "67bbcdcc",
   "metadata": {},
   "outputs": [],
   "source": [
    "geemap.pie_chart(\n",
    "    'forest_cover.csv', names='NAME', values='Class_sum', max_rows=20, height=400\n",
    ")"
   ]
  },
  {
   "cell_type": "code",
   "execution_count": null,
   "id": "80d03983",
   "metadata": {},
   "outputs": [],
   "source": [
    "geemap.bar_chart(\n",
    "    'forest_cover.csv',\n",
    "    x='NAME',\n",
    "    y='Class_sum',\n",
    "    max_rows=20,\n",
    "    x_label='Country',\n",
    "    y_label='Forest area (km2)',\n",
    ")"
   ]
  },
  {
   "cell_type": "code",
   "execution_count": null,
   "id": "44747649",
   "metadata": {},
   "outputs": [],
   "source": [
    "geemap.zonal_stats_by_group(\n",
    "    treeloss,\n",
    "    countries,\n",
    "    'treeloss.csv',\n",
    "    statistics_type='SUM',\n",
    "    denominator=1e6,\n",
    "    scale=1000,\n",
    ")"
   ]
  },
  {
   "cell_type": "code",
   "execution_count": null,
   "id": "04cd0e16",
   "metadata": {},
   "outputs": [],
   "source": [
    "geemap.pie_chart(\n",
    "    'treeloss.csv', names='NAME', values='Class_sum', max_rows=20, height=600\n",
    ")"
   ]
  },
  {
   "cell_type": "code",
   "execution_count": null,
   "id": "1d305cf1",
   "metadata": {},
   "outputs": [],
   "source": [
    "geemap.bar_chart(\n",
    "    'treeloss.csv',\n",
    "    x='NAME',\n",
    "    y='Class_sum',\n",
    "    max_rows=20,\n",
    "    x_label='Country',\n",
    "    y_label='Forest loss area (km2)',\n",
    ")"
   ]
  },
  {
   "cell_type": "markdown",
   "id": "4cf0c336",
   "metadata": {},
   "source": [
    "## Global land cover mapping\n",
    "\n",
    "### Dynamic World"
   ]
  },
  {
   "cell_type": "code",
   "execution_count": null,
   "id": "f6ddbb23",
   "metadata": {},
   "outputs": [],
   "source": [
    "Map = geemap.Map()\n",
    "region = ee.Geometry.BBox(-89.7088, 42.9006, -89.0647, 43.2167)\n",
    "start_date = '2021-01-01'\n",
    "end_date = '2022-01-01'\n",
    "\n",
    "image = geemap.dynamic_world_s2(region, start_date, end_date, clip=True)\n",
    "vis_params = {'bands': ['B4', 'B3', 'B2'], 'min': 0, 'max': 3000}\n",
    "Map.addLayer(image, vis_params, 'Sentinel-2 image')\n",
    "\n",
    "landcover = geemap.dynamic_world(\n",
    "    region, start_date, end_date, return_type='hillshade', clip=True\n",
    ")\n",
    "Map.addLayer(landcover, {}, 'Land Cover')\n",
    "\n",
    "Map.add_legend(\n",
    "    title=\"Dynamic World Land Cover\",\n",
    "    builtin_legend='Dynamic_World',\n",
    "    layer_name='Land Cover',\n",
    ")\n",
    "Map.centerObject(region, 13)\n",
    "Map"
   ]
  },
  {
   "cell_type": "code",
   "execution_count": null,
   "id": "8796b3ad",
   "metadata": {},
   "outputs": [],
   "source": [
    "classes = geemap.dynamic_world(\n",
    "    region, start_date, end_date, return_type='class', clip=True\n",
    ")\n",
    "vis_params = {\n",
    "    \"min\": 0,\n",
    "    \"max\": 8,\n",
    "    \"palette\": [\n",
    "        \"#419BDF\",\n",
    "        \"#397D49\",\n",
    "        \"#88B053\",\n",
    "        \"#7A87C6\",\n",
    "        \"#E49635\",\n",
    "        \"#DFC35A\",\n",
    "        \"#C4281B\",\n",
    "        \"#A59B8F\",\n",
    "        \"#B39FE1\",\n",
    "    ],\n",
    "}\n",
    "Map.addLayer(classes, vis_params, 'Class')"
   ]
  },
  {
   "cell_type": "code",
   "execution_count": null,
   "id": "10bfcc9c",
   "metadata": {},
   "outputs": [],
   "source": [
    "probability = geemap.dynamic_world(\n",
    "    region, start_date, end_date, return_type='visualize', clip=True\n",
    ")\n",
    "Map.addLayer(probability, {}, 'Visualize')"
   ]
  },
  {
   "cell_type": "code",
   "execution_count": null,
   "id": "436a637f",
   "metadata": {},
   "outputs": [],
   "source": [
    "probability = geemap.dynamic_world(\n",
    "    region, start_date, end_date, return_type='probability', clip=True\n",
    ")\n",
    "Map.addLayer(probability, {}, 'Probability')"
   ]
  },
  {
   "cell_type": "code",
   "execution_count": null,
   "id": "74f64c10",
   "metadata": {},
   "outputs": [],
   "source": [
    "df = geemap.image_area_by_group(classes, region=region, scale=10, denominator=1e6)\n",
    "df"
   ]
  },
  {
   "cell_type": "code",
   "execution_count": null,
   "id": "1cb611c2",
   "metadata": {},
   "outputs": [],
   "source": [
    "Map = geemap.Map()\n",
    "region = ee.Geometry.BBox(-89.7088, 42.9006, -89.0647, 43.2167)\n",
    "start_date = '2017-01-01'\n",
    "end_date = '2022-12-31'\n",
    "images = geemap.dynamic_world_timeseries(\n",
    "    region, start_date, end_date, frequency='year', return_type=\"hillshade\"\n",
    ")\n",
    "Map.ts_inspector(images, date_format='YYYY')\n",
    "Map.add_legend(title=\"Dynamic World Land Cover\", builtin_legend='Dynamic_World')\n",
    "Map.centerObject(region)\n",
    "Map"
   ]
  },
  {
   "cell_type": "markdown",
   "id": "34d799b4",
   "metadata": {},
   "source": [
    "### ESA WorldCover"
   ]
  },
  {
   "cell_type": "code",
   "execution_count": null,
   "id": "fa6e1717",
   "metadata": {},
   "outputs": [],
   "source": [
    "Map = geemap.Map()\n",
    "esa_2020 = ee.ImageCollection(\"ESA/WorldCover/v100\").first()\n",
    "esa_2021 = ee.ImageCollection(\"ESA/WorldCover/v200\").first()\n",
    "Map.addLayer(esa_2020, {'bands': ['Map']}, 'ESA 2020')\n",
    "Map.addLayer(esa_2021, {'bands': ['Map']}, 'ESA 2021')\n",
    "Map.add_legend(builtin_legend='ESA_WorldCover', title='ESA Land Cover')\n",
    "Map"
   ]
  },
  {
   "cell_type": "code",
   "execution_count": null,
   "id": "cf5f7cd7",
   "metadata": {},
   "outputs": [],
   "source": [
    "df = geemap.image_area_by_group(\n",
    "    esa_2021, scale=1000, denominator=1e6, decimal_places=4, verbose=True\n",
    ")\n",
    "df"
   ]
  },
  {
   "cell_type": "code",
   "execution_count": null,
   "id": "24791c63",
   "metadata": {},
   "outputs": [],
   "source": [
    "df.to_csv('esa_2021.csv')"
   ]
  },
  {
   "cell_type": "code",
   "execution_count": null,
   "id": "754941f9",
   "metadata": {},
   "outputs": [],
   "source": [
    "Map = geemap.Map(center=[43.0006, -88.9088], zoom=12)\n",
    "# Create Dynamic World Land Cover 2021\n",
    "region = ee.Geometry.BBox(-179, -89, 179, 89)\n",
    "start_date = '2021-01-01'\n",
    "end_date = '2022-01-01'\n",
    "dw_2021 = geemap.dynamic_world(region, start_date, end_date, return_type='hillshade')\n",
    "# Create ESA WorldCover 2021\n",
    "esa_2021 = ee.ImageCollection(\"ESA/WorldCover/v200\").first()\n",
    "# Create a split map\n",
    "left_layer = geemap.ee_tile_layer(esa_2021, {'bands': ['Map']}, \"ESA 2021\")\n",
    "right_layer = geemap.ee_tile_layer(dw_2021, {}, \"Dynamic World 2021\")\n",
    "Map.split_map(left_layer, right_layer)\n",
    "# Add legends\n",
    "Map.add_legend(\n",
    "    title=\"ESA WorldCover\", builtin_legend='ESA_WorldCover', position='bottomleft'\n",
    ")\n",
    "Map.add_legend(\n",
    "    title=\"Dynamic World Land Cover\",\n",
    "    builtin_legend='Dynamic_World',\n",
    "    position='bottomright',\n",
    ")\n",
    "Map"
   ]
  },
  {
   "cell_type": "markdown",
   "id": "a1463cfc",
   "metadata": {},
   "source": [
    "### Esri global land cover"
   ]
  },
  {
   "cell_type": "code",
   "execution_count": null,
   "id": "50dc0614",
   "metadata": {},
   "outputs": [],
   "source": [
    "def esri_annual_land_cover(year):\n",
    "    collection = ee.ImageCollection('projects/sat-io/open-datasets/landcover/ESRI_Global-LULC_10m_TS')\n",
    "    start_date = ee.Date.fromYMD(year, 1, 1)\n",
    "    end_date = start_date.advance(1, 'year')\n",
    "    image = collection.filterDate(start_date, end_date).mosaic()\n",
    "    return image.set('system:time_start', start_date.millis())"
   ]
  },
  {
   "cell_type": "code",
   "execution_count": null,
   "id": "78b4b3e9",
   "metadata": {},
   "outputs": [],
   "source": [
    "start_year = 2017\n",
    "end_year = 2021\n",
    "years = ee.List.sequence(start_year, end_year)\n",
    "images = ee.ImageCollection(years.map(esri_annual_land_cover))\n",
    "images"
   ]
  },
  {
   "cell_type": "code",
   "execution_count": null,
   "id": "20a5af24",
   "metadata": {},
   "outputs": [],
   "source": [
    "palette = [\n",
    "    \"#1A5BAB\",\n",
    "    \"#358221\",\n",
    "    \"#000000\",\n",
    "    \"#87D19E\",\n",
    "    \"#FFDB5C\",\n",
    "    \"#000000\",\n",
    "    \"#ED022A\",\n",
    "    \"#EDE9E4\",\n",
    "    \"#F2FAFF\",\n",
    "    \"#C8C8C8\",\n",
    "    \"#C6AD8D\",\n",
    "  ]\n",
    "vis_params = {\"min\": 1, \"max\": 11, \"palette\": palette}"
   ]
  },
  {
   "cell_type": "code",
   "execution_count": null,
   "id": "976a4169",
   "metadata": {},
   "outputs": [],
   "source": [
    "Map = geemap.Map()\n",
    "Map.ts_inspector(images, left_vis=vis_params, date_format='YYYY')\n",
    "Map.add_legend(title=\"Esri Land Cover\", builtin_legend='ESRI_LandCover')\n",
    "Map"
   ]
  },
  {
   "cell_type": "code",
   "execution_count": null,
   "id": "a2f52674",
   "metadata": {},
   "outputs": [],
   "source": [
    "Map = geemap.Map(center=[43.0006, -88.9088], zoom=12)\n",
    "# Create Dynamic World Land Cover 2021\n",
    "dw_2021 = geemap.dynamic_world(region, start_date, end_date, return_type='hillshade')\n",
    "# Create Esri Global Land Cover 2021\n",
    "esri_2021 = esri_annual_land_cover(2021)\n",
    "# Create a split map\n",
    "left_layer = geemap.ee_tile_layer(esri_2021, vis_params, \"Esri 2021\")\n",
    "right_layer = geemap.ee_tile_layer(dw_2021, {}, \"Dynamic World 2021\")\n",
    "Map.split_map(left_layer, right_layer)\n",
    "# Add legends\n",
    "Map.add_legend(\n",
    "    title=\"Esri Land Cover\", builtin_legend='ESRI_LandCover', position='bottomleft'\n",
    ")\n",
    "Map.add_legend(\n",
    "    title=\"Dynamic World Land Cover\",\n",
    "    builtin_legend='Dynamic_World',\n",
    "    position='bottomright',\n",
    ")\n",
    "Map"
   ]
  },
  {
   "cell_type": "markdown",
   "id": "6d123399",
   "metadata": {},
   "source": [
    "## Concluding remarks"
   ]
  }
 ],
 "metadata": {
  "jupytext": {
   "text_representation": {
    "extension": ".md",
    "format_name": "myst",
    "format_version": 0.13,
    "jupytext_version": "1.14.4"
   }
  },
  "kernelspec": {
   "display_name": "Python 3 (ipykernel)",
   "language": "python",
   "name": "python3"
  },
  "source_map": [
   12,
   36,
   40,
   45,
   47,
   53,
   58,
   64,
   76,
   86,
   100,
   108,
   112,
   117,
   121,
   126,
   138,
   144,
   156,
   169,
   180,
   186,
   189,
   193,
   199,
   203,
   211,
   215,
   228,
   240,
   244,
   260,
   264,
   269,
   280,
   284,
   290,
   309,
   313,
   317,
   338,
   342,
   349,
   356,
   363,
   367,
   380,
   393,
   402,
   406,
   418,
   422,
   434,
   438,
   444,
   463,
   467,
   471,
   492,
   496,
   503,
   510,
   515,
   521,
   526,
   533,
   539,
   548,
   553,
   557,
   567,
   573,
   577,
   585,
   596,
   602,
   613,
   624,
   630,
   639,
   645,
   669,
   691,
   698,
   705,
   710,
   722,
   726,
   736,
   743,
   747,
   770,
   774,
   783,
   791,
   808,
   815,
   835
  ]
 },
 "nbformat": 4,
 "nbformat_minor": 5
}