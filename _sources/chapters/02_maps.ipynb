{
 "cells": [
  {
   "cell_type": "markdown",
   "id": "c5fc3e3c",
   "metadata": {},
   "source": [
    "(chapter02)=\n",
    "\n",
    "# خلق خارطة تفاعلية\n",
    "\n",
    "```{contents}\n",
    ":local:\n",
    ":depth: 2\n",
    "```\n",
    "\n",
    "## مدخل\n",
    "هناك العديد من الحزم و المكتبات التي تتعامل مع رسم الخرائط تفاعلية او تحليل المعلومات الجيومكانية {cite}`Wu2021-iv`. على الرغم من ذلك, كل حزمه لها وجه تطبيق(API) خاصه لخلق الخرائط و استعراض البيانات, و التي قد تكون صعبة على المبتدئين للتصفح. ان geemap تبسط العملية من خلال واجهه تطبيقية (API) تجمع بين خلق الخارطه التفاعلية و أستعراض البيانات, و كذلك تمكين المستخدمن من رسم خلفية الخارطة بسطر برمجي واحد. \n",
    "\n",
    "من خلال هذا الفصل, سوف تتعرف على كيفية خلق الخارطة التفاعلية بأستخدام واحدة من خمس طرق لرسم خلفيات الخرائط. كذلك, سوف نعطيك بعض الامثلة التطبيقية حول كيفية اضافة و اختيار الخارطة الاساس الى الخارطة من بين المئات من خرائط الاساس الموجوده و باستخدام ايعاز واحد.\n",
    "\n",
    "\n",
    "(chapter02:requirements)=\n",
    "\n",
    "## المتطلبات التقنية\n",
    "للسير في هذا الفصل, يجب ان قمت بتثبيت geemap مع الملحقات الاضافية لها. و اذا قت بأتباع الخطوات التاليه في الشكل \n",
    "كما اسلفنا في الفصل الأول فان العمل على الخارطة التفاعلية يحتاج إلى بعض من المكتب التي يجب ان يتم استيرادها للعمل على البيانات المكانية. و تتطلب هذه المكتبات  بعض أدارة لبيئة conda و تثبيت بعض الحزم الضرورية و طلب تصريح العمل على بيانات Google Earth Engine. و يأتي ملخص الخطوات التقنية التي تسبق العمل على الخارطة التفاعلية بما يلي {numref}`ch01:install` - باسم _Installing geemap_, و بالضروره ان تكون قد قمت بعملية بية conda مع الحزم الضرورية. عدى ذلك يمكن خلق بيئة جديدة من conda و تنصيب [pygis](https://pygis.gishub.org) بواسطة الايعازات التالية, و التي تقوم بتنصيب geemap و جميع متطلباتها:\n",
    "\n",
    "```bash\n",
    "conda create -n gee python\n",
    "conda activate gee\n",
    "conda install -c conda-forge mamba\n",
    "mamba install -c conda-forge pygis\n",
    "```\n",
    "ثانيا, اطلاق Jupyter من خلال الايعاز التالي في terminal او Anaconda prompt:\n",
    "\n",
    "```bash\n",
    "jupyter lab\n",
    "```\n",
    "او من خلال استخدام geemap في البيئة السحابية Google Colab بدون الحاجة الى تنصيب اي حزم على الكومبيوتر الخاص بيك. أضغط على [02_maps.ipynb](https://colab.research.google.com/github/giswqs/geebook/blob/master/chapters/02_maps.ipynb) لكي يتم اطلاق اطلاق Google Colab.\n",
    "\n",
    "حال اطلاق Colab, يمكنك رفع التعليق من الايعاز التالي و تنفيذه لكي تتمكن من تنصيب pygis, و التي تتضمن geemap و جميع الملحقات الضمنية فيها:"
   ]
  },
  {
   "cell_type": "code",
   "execution_count": null,
   "id": "2bdf9d69",
   "metadata": {},
   "outputs": [],
   "source": [
    "# %pip install pygis"
   ]
  },
  {
   "cell_type": "markdown",
   "id": "436a9fd5",
   "metadata": {},
   "source": [
    "أن عملية التنصيب تأخذ اكثر من 2-3 دقائق. و حال تم تصيب pygis, أضغط على زر **RESTART RUNTIME** الذي يظهر أخر خطوه تنصيب أو قائمة **Runtime** ثم اختيار  **Restart runtime**. بعد ذلك, يمكن كتابة الكود الخاص.\n",
    "\n",
    "للبدء, يجب استيراد المكتبات الضرورية التي تستخدم في هذا الفصل:"
   ]
  },
  {
   "cell_type": "code",
   "execution_count": null,
   "id": "2faa806c",
   "metadata": {},
   "outputs": [],
   "source": [
    "import ee\n",
    "import geemap"
   ]
  },
  {
   "cell_type": "markdown",
   "id": "7f288bb4",
   "metadata": {},
   "source": [
    "تنصيب واجه تطبيق Earth Engine Pyhton:"
   ]
  },
  {
   "cell_type": "code",
   "execution_count": null,
   "id": "7e02209e",
   "metadata": {},
   "outputs": [],
   "source": [
    "geemap.ee_initialize()"
   ]
  },
  {
   "cell_type": "markdown",
   "id": "dd1607ae",
   "metadata": {},
   "source": [
    "أذا كان هذا اول تنفيذ للايعازات اعلاه, سوف تحتاج الى طلب تصريح دخول الى Earth Engine. الايعازات التالية في  {numref}`ch01-ee-auth` لـطلب _Earth Engine authentication_ لتنصيب Earth Engine.\n",
    " \n",
    "\n",
    "## رسم الخلفيات الاساسية\n",
    "\n",
    "تحتوي **Geemap** على خمس مكتبات لرسم الخلفية الاساس, و التي هي [ipyleaflet](https://github.com/jupyter-widgets/ipyleaflet), [folium](https://python-visualization.github.io/folium), [plotly](https://plotly.com), [pydeck](https://deckgl.readthedocs.io/en/latest), و [kepler.gl](https://docs.kepler.gl/docs/keplergl-jupyter). أن الخارطة التفاعلية تستخدم واحدة من هذه الطرق لاجل استعراض في بيئة Jupyter مثل Google Colab, Jupyter Notebook و JupyterLab. في الحالة الافتراضية, إن `import geemap` سوف يستخدم ipyleaflet لأجل رسم الخلفية الاساس.\n",
    "\n",
    "ان هذه المكتبات الخمس الموجوده في geemap تختلف في الوظائف و التطبيقات التي تحتويها. أن مكتبة ipyleaflet تزود افضل الوظائف و اكثرها بما في ذلك واجهه المستخدم التفاعلية (GUI) لتحميل, و تحليل, و تمثيل البيانات المكانية تفاعليا بدون كود. و على سبيل المثال, يستطيع المستخدم اضافة متجه بيانات مثل (e.g., GeoJSON, Shapefile, KML, GeoDataFrame) و بيانات من مرئيات مثل (e.g., GeoTIFF, Cloud Optimized GeoTIFF [COG]) الى الخارطة باسخدام القليل من الازرار. و ايضا ان المستخدم يستطيع ان يقوم بعمليات تحليل للبيانات من المكانية باستخدام WhiteboxTools GUI باستخدام اكثر من 500 ادواع عمليات جغرافية مباشرا من داخل الخارطة التفاعلية. ان الوظائف التفاعلية للعمليات الاخراى ثمل (e.g., split-panel map, linked map, time slider, timeseries inspector) من الممكن استخدامها بشكل مفيد لاجل استعراض و تمثيل البيانات المكانية. ان حزمة ipyleaflet تم بنائها بالاعتماد على ipywidgets و التي تسمح بالتواصل الثنائي بين الواجهه الامامية و الخلفية, و التي تمكن المستخدم من التقاط القيم المدخلة كما {cite}`QuantStack2019-bd`. \n",
    "\n",
    "\n",
    "بالمقارنة, أن folium فيها من المحدودية في بعض الوظائف.و التي تقوم بعملية استعراض ثابتة للبيانات. انها مفيدة لتفعيل التطبيقات على الويب و التي ipyleaflet لا تدعم ذلك. ملاحظه ان ذلك ان واجهه المستخدم التفاعلية موجوده في الحزم الاخرى.ان geemap تزود وجهه مميزه تمكن المسخدم من التبديل بين الخلفيات الاساسية بسهوله. و لاختيار الحزمه المطلوبه, بالامكان تنفيذ احد الايعازات التالية:  \n",
    "\n",
    "- `import geemap.geemap as geemap`\n",
    "- `import geemap.foliumap as geemap`\n",
    "- `import geemap.deck as geemap`\n",
    "- `import geemap.kepler as geemap`\n",
    "- `import geemap.plotlymap as geemap`\n",
    "\n",
    "### استخدام حزمه Ipyleaflet\n",
    "ببساطة يمكنك استخدام `geemap.Map()` لخلق خارطة تفاعلية مع الاعدادات الافتراضية. أولا عليك استيراد مكتبة  `geemap` :"
   ]
  },
  {
   "cell_type": "code",
   "execution_count": null,
   "id": "5029551c",
   "metadata": {},
   "outputs": [],
   "source": [
    "import geemap"
   ]
  },
  {
   "cell_type": "markdown",
   "id": "4bf29cf3",
   "metadata": {},
   "source": [
    "ثانياَ, خلق خارطة تفاعلية باستخدام دالة رسم الخلفية الاساسية ipyleaflet. ان مكتبة [geemap.Map](https://geemap.org/geemap/#geemap.geemap.Map) تفوم بأستيراد دالة [ipyleaflet.Map](https://ipyleaflet.readthedocs.io/en/latest/map_and_basemaps/map.html). لذلك يمكنك استخدام نفس السياق لخلق خارطة تفاعلية كما ترغب مع الايعاز `ipyleaflet.Map`."
   ]
  },
  {
   "cell_type": "code",
   "execution_count": null,
   "id": "b7eba9f0",
   "metadata": {},
   "outputs": [],
   "source": [
    "Map = geemap.Map()"
   ]
  },
  {
   "cell_type": "markdown",
   "id": "caa33099",
   "metadata": {},
   "source": [
    "هذا السطر من الكود  يخلق خارطة جديدة و يسجلها الى متغير جديد اسمه `Map`. لاجل استغراض الخارطه في بيئة Jupyter notebook, ببساطة اكتب الاسم كما في الايعاز التالي:"
   ]
  },
  {
   "cell_type": "code",
   "execution_count": null,
   "id": "b99bc621",
   "metadata": {},
   "outputs": [],
   "source": [
    "Map"
   ]
  },
  {
   "cell_type": "markdown",
   "id": "b0855d10",
   "metadata": {},
   "source": [
    "اجعل في ذهنك ان خلال هذا الكتاب,  `Map` بشكل عام يشير الى كائن الخارطه التفاعلية. انها فقط عباره عن اسم متغير لاغير. يمكنك استخدام اي اسم ترغب فيه مثل (e.g., `m`) طالما يتم ترجمته من قبل معالج لغة Python ضمن القواعد لاختيار الاسماء:\n",
    "\n",
    "Keep in mind that throughout this book, `Map` is commonly used to refer to the interactive map. It is just a variable name. You can use whatever name you want (e.g., `m`) as long as it complies with the following Python variable names rules:\n",
    "\n",
    "- الاسم يجب ان يبداء بحرف او رمز مسطر\n",
    "- الاسم يجب ان لا يبداء برقم\n",
    "- الاسم فقط يحتوي على حروف و شارحة سفلى (A-z, 0-9, و \\_ )\n",
    "\n",
    "بشكل عام, ان المتغيرات في  Python يجب ان تكون في شكل الحروف الصغيرة. و السبب في استخدام `Map` بدلا من `m` ان في Earth Engine JavaScript API يعتبر `Map` اسم محجوز الى الخارطة التفاعلية, و لاجل الحفاط على التوحد مع Earth Engine JavaScript API فان المستخدم بذلك يحافط على الانتفال السهل الى geemap. على أي حال فان المستخدم يتطلب ان يستخدم `Map` كمتغير يشغير الى الخارطة التفاعلية.\n",
    "\n",
    "لاجل تخصيص الخارطة, بالامكان تخصيص مختلف المدخلات مثل `center` ([lat, lon]), `zoom`, `width` و `height`. ان العرض الافتراضي `width` هو `100%`, و الذي ياخذ كل عرض الخلية في Jupyter. أما الارتفاع `height` يقبل رقم او نص. اذا كان المدخل رقم فانه يمثل ارتفاع الخارطه بوحده قياس البكسل. أما اذا كان المدخل نص فان النص يجب ان يكون بصيغة رقم متبوع بـ `px`, e.g., `600px`."
   ]
  },
  {
   "cell_type": "code",
   "execution_count": null,
   "id": "ff597e31",
   "metadata": {},
   "outputs": [],
   "source": [
    "Map = geemap.Map(center=[40, -100], zoom=4, height=600)\n",
    "Map"
   ]
  },
  {
   "cell_type": "markdown",
   "id": "69af6a4a",
   "metadata": {},
   "source": [
    "ان الاعدادات الافتراضية للخراطة تأتي مع الظوابط التالية (see {numref}`ch02_ipyleaflet`):\n",
    "\n",
    "- `attribution_ctrl`\n",
    "- `data_ctrl`\n",
    "- `draw_ctrl`\n",
    "- `fullscreen_ctrl`\n",
    "- `layer_ctrl`\n",
    "- `measure_ctrl`\n",
    "- `scale_ctrl`\n",
    "- `toolbar_ctrl`\n",
    "- `zoom_ctrl`\n",
    "\n",
    "```{figure} images/ch02_ipyleaflet.jpg\n",
    "---\n",
    "name: ch02_ipyleaflet\n",
    "width: 100%\n",
    "---\n",
    "A map created using the ipyleaflet plotting backend.\n",
    "```\n",
    "لاجل اخفاء اي من الادوات يجب تغير الاعداد الى الحالة السلبية كما في `control_name` الى `False`, `draw_ctrl=False`."
   ]
  },
  {
   "cell_type": "code",
   "execution_count": null,
   "id": "630e1242",
   "metadata": {},
   "outputs": [],
   "source": [
    "Map = geemap.Map(data_ctrl=False, toolbar_ctrl=False, draw_ctrl=False)\n",
    "Map"
   ]
  },
  {
   "cell_type": "markdown",
   "id": "77e33a5d",
   "metadata": {},
   "source": [
    "و ايضا بالامكان تخصيص اعداد  `lite_mode=True` لاظهار زر التكبير و التصغير فقط:"
   ]
  },
  {
   "cell_type": "code",
   "execution_count": null,
   "id": "1608de80",
   "metadata": {},
   "outputs": [],
   "source": [
    "Map = geemap.Map(lite_mode=True)\n",
    "Map"
   ]
  },
  {
   "cell_type": "markdown",
   "id": "7c0d3096",
   "metadata": {},
   "source": [
    "لاجل حفط الخارطة بصيغة HTML يجب تنفيذ الايعاز `save` كما في التالي:"
   ]
  },
  {
   "cell_type": "code",
   "execution_count": null,
   "id": "fd9fa7e7",
   "metadata": {},
   "outputs": [],
   "source": [
    "Map.save('ipyleaflet.html')"
   ]
  },
  {
   "cell_type": "markdown",
   "id": "54ef718e",
   "metadata": {},
   "source": [
    "### استخدام حزمة Folium\n",
    "لكي تحلق خارطة تفاعلية باستخدام حزمه folium لرسم خلفية اساسية ببساطه علىك استخدام المكتبة الخاصة كما في الايعاز التالي:"
   ]
  },
  {
   "cell_type": "code",
   "execution_count": null,
   "id": "0f8f891d",
   "metadata": {},
   "outputs": [],
   "source": [
    "import geemap.foliumap as geemap"
   ]
  },
  {
   "cell_type": "markdown",
   "id": "dc138104",
   "metadata": {},
   "source": [
    "بعد ذلك, يمكن استخدام نفس الايعاز اعلاه لخلق و استعراض الخارطة التفاعلية ({numref}`ch02_folium`) حيث فعلت في استخدام بناء حزمه ipyleaflet."
   ]
  },
  {
   "cell_type": "code",
   "execution_count": null,
   "id": "af426265",
   "metadata": {},
   "outputs": [],
   "source": [
    "Map = geemap.Map(center=[40, -100], zoom=4, height=600)\n",
    "Map"
   ]
  },
  {
   "cell_type": "markdown",
   "id": "94da7414",
   "metadata": {},
   "source": [
    "```{figure} images/ch02_folium.jpg\n",
    "---\n",
    "name: ch02_folium\n",
    "width: 100%\n",
    "---\n",
    "A map created using the folium plotting backend.\n",
    "```\n",
    "ان folium لا تدعم التواصل الثنائي بين القاعدة الخلفية و الواجهه الامامية {cite}`QuantStack2019-bd`. حال خلق و استعراض الخارطة في خلية notebook, لا يمكن تعديل خصائص الخارطة, مثل اضافة/ازالة, اضافة ازرار, تغيير الارتفاع/العرض. كذلك التحكم بالبيانات و شريط الادوات الموجود في ipyleaflet  في (see {numref}`ch02_ipyleaflet`) ليست مدعومه في folium حيث انها لاتدعم ipywidgets. \n",
    "\n",
    "\n",
    "و لاجل حفط الخارطة في HTML يحب استخدام او ستدعاء الايعاز `sav` كما في الشكل الأتي:"
   ]
  },
  {
   "cell_type": "code",
   "execution_count": null,
   "id": "992f35f1",
   "metadata": {},
   "outputs": [],
   "source": [
    "Map.save('folium.html')"
   ]
  },
  {
   "cell_type": "markdown",
   "id": "4812a22e",
   "metadata": {},
   "source": [
    "### استخدام حزمة Plotly\n",
    "\n",
    "لاجل خلق خارطة تفاعلية باستخدام حزمة plotly ببساطة عليك استيراد المكتبة الخاصة كما في الايعاز التالي:"
   ]
  },
  {
   "cell_type": "code",
   "execution_count": null,
   "id": "36371eb2",
   "metadata": {},
   "outputs": [],
   "source": [
    "import geemap.plotlymap as geemap"
   ]
  },
  {
   "cell_type": "markdown",
   "id": "6d7f6175",
   "metadata": {},
   "source": [
    "بعد ذلك, يمكنك خلق الخارطة التفاعلية  ({numref}`ch02_plotly`) بأستخدام الايعاز التالي."
   ]
  },
  {
   "cell_type": "code",
   "execution_count": null,
   "id": "96ed23c8",
   "metadata": {},
   "outputs": [],
   "source": [
    "Map = geemap.Map()\n",
    "Map"
   ]
  },
  {
   "cell_type": "markdown",
   "id": "50c4442c",
   "metadata": {},
   "source": [
    "```{figure} images/ch02_plotly.jpg\n",
    "---\n",
    "name: ch02_plotly\n",
    "width: 100%\n",
    "---\n",
    "A map created using the plotly plotting backend.\n",
    "```\n",
    "ملاحظة لا يمكن قد لا ترى الخارطة عند استعراضعا في Colab حيث انه لا يدعم حزمة plotly FigureWidget. و اذا جاءت رسالة تخبرك `FigureWidget - 'mapbox._derived' Value Error` (see [plotly issue 2570](https://github.com/plotly/plotly.py/issues/2570#issuecomment-738735816)), احذف التعليق من الايعاز التالي ثم قم بتنفيذه."
   ]
  },
  {
   "cell_type": "code",
   "execution_count": null,
   "id": "c7733393",
   "metadata": {},
   "outputs": [],
   "source": [
    "# geemap.fix_widget_error()"
   ]
  },
  {
   "cell_type": "markdown",
   "id": "638e1498",
   "metadata": {},
   "source": [
    "### استخدام حزمه Pydeck\n",
    "\n",
    "اجل خلق خارطة تفاعلية باستخدام حزمة pydeck ببساطة عليك استيراد المكتبة الخاصة كما في الايعاز التالي:"
   ]
  },
  {
   "cell_type": "code",
   "execution_count": null,
   "id": "0d5aff67",
   "metadata": {},
   "outputs": [],
   "source": [
    "import geemap.deck as geemap"
   ]
  },
  {
   "cell_type": "markdown",
   "id": "11a00670",
   "metadata": {},
   "source": [
    "بعد ذلك, يمكنك خلق الخارطة التفاعلية  ({numref}`ch02_pydeck`) بأستخدام الايعاز التالي."
   ]
  },
  {
   "cell_type": "code",
   "execution_count": null,
   "id": "fe16c161",
   "metadata": {},
   "outputs": [],
   "source": [
    "Map = geemap.Map()\n",
    "Map"
   ]
  },
  {
   "cell_type": "markdown",
   "id": "3e8a274a",
   "metadata": {},
   "source": [
    "```{figure} images/ch02_pydeck.jpg\n",
    "---\n",
    "name: ch02_pydeck\n",
    "width: 100%\n",
    "---\n",
    "A map created using the pydeck plotting backend.\n",
    "```\n",
    "\n",
    "### استخدام حزمة KeplerGL\n",
    "جل خلق خارطة تفاعلية باستخدام حزمة [kepler.gl](https://docs.kepler.gl/docs/keplergl-jupyter) ببساطة عليك استيراد المكتبة الخاصة كما في الايعاز التالي:"
   ]
  },
  {
   "cell_type": "code",
   "execution_count": null,
   "id": "2535f662",
   "metadata": {},
   "outputs": [],
   "source": [
    "import geemap.kepler as geemap"
   ]
  },
  {
   "cell_type": "markdown",
   "id": "6420b756",
   "metadata": {},
   "source": [
    "بعد ذلك, يمكنك خلق الخارطة التفاعلية  ({numref}`ch02_kepler`) بأستخدام الايعاز التالي."
   ]
  },
  {
   "cell_type": "code",
   "execution_count": null,
   "id": "2549bc5f",
   "metadata": {},
   "outputs": [],
   "source": [
    "Map = geemap.Map()\n",
    "Map"
   ]
  },
  {
   "cell_type": "markdown",
   "id": "c960b5f1",
   "metadata": {},
   "source": [
    "```{figure} images/ch02_kepler.jpg\n",
    "---\n",
    "name: ch02_kepler\n",
    "width: 100%\n",
    "---\n",
    "A map created using the KeplerGL plotting backend.\n",
    "```\n",
    "\n",
    "## أضافة الخارطة التفاعلية Adding basemaps\n",
    "هناك عدة طرق لاخراج الخارطة الاساسية الى القاعدة الاساس في الخارطة. يمكن تخصيص الخراطة الاساس باستخدام المفتاح الادخال `basemap` عند خلقها مع استخدام طريقة `()geemap.Map`.بديلا عن ذلك, يمكن إضافة طبقة القاعدة الاساس بأسخدام  `()Map.add_basemap`, ان geemap تتضمن المئات من خرائط الاساس الموجوده اساسا من خلال  [xyzservices](https://github.com/geopandas/xyzservices) و التي من اسهل اضافتها الى بأيعاز واحد. \n",
    "\n",
    "\n",
    "### استخدام الخرائط الاساس المتضمنه Built-in basemaps\n",
    "دعنا استخدام الخرائط الاساس built-in الموجوده اصلا في مكتبة geemap من خلال استدعائها اولا:"
   ]
  },
  {
   "cell_type": "code",
   "execution_count": null,
   "id": "b2b8654c",
   "metadata": {},
   "outputs": [],
   "source": [
    "import geemap"
   ]
  },
  {
   "cell_type": "markdown",
   "id": "adba872d",
   "metadata": {},
   "source": [
    "بعد ذلك, خلق الخارطة التفاعلية من خلال تخصيصها باتباع التالي. مثلا على ذلك استخدام `HYBRID` التي تمثل الخارطة الاساس المدعومه من Google Satellite Hybrid كما في ({numref}`ch02_basemap_hybrid`)."
   ]
  },
  {
   "cell_type": "code",
   "execution_count": null,
   "id": "0e781ed7",
   "metadata": {},
   "outputs": [],
   "source": [
    "Map = geemap.Map(basemap='HYBRID')\n",
    "Map"
   ]
  },
  {
   "cell_type": "markdown",
   "id": "db65ecb9",
   "metadata": {},
   "source": [
    "```{figure} images/ch02_basemap_hybrid.jpg\n",
    "---\n",
    "name: ch02_basemap_hybrid\n",
    "width: 100%\n",
    "---\n",
    "The Google Satellite Hybrid basemap.\n",
    "```\n",
    "يمكن اضافة خراطة اساس كما ترغب. على سبيل المثال, الايعاز التالي يمكن من اضافة خراطة اساس `OpenTopoMap` الى الخارطة ({numref}`ch02_basemap_opentopomap`):"
   ]
  },
  {
   "cell_type": "code",
   "execution_count": null,
   "id": "15df0edf",
   "metadata": {},
   "outputs": [],
   "source": [
    "Map.add_basemap('OpenTopoMap')"
   ]
  },
  {
   "cell_type": "markdown",
   "id": "c07d9368",
   "metadata": {},
   "source": [
    "```{figure} images/ch02_basemap_opentopomap.jpg\n",
    "---\n",
    "name: ch02_basemap_opentopomap\n",
    "width: 100%\n",
    "---\n",
    "The OpenTopoMap basemap.\n",
    "\n",
    "```\n",
    "لأيجاد قائمه الخرائط الاساس الموجوده ضمنا:"
   ]
  },
  {
   "cell_type": "code",
   "execution_count": null,
   "id": "14a6d86f",
   "metadata": {},
   "outputs": [],
   "source": [
    "for basemap in geemap.basemaps.keys():\n",
    "    print(basemap)"
   ]
  },
  {
   "cell_type": "markdown",
   "id": "fb0f15a2",
   "metadata": {},
   "source": [
    "كلياَ, هناك اكثر من 100 خراطة اساس كما يستعرض الايعاز التالي."
   ]
  },
  {
   "cell_type": "code",
   "execution_count": null,
   "id": "dc0bdb8e",
   "metadata": {},
   "outputs": [],
   "source": [
    "len(geemap.basemaps)"
   ]
  },
  {
   "cell_type": "markdown",
   "id": "c6f984eb",
   "metadata": {},
   "source": [
    "### استخدام حزمه XYZ tiles\n",
    "يمكن ايضاَ اضافة طبقة خراطة اساس XYZ tile باستخدام الطرقة `()Map.add_tile_layer`, على سبيل المثال, الايعاز التالي يقوم بخلق خارطة تفاعلية و اضافة خارطة اساس Google Terrain اليها."
   ]
  },
  {
   "cell_type": "code",
   "execution_count": null,
   "id": "f1fbc6bf",
   "metadata": {},
   "outputs": [],
   "source": [
    "Map = geemap.Map()\n",
    "Map.add_tile_layer(\n",
    "    url=\"https://mt1.google.com/vt/lyrs=p&x={x}&y={y}&z={z}\",\n",
    "    name=\"Google Terrain\",\n",
    "    attribution=\"Google\",\n",
    ")\n",
    "Map"
   ]
  },
  {
   "cell_type": "markdown",
   "id": "4eca2b5e",
   "metadata": {},
   "source": [
    "### استخدام حزمة WMS tiles\n",
    "على وجه الشبة, يمكن اضافة طبقة خارطة اساس WMS tile الى االخارطة باستخدام الايعاز `()Map.add_wms_layer`, على سبيل المثال, الايعاز التالي يقوم بعملية خلق الخارطة التفاعلية و اضافة  خارطة اساسNational Land Cover Database (NLCD) 2019 كما في ({numref}`ch02_basemap_nlcd`):"
   ]
  },
  {
   "cell_type": "code",
   "execution_count": null,
   "id": "9d17c06d",
   "metadata": {},
   "outputs": [],
   "source": [
    "Map = geemap.Map(center=[40, -100], zoom=4)\n",
    "url = 'https://www.mrlc.gov/geoserver/mrlc_display/NLCD_2019_Land_Cover_L48/wms?'\n",
    "Map.add_wms_layer(\n",
    "    url=url,\n",
    "    layers='NLCD_2019_Land_Cover_L48',\n",
    "    name='NLCD 2019',\n",
    "    format='image/png',\n",
    "    attribution='MRLC',\n",
    "    transparent=True,\n",
    ")\n",
    "Map"
   ]
  },
  {
   "cell_type": "markdown",
   "id": "d1490659",
   "metadata": {},
   "source": [
    "```{figure} images/ch02_basemap_nlcd.jpg\n",
    "---\n",
    "name: ch02_basemap_nlcd\n",
    "width: 100%\n",
    "---\n",
    "The National Land Cover Database (NLCD) 2019 basemap.\n",
    "```\n",
    "للاطلاع على المزيد من خراط اساس WMS, الدخول الى الموقع التالي [USGS National Map Services](https://apps.nationalmap.gov/services). في حال الحصول على الرابط المطلوب للخراطة  الاساس WMS يمكن اتباع المثال اعلاه لاضافها الى الخارطة.  \n",
    "\n",
    "### استخدام حزمة Planet basemaps\n",
    "ان حزمه [Planet Labs](https://www.planet.com)  تزود صور اقمار صناعية عالية الدقة مع زيارات زمينه قصيره جداَ. انها توفر خرائط اساس بالمدى الزمني الشهري و الربع سنوي على المدى المكاني العالمي و التي يمكن ان تزود من خلال الرابط [XYZ Basemap Tile Service](https://developers.planet.com/docs/basemaps/tile-services/xyz) للاستخدام في رسم و تمثيل البيانات المكاني على التطبيقات على الويب. يجب ان يكون لك حساب على planet قد تم تفعيلة و على الرابط التالي يمكنك انشاء حساب [Planet account](https://developers.planet.com/docs/apis/data/#how-to-become-a-planet-developer) للتمكن من الوصل الى الخراطة الاساس Basemap Tile Service. في حال تم الحصول على حساب على Planet, يمكن الحصول على مفتاح API من خلال الدخول الى [Account Settings page](https://www.planet.com/account/#/user-settings) كما موضح في الشكل ({numref}`ch02_planet_api_key`).\n",
    "\n",
    "```{figure} images/ch02_planet_api_key.jpg\n",
    "---\n",
    "name: ch02_planet_api_key\n",
    "width: 100%\n",
    "---\n",
    "Planet account profile page.\n",
    "```\n",
    "استبدال المفتاح `YOUR_API_KEY` ادناه مع مفتاح API الذي يتم نسخة من أعدادات حسابك في الصوره أعلاه. يمكن خلق متغير كائن بيئة بأسم `PLANET_API_KEY` و تغيير اعدادات مفتاح API لكي تتمكن من الوصول الى الخارطة الاساس بدون أي تغيير في كل مره."
   ]
  },
  {
   "cell_type": "code",
   "execution_count": null,
   "id": "fdf1187a",
   "metadata": {},
   "outputs": [],
   "source": [
    "import os\n",
    "\n",
    "os.environ[\"PLANET_API_KEY\"] = \"YOUR_API_KEY\""
   ]
  },
  {
   "cell_type": "markdown",
   "id": "1580c406",
   "metadata": {},
   "source": [
    "أولا, دعنا نلقي نظره على خرائط الاساس ذات التردد الزمني الربع سنوية. ان Planet تحتوي على بيانات خراطة اساس ربع سنوي ترجع الى سنة 2016. ان اسماء الخرائط الاساس تأتي على هذا السياق `Planet_2016q1`, `Planet_2016q2`, ..., و `Planet_2022q1`, و على هذا المنوال."
   ]
  },
  {
   "cell_type": "code",
   "execution_count": null,
   "id": "35441ae6",
   "metadata": {},
   "outputs": [],
   "source": [
    "quarterly_tiles = geemap.planet_quarterly_tiles()\n",
    "for tile in quarterly_tiles:\n",
    "    print(tile)"
   ]
  },
  {
   "cell_type": "markdown",
   "id": "9ce94508",
   "metadata": {},
   "source": [
    "بعد ذلك, دعنا نطلع على البيانات الشهري للخارطة الاساس. ان Planet فيها تحتوي على خرائط اساس بتردد زمني شهري تعود الى تاريخ January 2016. و ان اسماء خرائط الاساس ذات التردد الشهري تأتي على السياق التالي: `Planet_2016_01`, \n",
    "`Planet_2016_02`, ..., و `Planet_2022_04`, و على هذا المنوال."
   ]
  },
  {
   "cell_type": "code",
   "execution_count": null,
   "id": "b2bee5b3",
   "metadata": {},
   "outputs": [],
   "source": [
    "monthly_tiles = geemap.planet_monthly_tiles()\n",
    "for tile in monthly_tiles:\n",
    "    print(tile)"
   ]
  },
  {
   "cell_type": "markdown",
   "id": "0d726f37",
   "metadata": {},
   "source": [
    "لاجل أضافة خراطة اساس بتردد زمني شهري, يجب استاخدام الايعاز التالي `()Map.add_planet_by_month` و كما هو ادناه:"
   ]
  },
  {
   "cell_type": "code",
   "execution_count": null,
   "id": "938eae9d",
   "metadata": {},
   "outputs": [],
   "source": [
    "Map = geemap.Map()\n",
    "Map.add_planet_by_month(year=2020, month=8)\n",
    "Map"
   ]
  },
  {
   "cell_type": "markdown",
   "id": "695db777",
   "metadata": {},
   "source": [
    "و لاجل اضافة خراطة اساس بتردد ربع سنوي, يجب استخدام الايعاز التالي `()Map.add_planet_by_quarter` و كما هو ادناه:"
   ]
  },
  {
   "cell_type": "code",
   "execution_count": null,
   "id": "e5653769",
   "metadata": {},
   "outputs": [],
   "source": [
    "Map = geemap.Map()\n",
    "Map.add_planet_by_quarter(year=2019, quarter=2)\n",
    "Map"
   ]
  },
  {
   "cell_type": "markdown",
   "id": "3111dd7d",
   "metadata": {},
   "source": [
    "ان الخارطه سوف تكون على الشكل التالي {numref}`ch02_basemap_planet`. \n",
    "\n",
    "\n",
    "```{figure} images/ch02_basemap_planet.jpg\n",
    "---\n",
    "name: ch02_basemap_planet\n",
    "width: 100%\n",
    "---\n",
    "The Planet quarterly basemap for second quarter of 2019.\n",
    "\n",
    "```\n",
    "\n",
    "### استخدام حزمة Basemap GUI\n",
    "\n",
    "ان geemap تسهل على المستخدمين اضافة طبقة الخارطة الاساس الى الخراطة بدون الحاجة الى كتابة كود برمجي. من خلال النقر على ايقونه \"map\" في شريط الادوات, سوف تفعل خارطة GUI و كما في ({numref}`ch02_basemap_gui`). ببساطة انقر على القائمة لاختيار الخارطة الاساس التي تريد اضافتها. بالاضافة الى ذلك, اذا قمت بخلق متغير نوع كائن بيئة بالاسم `PLANET_API_KEY` و ضبط اعداده على مفتاحك الخاص لـ Planet API, ان خارطة اساس Planet سوف تكون متاحة من القائمة النازلة.\n",
    "\n",
    "لاجل ضبط اعدادات مفتاح Planet API, استخدم الايعاز التالي:"
   ]
  },
  {
   "cell_type": "code",
   "execution_count": null,
   "id": "2dd38624",
   "metadata": {},
   "outputs": [],
   "source": [
    "import os\n",
    "\n",
    "os.environ[\"PLANET_API_KEY\"] = \"YOUR_API_KEY\""
   ]
  },
  {
   "cell_type": "markdown",
   "id": "86a31828",
   "metadata": {},
   "source": [
    "بعد ذلك ان الخارطة الاساس سوف تكون موجوده في القائمة المنسدلة."
   ]
  },
  {
   "cell_type": "code",
   "execution_count": null,
   "id": "ef2dd495",
   "metadata": {},
   "outputs": [],
   "source": [
    "Map = geemap.Map()\n",
    "Map"
   ]
  },
  {
   "cell_type": "markdown",
   "id": "b1a492e8",
   "metadata": {},
   "source": [
    "```{figure} images/ch02_basemap_gui.jpg\n",
    "---\n",
    "name: ch02_basemap_gui\n",
    "width: 100%\n",
    "\n",
    "---\n",
    "The basemap GUI for changing basemaps interactively without coding.\n",
    "```\n",
    "\n",
    "## الخلاصة \n",
    "في هذا الفصل, بدئنا بشرح الاساسيات لبيئة Jupyter notebook. و قدمنا امثلة عن كيفية استخدام الطرق الخمس لرسم الخلفية الاساس و التي تستخدم لخلق الخارطة الاساس. بالاضافه الى ذلك, استعرضنا كيفية دمج طقات من الخرائط الاساس مثل XYZ tiles, WMS tiles, و Planet الى الخارطة. \n",
    "\n",
    "الى الان, يجب ان تكون اصبحت على دراية في استخدام بية Jupyter notebook لخلق خراطة تفاعلية و التبديل بين مختلف الخرائط الاساس ذلك. في الفصل القادم سوف نتطرق بشكل مفصل حول استخدام بيانات Google Earth Engine."
   ]
  }
 ],
 "metadata": {
  "jupytext": {
   "text_representation": {
    "extension": ".md",
    "format_name": "myst",
    "format_version": 0.13,
    "jupytext_version": "1.11.5"
   }
  },
  "kernelspec": {
   "display_name": "Python 3",
   "language": "python",
   "name": "python3"
  },
  "source_map": [
   12,
   50,
   52,
   59,
   62,
   67,
   69,
   91,
   93,
   97,
   99,
   102,
   104,
   118,
   121,
   143,
   146,
   149,
   152,
   156,
   158,
   164,
   166,
   169,
   172,
   186,
   188,
   194,
   196,
   200,
   203,
   214,
   216,
   224,
   226,
   230,
   233,
   247,
   249,
   253,
   256,
   273,
   275,
   278,
   281,
   292,
   294,
   307,
   310,
   313,
   315,
   320,
   328,
   333,
   345,
   368,
   372,
   375,
   379,
   383,
   387,
   390,
   394,
   397,
   401,
   420,
   424,
   427,
   430
  ]
 },
 "nbformat": 4,
 "nbformat_minor": 5
}