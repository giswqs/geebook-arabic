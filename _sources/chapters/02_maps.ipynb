{
 "cells": [
  {
   "cell_type": "markdown",
   "id": "fcee07c9",
   "metadata": {},
   "source": [
    "(chapter02)=\n",
    "\n",
    "# خلق خارطة تفاعلية\n",
    "\n",
    "```{contents}\n",
    ":local:\n",
    ":depth: 2\n",
    "```\n",
    "\n",
    "## مدخل\n",
    "هناك العديد من الحزم و المكتبات التي تتعامل مع رسم الخرائط تفاعلية او تحليل المعلومات الجيومكانية {cite}`Wu2021-iv`. على الرغم من ذلك, كل حزمه لها وجه تطبيق(API) خاصه لخلق الخرائط و استعراض البيانات, و التي قد تكون صعبة على المبتدئين للتصفح. ان geemap تبسط العملية من خلال واجهه تطبيقية (API) تجمع بين خلق الخارطه التفاعلية و أستعراض البيانات, و كذلك تمكين المستخدمن من رسم خلفية الخارطة بسطر برمجي واحد. \n",
    "\n",
    "من خلال هذا الفصل, سوف تتعرف على كيفية خلق الخارطة التفاعلية بأستخدام واحدة من خمس طرق لرسم خلفيات الخرائط. كذلك, سوف نعطيك بعض الامثلة التطبيقية حول كيفية اضافة و اختيار الخارطة الاساس الى الخارطة من بين المئات من خرائط الاساس الموجوده و باستخدام ايعاز واحد.\n",
    "\n",
    "\n",
    "(chapter02:requirements)=\n",
    "\n",
    "## المتطلبات التقنية\n",
    "للسير في هذا الفصل, يجب ان قمت بتثبيت geemap مع الملحقات الاضافية لها. و اذا قت بأتباع الخطوات التاليه في الشكل \n",
    "كما اسلفنا في الفصل الأول فان العمل على الخارطة التفاعلية يحتاج إلى بعض من المكتب التي يجب ان يتم استيرادها للعمل على البيانات المكانية. و تتطلب هذه المكتبات  بعض أدارة لبيئة conda و تثبيت بعض الحزم الضرورية و طلب تصريح العمل على بيانات Google Earth Engine. و يأتي ملخص الخطوات التقنية التي تسبق العمل على الخارطة التفاعلية بما يلي {numref}`ch01:install` - باسم _Installing geemap_, و بالضروره ان تكون قد قمت بعملية بية conda مع الحزم الضرورية. عدى ذلك يمكن خلق بيئة جديدة من conda و تنصيب [pygis](https://pygis.gishub.org) بواسطة الايعازات التالية, و التي تقوم بتنصيب geemap و جميع متطلباتها:\n",
    "\n",
    "```bash\n",
    "conda create -n gee python\n",
    "conda activate gee\n",
    "conda install -c conda-forge mamba\n",
    "mamba install -c conda-forge pygis\n",
    "```\n",
    "ثانيا, اطلاق Jupyter من خلال الايعاز التالي في terminal او Anaconda prompt:\n",
    "\n",
    "```bash\n",
    "jupyter lab\n",
    "```\n",
    "او من خلال استخدام geemap في البيئة السحابية Google Colab بدون الحاجة الى تنصيب اي حزم على الكومبيوتر الخاص بيك. أضغط على [02_maps.ipynb](https://colab.research.google.com/github/giswqs/geebook/blob/master/chapters/02_maps.ipynb) لكي يتم اطلاق اطلاق Google Colab.\n",
    "\n",
    "حال اطلاق Colab, يمكنك رفع التعليق من الايعاز التالي و تنفيذه لكي تتمكن من تنصيب pygis, و التي تتضمن geemap و جميع الملحقات الضمنية فيها:"
   ]
  },
  {
   "cell_type": "code",
   "execution_count": null,
   "id": "228632f4",
   "metadata": {},
   "outputs": [],
   "source": [
    "# %pip install pygis"
   ]
  },
  {
   "cell_type": "markdown",
   "id": "d378a777",
   "metadata": {},
   "source": [
    "أن عملية التنصيب تأخذ اكثر من 2-3 دقائق. و حال تم تصيب pygis, أضغط على زر **RESTART RUNTIME** الذي يظهر أخر خطوه تنصيب أو قائمة **Runtime** ثم اختيار  **Restart runtime**. بعد ذلك, يمكن كتابة الكود الخاص.\n",
    "\n",
    "للبدء, يجب استيراد المكتبات الضرورية التي تستخدم في هذا الفصل:"
   ]
  },
  {
   "cell_type": "code",
   "execution_count": null,
   "id": "a6f88264",
   "metadata": {},
   "outputs": [],
   "source": [
    "import ee\n",
    "import geemap"
   ]
  },
  {
   "cell_type": "markdown",
   "id": "865768b5",
   "metadata": {},
   "source": [
    "تنصيب واجه تطبيق Earth Engine Pyhton:"
   ]
  },
  {
   "cell_type": "code",
   "execution_count": null,
   "id": "419c2dba",
   "metadata": {},
   "outputs": [],
   "source": [
    "geemap.ee_initialize()"
   ]
  },
  {
   "cell_type": "markdown",
   "id": "c6e8b940",
   "metadata": {},
   "source": [
    "أذا كان هذا اول تنفيذ للايعازات اعلاه, سوف تحتاج الى طلب تصريح دخول الى Earth Engine. الايعازات التالية في  {numref}`ch01-ee-auth` لـطلب _Earth Engine authentication_ لتنصيب Earth Engine.\n",
    " \n",
    "\n",
    "## رسم الخلفيات الاساسية\n",
    "\n",
    "تحتوي **Geemap** على خمس مكتبات لرسم الخلفية الاساس, و التي هي [ipyleaflet](https://github.com/jupyter-widgets/ipyleaflet), [folium](https://python-visualization.github.io/folium), [plotly](https://plotly.com), [pydeck](https://deckgl.readthedocs.io/en/latest), و [kepler.gl](https://docs.kepler.gl/docs/keplergl-jupyter). أن الخارطة التفاعلية تستخدم واحدة من هذه الطرق لاجل استعراض في بيئة Jupyter مثل Google Colab, Jupyter Notebook و JupyterLab. في الحالة الافتراضية, إن `import geemap` سوف يستخدم ipyleaflet لأجل رسم الخلفية الاساس.\n",
    "\n",
    "ان هذه المكتبات الخمس الموجوده في geemap تختلف في الوظائف و التطبيقات التي تحتويها. أن مكتبة ipyleaflet تزود افضل الوظائف و اكثرها بما في ذلك واجهه المستخدم التفاعلية (GUI) لتحميل, و تحليل, و تمثيل البيانات المكانية تفاعليا بدون كود. و على سبيل المثال, يستطيع المستخدم اضافة متجه بيانات مثل (e.g., GeoJSON, Shapefile, KML, GeoDataFrame) و بيانات من مرئيات مثل (e.g., GeoTIFF, Cloud Optimized GeoTIFF [COG]) الى الخارطة باسخدام القليل من الازرار. و ايضا ان المستخدم يستطيع ان يقوم بعمليات تحليل للبيانات من المكانية باستخدام WhiteboxTools GUI باستخدام اكثر من 500 ادواع عمليات جغرافية مباشرا من داخل الخارطة التفاعلية. ان الوظائف التفاعلية للعمليات الاخراى ثمل (e.g., split-panel map, linked map, time slider, timeseries inspector) من الممكن استخدامها بشكل مفيد لاجل استعراض و تمثيل البيانات المكانية. ان حزمة ipyleaflet تم بنائها بالاعتماد على ipywidgets و التي تسمح بالتواصل الثنائي بين الواجهه الامامية و الخلفية, و التي تمكن المستخدم من التقاط القيم المدخلة كما {cite}`QuantStack2019-bd`. \n",
    "\n",
    "\n",
    "بالمقارنة, أن folium فيها من المحدودية في بعض الوظائف.و التي تقوم بعملية استعراض ثابتة للبيانات. انها مفيدة لتفعيل التطبيقات على الويب و التي ipyleaflet لا تدعم ذلك. ملاحظه ان ذلك ان واجهه المستخدم التفاعلية موجوده في الحزم الاخرى.ان geemap تزود وجهه مميزه تمكن المسخدم من التبديل بين الخلفيات الاساسية بسهوله. و لاختيار الحزمه المطلوبه, بالامكان تنفيذ احد الايعازات التالية:  \n",
    "\n",
    "- `import geemap.geemap as geemap`\n",
    "- `import geemap.foliumap as geemap`\n",
    "- `import geemap.deck as geemap`\n",
    "- `import geemap.kepler as geemap`\n",
    "- `import geemap.plotlymap as geemap`\n",
    "\n",
    "### Ipyleaflet\n",
    "\n",
    "You can simply use `geemap.Map()` to create an interactive map with the default settings. First, let's import the `geemap` package:"
   ]
  },
  {
   "cell_type": "code",
   "execution_count": null,
   "id": "1d2c6d0b",
   "metadata": {},
   "outputs": [],
   "source": [
    "import geemap"
   ]
  },
  {
   "cell_type": "markdown",
   "id": "ca126ba1",
   "metadata": {},
   "source": [
    "Next, create an interactive map using the ipyleaflet plotting backend. The [geemap.Map](https://geemap.org/geemap/#geemap.geemap.Map) class inherits the [ipyleaflet.Map](https://ipyleaflet.readthedocs.io/en/latest/map_and_basemaps/map.html) class. Therefore, you can use the same syntax to create an interactive map as you would with `ipyleaflet.Map`."
   ]
  },
  {
   "cell_type": "code",
   "execution_count": null,
   "id": "6c816b63",
   "metadata": {},
   "outputs": [],
   "source": [
    "Map = geemap.Map()"
   ]
  },
  {
   "cell_type": "markdown",
   "id": "916486e6",
   "metadata": {},
   "source": [
    "This code creates a new map and assigns it to a new variable named `Map`. To display the map in a Jupyter notebook, simply type the variable name:"
   ]
  },
  {
   "cell_type": "code",
   "execution_count": null,
   "id": "18b045ba",
   "metadata": {},
   "outputs": [],
   "source": [
    "Map"
   ]
  },
  {
   "cell_type": "markdown",
   "id": "4504c511",
   "metadata": {},
   "source": [
    "Keep in mind that throughout this book, `Map` is commonly used to refer to the interactive map. It is just a variable name. You can use whatever name you want (e.g., `m`) as long as it complies with the following Python variable names rules:\n",
    "\n",
    "- A variable name must start with a letter or the underscore character\n",
    "- A variable name cannot start with a number\n",
    "- A variable name can only contain alphanumeric characters and underscores (A-z, 0-9, and \\_ )\n",
    "\n",
    "In general, a Python variable name should be lowercase. The reason we use `Map` rather than `m` is because in the Earth Engine JavaScript API, `Map` is a reserved keyword referring to the interactive map. We want to be consistent with the Earth Engine JavaScript API so that users can have an easier transition to geemap. Users are by no means required to use `Map` as the variable name for the interactive map.\n",
    "\n",
    "To customize the map, you can specify various keyword arguments, such as `center` ([lat, lon]), `zoom`, `width`, and `height`. The default `width` is `100%`, which takes up the entire cell width of the Jupyter notebook. The `height` argument accepts a number or a string. If a number is provided, it represents the height of the map in pixels. If a string is provided, the string must be in the format of a number followed by `px`, e.g., `600px`."
   ]
  },
  {
   "cell_type": "code",
   "execution_count": null,
   "id": "3e29c5eb",
   "metadata": {},
   "outputs": [],
   "source": [
    "Map = geemap.Map(center=[40, -100], zoom=4, height=600)\n",
    "Map"
   ]
  },
  {
   "cell_type": "markdown",
   "id": "3b88b9e9",
   "metadata": {},
   "source": [
    "The default map comes with all the following controls (see {numref}`ch02_ipyleaflet`):\n",
    "\n",
    "- `attribution_ctrl`\n",
    "- `data_ctrl`\n",
    "- `draw_ctrl`\n",
    "- `fullscreen_ctrl`\n",
    "- `layer_ctrl`\n",
    "- `measure_ctrl`\n",
    "- `scale_ctrl`\n",
    "- `toolbar_ctrl`\n",
    "- `zoom_ctrl`\n",
    "\n",
    "```{figure} images/ch02_ipyleaflet.jpg\n",
    "---\n",
    "name: ch02_ipyleaflet\n",
    "width: 100%\n",
    "---\n",
    "A map created using the ipyleaflet plotting backend.\n",
    "```\n",
    "\n",
    "To hide a control, set `control_name` to `False`, e.g., `draw_ctrl=False`."
   ]
  },
  {
   "cell_type": "code",
   "execution_count": null,
   "id": "52e34ab7",
   "metadata": {},
   "outputs": [],
   "source": [
    "Map = geemap.Map(data_ctrl=False, toolbar_ctrl=False, draw_ctrl=False)\n",
    "Map"
   ]
  },
  {
   "cell_type": "markdown",
   "id": "531263ea",
   "metadata": {},
   "source": [
    "You can also set `lite_mode=True` to show only the Zoom Control."
   ]
  },
  {
   "cell_type": "code",
   "execution_count": null,
   "id": "6ce3c9fa",
   "metadata": {},
   "outputs": [],
   "source": [
    "Map = geemap.Map(lite_mode=True)\n",
    "Map"
   ]
  },
  {
   "cell_type": "markdown",
   "id": "e64c88a1",
   "metadata": {},
   "source": [
    "To save the map as an HTML file you can call the `save` method:"
   ]
  },
  {
   "cell_type": "code",
   "execution_count": null,
   "id": "9fcad9bb",
   "metadata": {},
   "outputs": [],
   "source": [
    "Map.save('ipyleaflet.html')"
   ]
  },
  {
   "cell_type": "markdown",
   "id": "f7e3d8d9",
   "metadata": {},
   "source": [
    "### Folium\n",
    "\n",
    "To create an interactive map using the folium plotting backend, simply import the library as follows:"
   ]
  },
  {
   "cell_type": "code",
   "execution_count": null,
   "id": "89c8c236",
   "metadata": {},
   "outputs": [],
   "source": [
    "import geemap.foliumap as geemap"
   ]
  },
  {
   "cell_type": "markdown",
   "id": "0a52ba1c",
   "metadata": {},
   "source": [
    "Then, you can use the same line of code to create and display an interactive map ({numref}`ch02_folium`) as you would with the ipyleaflet plotting backend introduced above."
   ]
  },
  {
   "cell_type": "code",
   "execution_count": null,
   "id": "e87c2225",
   "metadata": {},
   "outputs": [],
   "source": [
    "Map = geemap.Map(center=[40, -100], zoom=4, height=600)\n",
    "Map"
   ]
  },
  {
   "cell_type": "markdown",
   "id": "4e9e2cb1",
   "metadata": {},
   "source": [
    "```{figure} images/ch02_folium.jpg\n",
    "---\n",
    "name: ch02_folium\n",
    "width: 100%\n",
    "---\n",
    "A map created using the folium plotting backend.\n",
    "```\n",
    "\n",
    "Folium does not support bidirectional communication {cite}`QuantStack2019-bd`. Once the map is created and displayed in a notebook cell, you can't modify the map's properties, e.g., add/remove layers, add controls, change width/height. Also, the data and toolbar controls available in ipyleaflet (see {numref}`ch02_ipyleaflet`) are not supported in folium as folium does not support ipywidgets.\n",
    "\n",
    "To save the map as an HTML file we can call the `save` method:"
   ]
  },
  {
   "cell_type": "code",
   "execution_count": null,
   "id": "0384177b",
   "metadata": {},
   "outputs": [],
   "source": [
    "Map.save('folium.html')"
   ]
  },
  {
   "cell_type": "markdown",
   "id": "e817fbb9",
   "metadata": {},
   "source": [
    "### Plotly\n",
    "\n",
    "To create an interactive map using the plotly plotting backend, simply import the library as follows:"
   ]
  },
  {
   "cell_type": "code",
   "execution_count": null,
   "id": "2c126d3f",
   "metadata": {},
   "outputs": [],
   "source": [
    "import geemap.plotlymap as geemap"
   ]
  },
  {
   "cell_type": "markdown",
   "id": "a8c1b60c",
   "metadata": {},
   "source": [
    "Then, create and display an interactive map ({numref}`ch02_plotly`)."
   ]
  },
  {
   "cell_type": "code",
   "execution_count": null,
   "id": "a9121810",
   "metadata": {},
   "outputs": [],
   "source": [
    "Map = geemap.Map()\n",
    "Map"
   ]
  },
  {
   "cell_type": "markdown",
   "id": "07d25f33",
   "metadata": {},
   "source": [
    "```{figure} images/ch02_plotly.jpg\n",
    "---\n",
    "name: ch02_plotly\n",
    "width: 100%\n",
    "---\n",
    "A map created using the plotly plotting backend.\n",
    "```\n",
    "\n",
    "Note that you might not see the map displayed in Colab as it does not yet support plotly FigureWidget. If you run into an error saying `FigureWidget - 'mapbox._derived' Value Error` (see [plotly issue 2570](https://github.com/plotly/plotly.py/issues/2570#issuecomment-738735816)), uncomment the following line and run it."
   ]
  },
  {
   "cell_type": "code",
   "execution_count": null,
   "id": "c4941488",
   "metadata": {},
   "outputs": [],
   "source": [
    "# geemap.fix_widget_error()"
   ]
  },
  {
   "cell_type": "markdown",
   "id": "fac1b7c6",
   "metadata": {},
   "source": [
    "### Pydeck\n",
    "\n",
    "To create an interactive map using the pydeck plotting backend, simply import the library as follows:"
   ]
  },
  {
   "cell_type": "code",
   "execution_count": null,
   "id": "5a994022",
   "metadata": {},
   "outputs": [],
   "source": [
    "import geemap.deck as geemap"
   ]
  },
  {
   "cell_type": "markdown",
   "id": "bfd68df9",
   "metadata": {},
   "source": [
    "Then, create and display an interactive map ({numref}`ch02_pydeck`)."
   ]
  },
  {
   "cell_type": "code",
   "execution_count": null,
   "id": "b009ac82",
   "metadata": {},
   "outputs": [],
   "source": [
    "Map = geemap.Map()\n",
    "Map"
   ]
  },
  {
   "cell_type": "markdown",
   "id": "1f56caf0",
   "metadata": {},
   "source": [
    "```{figure} images/ch02_pydeck.jpg\n",
    "---\n",
    "name: ch02_pydeck\n",
    "width: 100%\n",
    "---\n",
    "A map created using the pydeck plotting backend.\n",
    "```\n",
    "\n",
    "### KeplerGL\n",
    "\n",
    "To create an interactive map using the [kepler.gl](https://docs.kepler.gl/docs/keplergl-jupyter) plotting backend, simply import the library as follows:"
   ]
  },
  {
   "cell_type": "code",
   "execution_count": null,
   "id": "8e37c3fa",
   "metadata": {},
   "outputs": [],
   "source": [
    "import geemap.kepler as geemap"
   ]
  },
  {
   "cell_type": "markdown",
   "id": "b951a918",
   "metadata": {},
   "source": [
    "Then, create and display an interactive map ({numref}`ch02_kepler`)."
   ]
  },
  {
   "cell_type": "code",
   "execution_count": null,
   "id": "c883ad44",
   "metadata": {},
   "outputs": [],
   "source": [
    "Map = geemap.Map()\n",
    "Map"
   ]
  },
  {
   "cell_type": "markdown",
   "id": "7d1bb614",
   "metadata": {},
   "source": [
    "```{figure} images/ch02_kepler.jpg\n",
    "---\n",
    "name: ch02_kepler\n",
    "width: 100%\n",
    "---\n",
    "A map created using the KeplerGL plotting backend.\n",
    "```\n",
    "\n",
    "## Adding basemaps\n",
    "\n",
    "There are several ways to add basemaps to a map. You can specify the basemap to use in the `basemap` keyword argument when creating the map with the `geemap.Map()` method. Alternatively, you can add basemap layers to the map using the `Map.add_basemap()` method. Geemap has hundreds of built-in basemaps available through [xyzservices](https://github.com/geopandas/xyzservices) that can be easily added to the map with only one line of code.\n",
    "\n",
    "### Built-in basemaps\n",
    "\n",
    "Let's try out some of the built-in basemaps. First, import the geemap library as follows:"
   ]
  },
  {
   "cell_type": "code",
   "execution_count": null,
   "id": "1b8c4390",
   "metadata": {},
   "outputs": [],
   "source": [
    "import geemap"
   ]
  },
  {
   "cell_type": "markdown",
   "id": "e4eea2a4",
   "metadata": {},
   "source": [
    "Next, create a map by specifying the basemap to use as follows. For example, the `HYBRID` basemap represents the Google Satellite Hybrid basemap ({numref}`ch02_basemap_hybrid`)."
   ]
  },
  {
   "cell_type": "code",
   "execution_count": null,
   "id": "64d517db",
   "metadata": {},
   "outputs": [],
   "source": [
    "Map = geemap.Map(basemap='HYBRID')\n",
    "Map"
   ]
  },
  {
   "cell_type": "markdown",
   "id": "102400e2",
   "metadata": {},
   "source": [
    "```{figure} images/ch02_basemap_hybrid.jpg\n",
    "---\n",
    "name: ch02_basemap_hybrid\n",
    "width: 100%\n",
    "---\n",
    "The Google Satellite Hybrid basemap.\n",
    "```\n",
    "\n",
    "You can add as many basemaps as you like to the map. For example, the following code adds the `OpenTopoMap` basemap to the map above ({numref}`ch02_basemap_opentopomap`):"
   ]
  },
  {
   "cell_type": "code",
   "execution_count": null,
   "id": "922fb8d7",
   "metadata": {},
   "outputs": [],
   "source": [
    "Map.add_basemap('OpenTopoMap')"
   ]
  },
  {
   "cell_type": "markdown",
   "id": "a3f53217",
   "metadata": {},
   "source": [
    "```{figure} images/ch02_basemap_opentopomap.jpg\n",
    "---\n",
    "name: ch02_basemap_opentopomap\n",
    "width: 100%\n",
    "---\n",
    "The OpenTopoMap basemap.\n",
    "\n",
    "```\n",
    "\n",
    "To find out the list of available basemaps:"
   ]
  },
  {
   "cell_type": "code",
   "execution_count": null,
   "id": "bed03a01",
   "metadata": {},
   "outputs": [],
   "source": [
    "for basemap in geemap.basemaps.keys():\n",
    "    print(basemap)"
   ]
  },
  {
   "cell_type": "markdown",
   "id": "ba6ed9d2",
   "metadata": {},
   "source": [
    "In total, there are 100+ basemaps available."
   ]
  },
  {
   "cell_type": "code",
   "execution_count": null,
   "id": "ae46ce93",
   "metadata": {},
   "outputs": [],
   "source": [
    "len(geemap.basemaps)"
   ]
  },
  {
   "cell_type": "markdown",
   "id": "26143c6c",
   "metadata": {},
   "source": [
    "### XYZ tiles\n",
    "\n",
    "You can also add XYZ tile layers to the map using the `Map.add_tile_layer()` method. For example, the following code creates an interactive map and adds the Google Terrain basemap to it:"
   ]
  },
  {
   "cell_type": "code",
   "execution_count": null,
   "id": "b467230a",
   "metadata": {},
   "outputs": [],
   "source": [
    "Map = geemap.Map()\n",
    "Map.add_tile_layer(\n",
    "    url=\"https://mt1.google.com/vt/lyrs=p&x={x}&y={y}&z={z}\",\n",
    "    name=\"Google Terrain\",\n",
    "    attribution=\"Google\",\n",
    ")\n",
    "Map"
   ]
  },
  {
   "cell_type": "markdown",
   "id": "eca9ceec",
   "metadata": {},
   "source": [
    "### WMS tiles\n",
    "\n",
    "Similarly, you can add WMS tile layers to the map using the `Map.add_wms_layer()` method. For example, the following code creates an interactive map and adds the National Land Cover Database (NLCD) 2019 basemap to it ({numref}`ch02_basemap_nlcd`):"
   ]
  },
  {
   "cell_type": "code",
   "execution_count": null,
   "id": "ec9b33ac",
   "metadata": {},
   "outputs": [],
   "source": [
    "Map = geemap.Map(center=[40, -100], zoom=4)\n",
    "url = 'https://www.mrlc.gov/geoserver/mrlc_display/NLCD_2019_Land_Cover_L48/wms?'\n",
    "Map.add_wms_layer(\n",
    "    url=url,\n",
    "    layers='NLCD_2019_Land_Cover_L48',\n",
    "    name='NLCD 2019',\n",
    "    format='image/png',\n",
    "    attribution='MRLC',\n",
    "    transparent=True,\n",
    ")\n",
    "Map"
   ]
  },
  {
   "cell_type": "markdown",
   "id": "7e7c0997",
   "metadata": {},
   "source": [
    "```{figure} images/ch02_basemap_nlcd.jpg\n",
    "---\n",
    "name: ch02_basemap_nlcd\n",
    "width: 100%\n",
    "---\n",
    "The National Land Cover Database (NLCD) 2019 basemap.\n",
    "```\n",
    "\n",
    "Want to find out more freely available WMS basemaps? Check out the [USGS National Map Services](https://apps.nationalmap.gov/services). Once you get a WMS URL, you can follow the example above to add it to the map.\n",
    "\n",
    "### Planet basemaps\n",
    "\n",
    "[Planet Labs](https://www.planet.com) provides high-resolution global satellite imagery with a high temporal frequency. The monthly and quarterly global basemaps can be streamed via the [XYZ Basemap Tile Service](https://developers.planet.com/docs/basemaps/tile-services/xyz) for use in web mapping applications or for visualization purposes. A valid [Planet account](https://developers.planet.com/docs/apis/data/#how-to-become-a-planet-developer) is required to access the Basemap Tile Service. Once you sign up for a Planet account, you can get your API key by navigating to the [Account Settings page](https://www.planet.com/account/#/user-settings) as shown in ({numref}`ch02_planet_api_key`).\n",
    "\n",
    "```{figure} images/ch02_planet_api_key.jpg\n",
    "---\n",
    "name: ch02_planet_api_key\n",
    "width: 100%\n",
    "---\n",
    "Planet account profile page.\n",
    "```\n",
    "\n",
    "Replace `YOUR_API_KEY` below with the API key copied from your Account Settings page shown above. You can create an environment variable called `PLANET_API_KEY` and set it to the API key so that you can access the basemap tiles without having to specify the API key every time."
   ]
  },
  {
   "cell_type": "code",
   "execution_count": null,
   "id": "93b3e149",
   "metadata": {},
   "outputs": [],
   "source": [
    "import os\n",
    "\n",
    "os.environ[\"PLANET_API_KEY\"] = \"YOUR_API_KEY\""
   ]
  },
  {
   "cell_type": "markdown",
   "id": "39384271",
   "metadata": {},
   "source": [
    "First, let's look at the list of available quarterly basemaps. Planet has quarterly basemaps going back to the first quarter of 2016. The names of the quarterly basemaps are: `Planet_2016q1`, `Planet_2016q2`, ..., `Planet_2022q1`, and so on."
   ]
  },
  {
   "cell_type": "code",
   "execution_count": null,
   "id": "0af6f491",
   "metadata": {},
   "outputs": [],
   "source": [
    "quarterly_tiles = geemap.planet_quarterly_tiles()\n",
    "for tile in quarterly_tiles:\n",
    "    print(tile)"
   ]
  },
  {
   "cell_type": "markdown",
   "id": "f6980f9a",
   "metadata": {},
   "source": [
    "Next, let's look at the list of available monthly basemaps. Planet has monthly basemaps going back to January 2016. The names of the monthly basemaps are: `Planet_2016_01`, `Planet_2016_02`, ..., `Planet_2022_04`, and so on."
   ]
  },
  {
   "cell_type": "code",
   "execution_count": null,
   "id": "cb0ccce0",
   "metadata": {},
   "outputs": [],
   "source": [
    "monthly_tiles = geemap.planet_monthly_tiles()\n",
    "for tile in monthly_tiles:\n",
    "    print(tile)"
   ]
  },
  {
   "cell_type": "markdown",
   "id": "e4c18165",
   "metadata": {},
   "source": [
    "To add a monthly basemap to the map, use the `Map.add_planet_by_month()` method as follows:"
   ]
  },
  {
   "cell_type": "code",
   "execution_count": null,
   "id": "242ace78",
   "metadata": {},
   "outputs": [],
   "source": [
    "Map = geemap.Map()\n",
    "Map.add_planet_by_month(year=2020, month=8)\n",
    "Map"
   ]
  },
  {
   "cell_type": "markdown",
   "id": "d543de63",
   "metadata": {},
   "source": [
    "To add a quarterly basemap to the map, use the `Map.add_planet_by_quarter()` method as follows:"
   ]
  },
  {
   "cell_type": "code",
   "execution_count": null,
   "id": "38b4ace7",
   "metadata": {},
   "outputs": [],
   "source": [
    "Map = geemap.Map()\n",
    "Map.add_planet_by_quarter(year=2019, quarter=2)\n",
    "Map"
   ]
  },
  {
   "cell_type": "markdown",
   "id": "ea3e0657",
   "metadata": {},
   "source": [
    "The map should look like {numref}`ch02_basemap_planet`.\n",
    "\n",
    "```{figure} images/ch02_basemap_planet.jpg\n",
    "---\n",
    "name: ch02_basemap_planet\n",
    "width: 100%\n",
    "---\n",
    "The Planet quarterly basemap for second quarter of 2019.\n",
    "\n",
    "```\n",
    "\n",
    "### Basemap GUI\n",
    "\n",
    "Geemap makes it easy for users to add basemaps to their maps without having to write any code. By clicking the \"map\" icon on the toolbar, the basemap GUI is activated ({numref}`ch02_basemap_gui`). Simply click the dropdown menu to select the basemap that you want to add. Additionally, if you have created an environment variable called `PLANET_API_KEY` and set it to your Planet API key, the Planet basemaps will also be available to select from the dropdown menu.\n",
    "\n",
    "To set the Planet API key, use the following code:"
   ]
  },
  {
   "cell_type": "code",
   "execution_count": null,
   "id": "d317b302",
   "metadata": {},
   "outputs": [],
   "source": [
    "import os\n",
    "\n",
    "os.environ[\"PLANET_API_KEY\"] = \"YOUR_API_KEY\""
   ]
  },
  {
   "cell_type": "markdown",
   "id": "b853898e",
   "metadata": {},
   "source": [
    "Then the Planet basemaps will be available via the basemap dropdown menu."
   ]
  },
  {
   "cell_type": "code",
   "execution_count": null,
   "id": "22e63b5c",
   "metadata": {},
   "outputs": [],
   "source": [
    "Map = geemap.Map()\n",
    "Map"
   ]
  },
  {
   "cell_type": "markdown",
   "id": "94f734d0",
   "metadata": {},
   "source": [
    "```{figure} images/ch02_basemap_gui.jpg\n",
    "---\n",
    "name: ch02_basemap_gui\n",
    "width: 100%\n",
    "\n",
    "---\n",
    "The basemap GUI for changing basemaps interactively without coding.\n",
    "```\n",
    "\n",
    "## Summary\n",
    "\n",
    "In this chapter, we began by introducing the fundamentals of Jupyter notebooks. We then provided hands-on examples of using the five geemap plotting backends to create interactive maps. Additionally, we explored how to incorporate various basemap layers, such as built-in basemaps, XYZ tiles, WMS tiles, and Planet basemaps, into our maps.\n",
    "\n",
    "By now, you should be proficient in using Jupyter notebook to generate interactive maps and switch between various basemaps seamlessly. That concludes this chapter. In the next chapter, we will delve into Google Earth Engine data."
   ]
  }
 ],
 "metadata": {
  "jupytext": {
   "text_representation": {
    "extension": ".md",
    "format_name": "myst",
    "format_version": 0.13,
    "jupytext_version": "1.11.5"
   }
  },
  "kernelspec": {
   "display_name": "Python 3",
   "language": "python",
   "name": "python3"
  },
  "source_map": [
   12,
   50,
   52,
   59,
   62,
   67,
   69,
   92,
   94,
   98,
   100,
   104,
   106,
   118,
   121,
   145,
   148,
   152,
   155,
   159,
   161,
   167,
   169,
   173,
   176,
   190,
   192,
   198,
   200,
   204,
   207,
   219,
   221,
   227,
   229,
   233,
   236,
   250,
   252,
   256,
   259,
   277,
   279,
   283,
   286,
   298,
   300,
   313,
   316,
   320,
   322,
   328,
   336,
   342,
   354,
   380,
   384,
   388,
   392,
   396,
   400,
   404,
   408,
   412,
   416,
   435,
   439,
   443,
   446
  ]
 },
 "nbformat": 4,
 "nbformat_minor": 5
}