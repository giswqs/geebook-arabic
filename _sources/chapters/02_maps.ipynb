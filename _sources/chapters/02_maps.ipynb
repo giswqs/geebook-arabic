{
 "cells": [
  {
   "cell_type": "markdown",
   "id": "c656bb2c",
   "metadata": {},
   "source": [
    "(chapter02)=\n",
    "\n",
    "# خلق خارطة تفاعلية\n",
    "\n",
    "```{contents}\n",
    ":local:\n",
    ":depth: 2\n",
    "```\n",
    "\n",
    "## مدخل\n",
    "هناك العديد من الحزم و المكتبات التي تتعامل مع رسم الخرائط تفاعلية او تحليل المعلومات الجيومكانية {cite}`Wu2021-iv`. على الرغم من ذلك, كل حزمه لها وجه تطبيق(API) خاصه لخلق الخرائط و استعراض البيانات, و التي قد تكون صعبة على المبتدئين للتصفح. ان geemap تبسط العملية من خلال واجهه تطبيقية (API) تجمع بين خلق الخارطه التفاعلية و أستعراض البيانات, و كذلك تمكين المستخدمن من رسم خلفية الخارطة بسطر برمجي واحد. \n",
    "\n",
    "من خلال هذا الفصل, سوف تتعرف على كيفية خلق الخارطة التفاعلية بأستخدام واحدة من خمس طرق لرسم خلفيات الخرائط. كذلك, سوف نعطيك بعض الامثلة التطبيقية حول كيفية اضافة و اختيار الخارطة الاساس الى الخارطة من بين المئات من خرائط الاساس الموجوده و باستخدام ايعاز واحد.\n",
    "\n",
    "\n",
    "(chapter02:requirements)=\n",
    "\n",
    "## المتطلبات التقنية\n",
    "للسير في هذا الفصل, يجب ان قمت بتثبيت geemap مع الملحقات الاضافية لها. و اذا قت بأتباع الخطوات التاليه في الشكل \n",
    "كما اسلفنا في الفصل الأول فان العمل على الخارطة التفاعلية يحتاج إلى بعض من المكتب التي يجب ان يتم استيرادها للعمل على البيانات المكانية. و تتطلب هذه المكتبات  بعض أدارة لبيئة conda و تثبيت بعض الحزم الضرورية و طلب تصريح العمل على بيانات Google Earth Engine. و يأتي ملخص الخطوات التقنية التي تسبق العمل على الخارطة التفاعلية بما يلي {numref}`ch01:install` - باسم _Installing geemap_, و بالضروره ان تكون قد قمت بعملية بية conda مع الحزم الضرورية. عدى ذلك يمكن خلق بيئة جديدة من conda و تنصيب [pygis](https://pygis.gishub.org) بواسطة الايعازات التالية, و التي تقوم بتنصيب geemap و جميع متطلباتها:\n",
    "\n",
    "```bash\n",
    "conda create -n gee python\n",
    "conda activate gee\n",
    "conda install -c conda-forge mamba\n",
    "mamba install -c conda-forge pygis\n",
    "```\n",
    "ثانيا, اطلاق Jupyter من خلال الايعاز التالي في terminal او Anaconda prompt:\n",
    "\n",
    "```bash\n",
    "jupyter lab\n",
    "```\n",
    "او من خلال استخدام geemap في البيئة السحابية Google Colab بدون الحاجة الى تنصيب اي حزم على الكومبيوتر الخاص بيك. أضغط على [02_maps.ipynb](https://colab.research.google.com/github/giswqs/geebook/blob/master/chapters/02_maps.ipynb) لكي يتم اطلاق اطلاق Google Colab.\n",
    "\n",
    "حال اطلاق Colab, يمكنك رفع التعليق من الايعاز التالي و تنفيذه لكي تتمكن من تنصيب pygis, و التي تتضمن geemap و جميع الملحقات الضمنية فيها:"
   ]
  },
  {
   "cell_type": "code",
   "execution_count": null,
   "id": "4b01d0eb",
   "metadata": {},
   "outputs": [],
   "source": [
    "# %pip install pygis"
   ]
  },
  {
   "cell_type": "markdown",
   "id": "26119247",
   "metadata": {},
   "source": [
    "The installation process may take 2-3 minutes. Once pygis has been installed successfully, click the **RESTART RUNTIME** button that appears at the end of the installation log or go to the **Runtime** menu and select **Restart runtime**. After that, you can start coding.\n",
    "\n",
    "To begin, import the necessary libraries that will be used in this chapter:"
   ]
  },
  {
   "cell_type": "code",
   "execution_count": null,
   "id": "743f26e9",
   "metadata": {},
   "outputs": [],
   "source": [
    "import ee\n",
    "import geemap"
   ]
  },
  {
   "cell_type": "markdown",
   "id": "d2ecaf9d",
   "metadata": {},
   "source": [
    "Initialize the Earth Engine Python API:"
   ]
  },
  {
   "cell_type": "code",
   "execution_count": null,
   "id": "3b30d866",
   "metadata": {},
   "outputs": [],
   "source": [
    "geemap.ee_initialize()"
   ]
  },
  {
   "cell_type": "markdown",
   "id": "bbc95c79",
   "metadata": {},
   "source": [
    "If this is your first time running the code above, you will need to authenticate Earth Engine first. Follow the instructions in {numref}`ch01-ee-auth` - _Earth Engine authentication_ to authenticate Earth Engine.\n",
    "\n",
    "## Plotting backends\n",
    "\n",
    "**Geemap** has five plotting backends, including [ipyleaflet](https://github.com/jupyter-widgets/ipyleaflet), [folium](https://python-visualization.github.io/folium), [plotly](https://plotly.com), [pydeck](https://deckgl.readthedocs.io/en/latest), and [kepler.gl](https://docs.kepler.gl/docs/keplergl-jupyter). An interactive map created using one of the plotting backends can be displayed in a Jupyter environment, such as Google Colab, Jupyter Notebook, and JupyterLab. By default, `import geemap` will use the ipyleaflet plotting backend.\n",
    "\n",
    "The five plotting backends supported by geemap do not offer equal functionality. The ipyleaflet plotting backend provides the richest interactive functionality, including the interactive Graphical User Interface (GUI) for loading, analyzing, and visualizing geospatial data interactively without coding. For example, users can add vector data (e.g., GeoJSON, Shapefile, KML, GeoDataFrame) and raster data (e.g., GeoTIFF, Cloud Optimized GeoTIFF [COG]) to the map with a few clicks. Users can also perform geospatial analysis using the WhiteboxTools GUI with 500+ geoprocessing tools directly within the map interface. Other interactive functionality (e.g., split-panel map, linked map, time slider, timeseries inspector) can also be useful for visualizing geospatial data. The ipyleaflet package is built upon ipywidgets and allows bidirectional communication between the frontend and the backend, enabling the use of the map to capture user input {cite}`QuantStack2019-bd`.\n",
    "\n",
    "In contrast, folium has relatively limited interactive functionality. It is meant for displaying static data only. It can be useful for developing interactive web apps when ipyleaflet is not supported. Note that the aforementioned interactive GUI is not available for other plotting backends. Geemap provides a unified API that makes it very easy to switch from one plotting backend to another. To choose a specific plotting backend, use one of the following:\n",
    "\n",
    "- `import geemap.geemap as geemap`\n",
    "- `import geemap.foliumap as geemap`\n",
    "- `import geemap.deck as geemap`\n",
    "- `import geemap.kepler as geemap`\n",
    "- `import geemap.plotlymap as geemap`\n",
    "\n",
    "### Ipyleaflet\n",
    "\n",
    "You can simply use `geemap.Map()` to create an interactive map with the default settings. First, let's import the `geemap` package:"
   ]
  },
  {
   "cell_type": "code",
   "execution_count": null,
   "id": "0b4f0291",
   "metadata": {},
   "outputs": [],
   "source": [
    "import geemap"
   ]
  },
  {
   "cell_type": "markdown",
   "id": "8ddb8f6b",
   "metadata": {},
   "source": [
    "Next, create an interactive map using the ipyleaflet plotting backend. The [geemap.Map](https://geemap.org/geemap/#geemap.geemap.Map) class inherits the [ipyleaflet.Map](https://ipyleaflet.readthedocs.io/en/latest/map_and_basemaps/map.html) class. Therefore, you can use the same syntax to create an interactive map as you would with `ipyleaflet.Map`."
   ]
  },
  {
   "cell_type": "code",
   "execution_count": null,
   "id": "39fce634",
   "metadata": {},
   "outputs": [],
   "source": [
    "Map = geemap.Map()"
   ]
  },
  {
   "cell_type": "markdown",
   "id": "40ba7ac6",
   "metadata": {},
   "source": [
    "This code creates a new map and assigns it to a new variable named `Map`. To display the map in a Jupyter notebook, simply type the variable name:"
   ]
  },
  {
   "cell_type": "code",
   "execution_count": null,
   "id": "d14d656d",
   "metadata": {},
   "outputs": [],
   "source": [
    "Map"
   ]
  },
  {
   "cell_type": "markdown",
   "id": "fcaea46d",
   "metadata": {},
   "source": [
    "Keep in mind that throughout this book, `Map` is commonly used to refer to the interactive map. It is just a variable name. You can use whatever name you want (e.g., `m`) as long as it complies with the following Python variable names rules:\n",
    "\n",
    "- A variable name must start with a letter or the underscore character\n",
    "- A variable name cannot start with a number\n",
    "- A variable name can only contain alphanumeric characters and underscores (A-z, 0-9, and \\_ )\n",
    "\n",
    "In general, a Python variable name should be lowercase. The reason we use `Map` rather than `m` is because in the Earth Engine JavaScript API, `Map` is a reserved keyword referring to the interactive map. We want to be consistent with the Earth Engine JavaScript API so that users can have an easier transition to geemap. Users are by no means required to use `Map` as the variable name for the interactive map.\n",
    "\n",
    "To customize the map, you can specify various keyword arguments, such as `center` ([lat, lon]), `zoom`, `width`, and `height`. The default `width` is `100%`, which takes up the entire cell width of the Jupyter notebook. The `height` argument accepts a number or a string. If a number is provided, it represents the height of the map in pixels. If a string is provided, the string must be in the format of a number followed by `px`, e.g., `600px`."
   ]
  },
  {
   "cell_type": "code",
   "execution_count": null,
   "id": "53b06e24",
   "metadata": {},
   "outputs": [],
   "source": [
    "Map = geemap.Map(center=[40, -100], zoom=4, height=600)\n",
    "Map"
   ]
  },
  {
   "cell_type": "markdown",
   "id": "d2587625",
   "metadata": {},
   "source": [
    "The default map comes with all the following controls (see {numref}`ch02_ipyleaflet`):\n",
    "\n",
    "- `attribution_ctrl`\n",
    "- `data_ctrl`\n",
    "- `draw_ctrl`\n",
    "- `fullscreen_ctrl`\n",
    "- `layer_ctrl`\n",
    "- `measure_ctrl`\n",
    "- `scale_ctrl`\n",
    "- `toolbar_ctrl`\n",
    "- `zoom_ctrl`\n",
    "\n",
    "```{figure} images/ch02_ipyleaflet.jpg\n",
    "---\n",
    "name: ch02_ipyleaflet\n",
    "width: 100%\n",
    "---\n",
    "A map created using the ipyleaflet plotting backend.\n",
    "```\n",
    "\n",
    "To hide a control, set `control_name` to `False`, e.g., `draw_ctrl=False`."
   ]
  },
  {
   "cell_type": "code",
   "execution_count": null,
   "id": "d45339db",
   "metadata": {},
   "outputs": [],
   "source": [
    "Map = geemap.Map(data_ctrl=False, toolbar_ctrl=False, draw_ctrl=False)\n",
    "Map"
   ]
  },
  {
   "cell_type": "markdown",
   "id": "5fc819b2",
   "metadata": {},
   "source": [
    "You can also set `lite_mode=True` to show only the Zoom Control."
   ]
  },
  {
   "cell_type": "code",
   "execution_count": null,
   "id": "60bf586d",
   "metadata": {},
   "outputs": [],
   "source": [
    "Map = geemap.Map(lite_mode=True)\n",
    "Map"
   ]
  },
  {
   "cell_type": "markdown",
   "id": "fe748479",
   "metadata": {},
   "source": [
    "To save the map as an HTML file you can call the `save` method:"
   ]
  },
  {
   "cell_type": "code",
   "execution_count": null,
   "id": "e95e33b1",
   "metadata": {},
   "outputs": [],
   "source": [
    "Map.save('ipyleaflet.html')"
   ]
  },
  {
   "cell_type": "markdown",
   "id": "32a1a290",
   "metadata": {},
   "source": [
    "### Folium\n",
    "\n",
    "To create an interactive map using the folium plotting backend, simply import the library as follows:"
   ]
  },
  {
   "cell_type": "code",
   "execution_count": null,
   "id": "48f51e69",
   "metadata": {},
   "outputs": [],
   "source": [
    "import geemap.foliumap as geemap"
   ]
  },
  {
   "cell_type": "markdown",
   "id": "7edae1d8",
   "metadata": {},
   "source": [
    "Then, you can use the same line of code to create and display an interactive map ({numref}`ch02_folium`) as you would with the ipyleaflet plotting backend introduced above."
   ]
  },
  {
   "cell_type": "code",
   "execution_count": null,
   "id": "7f02a2a6",
   "metadata": {},
   "outputs": [],
   "source": [
    "Map = geemap.Map(center=[40, -100], zoom=4, height=600)\n",
    "Map"
   ]
  },
  {
   "cell_type": "markdown",
   "id": "6808d4a4",
   "metadata": {},
   "source": [
    "```{figure} images/ch02_folium.jpg\n",
    "---\n",
    "name: ch02_folium\n",
    "width: 100%\n",
    "---\n",
    "A map created using the folium plotting backend.\n",
    "```\n",
    "\n",
    "Folium does not support bidirectional communication {cite}`QuantStack2019-bd`. Once the map is created and displayed in a notebook cell, you can't modify the map's properties, e.g., add/remove layers, add controls, change width/height. Also, the data and toolbar controls available in ipyleaflet (see {numref}`ch02_ipyleaflet`) are not supported in folium as folium does not support ipywidgets.\n",
    "\n",
    "To save the map as an HTML file we can call the `save` method:"
   ]
  },
  {
   "cell_type": "code",
   "execution_count": null,
   "id": "690a4f9f",
   "metadata": {},
   "outputs": [],
   "source": [
    "Map.save('folium.html')"
   ]
  },
  {
   "cell_type": "markdown",
   "id": "09514487",
   "metadata": {},
   "source": [
    "### Plotly\n",
    "\n",
    "To create an interactive map using the plotly plotting backend, simply import the library as follows:"
   ]
  },
  {
   "cell_type": "code",
   "execution_count": null,
   "id": "f9bb979a",
   "metadata": {},
   "outputs": [],
   "source": [
    "import geemap.plotlymap as geemap"
   ]
  },
  {
   "cell_type": "markdown",
   "id": "93952258",
   "metadata": {},
   "source": [
    "Then, create and display an interactive map ({numref}`ch02_plotly`)."
   ]
  },
  {
   "cell_type": "code",
   "execution_count": null,
   "id": "56ffdfea",
   "metadata": {},
   "outputs": [],
   "source": [
    "Map = geemap.Map()\n",
    "Map"
   ]
  },
  {
   "cell_type": "markdown",
   "id": "60f8df35",
   "metadata": {},
   "source": [
    "```{figure} images/ch02_plotly.jpg\n",
    "---\n",
    "name: ch02_plotly\n",
    "width: 100%\n",
    "---\n",
    "A map created using the plotly plotting backend.\n",
    "```\n",
    "\n",
    "Note that you might not see the map displayed in Colab as it does not yet support plotly FigureWidget. If you run into an error saying `FigureWidget - 'mapbox._derived' Value Error` (see [plotly issue 2570](https://github.com/plotly/plotly.py/issues/2570#issuecomment-738735816)), uncomment the following line and run it."
   ]
  },
  {
   "cell_type": "code",
   "execution_count": null,
   "id": "58f73e02",
   "metadata": {},
   "outputs": [],
   "source": [
    "# geemap.fix_widget_error()"
   ]
  },
  {
   "cell_type": "markdown",
   "id": "b56c5178",
   "metadata": {},
   "source": [
    "### Pydeck\n",
    "\n",
    "To create an interactive map using the pydeck plotting backend, simply import the library as follows:"
   ]
  },
  {
   "cell_type": "code",
   "execution_count": null,
   "id": "e8097cbe",
   "metadata": {},
   "outputs": [],
   "source": [
    "import geemap.deck as geemap"
   ]
  },
  {
   "cell_type": "markdown",
   "id": "1495190b",
   "metadata": {},
   "source": [
    "Then, create and display an interactive map ({numref}`ch02_pydeck`)."
   ]
  },
  {
   "cell_type": "code",
   "execution_count": null,
   "id": "a361e03b",
   "metadata": {},
   "outputs": [],
   "source": [
    "Map = geemap.Map()\n",
    "Map"
   ]
  },
  {
   "cell_type": "markdown",
   "id": "6743f99c",
   "metadata": {},
   "source": [
    "```{figure} images/ch02_pydeck.jpg\n",
    "---\n",
    "name: ch02_pydeck\n",
    "width: 100%\n",
    "---\n",
    "A map created using the pydeck plotting backend.\n",
    "```\n",
    "\n",
    "### KeplerGL\n",
    "\n",
    "To create an interactive map using the [kepler.gl](https://docs.kepler.gl/docs/keplergl-jupyter) plotting backend, simply import the library as follows:"
   ]
  },
  {
   "cell_type": "code",
   "execution_count": null,
   "id": "e32a0472",
   "metadata": {},
   "outputs": [],
   "source": [
    "import geemap.kepler as geemap"
   ]
  },
  {
   "cell_type": "markdown",
   "id": "df29dc2e",
   "metadata": {},
   "source": [
    "Then, create and display an interactive map ({numref}`ch02_kepler`)."
   ]
  },
  {
   "cell_type": "code",
   "execution_count": null,
   "id": "8055fff5",
   "metadata": {},
   "outputs": [],
   "source": [
    "Map = geemap.Map()\n",
    "Map"
   ]
  },
  {
   "cell_type": "markdown",
   "id": "830edd1b",
   "metadata": {},
   "source": [
    "```{figure} images/ch02_kepler.jpg\n",
    "---\n",
    "name: ch02_kepler\n",
    "width: 100%\n",
    "---\n",
    "A map created using the KeplerGL plotting backend.\n",
    "```\n",
    "\n",
    "## Adding basemaps\n",
    "\n",
    "There are several ways to add basemaps to a map. You can specify the basemap to use in the `basemap` keyword argument when creating the map with the `geemap.Map()` method. Alternatively, you can add basemap layers to the map using the `Map.add_basemap()` method. Geemap has hundreds of built-in basemaps available through [xyzservices](https://github.com/geopandas/xyzservices) that can be easily added to the map with only one line of code.\n",
    "\n",
    "### Built-in basemaps\n",
    "\n",
    "Let's try out some of the built-in basemaps. First, import the geemap library as follows:"
   ]
  },
  {
   "cell_type": "code",
   "execution_count": null,
   "id": "11fcba90",
   "metadata": {},
   "outputs": [],
   "source": [
    "import geemap"
   ]
  },
  {
   "cell_type": "markdown",
   "id": "59b31f3a",
   "metadata": {},
   "source": [
    "Next, create a map by specifying the basemap to use as follows. For example, the `HYBRID` basemap represents the Google Satellite Hybrid basemap ({numref}`ch02_basemap_hybrid`)."
   ]
  },
  {
   "cell_type": "code",
   "execution_count": null,
   "id": "097624e2",
   "metadata": {},
   "outputs": [],
   "source": [
    "Map = geemap.Map(basemap='HYBRID')\n",
    "Map"
   ]
  },
  {
   "cell_type": "markdown",
   "id": "b3bfac85",
   "metadata": {},
   "source": [
    "```{figure} images/ch02_basemap_hybrid.jpg\n",
    "---\n",
    "name: ch02_basemap_hybrid\n",
    "width: 100%\n",
    "---\n",
    "The Google Satellite Hybrid basemap.\n",
    "```\n",
    "\n",
    "You can add as many basemaps as you like to the map. For example, the following code adds the `OpenTopoMap` basemap to the map above ({numref}`ch02_basemap_opentopomap`):"
   ]
  },
  {
   "cell_type": "code",
   "execution_count": null,
   "id": "cc8e8877",
   "metadata": {},
   "outputs": [],
   "source": [
    "Map.add_basemap('OpenTopoMap')"
   ]
  },
  {
   "cell_type": "markdown",
   "id": "b9156b09",
   "metadata": {},
   "source": [
    "```{figure} images/ch02_basemap_opentopomap.jpg\n",
    "---\n",
    "name: ch02_basemap_opentopomap\n",
    "width: 100%\n",
    "---\n",
    "The OpenTopoMap basemap.\n",
    "\n",
    "```\n",
    "\n",
    "To find out the list of available basemaps:"
   ]
  },
  {
   "cell_type": "code",
   "execution_count": null,
   "id": "235ca6f5",
   "metadata": {},
   "outputs": [],
   "source": [
    "for basemap in geemap.basemaps.keys():\n",
    "    print(basemap)"
   ]
  },
  {
   "cell_type": "markdown",
   "id": "6c73162b",
   "metadata": {},
   "source": [
    "In total, there are 100+ basemaps available."
   ]
  },
  {
   "cell_type": "code",
   "execution_count": null,
   "id": "729b949a",
   "metadata": {},
   "outputs": [],
   "source": [
    "len(geemap.basemaps)"
   ]
  },
  {
   "cell_type": "markdown",
   "id": "6cde70ec",
   "metadata": {},
   "source": [
    "### XYZ tiles\n",
    "\n",
    "You can also add XYZ tile layers to the map using the `Map.add_tile_layer()` method. For example, the following code creates an interactive map and adds the Google Terrain basemap to it:"
   ]
  },
  {
   "cell_type": "code",
   "execution_count": null,
   "id": "8997f634",
   "metadata": {},
   "outputs": [],
   "source": [
    "Map = geemap.Map()\n",
    "Map.add_tile_layer(\n",
    "    url=\"https://mt1.google.com/vt/lyrs=p&x={x}&y={y}&z={z}\",\n",
    "    name=\"Google Terrain\",\n",
    "    attribution=\"Google\",\n",
    ")\n",
    "Map"
   ]
  },
  {
   "cell_type": "markdown",
   "id": "fa87328d",
   "metadata": {},
   "source": [
    "### WMS tiles\n",
    "\n",
    "Similarly, you can add WMS tile layers to the map using the `Map.add_wms_layer()` method. For example, the following code creates an interactive map and adds the National Land Cover Database (NLCD) 2019 basemap to it ({numref}`ch02_basemap_nlcd`):"
   ]
  },
  {
   "cell_type": "code",
   "execution_count": null,
   "id": "4b31b6fc",
   "metadata": {},
   "outputs": [],
   "source": [
    "Map = geemap.Map(center=[40, -100], zoom=4)\n",
    "url = 'https://www.mrlc.gov/geoserver/mrlc_display/NLCD_2019_Land_Cover_L48/wms?'\n",
    "Map.add_wms_layer(\n",
    "    url=url,\n",
    "    layers='NLCD_2019_Land_Cover_L48',\n",
    "    name='NLCD 2019',\n",
    "    format='image/png',\n",
    "    attribution='MRLC',\n",
    "    transparent=True,\n",
    ")\n",
    "Map"
   ]
  },
  {
   "cell_type": "markdown",
   "id": "f5d5c7c5",
   "metadata": {},
   "source": [
    "```{figure} images/ch02_basemap_nlcd.jpg\n",
    "---\n",
    "name: ch02_basemap_nlcd\n",
    "width: 100%\n",
    "---\n",
    "The National Land Cover Database (NLCD) 2019 basemap.\n",
    "```\n",
    "\n",
    "Want to find out more freely available WMS basemaps? Check out the [USGS National Map Services](https://apps.nationalmap.gov/services). Once you get a WMS URL, you can follow the example above to add it to the map.\n",
    "\n",
    "### Planet basemaps\n",
    "\n",
    "[Planet Labs](https://www.planet.com) provides high-resolution global satellite imagery with a high temporal frequency. The monthly and quarterly global basemaps can be streamed via the [XYZ Basemap Tile Service](https://developers.planet.com/docs/basemaps/tile-services/xyz) for use in web mapping applications or for visualization purposes. A valid [Planet account](https://developers.planet.com/docs/apis/data/#how-to-become-a-planet-developer) is required to access the Basemap Tile Service. Once you sign up for a Planet account, you can get your API key by navigating to the [Account Settings page](https://www.planet.com/account/#/user-settings) as shown in ({numref}`ch02_planet_api_key`).\n",
    "\n",
    "```{figure} images/ch02_planet_api_key.jpg\n",
    "---\n",
    "name: ch02_planet_api_key\n",
    "width: 100%\n",
    "---\n",
    "Planet account profile page.\n",
    "```\n",
    "\n",
    "Replace `YOUR_API_KEY` below with the API key copied from your Account Settings page shown above. You can create an environment variable called `PLANET_API_KEY` and set it to the API key so that you can access the basemap tiles without having to specify the API key every time."
   ]
  },
  {
   "cell_type": "code",
   "execution_count": null,
   "id": "d876dce7",
   "metadata": {},
   "outputs": [],
   "source": [
    "import os\n",
    "\n",
    "os.environ[\"PLANET_API_KEY\"] = \"YOUR_API_KEY\""
   ]
  },
  {
   "cell_type": "markdown",
   "id": "b13a7e94",
   "metadata": {},
   "source": [
    "First, let's look at the list of available quarterly basemaps. Planet has quarterly basemaps going back to the first quarter of 2016. The names of the quarterly basemaps are: `Planet_2016q1`, `Planet_2016q2`, ..., `Planet_2022q1`, and so on."
   ]
  },
  {
   "cell_type": "code",
   "execution_count": null,
   "id": "9a6bd67b",
   "metadata": {},
   "outputs": [],
   "source": [
    "quarterly_tiles = geemap.planet_quarterly_tiles()\n",
    "for tile in quarterly_tiles:\n",
    "    print(tile)"
   ]
  },
  {
   "cell_type": "markdown",
   "id": "e417fcaa",
   "metadata": {},
   "source": [
    "Next, let's look at the list of available monthly basemaps. Planet has monthly basemaps going back to January 2016. The names of the monthly basemaps are: `Planet_2016_01`, `Planet_2016_02`, ..., `Planet_2022_04`, and so on."
   ]
  },
  {
   "cell_type": "code",
   "execution_count": null,
   "id": "cb6caa7a",
   "metadata": {},
   "outputs": [],
   "source": [
    "monthly_tiles = geemap.planet_monthly_tiles()\n",
    "for tile in monthly_tiles:\n",
    "    print(tile)"
   ]
  },
  {
   "cell_type": "markdown",
   "id": "3e3ab2cd",
   "metadata": {},
   "source": [
    "To add a monthly basemap to the map, use the `Map.add_planet_by_month()` method as follows:"
   ]
  },
  {
   "cell_type": "code",
   "execution_count": null,
   "id": "a91f2fe8",
   "metadata": {},
   "outputs": [],
   "source": [
    "Map = geemap.Map()\n",
    "Map.add_planet_by_month(year=2020, month=8)\n",
    "Map"
   ]
  },
  {
   "cell_type": "markdown",
   "id": "98346029",
   "metadata": {},
   "source": [
    "To add a quarterly basemap to the map, use the `Map.add_planet_by_quarter()` method as follows:"
   ]
  },
  {
   "cell_type": "code",
   "execution_count": null,
   "id": "7a3e13a1",
   "metadata": {},
   "outputs": [],
   "source": [
    "Map = geemap.Map()\n",
    "Map.add_planet_by_quarter(year=2019, quarter=2)\n",
    "Map"
   ]
  },
  {
   "cell_type": "markdown",
   "id": "d1891263",
   "metadata": {},
   "source": [
    "The map should look like {numref}`ch02_basemap_planet`.\n",
    "\n",
    "```{figure} images/ch02_basemap_planet.jpg\n",
    "---\n",
    "name: ch02_basemap_planet\n",
    "width: 100%\n",
    "---\n",
    "The Planet quarterly basemap for second quarter of 2019.\n",
    "\n",
    "```\n",
    "\n",
    "### Basemap GUI\n",
    "\n",
    "Geemap makes it easy for users to add basemaps to their maps without having to write any code. By clicking the \"map\" icon on the toolbar, the basemap GUI is activated ({numref}`ch02_basemap_gui`). Simply click the dropdown menu to select the basemap that you want to add. Additionally, if you have created an environment variable called `PLANET_API_KEY` and set it to your Planet API key, the Planet basemaps will also be available to select from the dropdown menu.\n",
    "\n",
    "To set the Planet API key, use the following code:"
   ]
  },
  {
   "cell_type": "code",
   "execution_count": null,
   "id": "8d884208",
   "metadata": {},
   "outputs": [],
   "source": [
    "import os\n",
    "\n",
    "os.environ[\"PLANET_API_KEY\"] = \"YOUR_API_KEY\""
   ]
  },
  {
   "cell_type": "markdown",
   "id": "e46c4cc9",
   "metadata": {},
   "source": [
    "Then the Planet basemaps will be available via the basemap dropdown menu."
   ]
  },
  {
   "cell_type": "code",
   "execution_count": null,
   "id": "8341f8ec",
   "metadata": {},
   "outputs": [],
   "source": [
    "Map = geemap.Map()\n",
    "Map"
   ]
  },
  {
   "cell_type": "markdown",
   "id": "8db7abd9",
   "metadata": {},
   "source": [
    "```{figure} images/ch02_basemap_gui.jpg\n",
    "---\n",
    "name: ch02_basemap_gui\n",
    "width: 100%\n",
    "\n",
    "---\n",
    "The basemap GUI for changing basemaps interactively without coding.\n",
    "```\n",
    "\n",
    "## Summary\n",
    "\n",
    "In this chapter, we began by introducing the fundamentals of Jupyter notebooks. We then provided hands-on examples of using the five geemap plotting backends to create interactive maps. Additionally, we explored how to incorporate various basemap layers, such as built-in basemaps, XYZ tiles, WMS tiles, and Planet basemaps, into our maps.\n",
    "\n",
    "By now, you should be proficient in using Jupyter notebook to generate interactive maps and switch between various basemaps seamlessly. That concludes this chapter. In the next chapter, we will delve into Google Earth Engine data."
   ]
  }
 ],
 "metadata": {
  "jupytext": {
   "text_representation": {
    "extension": ".md",
    "format_name": "myst",
    "format_version": 0.13,
    "jupytext_version": "1.11.5"
   }
  },
  "kernelspec": {
   "display_name": "Python 3",
   "language": "python",
   "name": "python3"
  },
  "source_map": [
   12,
   50,
   52,
   58,
   61,
   65,
   67,
   89,
   91,
   95,
   97,
   101,
   103,
   115,
   118,
   142,
   145,
   149,
   152,
   156,
   158,
   164,
   166,
   170,
   173,
   187,
   189,
   195,
   197,
   201,
   204,
   216,
   218,
   224,
   226,
   230,
   233,
   247,
   249,
   253,
   256,
   274,
   276,
   280,
   283,
   295,
   297,
   310,
   313,
   317,
   319,
   325,
   333,
   339,
   351,
   377,
   381,
   385,
   389,
   393,
   397,
   401,
   405,
   409,
   413,
   432,
   436,
   440,
   443
  ]
 },
 "nbformat": 4,
 "nbformat_minor": 5
}