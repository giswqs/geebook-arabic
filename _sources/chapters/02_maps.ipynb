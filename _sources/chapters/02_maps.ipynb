{
 "cells": [
  {
   "cell_type": "markdown",
   "id": "d4f9c294",
   "metadata": {},
   "source": [
    "# خلق الخارطة التفاعليه Interactive Map\n",
    "\n",
    "```{contents}\n",
    ":local:\n",
    ":depth: 2\n",
    "```\n",
    "\n",
    "## 1. مدخل إلى الخارطة التفاعلية:\n",
    "بعد تمثيل البيانات المكانية  واحدة من اهم مميزات البرامج و التطبيقات الكفؤة, و يعرف تمثيل البيانات على أنه ترجمة المعلومات الرقمية و النصية إلى أشكال تمكن العقل البشري من فهما بسهولة و يسر و لاستخراج الأفكار و النماذج المشتركة. هناك الكثير من الصيغ التي يكمن من خلالها تمثيل البيانات منا المخططات, الرسوم البيانية, و الخرائط. و هناك الكثير من المميزات التي يجب يتمتع بها التمثيل للبيانات في الصيغة المطلوبة. حيث يجب أن تكون الصيغة التي مُثلت بها البيانات بسيطة و سهلة خاليه من التعقيد, و أن تطابق نوع البيانات, و أن تكون لها القابلية توضيح النقاط الجوهرية التي يهدف إليها المصمم. و على الرغم من وجود الكثير من البرامج و التطبيقات التي تساعد على تمثيل البيانات المكانية إلا أنها تعد مهمه ليست بالسهلة إلى حد ما, لما تحتويه من عناصر رقمية يجب إسقاطها طبقة التمثيل بدقة و التي تمثل موقع تلك المعلومات على سطح الأرض. \n",
    "\n",
    "تعتبر الخرائط من أهم الصيغ التي يحتاجها العاملون في مجال نظم المعلومات الجغرافية و الاستشعار عن بعد و كذلك بقية الحقول المعرفية لتمثيل البيانات و تحديد موقع الظواهر في موقعها الحقيقي. تمثل الخرائط طريقة سهله لتمثيل البيانات الرقمية التي تحمل إحداثيات مطابقة للواقع المكاني و تمكن من تصديرها على شكل صور, PDF, KML, أو غيرها من الصيغ, و يسمى هذا النوع من الخرائط بالخرائط الثابتة (static maps). على الرغم من ذلك هناك بعض محددات في إصدار خرائط  باستخدام الخرائط الثابتة بشكل يتلائم مع الغرض أحيانا. من هذه المحددات منها عدم إمكانية تحديد مساحات كبيره, و لا يمكن إظهار ديناميكية التفاعل مع صيغة البيانات مثل تتبع التغيرات عبر الزمن أو الارتباطات. و المهم أنها لا تستطيع إظهار مستويات مختلفة من البيانات. و من الخلال الخرائط الثابتة لا يستطيع المستخدم من تخصيص أو فلترة البيانات حسب احتياجه و بشكل ديناميكي. و لا يمكن خلالها التركيز على القيم المتطرفة أو الشذوذ أو تحديد القيم الغير واضحة.\n",
    "\n",
    "و لأجل معالجة جميع هذه المشاكل تم طرح الخارطة التفاعلية و كذلك ربطها بقاعدة ضخمة من البيانات و التي تكون جاهزة للمستخدم مما يتيح بناء تطبيق و استخدامها و اكتشاف حقول جديدة من خلال أتاحتها إلى جميع الباحثين حول العالم. \n",
    "الخارطة التفاعلية هي تطبيق يسمح باستعراض البيانات على متصفح الويب. تمكن الخارطة التفاعلية المستخدم من تمثيل البيانات على شكل طبقات يستطيع المستخدم تخصيصها و إدارتها بشكل مرن. من خلال الخارطة التفاعلية من زيادة و تصغير حجم مساحة التمثيل مما يتيح له الكشف عن العناصر المشتركة و الأنماط و قياس تأثير الظواهر في مديات مختلفة. أضافة الى ذلك أمكانية أضافة تطبيقات مباشرة على البيانات  من خلال بعض النوافذ و التلميحات و التي تعتبر أدوات إضافية يتحكم بها المستخدم.\n",
    "\n",
    "هناك الكثير من المميزات التي تجعل من الخارطة التفاعلية أكثر استخداما من غيرها منها:\n",
    "\n",
    "•\tالمشاركة مع المستخدمين: عند العمل كفريق في مشروع ما فأن الخارطة التفاعلية تتيح للمستخدم أمكانية المشاركة مع الفريق و بالتالي تكامل إخراج المشروع و البيانات من قبل أكثر من وجه نظر.\n",
    "•\tتغيير حجم الخارطة مساحة أنتشار البيانات في مستويات متعددة على الشاشة.\n",
    "•\tتصوير البيانات على شكل طبقات قابلة للتعديل على الشاشة و التي تمثل أحيانا البيانات لفترات زمنية مختلفة مما يتيح تتبع التغيرات عبر الزمن.\n",
    "\n",
    "\n",
    "\n",
    "## 2. المتطلبات التقنية\n",
    "كما اسلفنا في الفصل الأول فان العمل على الخارطة التفاعلية يحتاج إلى بعض من المكتب التي يجب ان يتم استيرادها للعمل على البيانات المكانية. و تتطلب هذه المكتبات  بعض أدارة لبيئة conda و تثبيت بعض الحزم الضرورية و طلب تصريح العمل على بيانات Google Earth Engine. و يأتي ملخص الخطوات التقنية التي تسبق العمل على الخارطة التفاعلية بما يلي:\n",
    "\n",
    "```bash\n",
    "conda create -n gee python\n",
    "conda activate gee\n",
    "conda install -c conda-forge mamba\n",
    "mamba install -c conda-forge pygis\n",
    "```\n",
    "\n",
    "```bash\n",
    "jupyter lab\n",
    "```"
   ]
  },
  {
   "cell_type": "code",
   "execution_count": null,
   "id": "3c9ac0b0",
   "metadata": {},
   "outputs": [],
   "source": [
    "# %pip install pygis"
   ]
  },
  {
   "cell_type": "code",
   "execution_count": null,
   "id": "990f1838",
   "metadata": {},
   "outputs": [],
   "source": [
    "import ee\n",
    "import geemap"
   ]
  },
  {
   "cell_type": "code",
   "execution_count": null,
   "id": "cafda827",
   "metadata": {},
   "outputs": [],
   "source": [
    "geemap.ee_initialize()"
   ]
  },
  {
   "cell_type": "markdown",
   "id": "fe5d2c39",
   "metadata": {},
   "source": [
    "## 3. رسم القاعدة الخلفية (Plotting back-ends)\n",
    "\n",
    "يتطلب رسم الخرائط إنشاء القاعدة الأساسية التي سوف يتم رسم الخارطة الأساس عليها و التي تحتوي على دوال تقوم بعملية إسقاط المعلومات في موقعها الحقيقي على السطح بشكل رقمي على الخارطة يتناسب حسب مقياس الرسم المعتمد. و التي تمكن المستخدم من تمثيل البيانات المكانية  بسهوله و يسر. هناك العديد من المكتبات التي تساعد في عمل الهيكل الأساس الذي يستعمل في **geemap**\n",
    "### 3.1 رسم قاعدة خلفية بأستخدام\tIpyleaflet"
   ]
  },
  {
   "cell_type": "code",
   "execution_count": null,
   "id": "119aa500",
   "metadata": {},
   "outputs": [],
   "source": [
    "import geemap"
   ]
  },
  {
   "cell_type": "code",
   "execution_count": null,
   "id": "9cd8e1e7",
   "metadata": {},
   "outputs": [],
   "source": [
    "Map = geemap.Map()  # الطريقة الاعتيادية و التي تأخذ المدخلات الافتراضية"
   ]
  },
  {
   "cell_type": "code",
   "execution_count": null,
   "id": "8d60e73c",
   "metadata": {},
   "outputs": [],
   "source": [
    "Map"
   ]
  },
  {
   "cell_type": "code",
   "execution_count": null,
   "id": "9016bc55",
   "metadata": {},
   "outputs": [],
   "source": [
    "Map = geemap.Map(center=[40, -100], zoom=4, height=600)  #تحديد حجم و ارتفاع الخارطة و مرك أو إحداثي المنطقة المراد استعراضها\n",
    "Map"
   ]
  },
  {
   "cell_type": "code",
   "execution_count": null,
   "id": "4f842345",
   "metadata": {},
   "outputs": [],
   "source": [
    "Map = geemap.Map(data_ctrl=False, toolbar_ctrl=False, draw_ctrl=False) #في حالة إضافة أشرطة الأدوات الخاصة بالبيانات و تغيير المساحة إلى الخارطة \n",
    "Map"
   ]
  },
  {
   "cell_type": "code",
   "execution_count": null,
   "id": "2381dfb0",
   "metadata": {},
   "outputs": [],
   "source": [
    "Map = geemap.Map(lite_mode=True)\n",
    "Map"
   ]
  },
  {
   "cell_type": "code",
   "execution_count": null,
   "id": "b38ef5ab",
   "metadata": {},
   "outputs": [],
   "source": [
    "Map.save('ipyleaflet.html')"
   ]
  },
  {
   "cell_type": "markdown",
   "id": "a706c27b",
   "metadata": {},
   "source": [
    "### 3.2 رسم قاعدة خلفية بأستخدام Foluim\n",
    "استخدام مكتبة **folium** مع الإعدادات الافتراضية و تحديد إحداثيات المركز و المساحة و المدى للخارطة. و تلاحظ أنها تختلف عن Ipyleaflet في عدد الأدوات المتاحة و كذلك محدودية البحث عن موقع معين."
   ]
  },
  {
   "cell_type": "code",
   "execution_count": null,
   "id": "d3bd4be3",
   "metadata": {},
   "outputs": [],
   "source": [
    "import geemap.foliumap as geemap\n",
    "Map = geemap.Map(center=[40, -100], zoom=4, height=600) \n",
    "Map"
   ]
  },
  {
   "cell_type": "code",
   "execution_count": null,
   "id": "3246255f",
   "metadata": {},
   "outputs": [],
   "source": [
    "Map.save('folium.html')"
   ]
  },
  {
   "cell_type": "markdown",
   "id": "1183e225",
   "metadata": {},
   "source": [
    "### 3.3 رسم قاعدة خلفية بأستخدام Plotly\n",
    "تلاحظ أن **plotly** تتيح للمستخدم إمكانية رسم مخطط للبيانات للمنطقة المحددة و ضمن الطبقة المطلوبة, كذلك المباشرة بعملية تحميل المخطط"
   ]
  },
  {
   "cell_type": "code",
   "execution_count": null,
   "id": "1efd657f",
   "metadata": {},
   "outputs": [],
   "source": [
    "import geemap.plotlymap as geemap"
   ]
  },
  {
   "cell_type": "code",
   "execution_count": null,
   "id": "32479c67",
   "metadata": {},
   "outputs": [],
   "source": [
    "Map = geemap.Map()\n",
    "Map"
   ]
  },
  {
   "cell_type": "code",
   "execution_count": null,
   "id": "2ecea543",
   "metadata": {},
   "outputs": [],
   "source": [
    "# geemap.fix_widget_error()"
   ]
  },
  {
   "cell_type": "markdown",
   "id": "220e7df9",
   "metadata": {},
   "source": [
    "### 3.4 رسم قاعدة خلفية بأستخدام Pydeck\n",
    "تقوم pydeck باستعراض الطبقات على الخارطة الأساس CARTO, OpenStreetMap contributors."
   ]
  },
  {
   "cell_type": "code",
   "execution_count": null,
   "id": "fd480905",
   "metadata": {},
   "outputs": [],
   "source": [
    "import geemap.deck as geemap\n",
    "Map = geemap.Map()\n",
    "Map"
   ]
  },
  {
   "cell_type": "markdown",
   "id": "e308018c",
   "metadata": {},
   "source": [
    "مع ملاحظه أنها تحتاج إلى تنصيب في بعض الأحيان و لأجل ذلك يجب أن تنفذ الإيعاز التالي:"
   ]
  },
  {
   "cell_type": "code",
   "execution_count": null,
   "id": "f4f91d6a",
   "metadata": {},
   "outputs": [],
   "source": [
    "!pip install pydeck"
   ]
  },
  {
   "cell_type": "markdown",
   "id": "615032b3",
   "metadata": {},
   "source": [
    "### 3.5 رسم قاعدة خلفية بأستخدام KeplerGL\n",
    "على الرغم من أن kepler ملحقة بـgeemap إلا إنها تحتاج إلى تنصيب مستقل و لأجل ذلك قم بتنفيذ الإيعاز الأخير."
   ]
  },
  {
   "cell_type": "code",
   "execution_count": null,
   "id": "49059802",
   "metadata": {},
   "outputs": [],
   "source": [
    "import geemap.kepler as geemap\n",
    "Map = geemap.Map()\n",
    "Map"
   ]
  },
  {
   "cell_type": "code",
   "execution_count": null,
   "id": "3fe3f7cb",
   "metadata": {},
   "outputs": [],
   "source": [
    "!pip install kepler"
   ]
  },
  {
   "cell_type": "markdown",
   "id": "889b018b",
   "metadata": {},
   "source": [
    "## 4.\tإضافة الخارطة الأساس basemap\n",
    "الخارطة الأساس هي طبقة من المعلومات الجغرافية التي تعتبر أرضية متكونة من سياق يقوم بأسقاط البيانات المكانية إعتماداً على إشارات مرجعية مكانية لسمات ثابتة لا تتغير مثل الأنهار, الحدود, و الطرق, و غيرها. و تصنف الخرائط الأساس إلى خمس أنواع و التي يمكن إدراجها و حسب الإيعازات المشار إليها أدناه في كل نقطة.\n",
    "\n",
    "\n",
    "### 4.1 أضافة خرائط اساس نوع Built-in\n",
    "هناك حوالي 411  نوع من الخرائط الأساس التي تعتبر ضمنيه في **geemap** و الشائع منها هي  **OpenStreetMap, **ROADMAP**, **SATELLITE**, **TERRAIN**, **HYBRID**."
   ]
  },
  {
   "cell_type": "code",
   "execution_count": null,
   "id": "fbd7bc11",
   "metadata": {},
   "outputs": [],
   "source": [
    "import geemap\n",
    "\n",
    "Map = geemap.Map(basemap='HYBRID') # HYBRID   إدراج خارطة أساس \n",
    "Map"
   ]
  },
  {
   "cell_type": "markdown",
   "id": "96e5aab9",
   "metadata": {},
   "source": [
    "في حال تغيير نوع الخارطة الأساس و في هذا المثال تم تغيير الخراطة الأساس إلى OpenTopoMap"
   ]
  },
  {
   "cell_type": "code",
   "execution_count": null,
   "id": "acc593ae",
   "metadata": {},
   "outputs": [],
   "source": [
    "Map.add_basemap('OpenTopoMap')"
   ]
  },
  {
   "cell_type": "markdown",
   "id": "5f60aeff",
   "metadata": {},
   "source": [
    "و لغرض طباعة أسماء خرائط الأساس (built-in basemaps) الموجودة ضمن    **geemap**"
   ]
  },
  {
   "cell_type": "code",
   "execution_count": null,
   "id": "0f0086c5",
   "metadata": {},
   "outputs": [],
   "source": [
    "for basemap in geemap.basemaps.keys():\n",
    "    print(basemap)"
   ]
  },
  {
   "cell_type": "markdown",
   "id": "35d2a93e",
   "metadata": {},
   "source": [
    "لأجل معرفة عدد الخرائط الأساس في **geemap** بعد التحديث قم بتنفيذ الإيعاز التالي:"
   ]
  },
  {
   "cell_type": "code",
   "execution_count": null,
   "id": "0cee2c90",
   "metadata": {},
   "outputs": [],
   "source": [
    "len(geemap.basemaps)"
   ]
  },
  {
   "cell_type": "markdown",
   "id": "cce029a8",
   "metadata": {},
   "source": [
    "### 4.2 إضافة الخارطة الأساس XYZ tiles\n",
    "هناك نوع من الخرائط الأساس لا يوجد في ضمن geemap بل يتم استيراده من مصدر خارجي و هو عباره عن برتوكول يقوم بعملية إرجاع جغرافي لتشكيلات ثابته يتم تحديدها من قبل المستخدم. تعتبر XYZ tiles واحدة من هذه الأنواع و التي يتم تحميلها من رابط معين و تضاف كطبقة إلى القاعدة الخلفية. في الخطوات التالية يتم إضافة الخارطة الأساس XYZ tiles إلى الخارطة."
   ]
  },
  {
   "cell_type": "code",
   "execution_count": null,
   "id": "bf21ddd4",
   "metadata": {},
   "outputs": [],
   "source": [
    "Map = geemap.Map()\n",
    "Map.add_tile_layer(\n",
    "    url=\"https://mt1.google.com/vt/lyrs=p&x={x}&y={y}&z={z}\",\n",
    "    name=\"Google Terrain\",\n",
    "    attribution=\"Google\",\n",
    ")\n",
    "Map"
   ]
  },
  {
   "cell_type": "markdown",
   "id": "64e25b4b",
   "metadata": {},
   "source": [
    "###  4.3 إضافة الخارطة الأساس WMS tiles\n",
    "تزود هذه الخارطة من قبل المجموعة الاتحادية استخراج خصائص الأرض من صور عالية الدقة, و التي هي عباره عن جمعية مشـــتركه لأكثر من دوله وظيفتها تحليل الغطاء الأرضــــي على مســــــتوى العالم (Global Scale). للمزيد الرابط التالي         [Multi-Resolution Land Characteristics (MRLC) Consortium](https://www.mrlc.gov/).\n",
    "قم بتنفيذ الخطوات التالية لأجل استيراد خارطة أساس WMS tiles:"
   ]
  },
  {
   "cell_type": "code",
   "execution_count": null,
   "id": "57ef6286",
   "metadata": {},
   "outputs": [],
   "source": [
    "Map = geemap.Map(center=[40, -100], zoom=4)\n",
    "url = 'https://www.mrlc.gov/geoserver/mrlc_display/NLCD_2019_Land_Cover_L48/wms?'\n",
    "Map.add_wms_layer(\n",
    "    url=url,\n",
    "    layers='NLCD_2019_Land_Cover_L48',\n",
    "    name='NLCD 2019',\n",
    "    format='image/png',\n",
    "    attribution='MRLC',\n",
    "    transparent=True,\n",
    ")\n",
    "Map"
   ]
  },
  {
   "cell_type": "markdown",
   "id": "035a6acc",
   "metadata": {},
   "source": [
    "### 4.4 إضافة الخارطة الأساس Planet basemaps\n",
    "\n",
    "تعتبر Planet Basemaps واحدة من اهم الخرائط الأساس التي تزود التغيرات في الغطاء النباتي على مدار السنه منذ العام 2016 . لقد قام فريق من المطورين متخصص في مجال نظم المعلومات الجغرافية ببناء هذه الخارطة الأساس و بالاستفادة من البرامج المتطورة التي تعمل على دمج صور الأقمار الصناعية على مستوى العالم و استخلاص الموزاييك الأرضي و على مديات زمنيه تتقارب لفترات ثلاثة هي شهريه, ربع سنوية, و سنوية. تزود Planet basemaps المستخدمين بالقدرة على الحصول على رؤية دقيقه لمساحات واسعة و كذلك التحليل الزمني لفترات معينه مما يتيح إمكانيه تتبع التغيرات و التنبؤ بمستقبل التنوع السطحي للبيئة.\n",
    "`ملاحظه: لأجل استخدام Planet basemaps يجب عليك تغيير مفتاح بيئة العمل و الذي يكون ضمن نظام التشغيل الخاص بـ conda.`"
   ]
  },
  {
   "cell_type": "code",
   "execution_count": null,
   "id": "279c8560",
   "metadata": {},
   "outputs": [],
   "source": [
    "import os\n",
    "\n",
    "os.environ[\"PLANET_API_KEY\"] = \"YOUR_API_KEY\"  #  هنا يمكن تغير مفتاح الدخول الى بيئة العمل على الخارطة الاساس"
   ]
  },
  {
   "cell_type": "code",
   "execution_count": null,
   "id": "9e5a4c6b",
   "metadata": {},
   "outputs": [],
   "source": [
    "quarterly_tiles = geemap.planet_quarterly_tiles()   # هذه الخطوات تمكن من استعراض البيانات للقواعد الأساس حسب الربع السنوي\n",
    "for tile in quarterly_tiles:\n",
    "    print(tile)"
   ]
  },
  {
   "cell_type": "code",
   "execution_count": null,
   "id": "1f4632c2",
   "metadata": {},
   "outputs": [],
   "source": [
    "monthly_tiles = geemap.planet_monthly_tiles()  #  هذه الخطوات تمكن من استعراض البيانات للقواعد الأساس شهريا\n",
    "for tile in monthly_tiles:\n",
    "    print(tile)"
   ]
  },
  {
   "cell_type": "code",
   "execution_count": null,
   "id": "52557867",
   "metadata": {},
   "outputs": [],
   "source": [
    "Map = geemap.Map()\n",
    "Map.add_planet_by_month(year=2020, month=8)  # لأجل إضافة خارطة أساس على المدى الشهري و المحدد للشهر الثامن لعام 2020 كما في هذا المثال\n",
    "Map"
   ]
  },
  {
   "cell_type": "code",
   "execution_count": null,
   "id": "e24c59be",
   "metadata": {},
   "outputs": [],
   "source": [
    "Map = geemap.Map()\n",
    "Map.add_planet_by_quarter(year=2019, quarter=2)  # لأجل إضافة خارطة أساس على المدى الربع سنوي و المحدد لربع السنه الثاني لعام  2019 كما في هذا المثال\n",
    "Map"
   ]
  },
  {
   "cell_type": "markdown",
   "id": "199dee03",
   "metadata": {},
   "source": [
    "### 4.5 إضافة الخارطة الأساس Basemap GUI"
   ]
  },
  {
   "cell_type": "code",
   "execution_count": null,
   "id": "5cc2160d",
   "metadata": {},
   "outputs": [],
   "source": [
    "import os\n",
    "\n",
    "os.environ[\"PLANET_API_KEY\"] = \"YOUR_API_KEY\"  # تغيير المفتاح"
   ]
  },
  {
   "cell_type": "code",
   "execution_count": null,
   "id": "c1df2d25",
   "metadata": {},
   "outputs": [],
   "source": [
    "Map = geemap.Map()  # أضافة الخارطه\n",
    "Map"
   ]
  },
  {
   "cell_type": "markdown",
   "id": "cdd68241",
   "metadata": {},
   "source": [
    "## الخلاصة\n",
    "الخارطة التفاعلية هي تطبيق يسمح باستعراض البيانات على متصفح الويب. لاجل خلق خارطة تفاعليه هناك عدد من المتطلبات التقنية التي يجب تحضيرها للعمل. و كذلك يجب تحديد نوع القاعدة الخلفية التي سوف يتم رسم الخارطه الاساس عليها و كذلك بقية الطبقات للبيانات المكانية. تحتوي القاعده الخلفيه على عدد من الادوات و التلميحات التي تمكن المستخدم من العمل بشكل مباشر على استخدام تطبيقات جاهزه تجعل من العمل مرن و سهل في التبادل مع الواجهة و مصدر البيانات. و جميع ما تم تنفيذه في الفصل هذا هو واجهه للخارطة التفاعلية."
   ]
  }
 ],
 "metadata": {
  "jupytext": {
   "text_representation": {
    "extension": ".md",
    "format_name": "myst",
    "format_version": 0.13,
    "jupytext_version": "1.11.5"
   }
  },
  "kernelspec": {
   "display_name": "Python 3",
   "language": "python",
   "name": "python3"
  },
  "source_map": [
   12,
   51,
   55,
   60,
   62,
   71,
   75,
   79,
   83,
   88,
   93,
   98,
   100,
   107,
   113,
   115,
   120,
   124,
   129,
   131,
   137,
   141,
   144,
   146,
   150,
   155,
   157,
   166,
   171,
   173,
   175,
   177,
   180,
   183,
   185,
   191,
   199,
   206,
   218,
   225,
   231,
   237,
   243,
   249,
   253,
   257,
   263,
   266
  ]
 },
 "nbformat": 4,
 "nbformat_minor": 5
}