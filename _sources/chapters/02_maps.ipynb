{
 "cells": [
  {
   "cell_type": "markdown",
   "id": "b5565059",
   "metadata": {},
   "source": [
    "(chapter02)=\n",
    "\n",
    "# خلق خارطة تفاعلية\n",
    "\n",
    "```{contents}\n",
    ":local:\n",
    ":depth: 2\n",
    "```\n",
    "\n",
    "## مدخل\n",
    "هناك العديد من الحزم و المكتبات التي تتعامل مع رسم الخرائط تفاعلية او تحليل المعلومات الجيومكانية {cite}`Wu2021-iv`. على الرغم من ذلك, كل حزمه لها وجه تطبيق(API) خاصه لخلق الخرائط و استعراض البيانات, و التي قد تكون صعبة على المبتدئين للتصفح. ان geemap تبسط العملية من خلال واجهه تطبيقية (API) تجمع بين خلق الخارطه التفاعلية و أستعراض البيانات, و كذلك تمكين المستخدمن من رسم خلفية الخارطة بسطر برمجي واحد. \n",
    "\n",
    "من خلال هذا الفصل, سوف تتعرف على كيفية خلق الخارطة التفاعلية بأستخدام واحدة من خمس طرق لرسم خلفيات الخرائط. كذلك, سوف نعطيك بعض الامثلة التطبيقية حول كيفية اضافة و اختيار الخارطة الاساس الى الخارطة من بين المئات من خرائط الاساس الموجوده و باستخدام ايعاز واحد.\n",
    "\n",
    "\n",
    "(chapter02:requirements)=\n",
    "\n",
    "## المتطلبات التقنية\n",
    "للسير في هذا الفصل, يجب ان قمت بتثبيت geemap مع الملحقات الاضافية لها. و اذا قت بأتباع الخطوات التاليه في الشكل \n",
    "كما اسلفنا في الفصل الأول فان العمل على الخارطة التفاعلية يحتاج إلى بعض من المكتب التي يجب ان يتم استيرادها للعمل على البيانات المكانية. و تتطلب هذه المكتبات  بعض أدارة لبيئة conda و تثبيت بعض الحزم الضرورية و طلب تصريح العمل على بيانات Google Earth Engine. و يأتي ملخص الخطوات التقنية التي تسبق العمل على الخارطة التفاعلية بما يلي {numref}`ch01:install` - باسم _Installing geemap_, و بالضروره ان تكون قد قمت بعملية بية conda مع الحزم الضرورية. عدى ذلك يمكن خلق بيئة جديدة من conda و تنصيب [pygis](https://pygis.gishub.org) بواسطة الايعازات التالية, و التي تقوم بتنصيب geemap و جميع متطلباتها:\n",
    "\n",
    "```bash\n",
    "conda create -n gee python\n",
    "conda activate gee\n",
    "conda install -c conda-forge mamba\n",
    "mamba install -c conda-forge pygis\n",
    "```\n",
    "ثانيا, اطلاق Jupyter من خلال الايعاز التالي في terminal او Anaconda prompt:\n",
    "\n",
    "```bash\n",
    "jupyter lab\n",
    "```\n",
    "او من خلال استخدام geemap في البيئة السحابية Google Colab بدون الحاجة الى تنصيب اي حزم على الكومبيوتر الخاص بيك. أضغط على [02_maps.ipynb](https://colab.research.google.com/github/giswqs/geebook/blob/master/chapters/02_maps.ipynb) لكي يتم اطلاق اطلاق Google Colab.\n",
    "\n",
    "حال اطلاق Colab, يمكنك رفع التعليق من الايعاز التالي و تنفيذه لكي تتمكن من تنصيب pygis, و التي تتضمن geemap و جميع الملحقات الضمنية فيها:"
   ]
  },
  {
   "cell_type": "code",
   "execution_count": null,
   "id": "e88a353b",
   "metadata": {},
   "outputs": [],
   "source": [
    "# %pip install pygis"
   ]
  },
  {
   "cell_type": "markdown",
   "id": "1d2c5a46",
   "metadata": {},
   "source": [
    "أن عملية التنصيب تأخذ اكثر من 2-3 دقائق. و حال تم تصيب pygis, أضغط على زر **RESTART RUNTIME** الذي يظهر أخر خطوه تنصيب أو قائمة **Runtime** ثم اختيار  **Restart runtime**. بعد ذلك, يمكن كتابة الكود الخاص.\n",
    "\n",
    "للبدء, يجب استيراد المكتبات الضرورية التي تستخدم في هذا الفصل:"
   ]
  },
  {
   "cell_type": "code",
   "execution_count": null,
   "id": "59694aa1",
   "metadata": {},
   "outputs": [],
   "source": [
    "import ee\n",
    "import geemap"
   ]
  },
  {
   "cell_type": "markdown",
   "id": "5595577d",
   "metadata": {},
   "source": [
    "تنصيب واجه تطبيق Earth Engine Pyhton:"
   ]
  },
  {
   "cell_type": "code",
   "execution_count": null,
   "id": "6c82f005",
   "metadata": {},
   "outputs": [],
   "source": [
    "geemap.ee_initialize()"
   ]
  },
  {
   "cell_type": "markdown",
   "id": "656ac6ee",
   "metadata": {},
   "source": [
    "أذا كان هذا اول تنفيذ للايعازات اعلاه, سوف تحتاج الى طلب تصريح دخول الى Earth Engine. الايعازات التالية في  {numref}`ch01-ee-auth` لـطلب _Earth Engine authentication_ لتنصيب Earth Engine.\n",
    " \n",
    "\n",
    "## رسم الخلفيات الاساسية\n",
    "\n",
    "تحتوي **Geemap** على خمس مكتبات لرسم الخلفية الاساس, و التي هي [ipyleaflet](https://github.com/jupyter-widgets/ipyleaflet), [folium](https://python-visualization.github.io/folium), [plotly](https://plotly.com), [pydeck](https://deckgl.readthedocs.io/en/latest), و [kepler.gl](https://docs.kepler.gl/docs/keplergl-jupyter). أن الخارطة التفاعلية تستخدم واحدة من هذه الطرق لاجل استعراض في بيئة Jupyter مثل Google Colab, Jupyter Notebook و JupyterLab. في الحالة الافتراضية, إن `import geemap` سوف يستخدم ipyleaflet لأجل رسم الخلفية الاساس.\n",
    "\n",
    "ان هذه المكتبات الخمس الموجوده في geemap تختلف في الوظائف و التطبيقات التي تحتويها. أن مكتبة ipyleaflet تزود افضل الوظائف و اكثرها بما في ذلك واجهه المستخدم التفاعلية (GUI) لتحميل, و تحليل, و تمثيل البيانات المكانية تفاعليا بدون كود. و على سبيل المثال, يستطيع المستخدم اضافة متجه بيانات مثل (e.g., GeoJSON, Shapefile, KML, GeoDataFrame) و بيانات من مرئيات مثل (e.g., GeoTIFF, Cloud Optimized GeoTIFF [COG]) الى الخارطة باسخدام القليل من الازرار. و ايضا ان المستخدم يستطيع ان يقوم بعمليات تحليل للبيانات من المكانية باستخدام WhiteboxTools GUI باستخدام اكثر من 500 ادواع عمليات جغرافية مباشرا من داخل الخارطة التفاعلية. ان الوظائف التفاعلية للعمليات الاخراى ثمل (e.g., split-panel map, linked map, time slider, timeseries inspector) من الممكن استخدامها بشكل مفيد لاجل استعراض و تمثيل البيانات المكانية. ان حزمة ipyleaflet تم بنائها بالاعتماد على ipywidgets و التي تسمح بالتواصل الثنائي بين الواجهه الامامية و الخلفية, و التي تمكن المستخدم من التقاط القيم المدخلة كما {cite}`QuantStack2019-bd`. \n",
    "\n",
    "\n",
    "بالمقارنة, أن folium فيها من المحدودية في بعض الوظائف.و التي تقوم بعملية استعراض ثابتة للبيانات. انها مفيدة لتفعيل التطبيقات على الويب و التي ipyleaflet لا تدعم ذلك. ملاحظه ان ذلك ان واجهه المستخدم التفاعلية موجوده في الحزم الاخرى.ان geemap تزود وجهه مميزه تمكن المسخدم من التبديل بين الخلفيات الاساسية بسهوله. و لاختيار الحزمه المطلوبه, بالامكان تنفيذ احد الايعازات التالية:  \n",
    "\n",
    "- `import geemap.geemap as geemap`\n",
    "- `import geemap.foliumap as geemap`\n",
    "- `import geemap.deck as geemap`\n",
    "- `import geemap.kepler as geemap`\n",
    "- `import geemap.plotlymap as geemap`\n",
    "\n",
    "### استخدام حزمه Ipyleaflet\n",
    "ببساطة يمكنك استخدام `geemap.Map()` لخلق خارطة تفاعلية مع الاعدادات الافتراضية. أولا عليك استيراد مكتبة  `geemap` :"
   ]
  },
  {
   "cell_type": "code",
   "execution_count": null,
   "id": "1fc976bd",
   "metadata": {},
   "outputs": [],
   "source": [
    "import geemap"
   ]
  },
  {
   "cell_type": "markdown",
   "id": "1156f9b0",
   "metadata": {},
   "source": [
    "ثانياَ, خلق خارطة تفاعلية باستخدام دالة رسم الخلفية الاساسية ipyleaflet. ان مكتبة [geemap.Map](https://geemap.org/geemap/#geemap.geemap.Map) تفوم بأستيراد دالة [ipyleaflet.Map](https://ipyleaflet.readthedocs.io/en/latest/map_and_basemaps/map.html). لذلك يمكنك استخدام نفس السياق لخلق خارطة تفاعلية كما ترغب مع الايعاز `ipyleaflet.Map`."
   ]
  },
  {
   "cell_type": "code",
   "execution_count": null,
   "id": "438e10d2",
   "metadata": {},
   "outputs": [],
   "source": [
    "Map = geemap.Map()"
   ]
  },
  {
   "cell_type": "markdown",
   "id": "4c20ac63",
   "metadata": {},
   "source": [
    "هذا السطر من الكود  يخلق خارطة جديدة و يسجلها الى متغير جديد اسمه `Map`. لاجل استغراض الخارطه في بيئة Jupyter notebook, ببساطة اكتب الاسم كما في الايعاز التالي:"
   ]
  },
  {
   "cell_type": "code",
   "execution_count": null,
   "id": "f013ea94",
   "metadata": {},
   "outputs": [],
   "source": [
    "Map"
   ]
  },
  {
   "cell_type": "markdown",
   "id": "53df817f",
   "metadata": {},
   "source": [
    "اجعل في ذهنك ان خلال هذا الكتاب,  `Map` بشكل عام يشير الى كائن الخارطه التفاعلية. انها فقط عباره عن اسم متغير لاغير. يمكنك استخدام اي اسم ترغب فيه مثل (e.g., `m`) طالما يتم ترجمته من قبل معالج لغة Python ضمن القواعد لاختيار الاسماء:\n",
    "\n",
    "Keep in mind that throughout this book, `Map` is commonly used to refer to the interactive map. It is just a variable name. You can use whatever name you want (e.g., `m`) as long as it complies with the following Python variable names rules:\n",
    "\n",
    "- الاسم يجب ان يبداء بحرف او رمز مسطر\n",
    "- الاسم يجب ان لا يبداء برقم\n",
    "- الاسم فقط يحتوي على حروف و شارحة سفلى (A-z, 0-9, و \\_ )\n",
    "\n",
    "بشكل عام, ان المتغيرات في  Python يجب ان تكون في شكل الحروف الصغيرة. و السبب في استخدام `Map` بدلا من `m` ان في Earth Engine JavaScript API يعتبر `Map` اسم محجوز الى الخارطة التفاعلية, و لاجل الحفاط على التوحد مع Earth Engine JavaScript API فان المستخدم بذلك يحافط على الانتفال السهل الى geemap. على أي حال فان المستخدم يتطلب ان يستخدم `Map` كمتغير يشغير الى الخارطة التفاعلية.\n",
    "\n",
    "لاجل تخصيص الخارطة, بالامكان تخصيص مختلف المدخلات مثل `center` ([lat, lon]), `zoom`, `width` و `height`. ان العرض الافتراضي `width` هو `100%`, و الذي ياخذ كل عرض الخلية في Jupyter. أما الارتفاع `height` يقبل رقم او نص. اذا كان المدخل رقم فانه يمثل ارتفاع الخارطه بوحده قياس البكسل. أما اذا كان المدخل نص فان النص يجب ان يكون بصيغة رقم متبوع بـ `px`, e.g., `600px`."
   ]
  },
  {
   "cell_type": "code",
   "execution_count": null,
   "id": "6772d0fd",
   "metadata": {},
   "outputs": [],
   "source": [
    "Map = geemap.Map(center=[40, -100], zoom=4, height=600)\n",
    "Map"
   ]
  },
  {
   "cell_type": "markdown",
   "id": "b4ee986f",
   "metadata": {},
   "source": [
    "ان الاعدادات الافتراضية للخراطة تأتي مع الظوابط التالية (see {numref}`ch02_ipyleaflet`):\n",
    "\n",
    "- `attribution_ctrl`\n",
    "- `data_ctrl`\n",
    "- `draw_ctrl`\n",
    "- `fullscreen_ctrl`\n",
    "- `layer_ctrl`\n",
    "- `measure_ctrl`\n",
    "- `scale_ctrl`\n",
    "- `toolbar_ctrl`\n",
    "- `zoom_ctrl`\n",
    "\n",
    "```{figure} images/ch02_ipyleaflet.jpg\n",
    "---\n",
    "name: ch02_ipyleaflet\n",
    "width: 100%\n",
    "---\n",
    "A map created using the ipyleaflet plotting backend.\n",
    "```\n",
    "لاجل اخفاء اي من الادوات يجب تغير الاعداد الى الحالة السلبية كما في `control_name` الى `False`, `draw_ctrl=False`."
   ]
  },
  {
   "cell_type": "code",
   "execution_count": null,
   "id": "8f6691d7",
   "metadata": {},
   "outputs": [],
   "source": [
    "Map = geemap.Map(data_ctrl=False, toolbar_ctrl=False, draw_ctrl=False)\n",
    "Map"
   ]
  },
  {
   "cell_type": "markdown",
   "id": "4d57b03a",
   "metadata": {},
   "source": [
    "و ايضا بالامكان تخصيص اعداد  `lite_mode=True` لاظهار زر التكبير و التصغير فقط:"
   ]
  },
  {
   "cell_type": "code",
   "execution_count": null,
   "id": "7eb500c2",
   "metadata": {},
   "outputs": [],
   "source": [
    "Map = geemap.Map(lite_mode=True)\n",
    "Map"
   ]
  },
  {
   "cell_type": "markdown",
   "id": "fafa92ca",
   "metadata": {},
   "source": [
    "لاجل حفط الخارطة بصيغة HTML يجب تنفيذ الايعاز `save` كما في التالي:"
   ]
  },
  {
   "cell_type": "code",
   "execution_count": null,
   "id": "6582a340",
   "metadata": {},
   "outputs": [],
   "source": [
    "Map.save('ipyleaflet.html')"
   ]
  },
  {
   "cell_type": "markdown",
   "id": "d2ba6ba5",
   "metadata": {},
   "source": [
    "### استخدام حزمة Folium\n",
    "لكي تحلق خارطة تفاعلية باستخدام حزمه folium لرسم خلفية اساسية ببساطه علىك استخدام المكتبة الخاصة كما في الايعاز التالي:"
   ]
  },
  {
   "cell_type": "code",
   "execution_count": null,
   "id": "554236d1",
   "metadata": {},
   "outputs": [],
   "source": [
    "import geemap.foliumap as geemap"
   ]
  },
  {
   "cell_type": "markdown",
   "id": "13272861",
   "metadata": {},
   "source": [
    "بعد ذلك, يمكن استخدام نفس الايعاز اعلاه لخلق و استعراض الخارطة التفاعلية ({numref}`ch02_folium`) حيث فعلت في استخدام بناء حزمه ipyleaflet."
   ]
  },
  {
   "cell_type": "code",
   "execution_count": null,
   "id": "183a7e92",
   "metadata": {},
   "outputs": [],
   "source": [
    "Map = geemap.Map(center=[40, -100], zoom=4, height=600)\n",
    "Map"
   ]
  },
  {
   "cell_type": "markdown",
   "id": "13b8921b",
   "metadata": {},
   "source": [
    "```{figure} images/ch02_folium.jpg\n",
    "---\n",
    "name: ch02_folium\n",
    "width: 100%\n",
    "---\n",
    "A map created using the folium plotting backend.\n",
    "```\n",
    "ان folium لا تدعم التواصل الثنائي بين القاعدة الخلفية و الواجهه الامامية {cite}`QuantStack2019-bd`. حال خلق و استعراض الخارطة في خلية notebook, لا يمكن تعديل خصائص الخارطة, مثل اضافة/ازالة, اضافة ازرار, تغيير الارتفاع/العرض. كذلك التحكم بالبيانات و شريط الادوات الموجود في ipyleaflet  في (see {numref}`ch02_ipyleaflet`) ليست مدعومه في folium حيث انها لاتدعم ipywidgets. \n",
    "\n",
    "\n",
    "و لاجل حفط الخارطة في HTML يحب استخدام او ستدعاء الايعاز `sav` كما في الشكل الأتي:"
   ]
  },
  {
   "cell_type": "code",
   "execution_count": null,
   "id": "dd038d1e",
   "metadata": {},
   "outputs": [],
   "source": [
    "Map.save('folium.html')"
   ]
  },
  {
   "cell_type": "markdown",
   "id": "0ac93d75",
   "metadata": {},
   "source": [
    "### استخدام حزمة Plotly\n",
    "\n",
    "لاجل خلق خارطة تفاعلية باستخدام حزمة plotly ببساطة عليك استيراد المكتبة الخاصة كما في الايعاز التالي:"
   ]
  },
  {
   "cell_type": "code",
   "execution_count": null,
   "id": "7df8a920",
   "metadata": {},
   "outputs": [],
   "source": [
    "import geemap.plotlymap as geemap"
   ]
  },
  {
   "cell_type": "markdown",
   "id": "ae23426b",
   "metadata": {},
   "source": [
    "بعد ذلك, يمكنك خلق الخارطة التفاعلية  ({numref}`ch02_plotly`) بأستخدام الايعاز التالي."
   ]
  },
  {
   "cell_type": "code",
   "execution_count": null,
   "id": "19b0bd20",
   "metadata": {},
   "outputs": [],
   "source": [
    "Map = geemap.Map()\n",
    "Map"
   ]
  },
  {
   "cell_type": "markdown",
   "id": "803b8d0f",
   "metadata": {},
   "source": [
    "```{figure} images/ch02_plotly.jpg\n",
    "---\n",
    "name: ch02_plotly\n",
    "width: 100%\n",
    "---\n",
    "A map created using the plotly plotting backend.\n",
    "```\n",
    "ملاحظة لا يمكن قد لا ترى الخارطة عند استعراضعا في Colab حيث انه لا يدعم حزمة plotly FigureWidget. و اذا جاءت رسالة تخبرك `FigureWidget - 'mapbox._derived' Value Error` (see [plotly issue 2570](https://github.com/plotly/plotly.py/issues/2570#issuecomment-738735816)), احذف التعليق من الايعاز التالي ثم قم بتنفيذه."
   ]
  },
  {
   "cell_type": "code",
   "execution_count": null,
   "id": "d705384c",
   "metadata": {},
   "outputs": [],
   "source": [
    "# geemap.fix_widget_error()"
   ]
  },
  {
   "cell_type": "markdown",
   "id": "99ebb178",
   "metadata": {},
   "source": [
    "### استخدام حزمه Pydeck\n",
    "\n",
    "اجل خلق خارطة تفاعلية باستخدام حزمة pydeck ببساطة عليك استيراد المكتبة الخاصة كما في الايعاز التالي:"
   ]
  },
  {
   "cell_type": "code",
   "execution_count": null,
   "id": "c1e4e33e",
   "metadata": {},
   "outputs": [],
   "source": [
    "import geemap.deck as geemap"
   ]
  },
  {
   "cell_type": "markdown",
   "id": "b7582831",
   "metadata": {},
   "source": [
    "بعد ذلك, يمكنك خلق الخارطة التفاعلية  ({numref}`ch02_pydeck`) بأستخدام الايعاز التالي."
   ]
  },
  {
   "cell_type": "code",
   "execution_count": null,
   "id": "01f528e8",
   "metadata": {},
   "outputs": [],
   "source": [
    "Map = geemap.Map()\n",
    "Map"
   ]
  },
  {
   "cell_type": "markdown",
   "id": "7adb0a00",
   "metadata": {},
   "source": [
    "```{figure} images/ch02_pydeck.jpg\n",
    "---\n",
    "name: ch02_pydeck\n",
    "width: 100%\n",
    "---\n",
    "A map created using the pydeck plotting backend.\n",
    "```\n",
    "\n",
    "### استخدام حزمة KeplerGL\n",
    "جل خلق خارطة تفاعلية باستخدام حزمة [kepler.gl](https://docs.kepler.gl/docs/keplergl-jupyter) ببساطة عليك استيراد المكتبة الخاصة كما في الايعاز التالي:"
   ]
  },
  {
   "cell_type": "code",
   "execution_count": null,
   "id": "2b4d2230",
   "metadata": {},
   "outputs": [],
   "source": [
    "import geemap.kepler as geemap"
   ]
  },
  {
   "cell_type": "markdown",
   "id": "a7d9d50a",
   "metadata": {},
   "source": [
    "بعد ذلك, يمكنك خلق الخارطة التفاعلية  ({numref}`ch02_kepler`) بأستخدام الايعاز التالي."
   ]
  },
  {
   "cell_type": "code",
   "execution_count": null,
   "id": "f940184a",
   "metadata": {},
   "outputs": [],
   "source": [
    "Map = geemap.Map()\n",
    "Map"
   ]
  },
  {
   "cell_type": "markdown",
   "id": "7780b442",
   "metadata": {},
   "source": [
    "```{figure} images/ch02_kepler.jpg\n",
    "---\n",
    "name: ch02_kepler\n",
    "width: 100%\n",
    "---\n",
    "A map created using the KeplerGL plotting backend.\n",
    "```\n",
    "\n",
    "## أضافة الخارطة التفاعلية Adding basemaps\n",
    "هناك عدة طرق لاخراج الخارطة الاساسية الى القاعدة الاساس في الخارطة. يمكن تخصيص الخراطة الاساس باستخدام المفتاح الادخال `basemap` عند خلقها مع استخدام طريقة `()geemap.Map`.بديلا عن ذلك, يمكن إضافة طبقة القاعدة الاساس بأسخدام  `()Map.add_basemap`, ان geemap تتضمن المئات من خرائط الاساس الموجوده اساسا من خلال  [xyzservices](https://github.com/geopandas/xyzservices) و التي من اسهل اضافتها الى بأيعاز واحد. \n",
    "\n",
    "\n",
    "### استخدام الخرائط الاساس المتضمنه Built-in basemaps\n",
    "دعنا استخدام الخرائط الاساس built-in الموجوده اصلا في مكتبة geemap من خلال استدعائها اولا:"
   ]
  },
  {
   "cell_type": "code",
   "execution_count": null,
   "id": "f07e2a89",
   "metadata": {},
   "outputs": [],
   "source": [
    "import geemap"
   ]
  },
  {
   "cell_type": "markdown",
   "id": "ff41214a",
   "metadata": {},
   "source": [
    "بعد ذلك, خلق الخارطة التفاعلية من خلال تخصيصها باتباع التالي. مثلا على ذلك استخدام `HYBRID` التي تمثل الخارطة الاساس المدعومه من Google Satellite Hybrid كما في ({numref}`ch02_basemap_hybrid`)."
   ]
  },
  {
   "cell_type": "code",
   "execution_count": null,
   "id": "6f5ec6f1",
   "metadata": {},
   "outputs": [],
   "source": [
    "Map = geemap.Map(basemap='HYBRID')\n",
    "Map"
   ]
  },
  {
   "cell_type": "markdown",
   "id": "dc68e320",
   "metadata": {},
   "source": [
    "```{figure} images/ch02_basemap_hybrid.jpg\n",
    "---\n",
    "name: ch02_basemap_hybrid\n",
    "width: 100%\n",
    "---\n",
    "The Google Satellite Hybrid basemap.\n",
    "```\n",
    "يمكن اضافة خراطة اساس كما ترغب. على سبيل المثال, الايعاز التالي يمكن من اضافة خراطة اساس `OpenTopoMap` الى الخارطة ({numref}`ch02_basemap_opentopomap`):"
   ]
  },
  {
   "cell_type": "code",
   "execution_count": null,
   "id": "2b73ec37",
   "metadata": {},
   "outputs": [],
   "source": [
    "Map.add_basemap('OpenTopoMap')"
   ]
  },
  {
   "cell_type": "markdown",
   "id": "e2e3d953",
   "metadata": {},
   "source": [
    "```{figure} images/ch02_basemap_opentopomap.jpg\n",
    "---\n",
    "name: ch02_basemap_opentopomap\n",
    "width: 100%\n",
    "---\n",
    "The OpenTopoMap basemap.\n",
    "\n",
    "```\n",
    "لأيجاد قائمه الخرائط الاساس الموجوده ضمنا:"
   ]
  },
  {
   "cell_type": "code",
   "execution_count": null,
   "id": "3a1bae67",
   "metadata": {},
   "outputs": [],
   "source": [
    "for basemap in geemap.basemaps.keys():\n",
    "    print(basemap)"
   ]
  },
  {
   "cell_type": "markdown",
   "id": "f3fa859a",
   "metadata": {},
   "source": [
    "كلياَ, هناك اكثر من 100 خراطة اساس كما يستعرض الايعاز التالي."
   ]
  },
  {
   "cell_type": "code",
   "execution_count": null,
   "id": "d39b682a",
   "metadata": {},
   "outputs": [],
   "source": [
    "len(geemap.basemaps)"
   ]
  },
  {
   "cell_type": "markdown",
   "id": "97caae59",
   "metadata": {},
   "source": [
    "### XYZ tiles\n",
    "\n",
    "You can also add XYZ tile layers to the map using the `Map.add_tile_layer()` method. For example, the following code creates an interactive map and adds the Google Terrain basemap to it:"
   ]
  },
  {
   "cell_type": "code",
   "execution_count": null,
   "id": "954c521b",
   "metadata": {},
   "outputs": [],
   "source": [
    "Map = geemap.Map()\n",
    "Map.add_tile_layer(\n",
    "    url=\"https://mt1.google.com/vt/lyrs=p&x={x}&y={y}&z={z}\",\n",
    "    name=\"Google Terrain\",\n",
    "    attribution=\"Google\",\n",
    ")\n",
    "Map"
   ]
  },
  {
   "cell_type": "markdown",
   "id": "55126b51",
   "metadata": {},
   "source": [
    "### WMS tiles\n",
    "\n",
    "Similarly, you can add WMS tile layers to the map using the `Map.add_wms_layer()` method. For example, the following code creates an interactive map and adds the National Land Cover Database (NLCD) 2019 basemap to it ({numref}`ch02_basemap_nlcd`):"
   ]
  },
  {
   "cell_type": "code",
   "execution_count": null,
   "id": "4b6c279a",
   "metadata": {},
   "outputs": [],
   "source": [
    "Map = geemap.Map(center=[40, -100], zoom=4)\n",
    "url = 'https://www.mrlc.gov/geoserver/mrlc_display/NLCD_2019_Land_Cover_L48/wms?'\n",
    "Map.add_wms_layer(\n",
    "    url=url,\n",
    "    layers='NLCD_2019_Land_Cover_L48',\n",
    "    name='NLCD 2019',\n",
    "    format='image/png',\n",
    "    attribution='MRLC',\n",
    "    transparent=True,\n",
    ")\n",
    "Map"
   ]
  },
  {
   "cell_type": "markdown",
   "id": "970c10a2",
   "metadata": {},
   "source": [
    "```{figure} images/ch02_basemap_nlcd.jpg\n",
    "---\n",
    "name: ch02_basemap_nlcd\n",
    "width: 100%\n",
    "---\n",
    "The National Land Cover Database (NLCD) 2019 basemap.\n",
    "```\n",
    "\n",
    "Want to find out more freely available WMS basemaps? Check out the [USGS National Map Services](https://apps.nationalmap.gov/services). Once you get a WMS URL, you can follow the example above to add it to the map.\n",
    "\n",
    "### Planet basemaps\n",
    "\n",
    "[Planet Labs](https://www.planet.com) provides high-resolution global satellite imagery with a high temporal frequency. The monthly and quarterly global basemaps can be streamed via the [XYZ Basemap Tile Service](https://developers.planet.com/docs/basemaps/tile-services/xyz) for use in web mapping applications or for visualization purposes. A valid [Planet account](https://developers.planet.com/docs/apis/data/#how-to-become-a-planet-developer) is required to access the Basemap Tile Service. Once you sign up for a Planet account, you can get your API key by navigating to the [Account Settings page](https://www.planet.com/account/#/user-settings) as shown in ({numref}`ch02_planet_api_key`).\n",
    "\n",
    "```{figure} images/ch02_planet_api_key.jpg\n",
    "---\n",
    "name: ch02_planet_api_key\n",
    "width: 100%\n",
    "---\n",
    "Planet account profile page.\n",
    "```\n",
    "\n",
    "Replace `YOUR_API_KEY` below with the API key copied from your Account Settings page shown above. You can create an environment variable called `PLANET_API_KEY` and set it to the API key so that you can access the basemap tiles without having to specify the API key every time."
   ]
  },
  {
   "cell_type": "code",
   "execution_count": null,
   "id": "8465826c",
   "metadata": {},
   "outputs": [],
   "source": [
    "import os\n",
    "\n",
    "os.environ[\"PLANET_API_KEY\"] = \"YOUR_API_KEY\""
   ]
  },
  {
   "cell_type": "markdown",
   "id": "44553910",
   "metadata": {},
   "source": [
    "First, let's look at the list of available quarterly basemaps. Planet has quarterly basemaps going back to the first quarter of 2016. The names of the quarterly basemaps are: `Planet_2016q1`, `Planet_2016q2`, ..., `Planet_2022q1`, and so on."
   ]
  },
  {
   "cell_type": "code",
   "execution_count": null,
   "id": "bb0af12a",
   "metadata": {},
   "outputs": [],
   "source": [
    "quarterly_tiles = geemap.planet_quarterly_tiles()\n",
    "for tile in quarterly_tiles:\n",
    "    print(tile)"
   ]
  },
  {
   "cell_type": "markdown",
   "id": "c9d0fe12",
   "metadata": {},
   "source": [
    "Next, let's look at the list of available monthly basemaps. Planet has monthly basemaps going back to January 2016. The names of the monthly basemaps are: `Planet_2016_01`, `Planet_2016_02`, ..., `Planet_2022_04`, and so on."
   ]
  },
  {
   "cell_type": "code",
   "execution_count": null,
   "id": "e8b80bef",
   "metadata": {},
   "outputs": [],
   "source": [
    "monthly_tiles = geemap.planet_monthly_tiles()\n",
    "for tile in monthly_tiles:\n",
    "    print(tile)"
   ]
  },
  {
   "cell_type": "markdown",
   "id": "e9496d21",
   "metadata": {},
   "source": [
    "To add a monthly basemap to the map, use the `Map.add_planet_by_month()` method as follows:"
   ]
  },
  {
   "cell_type": "code",
   "execution_count": null,
   "id": "cff480b2",
   "metadata": {},
   "outputs": [],
   "source": [
    "Map = geemap.Map()\n",
    "Map.add_planet_by_month(year=2020, month=8)\n",
    "Map"
   ]
  },
  {
   "cell_type": "markdown",
   "id": "de768a64",
   "metadata": {},
   "source": [
    "To add a quarterly basemap to the map, use the `Map.add_planet_by_quarter()` method as follows:"
   ]
  },
  {
   "cell_type": "code",
   "execution_count": null,
   "id": "d99b0518",
   "metadata": {},
   "outputs": [],
   "source": [
    "Map = geemap.Map()\n",
    "Map.add_planet_by_quarter(year=2019, quarter=2)\n",
    "Map"
   ]
  },
  {
   "cell_type": "markdown",
   "id": "23321eb1",
   "metadata": {},
   "source": [
    "The map should look like {numref}`ch02_basemap_planet`.\n",
    "\n",
    "```{figure} images/ch02_basemap_planet.jpg\n",
    "---\n",
    "name: ch02_basemap_planet\n",
    "width: 100%\n",
    "---\n",
    "The Planet quarterly basemap for second quarter of 2019.\n",
    "\n",
    "```\n",
    "\n",
    "### Basemap GUI\n",
    "\n",
    "Geemap makes it easy for users to add basemaps to their maps without having to write any code. By clicking the \"map\" icon on the toolbar, the basemap GUI is activated ({numref}`ch02_basemap_gui`). Simply click the dropdown menu to select the basemap that you want to add. Additionally, if you have created an environment variable called `PLANET_API_KEY` and set it to your Planet API key, the Planet basemaps will also be available to select from the dropdown menu.\n",
    "\n",
    "To set the Planet API key, use the following code:"
   ]
  },
  {
   "cell_type": "code",
   "execution_count": null,
   "id": "2e6c2bb3",
   "metadata": {},
   "outputs": [],
   "source": [
    "import os\n",
    "\n",
    "os.environ[\"PLANET_API_KEY\"] = \"YOUR_API_KEY\""
   ]
  },
  {
   "cell_type": "markdown",
   "id": "f842e871",
   "metadata": {},
   "source": [
    "Then the Planet basemaps will be available via the basemap dropdown menu."
   ]
  },
  {
   "cell_type": "code",
   "execution_count": null,
   "id": "0a775caa",
   "metadata": {},
   "outputs": [],
   "source": [
    "Map = geemap.Map()\n",
    "Map"
   ]
  },
  {
   "cell_type": "markdown",
   "id": "0d36aa59",
   "metadata": {},
   "source": [
    "```{figure} images/ch02_basemap_gui.jpg\n",
    "---\n",
    "name: ch02_basemap_gui\n",
    "width: 100%\n",
    "\n",
    "---\n",
    "The basemap GUI for changing basemaps interactively without coding.\n",
    "```\n",
    "\n",
    "## Summary\n",
    "\n",
    "In this chapter, we began by introducing the fundamentals of Jupyter notebooks. We then provided hands-on examples of using the five geemap plotting backends to create interactive maps. Additionally, we explored how to incorporate various basemap layers, such as built-in basemaps, XYZ tiles, WMS tiles, and Planet basemaps, into our maps.\n",
    "\n",
    "By now, you should be proficient in using Jupyter notebook to generate interactive maps and switch between various basemaps seamlessly. That concludes this chapter. In the next chapter, we will delve into Google Earth Engine data."
   ]
  }
 ],
 "metadata": {
  "jupytext": {
   "text_representation": {
    "extension": ".md",
    "format_name": "myst",
    "format_version": 0.13,
    "jupytext_version": "1.11.5"
   }
  },
  "kernelspec": {
   "display_name": "Python 3",
   "language": "python",
   "name": "python3"
  },
  "source_map": [
   12,
   50,
   52,
   59,
   62,
   67,
   69,
   91,
   93,
   97,
   99,
   102,
   104,
   118,
   121,
   143,
   146,
   149,
   152,
   156,
   158,
   164,
   166,
   169,
   172,
   186,
   188,
   194,
   196,
   200,
   203,
   214,
   216,
   224,
   226,
   230,
   233,
   247,
   249,
   253,
   256,
   273,
   275,
   278,
   281,
   292,
   294,
   307,
   310,
   313,
   315,
   321,
   329,
   335,
   347,
   373,
   377,
   381,
   385,
   389,
   393,
   397,
   401,
   405,
   409,
   428,
   432,
   436,
   439
  ]
 },
 "nbformat": 4,
 "nbformat_minor": 5
}