{
 "cells": [
  {
   "cell_type": "markdown",
   "id": "d1afcdb6",
   "metadata": {},
   "source": [
    "# Creating Interactive Maps\n",
    "\n",
    "```{contents}\n",
    ":local:\n",
    ":depth: 2\n",
    "```\n",
    "\n",
    "## Introduction\n",
    "\n",
    "## Technical requirements\n",
    "\n",
    "```bash\n",
    "conda create -n gee python\n",
    "conda activate gee\n",
    "conda install -c conda-forge mamba\n",
    "mamba install -c conda-forge pygis\n",
    "```\n",
    "\n",
    "```bash\n",
    "jupyter lab\n",
    "```"
   ]
  },
  {
   "cell_type": "code",
   "execution_count": null,
   "id": "fb14fd79",
   "metadata": {},
   "outputs": [],
   "source": [
    "# %pip install pygis"
   ]
  },
  {
   "cell_type": "code",
   "execution_count": null,
   "id": "b0062155",
   "metadata": {},
   "outputs": [],
   "source": [
    "import ee\n",
    "import geemap"
   ]
  },
  {
   "cell_type": "code",
   "execution_count": null,
   "id": "9fb90904",
   "metadata": {},
   "outputs": [],
   "source": [
    "geemap.ee_initialize()"
   ]
  },
  {
   "cell_type": "markdown",
   "id": "6e111c39",
   "metadata": {},
   "source": [
    "## Plotting backends\n",
    "\n",
    "### Ipyleaflet"
   ]
  },
  {
   "cell_type": "code",
   "execution_count": null,
   "id": "1e3d9469",
   "metadata": {},
   "outputs": [],
   "source": [
    "import geemap"
   ]
  },
  {
   "cell_type": "code",
   "execution_count": null,
   "id": "8d7a0a81",
   "metadata": {},
   "outputs": [],
   "source": [
    "Map = geemap.Map()"
   ]
  },
  {
   "cell_type": "code",
   "execution_count": null,
   "id": "c6c363f5",
   "metadata": {},
   "outputs": [],
   "source": [
    "Map"
   ]
  },
  {
   "cell_type": "code",
   "execution_count": null,
   "id": "68ee40a4",
   "metadata": {},
   "outputs": [],
   "source": [
    "Map = geemap.Map(center=[40, -100], zoom=4, height=600)\n",
    "Map"
   ]
  },
  {
   "cell_type": "code",
   "execution_count": null,
   "id": "bf3d3840",
   "metadata": {},
   "outputs": [],
   "source": [
    "Map = geemap.Map(data_ctrl=False, toolbar_ctrl=False, draw_ctrl=False)\n",
    "Map"
   ]
  },
  {
   "cell_type": "code",
   "execution_count": null,
   "id": "86e31d5f",
   "metadata": {},
   "outputs": [],
   "source": [
    "Map = geemap.Map(lite_mode=True)\n",
    "Map"
   ]
  },
  {
   "cell_type": "code",
   "execution_count": null,
   "id": "50d2c138",
   "metadata": {},
   "outputs": [],
   "source": [
    "Map.save('ipyleaflet.html')"
   ]
  },
  {
   "cell_type": "markdown",
   "id": "7b4c3eb8",
   "metadata": {},
   "source": [
    "### Folium"
   ]
  },
  {
   "cell_type": "code",
   "execution_count": null,
   "id": "fed57b8b",
   "metadata": {},
   "outputs": [],
   "source": [
    "import geemap.foliumap as geemap"
   ]
  },
  {
   "cell_type": "code",
   "execution_count": null,
   "id": "d349e7a7",
   "metadata": {},
   "outputs": [],
   "source": [
    "Map = geemap.Map(center=[40, -100], zoom=4, height=600)\n",
    "Map"
   ]
  },
  {
   "cell_type": "code",
   "execution_count": null,
   "id": "fb587c69",
   "metadata": {},
   "outputs": [],
   "source": [
    "Map.save('folium.html')"
   ]
  },
  {
   "cell_type": "markdown",
   "id": "8fee877a",
   "metadata": {},
   "source": [
    "### Plotly"
   ]
  },
  {
   "cell_type": "code",
   "execution_count": null,
   "id": "5f5bc7bf",
   "metadata": {},
   "outputs": [],
   "source": [
    "import geemap.plotlymap as geemap"
   ]
  },
  {
   "cell_type": "code",
   "execution_count": null,
   "id": "d9e0ea86",
   "metadata": {},
   "outputs": [],
   "source": [
    "Map = geemap.Map()\n",
    "Map"
   ]
  },
  {
   "cell_type": "code",
   "execution_count": null,
   "id": "e59f87bc",
   "metadata": {},
   "outputs": [],
   "source": [
    "# geemap.fix_widget_error()"
   ]
  },
  {
   "cell_type": "markdown",
   "id": "a9735f8b",
   "metadata": {},
   "source": [
    "### Pydeck"
   ]
  },
  {
   "cell_type": "code",
   "execution_count": null,
   "id": "92332824",
   "metadata": {},
   "outputs": [],
   "source": [
    "import geemap.deck as geemap"
   ]
  },
  {
   "cell_type": "code",
   "execution_count": null,
   "id": "d991b086",
   "metadata": {},
   "outputs": [],
   "source": [
    "Map = geemap.Map()\n",
    "Map"
   ]
  },
  {
   "cell_type": "markdown",
   "id": "a4a073dd",
   "metadata": {},
   "source": [
    "### KeplerGL"
   ]
  },
  {
   "cell_type": "code",
   "execution_count": null,
   "id": "aa5b8db1",
   "metadata": {},
   "outputs": [],
   "source": [
    "import geemap.kepler as geemap"
   ]
  },
  {
   "cell_type": "code",
   "execution_count": null,
   "id": "342081d1",
   "metadata": {},
   "outputs": [],
   "source": [
    "Map = geemap.Map()\n",
    "Map"
   ]
  },
  {
   "cell_type": "markdown",
   "id": "ffeac402",
   "metadata": {},
   "source": [
    "## Adding basemaps\n",
    "\n",
    "### Built-in basemaps"
   ]
  },
  {
   "cell_type": "code",
   "execution_count": null,
   "id": "137109ae",
   "metadata": {},
   "outputs": [],
   "source": [
    "import geemap"
   ]
  },
  {
   "cell_type": "code",
   "execution_count": null,
   "id": "5b1f07b6",
   "metadata": {},
   "outputs": [],
   "source": [
    "Map = geemap.Map(basemap='HYBRID')\n",
    "Map"
   ]
  },
  {
   "cell_type": "code",
   "execution_count": null,
   "id": "401d4e16",
   "metadata": {},
   "outputs": [],
   "source": [
    "Map.add_basemap('OpenTopoMap')"
   ]
  },
  {
   "cell_type": "code",
   "execution_count": null,
   "id": "3b87f4d2",
   "metadata": {},
   "outputs": [],
   "source": [
    "for basemap in geemap.basemaps.keys():\n",
    "    print(basemap)"
   ]
  },
  {
   "cell_type": "code",
   "execution_count": null,
   "id": "5927e611",
   "metadata": {},
   "outputs": [],
   "source": [
    "len(geemap.basemaps)"
   ]
  },
  {
   "cell_type": "markdown",
   "id": "670ff1db",
   "metadata": {},
   "source": [
    "### XYZ tiles"
   ]
  },
  {
   "cell_type": "code",
   "execution_count": null,
   "id": "315c0c93",
   "metadata": {},
   "outputs": [],
   "source": [
    "Map = geemap.Map()\n",
    "Map.add_tile_layer(\n",
    "    url=\"https://mt1.google.com/vt/lyrs=p&x={x}&y={y}&z={z}\",\n",
    "    name=\"Google Terrain\",\n",
    "    attribution=\"Google\",\n",
    ")\n",
    "Map"
   ]
  },
  {
   "cell_type": "markdown",
   "id": "31e097e3",
   "metadata": {},
   "source": [
    "### WMS tiles"
   ]
  },
  {
   "cell_type": "code",
   "execution_count": null,
   "id": "57c7445a",
   "metadata": {},
   "outputs": [],
   "source": [
    "Map = geemap.Map(center=[40, -100], zoom=4)\n",
    "url = 'https://www.mrlc.gov/geoserver/mrlc_display/NLCD_2019_Land_Cover_L48/wms?'\n",
    "Map.add_wms_layer(\n",
    "    url=url,\n",
    "    layers='NLCD_2019_Land_Cover_L48',\n",
    "    name='NLCD 2019',\n",
    "    format='image/png',\n",
    "    attribution='MRLC',\n",
    "    transparent=True,\n",
    ")\n",
    "Map"
   ]
  },
  {
   "cell_type": "markdown",
   "id": "ebf3e283",
   "metadata": {},
   "source": [
    "### Planet basemaps"
   ]
  },
  {
   "cell_type": "code",
   "execution_count": null,
   "id": "1c8ca249",
   "metadata": {},
   "outputs": [],
   "source": [
    "import os\n",
    "\n",
    "os.environ[\"PLANET_API_KEY\"] = \"YOUR_API_KEY\""
   ]
  },
  {
   "cell_type": "code",
   "execution_count": null,
   "id": "096d209d",
   "metadata": {},
   "outputs": [],
   "source": [
    "quarterly_tiles = geemap.planet_quarterly_tiles()\n",
    "for tile in quarterly_tiles:\n",
    "    print(tile)"
   ]
  },
  {
   "cell_type": "code",
   "execution_count": null,
   "id": "58748897",
   "metadata": {},
   "outputs": [],
   "source": [
    "monthly_tiles = geemap.planet_monthly_tiles()\n",
    "for tile in monthly_tiles:\n",
    "    print(tile)"
   ]
  },
  {
   "cell_type": "code",
   "execution_count": null,
   "id": "b9d4be77",
   "metadata": {},
   "outputs": [],
   "source": [
    "Map = geemap.Map()\n",
    "Map.add_planet_by_month(year=2020, month=8)\n",
    "Map"
   ]
  },
  {
   "cell_type": "code",
   "execution_count": null,
   "id": "70862ef1",
   "metadata": {},
   "outputs": [],
   "source": [
    "Map = geemap.Map()\n",
    "Map.add_planet_by_quarter(year=2019, quarter=2)\n",
    "Map"
   ]
  },
  {
   "cell_type": "markdown",
   "id": "0d02989d",
   "metadata": {},
   "source": [
    "### Basemap GUI"
   ]
  },
  {
   "cell_type": "code",
   "execution_count": null,
   "id": "da2298d7",
   "metadata": {},
   "outputs": [],
   "source": [
    "import os\n",
    "\n",
    "os.environ[\"PLANET_API_KEY\"] = \"YOUR_API_KEY\""
   ]
  },
  {
   "cell_type": "code",
   "execution_count": null,
   "id": "3b388d14",
   "metadata": {},
   "outputs": [],
   "source": [
    "Map = geemap.Map()\n",
    "Map"
   ]
  },
  {
   "cell_type": "markdown",
   "id": "0871324f",
   "metadata": {},
   "source": [
    "## Summary"
   ]
  }
 ],
 "metadata": {
  "jupytext": {
   "text_representation": {
    "extension": ".md",
    "format_name": "myst",
    "format_version": 0.13,
    "jupytext_version": "1.11.5"
   }
  },
  "kernelspec": {
   "display_name": "Python 3",
   "language": "python",
   "name": "python3"
  },
  "source_map": [
   12,
   36,
   40,
   45,
   47,
   53,
   57,
   61,
   65,
   70,
   75,
   80,
   82,
   86,
   90,
   95,
   97,
   101,
   105,
   110,
   112,
   116,
   120,
   123,
   127,
   131,
   134,
   140,
   144,
   149,
   153,
   158,
   160,
   164,
   172,
   176,
   188,
   192,
   198,
   204,
   210,
   216,
   220,
   224,
   230,
   233
  ]
 },
 "nbformat": 4,
 "nbformat_minor": 5
}