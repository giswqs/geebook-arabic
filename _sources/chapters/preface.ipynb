{
 "cells": [
  {
   "cell_type": "markdown",
   "id": "23cedfdd",
   "metadata": {},
   "source": [
    "# مقدمة\n",
    "\n",
    "## مدخل\n",
    "\n",
    "ان كوكل ايرت [Google Earth Engine](https://earthengine.google.com) (GEE) هو عباره عن منصة سحابية تحتوي [multi-petabyte catalog](https://developers.google.com/earth-engine/datasets) من صور الاقمار الصناعية و مجموعات البيانات المكانية. خلال السنوات السابقة اصبح GEE واسع الانتشار في الاستخدامات الجغرافية و أستخدم في دعم الكثير من التطبيقات البيئية على المدى المحلي, الاقليمي, و العالمي. و ان GEE يزود المطورين من خلال منصتين من العمل هما JavaScript و Python API و التي تقوم بتنفيذ استعلامات مباشره على خدمات EE. و بالمقارنه مع المصادر المتوفرة [documentation](https://developers.google.com/earth-engine) و البيئة التطويريه المتكاملة التفاعلية  ([GEE JavaScript Code Editor](https://code.earthengine.google.com))  لـ GEE JavaScript API, فأن Python API لها القليل من المصادر و فيها محدودية في عملية تمثيل و استعراض البيانات. ان **geemap** عبارة عن حزمة بايثون تم انشائها من اجل معالجة المشاكل انفة الذكر. لقد تم بنائها على عدد من المكتبات مفتوحة المصدر مثل [earthengine-api](https://pypi.org/project/earthengine-api), [folium](https://python-visualization.github.io/folium/), [ipyleaflet](https://github.com/jupyter-widgets/ipyleaflet), و [ipywidgets](https://github.com/jupyter-widgets/ipywidgets). أن geemap تمكن المستخدمين من تحليل و استعراض بيانات Earth Engine بشكل تفاعلي في بيئة Jupyter مع القليل من الكود.\n",
    "\n",
    "ان هذا الكتاب يساعدك البدء خطوه خطوه في GEE و geemap , و سوت تتعلم الاساسيات في استخدام geemap لخلق و تخصيص الخرائط التفاعلية. كذلك سوف تتعلم تحميل مجاميع البيانات المتاحة في Earth Engine و كذلك مجاميع البيانات المحلية على الخرائط التفاعلية.و من المهم جدا في هذا الكتاب انك سوف تتعلم من خلال الامثلة التطبيقية في استخدام geemap و استعراض و تمثيل البيانات من EE و كذك تصديرها. و سوف تتعلم أيضا مواضيع متقدمة مثل بناء و نشر التطبيقات الويب التفاعلية مع EE و geemap.\n",
    "\n",
    "\n",
    "## من يمكنه الاستفاده من هذا الكتاب\n",
    "\n",
    "هذا الكتاب للطلبة و الباحثين و العاملين في مجال علوم البيانات و جميع الراغبين في توظيف Python و مكتباتها و ادواتها المتنوعة للعمل على البيانات من Google Earth Engine. سواء كنت مستخدم جديد ترغب في تسخير امكانيات EE او مستخدم تملك الخبره في Earth Engine JavaScript API فأن هذا الكتاب يخصك.\n",
    "\n",
    "## ما الذي يبحثة هذا الكتاب\n",
    "\n",
    "**الفصل 1** _مدخل الى GEE و geemap_ يوفر هذا الفصل مقدمة الى GEE Python API و كذلك أعداد بيئة بايثون و العمل على geemap. \n",
    "\n",
    "**الفصل 2** _انشاء الخارطة التفاعلية_: يعلم هذا الفصل كيفية أنشاء الخارطة التفاعلية و تخصيصها بأستخدام واجهات التخطيط المختلفة.\n",
    "\n",
    "**الفصل 3** _إستخدام بيانات Earth Engine_ :يغطي هذا الفصل أنواع البيانات, و يعلم هذا الفصل في كيفية البحث و تحميل مجاميع البيانات من Earth Engine على الخارطة التفاعلية.\n",
    "\n",
    "**الفصل 4** _أستخدام البيانات الجغرافية المكاني المحلية_ : يعلم هذا الفصل تحميل المتجهات و المرئيات على الخارطة التفاعلية و تحميل البيانات من OpenStreetMap.\n",
    "\n",
    "**الفصل 5** _إستعراض و تمثيل البيانات الجغرافية المكانية_ : يغطي هذا الفصل مختلف الادوات و التقنيات لاستعراض و تمثيل البيانات مثل استعراض خارطتين, ربط الخرائط, متصفح البيانات عبر الزمن. و كذلك يغطي خلق عناصر اضافية مثل شريط الالوان, مفتاح الخرائط, و التسميات. \n",
    "\n",
    "**الفصل 6** _تحليل البيانات الجغرافية المكانية_ : يغطي هذا الفصل الطرق الاحصائية و التعليم الالي و تحليل البيانات الجغرافية المكانية مثل الاحصاء المناطقي, التصنيف الغير موجه, التصنيف الغير موجه, و تقييم الدقة.\n",
    "\n",
    "**الفصل 7** _استعراض بيانات Earth Engine_ : هذا الفصل يغطي تصدير المتجهات و المرئيات الى Earth Engine و تحميل ألاف رقائق الصور من Earth Engine في غضون دقائق قليلة.\n",
    "\n",
    "**الفصل 8** _إنشاء خارطة بأستخدام كارتووي Cartoee_ : يغطي هذا الفصل كيفية خلق خرائط دقة عالية بأستخدام نموذج كارتووي. و كذلك يغطي رسم بيانات Earth Engine على الخارطة و تخصيص الاسقاط على الخارطة.\n",
    "\n",
    "**الفصل 9** _خلق صور  متحركه حسب الفاصل الزمني Timelapse_ : يزود هذا الفصل امثلة تطبيقية لاستخدام geemap في خلق صور متحركة حسب الفاصل الزمني للمرئيات و صور الجوية مثل Landsat, GOES, MODIS, NAIP.\n",
    "\n",
    "**الفصل 10** _خلق تطبيقات ويب تفاعلية_ : يعلم هذا الفصل كيفية بناء تطبيقات مع Earth Engine و geemap من البداية. و كذلك يغطي نشر التطبيقات على المنصات السحابية لجميع المستخدمين.\n",
    "\n",
    "**الفصل 11** _تطبيقات Earth Engine_ : يغطي هذا الفصل تطبيق Earth Engine في مجالات مختلفة مثل خرائط المياه السطحية, الغطاء النباتي, الفيضانات, الغطاء الارضي العالمي.\n",
    "\n",
    "\n",
    "## للحصول على اكبر فائدة من هذا الكتاب\n",
    "\n",
    "لغرض الحصول على أقصى فائده من هذا الكتاب, يفترض ان يكون لديك المعلومات الاساسية للبرمجه في لغة بايثون و التي تشمل المتغيرات, المصفوفات, القواميس, القوائم, حلقات التكرار, و الدوال. و هذا كنت على دراية بهذه المواضيع فهذا يعني انه لديل المعرفه الكافية للبدء للسير في هذا الكتاب! و للحصول على اقصى قدر من المعرفة من هذا الكتاب, يستحسن ان تقوم شخصيا بكتابة الكود البرمجي في الامثلة المذكوره في بيئة Jupyter مثل (Jupyter notebook, JupyterLab, Google Colab). سوف يساعدك ذلك على فهم البرامج و المفاهيم المتضمنه في هذا الكتاب. يمكن تحميل الامثله المذكوره في هذا الكتاب في نسخته الموجوده في مستودع GitHub و الموجود عبر الرابط <https://github.com/giswqs/geebook>. القيام بهذا الخطوات سوف يجنبك الاخطاء المحتملة في عملية النسخ و اللصف للكود البرمجي.\n",
    "\n",
    "\n",
    "## Download Jupyter notebook examples\n",
    "\n",
    "You can download the Jupyter notebook examples for this book from the book's GitHub repository at <https://github.com/giswqs/geebook>. If there's an update to the code, it will be updated in this GitHub repository.\n",
    "\n",
    "## Conventions used\n",
    "\n",
    "There are a number of text conventions used throughout this book.\n",
    "\n",
    "`Code in text`: Indicates code words in text, folder names, filenames, file extensions, pathnames, URLs, etc. Here is an example: Set `EARTHENGINE_TOKEN` as a system environment variable to your Earth Engine API key.\n",
    "\n",
    "A block of Python code is set as follows:"
   ]
  },
  {
   "cell_type": "code",
   "execution_count": null,
   "id": "b9a06ac8",
   "metadata": {},
   "outputs": [],
   "source": [
    "import geemap\n",
    "# Create an interactive map\n",
    "m = geemap.Map(center=[40, -100], zoom=4)\n",
    "m"
   ]
  },
  {
   "cell_type": "markdown",
   "id": "f9879b37",
   "metadata": {},
   "source": [
    "**Bold**: Indicates a new term, an important word, or words that you see onscreen. For\n",
    "instance, words in menus or dialog boxes appear in bold. Here is an example: Click on **Advanced settings** to set `EARTHENGINE_TOKEN` as an environment variable.\n",
    "\n",
    "## Get in touch\n",
    "\n",
    "Feedback from our readers is always welcome.\n",
    "\n",
    "**Questions:** If you have any questions about the materials covered in the book, please visit <https://github.com/giswqs/geebook/discussions> to ask questions and share ideas.\n",
    "\n",
    "**Errata:** Although we have tried our best to ensure the accuracy of the book content, mistakes do happen. If you find any mistake in the book, we would be grateful if you report it to us. Please visit <https://github.com/giswqs/geebook/issues> and submit an issue.\n",
    "\n",
    "## Acknowledgments\n",
    "\n",
    "This book is based upon work partially supported by the National Aeronautics and Space Administration (NASA) under Grant No. 80NSSC22K1742 issued through the [Open Source Tools, Frameworks, and Libraries 2020 Program](https://bit.ly/3RVBRcQ).\n",
    "\n",
    "Some of the text and code examples in this book are adapted from the [Earth Engine User Guides](https://developers.google.com/earth-engine/guides). The Earth Engine team deserves credit for their excellent work on developing the Earth Engine platform and comprehensive user guides. I would like to give a special thank you to Khalil Misbah for designing the [geemap logo](https://github.com/gee-community/geemap/tree/master/docs/assets).\n",
    "\n",
    "I would like to express my sincere gratitude to the reviewers who provided valuable feedback on this book, including Ellen Brock, Jake Gearon, and Emma Izquierdo-Verdiguier. Your insights and suggestions helped me to improve the quality of my work and make it more accessible to readers. Your time and effort are greatly appreciated.\n",
    "\n",
    "I also want to acknowledge the efforts of my editor and publishing team, who worked tirelessly to bring this book to fruition. Your support and guidance throughout the process were invaluable, and I could not have done it without you.\n",
    "\n",
    "Finally, I would like to thank my family and friends for their unwavering support and encouragement. Your love and belief in me kept me going during the challenging times, and I am forever grateful."
   ]
  }
 ],
 "metadata": {
  "jupytext": {
   "text_representation": {
    "extension": ".md",
    "format_name": "myst",
    "format_version": 0.13,
    "jupytext_version": "1.11.5"
   }
  },
  "kernelspec": {
   "display_name": "Python 3",
   "language": "python",
   "name": "python3"
  },
  "source_map": [
   12,
   69,
   74
  ]
 },
 "nbformat": 4,
 "nbformat_minor": 5
}