{
 "cells": [
  {
   "cell_type": "markdown",
   "id": "945a96f6",
   "metadata": {},
   "source": [
    "# مقدمة\n",
    "\n",
    "## مدخل\n",
    "\n",
    "ان كوكل ايرت [Google Earth Engine](https://earthengine.google.com) (GEE) هو عباره عن منصة سحابية تحتوي [multi-petabyte catalog](https://developers.google.com/earth-engine/datasets) من صور الاقمار الصناعية و مجموعات البيانات المكانية. خلال السنوات السابقة اصبح GEE واسع الانتشار في الاستخدامات الجغرافية و أستخدم في دعم الكثير من التطبيقات البيئية على المدى المحلي, الاقليمي, و العالمي. و ان GEE يزود المطورين من خلال منصتين من العمل هما JavaScript و Python API و التي تقوم بتنفيذ استعلامات مباشره على خدمات EE. و بالمقارنه مع المصادر المتوفرة [documentation](https://developers.google.com/earth-engine) و البيئة التطويريه المتكاملة التفاعلية  ([GEE JavaScript Code Editor](https://code.earthengine.google.com))  لـ GEE JavaScript API, فأن Python API لها القليل من المصادر و فيها محدودية في عملية تمثيل و استعراض البيانات. ان **geemap** عبارة عن حزمة بايثون تم انشائها من اجل معالجة المشاكل انفة الذكر. لقد تم بنائها على عدد من المكتبات مفتوحة المصدر مثل [earthengine-api](https://pypi.org/project/earthengine-api), [folium](https://python-visualization.github.io/folium/), [ipyleaflet](https://github.com/jupyter-widgets/ipyleaflet), و [ipywidgets](https://github.com/jupyter-widgets/ipywidgets). أن geemap تمكن المستخدمين من تحليل و استعراض بيانات Earth Engine بشكل تفاعلي في بيئة Jupyter مع القليل من الكود.\n",
    "\n",
    "ان هذا الكتاب يساعدك البدء خطوه خطوه في GEE و geemap , و سوت تتعلم الاساسيات في استخدام geemap لخلق و تخصيص الخرائط التفاعلية. كذلك سوف تتعلم تحميل مجاميع البيانات المتاحة في Earth Engine و كذلك مجاميع البيانات المحلية على الخرائط التفاعلية.و من المهم جدا في هذا الكتاب انك سوف تتعلم من خلال الامثلة التطبيقية في استخدام geemap و استعراض و تمثيل البيانات من EE و كذك تصديرها. و سوف تتعلم أيضا مواضيع متقدمة مثل بناء و نشر التطبيقات الويب التفاعلية مع EE و geemap.\n",
    "\n",
    "\n",
    "## من يمكنه الاستفاده من هذا الكتاب\n",
    "\n",
    "هذا الكتاب للطلبة و الباحثين و العاملين في مجال علوم البيانات و جميع الراغبين في توظيف Python و مكتباتها و ادواتها المتنوعة للعمل على البيانات من Google Earth Engine. سواء كنت مستخدم جديد ترغب في تسخير امكانيات EE او مستخدم تملك الخبره في Earth Engine JavaScript API فأن هذا الكتاب يخصك.\n",
    "\n",
    "## What this book covers\n",
    "\n",
    "**Chapter 1** _Introducing GEE and geemap_: provides an introduction to using the GEE Python API and setting up a Python environment for using geemap.\n",
    "\n",
    "**Chapter 2** _Creating Interactive Maps_: teaches readers how to create and customize interactive maps using various plotting backends.\n",
    "\n",
    "**Chapter 3** _Using Earth Engine Data_: covers the basic data types of Earth Engine and teaches how to search for and load Earth Engine datasets onto an interactive map.\n",
    "\n",
    "**Chapter 4** _Using Local Geospatial Data_: teaches how to load local vector and raster datasets onto an interactive map and how to download data from OpenStreetMap.\n",
    "\n",
    "**Chapter 5** _Visualizing Geospatial Data_: covers various tools and techniques for visualizing geospatial data, such as split-panel maps, linked maps, and timeseries inspector. This chapter also covers creating map elements such as color bars, legends, and labels.\n",
    "\n",
    "**Chapter 6** _Analyzing Geospatial Data_: covers statistical methods and machine learning techniques for analyzing geospatial data, such as zonal statistics, unsupervised classification, supervised classification, and accuracy assessment.\n",
    "\n",
    "**Chapter 7** _Exporting Earth Engine Data_: teaches how to export vector and raster data from Earth Engine and how to download thousands of image chips from Earth Engine within a few minutes.\n",
    "\n",
    "**Chapter 8** _Making Maps with Cartoee_: teaches how to create publication-quality maps using the cartoee module. This chapter covers plotting Earth Engine data on the map and customizing map projections.\n",
    "\n",
    "**Chapter 9** _Creating Timelapse Animations_: provides practical examples of using geemap to create timelapse animations from satellite and aerial imagery, such as Landsat, GOES, MODIS, and NAIP.\n",
    "\n",
    "**Chapter 10** _Building Interactive Web Apps_: teaches how to build interactive web apps with Earth Engine and geemap from scratch. This chapter also covers deploying web apps to the cloud for public access.\n",
    "\n",
    "**Chapter 11** _Earth Engine Applications_: covers various Earth Engine applications, such as surface water mapping, forest cover change analysis, flood mapping, and global land cover mapping.\n",
    "\n",
    "## To get the most out of this book\n",
    "\n",
    "This book assumes that you are at least a Python novice, which means that you are comfortable with the basic Python syntax, such as variables, lists, dictionaries, loops, and functions. If you know how to make lists and define variables and have written a `for` loop before, you have enough Python knowledge to get started! To get the most out of this book, we highly encourage you to type the code yourself in a Jupyter environment (e.g., Jupyter notebook, JupyterLab, Google Colab). This will help you understand the code and help you understand the book. You can also download the code examples from the book's GitHub repository at <https://github.com/giswqs/geebook>. Doing so will help you avoid any potential errors related to the copying and pasting of code.\n",
    "\n",
    "## Download Jupyter notebook examples\n",
    "\n",
    "You can download the Jupyter notebook examples for this book from the book's GitHub repository at <https://github.com/giswqs/geebook>. If there's an update to the code, it will be updated in this GitHub repository.\n",
    "\n",
    "## Conventions used\n",
    "\n",
    "There are a number of text conventions used throughout this book.\n",
    "\n",
    "`Code in text`: Indicates code words in text, folder names, filenames, file extensions, pathnames, URLs, etc. Here is an example: Set `EARTHENGINE_TOKEN` as a system environment variable to your Earth Engine API key.\n",
    "\n",
    "A block of Python code is set as follows:"
   ]
  },
  {
   "cell_type": "code",
   "execution_count": null,
   "id": "ceb22ebe",
   "metadata": {},
   "outputs": [],
   "source": [
    "import geemap\n",
    "# Create an interactive map\n",
    "m = geemap.Map(center=[40, -100], zoom=4)\n",
    "m"
   ]
  },
  {
   "cell_type": "markdown",
   "id": "ecfe64d1",
   "metadata": {},
   "source": [
    "**Bold**: Indicates a new term, an important word, or words that you see onscreen. For\n",
    "instance, words in menus or dialog boxes appear in bold. Here is an example: Click on **Advanced settings** to set `EARTHENGINE_TOKEN` as an environment variable.\n",
    "\n",
    "## Get in touch\n",
    "\n",
    "Feedback from our readers is always welcome.\n",
    "\n",
    "**Questions:** If you have any questions about the materials covered in the book, please visit <https://github.com/giswqs/geebook/discussions> to ask questions and share ideas.\n",
    "\n",
    "**Errata:** Although we have tried our best to ensure the accuracy of the book content, mistakes do happen. If you find any mistake in the book, we would be grateful if you report it to us. Please visit <https://github.com/giswqs/geebook/issues> and submit an issue.\n",
    "\n",
    "## Acknowledgments\n",
    "\n",
    "This book is based upon work partially supported by the National Aeronautics and Space Administration (NASA) under Grant No. 80NSSC22K1742 issued through the [Open Source Tools, Frameworks, and Libraries 2020 Program](https://bit.ly/3RVBRcQ).\n",
    "\n",
    "Some of the text and code examples in this book are adapted from the [Earth Engine User Guides](https://developers.google.com/earth-engine/guides). The Earth Engine team deserves credit for their excellent work on developing the Earth Engine platform and comprehensive user guides. I would like to give a special thank you to Khalil Misbah for designing the [geemap logo](https://github.com/gee-community/geemap/tree/master/docs/assets).\n",
    "\n",
    "I would like to express my sincere gratitude to the reviewers who provided valuable feedback on this book, including Ellen Brock, Jake Gearon, and Emma Izquierdo-Verdiguier. Your insights and suggestions helped me to improve the quality of my work and make it more accessible to readers. Your time and effort are greatly appreciated.\n",
    "\n",
    "I also want to acknowledge the efforts of my editor and publishing team, who worked tirelessly to bring this book to fruition. Your support and guidance throughout the process were invaluable, and I could not have done it without you.\n",
    "\n",
    "Finally, I would like to thank my family and friends for their unwavering support and encouragement. Your love and belief in me kept me going during the challenging times, and I am forever grateful."
   ]
  }
 ],
 "metadata": {
  "jupytext": {
   "text_representation": {
    "extension": ".md",
    "format_name": "myst",
    "format_version": 0.13,
    "jupytext_version": "1.11.5"
   }
  },
  "kernelspec": {
   "display_name": "Python 3",
   "language": "python",
   "name": "python3"
  },
  "source_map": [
   12,
   67,
   72
  ]
 },
 "nbformat": 4,
 "nbformat_minor": 5
}