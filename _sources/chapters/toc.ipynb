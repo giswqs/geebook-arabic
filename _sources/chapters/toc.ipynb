{
 "cells": [
  {
   "cell_type": "markdown",
   "id": "64778c9f",
   "metadata": {},
   "source": [
    "# Table of Contents\n",
    "\n",
    "- [الفصل 1: مدخل الى GEE و geemap](https://book.geemap.org/chapters/01_introduction.html)\n",
    "- [الفصل 2: أنشاء خارطة تفاعلية](https://book.geemap.org/chapters/02_maps.html)\n",
    "- [الفصل 3: أستخدام بيانات Google Earth Engine](https://book.geemap.org/chapters/03_gee_data.html)\n",
    "- [الفصل 4:أستخدام البيانات الجغرافية المكانية المحلية](https://book.geemap.org/chapters/04_local_data.html)\n",
    "- [الفصل 5:أستعراض و تمثيل البيانات الجغرافيه المكانية](https://book.geemap.org/chapters/05_data_viz.html)\n",
    "- [الفصل 6:تحليل البيانات الجغرافية و المكانية](https://book.geemap.org/chapters/06_data_analysis.html)\n",
    "- [الفصل 7:تصدير بيانات Earth Engine](https://book.geemap.org/chapters/07_data_export.html)\n",
    "- [الفصل 8: رسم الخرائط بأستخدام مفهوم كارووي Cartoee](https://book.geemap.org/chapters/08_cartoee.html)\n",
    "- [الفصل 9: خلق صور متحركه حسب الفاصل الزمني Timelapse](https://book.geemap.org/chapters/09_timelapse.html)\n",
    "- [الفصل 10: أنشاء تطبيقات ويب تفاعلية](https://book.geemap.org/chapters/10_webapps.html)\n",
    "- [الفصل 11:تطبيقات Earth Engine](https://book.geemap.org/chapters/11_applications.html)"
   ]
  }
 ],
 "metadata": {
  "jupytext": {
   "text_representation": {
    "extension": ".md",
    "format_name": "myst",
    "format_version": 0.13,
    "jupytext_version": "1.11.5"
   }
  },
  "kernelspec": {
   "display_name": "Python 3",
   "language": "python",
   "name": "python3"
  },
  "source_map": [
   12
  ]
 },
 "nbformat": 4,
 "nbformat_minor": 5
}