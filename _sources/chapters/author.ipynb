{
 "cells": [
  {
   "cell_type": "markdown",
   "id": "ecb0062a",
   "metadata": {},
   "source": [
    "# حول المؤلف\n",
    "البروفسور المساعد الدكتور Dr. Qiusheng Wu  في قسم الجغرافية و الموارد المستدامة في جامعة Tennessee في الولايات المتحدة.  و هو أيضا ضيف اكاديمي خارجي مشارك في أمازون Amazon و مطور في جوجل بدرجه خبير في قسم Earth Engine. من اهم المجالات التي يهتم بها Wu هو كيفيه استخدام البيانات المكانية  في العمليات السحابية على المنصات Google Earth Engine و Microsoft Planetary Computer و Amazon Web Services و كيفيه توظيف ذلك في مجال تشخيص التغيرات عبر الزمن  في البيئة و الهيدرولوجي. له أبحاث مموله من وكالة ناسا ووزارة الزراعة الأمريكية ووزارة الدفاع الأمريكية. له العديد من البحوث المنشورة في الدفاع عن نشر المصادر المفتوحة التي تفيد تطبيقاتها المتكررة إلى دعم العلوم الأخرى. قام الدكتور Wu بنشر الكثير من المكتبات و الحزم المجانية التي تساعد في تحليل و العمل على البيانات المكانية و تمثيل البيانات و النتائج مثل geemap, leafmap, LIDAR, and segment-geospatial. و للمزيد من المعلومات حول مشورات المؤلف زر الموقع الخاص به <https://github.com/opengeos>."
   ]
  }
 ],
 "metadata": {
  "jupytext": {
   "text_representation": {
    "extension": ".md",
    "format_name": "myst",
    "format_version": 0.13,
    "jupytext_version": "1.11.5"
   }
  },
  "kernelspec": {
   "display_name": "Python 3",
   "language": "python",
   "name": "python3"
  },
  "source_map": [
   12
  ]
 },
 "nbformat": 4,
 "nbformat_minor": 5
}