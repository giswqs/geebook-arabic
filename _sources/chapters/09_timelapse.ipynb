{
 "cells": [
  {
   "cell_type": "markdown",
   "id": "ec1a8ddc",
   "metadata": {},
   "source": [
    "# Creating Timelapse Animations\n",
    "\n",
    "```{contents}\n",
    ":local:\n",
    ":depth: 2\n",
    "```\n",
    "\n",
    "## Introduction"
   ]
  },
  {
   "cell_type": "markdown",
   "id": "4f522b23",
   "metadata": {},
   "source": [
    "## Technical requirements\n",
    "\n",
    "```bash\n",
    "conda create -n gee python\n",
    "conda activate gee\n",
    "conda install -c conda-forge mamba\n",
    "mamba install -c conda-forge pygis\n",
    "```\n",
    "\n",
    "```bash\n",
    "jupyter lab\n",
    "```"
   ]
  },
  {
   "cell_type": "code",
   "execution_count": null,
   "id": "643142db",
   "metadata": {},
   "outputs": [],
   "source": [
    "# %pip install pygis"
   ]
  },
  {
   "cell_type": "code",
   "execution_count": null,
   "id": "0af022fa",
   "metadata": {},
   "outputs": [],
   "source": [
    "import ee\n",
    "import geemap"
   ]
  },
  {
   "cell_type": "code",
   "execution_count": null,
   "id": "32299e64",
   "metadata": {},
   "outputs": [],
   "source": [
    "geemap.ee_initialize()"
   ]
  },
  {
   "cell_type": "markdown",
   "id": "669e7c5b",
   "metadata": {},
   "source": [
    "## The map function"
   ]
  },
  {
   "cell_type": "code",
   "execution_count": null,
   "id": "4a4a8858",
   "metadata": {},
   "outputs": [],
   "source": [
    "myList = ee.List.sequence(1, 10)\n",
    "myList"
   ]
  },
  {
   "cell_type": "code",
   "execution_count": null,
   "id": "4bf5b920",
   "metadata": {},
   "outputs": [],
   "source": [
    "def computeSquares(number):\n",
    "    return ee.Number(number).pow(2)\n",
    "\n",
    "\n",
    "squares = myList.map(computeSquares)\n",
    "squares"
   ]
  },
  {
   "cell_type": "code",
   "execution_count": null,
   "id": "de2fa914",
   "metadata": {},
   "outputs": [],
   "source": [
    "squares = myList.map(lambda number: ee.Number(number).pow(2))\n",
    "squares"
   ]
  },
  {
   "cell_type": "markdown",
   "id": "f3b91251",
   "metadata": {},
   "source": [
    "## Creating cloud-free composites"
   ]
  },
  {
   "cell_type": "code",
   "execution_count": null,
   "id": "92756003",
   "metadata": {},
   "outputs": [],
   "source": [
    "Map = geemap.Map()\n",
    "fc = ee.FeatureCollection('USDOS/LSIB_SIMPLE/2017').filter(\n",
    "    ee.Filter.eq('country_na', 'Netherlands')\n",
    ")\n",
    "\n",
    "Map.addLayer(fc, {'color': 'ff000000'}, \"Netherlands\")\n",
    "Map.centerObject(fc)\n",
    "Map"
   ]
  },
  {
   "cell_type": "code",
   "execution_count": null,
   "id": "fa6c5902",
   "metadata": {},
   "outputs": [],
   "source": [
    "years = ee.List.sequence(2013, 2022)"
   ]
  },
  {
   "cell_type": "code",
   "execution_count": null,
   "id": "6bc61912",
   "metadata": {},
   "outputs": [],
   "source": [
    "def yearly_image(year):\n",
    "\n",
    "    start_date = ee.Date.fromYMD(year, 1, 1)\n",
    "    end_date = start_date.advance(1, \"year\")\n",
    "\n",
    "    collection = (\n",
    "        ee.ImageCollection('LANDSAT/LC08/C02/T1')\n",
    "        .filterDate(start_date, end_date)\n",
    "        .filterBounds(fc)\n",
    "    )\n",
    "\n",
    "    image = ee.Algorithms.Landsat.simpleComposite(collection).clipToCollection(fc)\n",
    "\n",
    "    return image"
   ]
  },
  {
   "cell_type": "code",
   "execution_count": null,
   "id": "f14ffc4a",
   "metadata": {},
   "outputs": [],
   "source": [
    "images = years.map(yearly_image)"
   ]
  },
  {
   "cell_type": "code",
   "execution_count": null,
   "id": "6a608ceb",
   "metadata": {},
   "outputs": [],
   "source": [
    "vis_params = {'bands': ['B5', 'B4', 'B3'], 'max': 128}\n",
    "for index in range(0, 10):\n",
    "    image = ee.Image(images.get(index))\n",
    "    layer_name = \"Year \" + str(index + 2013)\n",
    "    Map.addLayer(image, vis_params, layer_name)\n",
    "Map"
   ]
  },
  {
   "cell_type": "markdown",
   "id": "73670f99",
   "metadata": {},
   "source": [
    "## Creating time series"
   ]
  },
  {
   "cell_type": "code",
   "execution_count": null,
   "id": "08ba4a68",
   "metadata": {},
   "outputs": [],
   "source": [
    "collection = ee.ImageCollection(\"COPERNICUS/S2_HARMONIZED\").filterMetadata(\n",
    "    'CLOUDY_PIXEL_PERCENTAGE', 'less_than', 10\n",
    ")"
   ]
  },
  {
   "cell_type": "code",
   "execution_count": null,
   "id": "2e623d7b",
   "metadata": {},
   "outputs": [],
   "source": [
    "start_date = '2016-01-01'\n",
    "end_date = '2022-12-31'\n",
    "region = ee.Geometry.BBox(-122.5549, 37.6968, -122.3446, 37.8111)"
   ]
  },
  {
   "cell_type": "code",
   "execution_count": null,
   "id": "c380dfd5",
   "metadata": {},
   "outputs": [],
   "source": [
    "images = geemap.create_timeseries(\n",
    "    collection, start_date, end_date, region, frequency='year', reducer='median'\n",
    ")\n",
    "images"
   ]
  },
  {
   "cell_type": "code",
   "execution_count": null,
   "id": "8b5870b8",
   "metadata": {},
   "outputs": [],
   "source": [
    "Map = geemap.Map()\n",
    "\n",
    "vis_params = {\"min\": 0, \"max\": 4000, \"bands\": [\"B8\", \"B4\", \"B3\"]}\n",
    "labels = [str(y) for y in range(2016, 2023)]\n",
    "\n",
    "Map.addLayer(images, vis_params, \"Sentinel-2\", False)\n",
    "Map.add_time_slider(images, vis_params, time_interval=2, labels=labels)\n",
    "Map.centerObject(region)\n",
    "Map"
   ]
  },
  {
   "cell_type": "markdown",
   "id": "59e2c2fb",
   "metadata": {},
   "source": [
    "## NAIP timelapse"
   ]
  },
  {
   "cell_type": "code",
   "execution_count": null,
   "id": "24931d14",
   "metadata": {},
   "outputs": [],
   "source": [
    "Map = geemap.Map(center=[40, -100], zoom=4)\n",
    "Map"
   ]
  },
  {
   "cell_type": "code",
   "execution_count": null,
   "id": "70704a61",
   "metadata": {},
   "outputs": [],
   "source": [
    "roi = Map.user_roi\n",
    "if roi is None:\n",
    "    roi = ee.Geometry.BBox(-99.1019, 47.1274, -99.0334, 47.1562)\n",
    "    Map.addLayer(roi)\n",
    "    Map.centerObject(roi)"
   ]
  },
  {
   "cell_type": "code",
   "execution_count": null,
   "id": "779fec51",
   "metadata": {},
   "outputs": [],
   "source": [
    "collection = geemap.naip_timeseries(roi, start_year=2009, end_year=2022, RGBN=True)"
   ]
  },
  {
   "cell_type": "code",
   "execution_count": null,
   "id": "411b1f97",
   "metadata": {},
   "outputs": [],
   "source": [
    "years = geemap.image_dates(collection, date_format='YYYY').getInfo()\n",
    "print(years)"
   ]
  },
  {
   "cell_type": "code",
   "execution_count": null,
   "id": "74c16ed5",
   "metadata": {},
   "outputs": [],
   "source": [
    "size = len(years)\n",
    "images = collection.toList(size)\n",
    "for i in range(size):\n",
    "    image = ee.Image(images.get(i))\n",
    "    Map.addLayer(image, {'bands': ['N', 'R', 'G']}, years[i])\n",
    "Map"
   ]
  },
  {
   "cell_type": "code",
   "execution_count": null,
   "id": "40ca14e9",
   "metadata": {},
   "outputs": [],
   "source": [
    "timelapse = geemap.naip_timelapse(\n",
    "    roi,\n",
    "    out_gif=\"naip.gif\",\n",
    "    bands=['N', 'R', 'G'],\n",
    "    frames_per_second=3,\n",
    "    title='NAIP Timelapse',\n",
    ")\n",
    "geemap.show_image(timelapse)"
   ]
  },
  {
   "cell_type": "markdown",
   "id": "a40ddef0",
   "metadata": {},
   "source": [
    "## Landsat timelapse"
   ]
  },
  {
   "cell_type": "code",
   "execution_count": null,
   "id": "fd7c2866",
   "metadata": {},
   "outputs": [],
   "source": [
    "Map = geemap.Map()\n",
    "Map"
   ]
  },
  {
   "cell_type": "code",
   "execution_count": null,
   "id": "4c9c4c8d",
   "metadata": {},
   "outputs": [],
   "source": [
    "roi = Map.user_roi\n",
    "if roi is None:\n",
    "    roi = ee.Geometry.BBox(-74.7222, -8.5867, -74.1596, -8.2824)\n",
    "    Map.addLayer(roi)\n",
    "    Map.centerObject(roi)"
   ]
  },
  {
   "cell_type": "code",
   "execution_count": null,
   "id": "2b32d59f",
   "metadata": {},
   "outputs": [],
   "source": [
    "timelapse = geemap.landsat_timelapse(\n",
    "    roi,\n",
    "    out_gif='landsat.gif',\n",
    "    start_year=1984,\n",
    "    end_year=2022,\n",
    "    start_date='01-01',\n",
    "    end_date='12-31',\n",
    "    bands=['SWIR1', 'NIR', 'Red'],\n",
    "    frames_per_second=5,\n",
    "    title='Landsat Timelapse',\n",
    "    progress_bar_color='blue',\n",
    "    mp4=True,\n",
    ")\n",
    "geemap.show_image(timelapse)"
   ]
  },
  {
   "cell_type": "code",
   "execution_count": null,
   "id": "bb8b7325",
   "metadata": {},
   "outputs": [],
   "source": [
    "Map = geemap.Map()\n",
    "roi = ee.Geometry.BBox(-115.5541, 35.8044, -113.9035, 36.5581)\n",
    "Map.addLayer(roi)\n",
    "Map.centerObject(roi)\n",
    "Map"
   ]
  },
  {
   "cell_type": "code",
   "execution_count": null,
   "id": "55e6e0a3",
   "metadata": {},
   "outputs": [],
   "source": [
    "timelapse = geemap.landsat_timelapse(\n",
    "    roi,\n",
    "    out_gif='las_vegas.gif',\n",
    "    start_year=1984,\n",
    "    end_year=2022,\n",
    "    bands=['NIR', 'Red', 'Green'],\n",
    "    frames_per_second=5,\n",
    "    title='Las Vegas, NV',\n",
    "    font_color='blue',\n",
    ")\n",
    "geemap.show_image(timelapse)"
   ]
  },
  {
   "cell_type": "code",
   "execution_count": null,
   "id": "9a75b8d1",
   "metadata": {},
   "outputs": [],
   "source": [
    "Map = geemap.Map()\n",
    "roi = ee.Geometry.BBox(113.8252, 22.1988, 114.0851, 22.3497)\n",
    "Map.addLayer(roi)\n",
    "Map.centerObject(roi)\n",
    "Map"
   ]
  },
  {
   "cell_type": "code",
   "execution_count": null,
   "id": "05b1f430",
   "metadata": {},
   "outputs": [],
   "source": [
    "timelapse = geemap.landsat_timelapse(\n",
    "    roi,\n",
    "    out_gif='hong_kong.gif',\n",
    "    start_year=1990,\n",
    "    end_year=2022,\n",
    "    start_date='01-01',\n",
    "    end_date='12-31',\n",
    "    bands=['SWIR1', 'NIR', 'Red'],\n",
    "    frames_per_second=3,\n",
    "    title='Hong Kong',\n",
    ")\n",
    "geemap.show_image(timelapse)"
   ]
  },
  {
   "cell_type": "markdown",
   "id": "33fb9d16",
   "metadata": {},
   "source": [
    "## Sentinel-1 timelapse"
   ]
  },
  {
   "cell_type": "code",
   "execution_count": null,
   "id": "4e797cc9",
   "metadata": {},
   "outputs": [],
   "source": [
    "Map = geemap.Map()\n",
    "Map"
   ]
  },
  {
   "cell_type": "code",
   "execution_count": null,
   "id": "87b31a02",
   "metadata": {},
   "outputs": [],
   "source": [
    "roi = Map.user_roi\n",
    "if roi is None:\n",
    "    roi = ee.Geometry.BBox(117.1132, 3.5227, 117.2214, 3.5843)\n",
    "    Map.addLayer(roi)\n",
    "    Map.centerObject(roi)"
   ]
  },
  {
   "cell_type": "code",
   "execution_count": null,
   "id": "1a4b1ed0",
   "metadata": {},
   "outputs": [],
   "source": [
    "timelapse = geemap.sentinel1_timelapse(\n",
    "    roi,\n",
    "    out_gif='sentinel1.gif',\n",
    "    start_year=2019,\n",
    "    end_year=2019,\n",
    "    start_date='04-01',\n",
    "    end_date='08-01',\n",
    "    bands=['VV'],\n",
    "    frequency='day',\n",
    "    vis_params={\"min\": -30, \"max\": 0},\n",
    "    palette=\"Greys\",\n",
    "    frames_per_second=3,\n",
    "    title='Sentinel-1 Timelapse',\n",
    "    add_colorbar=True,\n",
    "    colorbar_bg_color='gray',\n",
    ")\n",
    "geemap.show_image(timelapse)"
   ]
  },
  {
   "cell_type": "markdown",
   "id": "56e2c4e6",
   "metadata": {},
   "source": [
    "## Sentinel-2 timelapse"
   ]
  },
  {
   "cell_type": "code",
   "execution_count": null,
   "id": "e7b665bb",
   "metadata": {},
   "outputs": [],
   "source": [
    "Map = geemap.Map()\n",
    "Map"
   ]
  },
  {
   "cell_type": "code",
   "execution_count": null,
   "id": "0accb25b",
   "metadata": {},
   "outputs": [],
   "source": [
    "roi = Map.user_roi\n",
    "if roi is None:\n",
    "    roi = ee.Geometry.BBox(-74.7222, -8.5867, -74.1596, -8.2824)\n",
    "    Map.addLayer(roi)\n",
    "    Map.centerObject(roi)"
   ]
  },
  {
   "cell_type": "code",
   "execution_count": null,
   "id": "794342bf",
   "metadata": {},
   "outputs": [],
   "source": [
    "timelapse = geemap.sentinel2_timelapse(\n",
    "    roi,\n",
    "    out_gif='sentinel2.gif',\n",
    "    start_year=2016,\n",
    "    end_year=2021,\n",
    "    start_date='01-01',\n",
    "    end_date='12-31',\n",
    "    frequency='year',\n",
    "    bands=['SWIR1', 'NIR', 'Red'],\n",
    "    frames_per_second=3,\n",
    "    title='Sentinel-2 Timelapse',\n",
    ")\n",
    "geemap.show_image(timelapse)"
   ]
  },
  {
   "cell_type": "markdown",
   "id": "4068e2f2",
   "metadata": {},
   "source": [
    "## MODIS timelapse\n",
    "\n",
    "### MODIS vegetation indices"
   ]
  },
  {
   "cell_type": "code",
   "execution_count": null,
   "id": "b6e9ead0",
   "metadata": {},
   "outputs": [],
   "source": [
    "Map = geemap.Map()\n",
    "Map"
   ]
  },
  {
   "cell_type": "code",
   "execution_count": null,
   "id": "b63effed",
   "metadata": {},
   "outputs": [],
   "source": [
    "roi = Map.user_roi\n",
    "if roi is None:\n",
    "    roi = ee.Geometry.BBox(-18.6983, -36.1630, 52.2293, 38.1446)\n",
    "    Map.addLayer(roi)\n",
    "    Map.centerObject(roi)"
   ]
  },
  {
   "cell_type": "code",
   "execution_count": null,
   "id": "c12ac68c",
   "metadata": {},
   "outputs": [],
   "source": [
    "timelapse = geemap.modis_ndvi_timelapse(\n",
    "    roi,\n",
    "    out_gif='ndvi.gif',\n",
    "    data='Terra',\n",
    "    band='NDVI',\n",
    "    start_date='2000-01-01',\n",
    "    end_date='2022-12-31',\n",
    "    frames_per_second=3,\n",
    "    title='MODIS NDVI Timelapse',\n",
    "    overlay_data='countries',\n",
    ")\n",
    "geemap.show_image(timelapse)"
   ]
  },
  {
   "cell_type": "markdown",
   "id": "8fad071f",
   "metadata": {},
   "source": [
    "### MODIS temperature"
   ]
  },
  {
   "cell_type": "code",
   "execution_count": null,
   "id": "1a51ac89",
   "metadata": {},
   "outputs": [],
   "source": [
    "Map = geemap.Map()\n",
    "Map"
   ]
  },
  {
   "cell_type": "code",
   "execution_count": null,
   "id": "dc2e6fbb",
   "metadata": {},
   "outputs": [],
   "source": [
    "roi = Map.user_roi\n",
    "if roi is None:\n",
    "    roi = ee.Geometry.BBox(-171.21, -57.13, 177.53, 79.99)\n",
    "    Map.addLayer(roi)\n",
    "    Map.centerObject(roi)"
   ]
  },
  {
   "cell_type": "code",
   "execution_count": null,
   "id": "693cdf7b",
   "metadata": {},
   "outputs": [],
   "source": [
    "timelapse = geemap.modis_ocean_color_timelapse(\n",
    "    satellite='Aqua',\n",
    "    start_date='2018-01-01',\n",
    "    end_date='2020-12-31',\n",
    "    roi=roi,\n",
    "    frequency='month',\n",
    "    out_gif='temperature.gif',\n",
    "    overlay_data='continents',\n",
    "    overlay_color='yellow',\n",
    "    overlay_opacity=0.5,\n",
    ")\n",
    "geemap.show_image(timelapse)"
   ]
  },
  {
   "cell_type": "markdown",
   "id": "046c2974",
   "metadata": {},
   "source": [
    "## GOES timelapse"
   ]
  },
  {
   "cell_type": "code",
   "execution_count": null,
   "id": "2d43fbe4",
   "metadata": {},
   "outputs": [],
   "source": [
    "roi = ee.Geometry.BBox(167.1898, -28.5757, 202.6258, -12.4411)\n",
    "start_date = \"2022-01-15T03:00:00\"\n",
    "end_date = \"2022-01-15T07:00:00\"\n",
    "data = \"GOES-17\"\n",
    "scan = \"full_disk\""
   ]
  },
  {
   "cell_type": "code",
   "execution_count": null,
   "id": "3aa4d9cc",
   "metadata": {},
   "outputs": [],
   "source": [
    "timelapse = geemap.goes_timelapse(\n",
    "    roi, \"goes.gif\", start_date, end_date, data, scan, framesPerSecond=5\n",
    ")\n",
    "geemap.show_image(timelapse)"
   ]
  },
  {
   "cell_type": "code",
   "execution_count": null,
   "id": "bd3966f3",
   "metadata": {},
   "outputs": [],
   "source": [
    "roi = ee.Geometry.BBox(-159.5954, 24.5178, -114.2438, 60.4088)\n",
    "start_date = \"2021-10-24T14:00:00\"\n",
    "end_date = \"2021-10-25T01:00:00\"\n",
    "data = \"GOES-17\"\n",
    "scan = \"full_disk\""
   ]
  },
  {
   "cell_type": "code",
   "execution_count": null,
   "id": "e3f3b935",
   "metadata": {},
   "outputs": [],
   "source": [
    "timelapse = geemap.goes_timelapse(\n",
    "    roi, \"hurricane.gif\", start_date, end_date, data, scan, framesPerSecond=5\n",
    ")\n",
    "geemap.show_image(timelapse)"
   ]
  },
  {
   "cell_type": "code",
   "execution_count": null,
   "id": "6f46fc77",
   "metadata": {},
   "outputs": [],
   "source": [
    "roi = ee.Geometry.BBox(-121.0034, 36.8488, -117.9052, 39.0490)\n",
    "start_date = \"2020-09-05T15:00:00\"\n",
    "end_date = \"2020-09-06T02:00:00\"\n",
    "data = \"GOES-17\"\n",
    "scan = \"full_disk\""
   ]
  },
  {
   "cell_type": "code",
   "execution_count": null,
   "id": "f278edad",
   "metadata": {},
   "outputs": [],
   "source": [
    "timelapse = geemap.goes_fire_timelapse(\n",
    "    roi, \"fire.gif\", start_date, end_date, data, scan, framesPerSecond=5\n",
    ")\n",
    "geemap.show_image(timelapse)"
   ]
  },
  {
   "cell_type": "markdown",
   "id": "250b428e",
   "metadata": {},
   "source": [
    "## Fading effects"
   ]
  },
  {
   "cell_type": "code",
   "execution_count": null,
   "id": "3ab0417d",
   "metadata": {},
   "outputs": [],
   "source": [
    "in_gif = \"https://i.imgur.com/ZWSZC5z.gif\"\n",
    "geemap.show_image(in_gif)"
   ]
  },
  {
   "cell_type": "code",
   "execution_count": null,
   "id": "4b1105ca",
   "metadata": {},
   "outputs": [],
   "source": [
    "out_gif = \"gif_fading.gif\"\n",
    "geemap.gif_fading(in_gif, out_gif, verbose=False)\n",
    "geemap.show_image(out_gif)"
   ]
  },
  {
   "cell_type": "code",
   "execution_count": null,
   "id": "88f168b0",
   "metadata": {},
   "outputs": [],
   "source": [
    "roi = ee.Geometry.BBox(-69.3154, -22.8371, -69.1900, -22.7614)\n",
    "timelapse = geemap.landsat_timelapse(\n",
    "    roi,\n",
    "    out_gif='mines.gif',\n",
    "    start_year=2004,\n",
    "    end_year=2010,\n",
    "    frames_per_second=1,\n",
    "    title='Copper mines, Chile',\n",
    "    fading=True,\n",
    ")\n",
    "geemap.show_image(timelapse)"
   ]
  },
  {
   "cell_type": "markdown",
   "id": "e3c13620",
   "metadata": {},
   "source": [
    "## Adding text to timelapse"
   ]
  },
  {
   "cell_type": "code",
   "execution_count": null,
   "id": "ed09a406",
   "metadata": {},
   "outputs": [],
   "source": [
    "url = 'https://i.imgur.com/Rx0wjSw.gif'\n",
    "in_gif = 'animation.gif'\n",
    "geemap.download_file(url, in_gif)\n",
    "geemap.show_image(in_gif)"
   ]
  },
  {
   "cell_type": "code",
   "execution_count": null,
   "id": "404b24cc",
   "metadata": {},
   "outputs": [],
   "source": [
    "out_gif = 'las_vegas.gif'\n",
    "geemap.add_text_to_gif(\n",
    "    in_gif,\n",
    "    out_gif,\n",
    "    xy=('3%', '5%'),\n",
    "    text_sequence=1984,\n",
    "    font_size=30,\n",
    "    font_color='#0000ff',\n",
    "    add_progress_bar=True,\n",
    "    progress_bar_color='#ffffff',\n",
    "    progress_bar_height=5,\n",
    "    duration=100,\n",
    "    loop=0,\n",
    ")\n",
    "geemap.show_image(out_gif)"
   ]
  },
  {
   "cell_type": "code",
   "execution_count": null,
   "id": "4e51f987",
   "metadata": {},
   "outputs": [],
   "source": [
    "geemap.add_text_to_gif(\n",
    "    out_gif, out_gif, xy=('45%', '90%'), text_sequence=\"Las Vegas\", font_color='black'\n",
    ")\n",
    "geemap.show_image(out_gif)"
   ]
  },
  {
   "cell_type": "markdown",
   "id": "b07fc417",
   "metadata": {},
   "source": [
    "## Adding image and colorbar to timelapse\n",
    "\n",
    "### Preparing data"
   ]
  },
  {
   "cell_type": "code",
   "execution_count": null,
   "id": "ec8775e7",
   "metadata": {},
   "outputs": [],
   "source": [
    "aoi = ee.Geometry.Polygon(\n",
    "    [[[-179.0, 78.0], [-179.0, -58.0], [179.0, -58.0], [179.0, 78.0]]], None, False\n",
    ")\n",
    "\n",
    "collection = (\n",
    "    ee.ImageCollection('NOAA/GFS0P25')\n",
    "    .filterDate('2018-12-22', '2018-12-23')\n",
    "    .limit(24)\n",
    "    .select('temperature_2m_above_ground')\n",
    ")\n",
    "\n",
    "video_args = {\n",
    "    'dimensions': 768,\n",
    "    'region': aoi,\n",
    "    'framesPerSecond': 10,\n",
    "    'crs': 'EPSG:3857',\n",
    "    'min': -35.0,\n",
    "    'max': 35.0,\n",
    "    'palette': ['blue', 'purple', 'cyan', 'green', 'yellow', 'red'],\n",
    "}\n",
    "\n",
    "saved_gif = 'temperature.gif'\n",
    "geemap.download_ee_video(collection, video_args, saved_gif)\n",
    "geemap.show_image(saved_gif)"
   ]
  },
  {
   "cell_type": "markdown",
   "id": "9e621c24",
   "metadata": {},
   "source": [
    "### Adding animated text"
   ]
  },
  {
   "cell_type": "code",
   "execution_count": null,
   "id": "daeb11e9",
   "metadata": {},
   "outputs": [],
   "source": [
    "text = [str(n).zfill(2) + \":00\" for n in range(0, 24)]\n",
    "out_gif = 'temperature_v2.gif'\n",
    "geemap.add_text_to_gif(\n",
    "    saved_gif,\n",
    "    out_gif,\n",
    "    xy=('3%', '5%'),\n",
    "    text_sequence=text,\n",
    "    font_size=30,\n",
    "    font_color='#ffffff',\n",
    ")\n",
    "\n",
    "geemap.add_text_to_gif(\n",
    "    out_gif,\n",
    "    out_gif,\n",
    "    xy=('32%', '92%'),\n",
    "    text_sequence='NOAA GFS Hourly Temperature',\n",
    "    font_color='white',\n",
    ")\n",
    "geemap.show_image(out_gif)"
   ]
  },
  {
   "cell_type": "markdown",
   "id": "d784c1fc",
   "metadata": {},
   "source": [
    "### Adding logo"
   ]
  },
  {
   "cell_type": "code",
   "execution_count": null,
   "id": "a4d8c710",
   "metadata": {},
   "outputs": [],
   "source": [
    "noaa_logo = 'https://i.imgur.com/gZ6BYZB.png'\n",
    "ee_logo = 'https://i.imgur.com/Qbvacvm.jpg'\n",
    "\n",
    "geemap.add_image_to_gif(\n",
    "    out_gif, out_gif, in_image=noaa_logo, xy=('2%', '80%'), image_size=(80, 80)\n",
    ")\n",
    "\n",
    "geemap.add_image_to_gif(\n",
    "    out_gif, out_gif, in_image=ee_logo, xy=('13%', '79%'), image_size=(85, 85)\n",
    ")"
   ]
  },
  {
   "cell_type": "markdown",
   "id": "f848b752",
   "metadata": {},
   "source": [
    "### Adding colorbar"
   ]
  },
  {
   "cell_type": "code",
   "execution_count": null,
   "id": "676ae6f8",
   "metadata": {},
   "outputs": [],
   "source": [
    "palette = ['blue', 'purple', 'cyan', 'green', 'yellow', 'red']\n",
    "colorbar = geemap.save_colorbar(width=2.5, height=0.3, vmin=-35, vmax=35, palette=palette, transparent=True)\n",
    "geemap.show_image(colorbar)"
   ]
  },
  {
   "cell_type": "code",
   "execution_count": null,
   "id": "80a34a37",
   "metadata": {},
   "outputs": [],
   "source": [
    "geemap.add_image_to_gif(\n",
    "    out_gif, out_gif, in_image=colorbar, xy=('72%', '85%'), image_size=(250, 250)\n",
    ")\n",
    "geemap.show_image(out_gif)"
   ]
  },
  {
   "cell_type": "markdown",
   "id": "3be7ecee",
   "metadata": {},
   "source": [
    "## Summary"
   ]
  }
 ],
 "metadata": {
  "jupytext": {
   "text_representation": {
    "extension": ".md",
    "format_name": "myst",
    "format_version": 0.13,
    "jupytext_version": "1.14.4"
   }
  },
  "kernelspec": {
   "display_name": "geo",
   "language": "python",
   "name": "python3"
  },
  "source_map": [
   12,
   23,
   38,
   42,
   47,
   49,
   53,
   58,
   67,
   72,
   76,
   87,
   91,
   108,
   112,
   121,
   125,
   131,
   137,
   144,
   158,
   162,
   167,
   175,
   179,
   184,
   193,
   202,
   206,
   211,
   219,
   236,
   244,
   258,
   266,
   279,
   283,
   288,
   296,
   314,
   318,
   323,
   331,
   345,
   351,
   356,
   364,
   377,
   381,
   386,
   394,
   407,
   411,
   419,
   426,
   434,
   441,
   449,
   454,
   458,
   463,
   469,
   483,
   487,
   494,
   512,
   519,
   525,
   550,
   554,
   574,
   578,
   589,
   593,
   599,
   606
  ]
 },
 "nbformat": 4,
 "nbformat_minor": 5
}