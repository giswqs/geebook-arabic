{
 "cells": [
  {
   "cell_type": "markdown",
   "id": "305d258c",
   "metadata": {},
   "source": [
    "# خلق صور متحركة حسب الفاصل الزمني\n",
    "\n",
    "```{contents}\n",
    ":local:\n",
    ":depth: 2\n",
    "```\n",
    "\n",
    "## مدخل"
   ]
  },
  {
   "cell_type": "markdown",
   "id": "7590e1d1",
   "metadata": {},
   "source": [
    "## المتطلبات التقنية\n",
    "\n",
    "```bash\n",
    "conda create -n gee python\n",
    "conda activate gee\n",
    "conda install -c conda-forge mamba\n",
    "mamba install -c conda-forge pygis\n",
    "```\n",
    "\n",
    "```bash\n",
    "jupyter lab\n",
    "```"
   ]
  },
  {
   "cell_type": "code",
   "execution_count": null,
   "id": "2c8007df",
   "metadata": {},
   "outputs": [],
   "source": [
    "# %pip install pygis"
   ]
  },
  {
   "cell_type": "code",
   "execution_count": null,
   "id": "bf6f7337",
   "metadata": {},
   "outputs": [],
   "source": [
    "import ee\n",
    "import geemap"
   ]
  },
  {
   "cell_type": "code",
   "execution_count": null,
   "id": "10f5adfd",
   "metadata": {},
   "outputs": [],
   "source": [
    "geemap.ee_initialize()"
   ]
  },
  {
   "cell_type": "markdown",
   "id": "4e644fce",
   "metadata": {},
   "source": [
    "## دالة الخرائط"
   ]
  },
  {
   "cell_type": "code",
   "execution_count": null,
   "id": "cfbb6cd0",
   "metadata": {},
   "outputs": [],
   "source": [
    "myList = ee.List.sequence(1, 10)\n",
    "myList"
   ]
  },
  {
   "cell_type": "code",
   "execution_count": null,
   "id": "72987f8d",
   "metadata": {},
   "outputs": [],
   "source": [
    "def computeSquares(number):\n",
    "    return ee.Number(number).pow(2)\n",
    "\n",
    "\n",
    "squares = myList.map(computeSquares)\n",
    "squares"
   ]
  },
  {
   "cell_type": "code",
   "execution_count": null,
   "id": "c0d71871",
   "metadata": {},
   "outputs": [],
   "source": [
    "squares = myList.map(lambda number: ee.Number(number).pow(2))\n",
    "squares"
   ]
  },
  {
   "cell_type": "markdown",
   "id": "b3d82c6b",
   "metadata": {},
   "source": [
    "## خلق تجميع صور خالي من الغيوم"
   ]
  },
  {
   "cell_type": "code",
   "execution_count": null,
   "id": "0be534e0",
   "metadata": {},
   "outputs": [],
   "source": [
    "Map = geemap.Map()\n",
    "fc = ee.FeatureCollection('USDOS/LSIB_SIMPLE/2017').filter(\n",
    "    ee.Filter.eq('country_na', 'Netherlands')\n",
    ")\n",
    "\n",
    "Map.addLayer(fc, {'color': 'ff000000'}, \"Netherlands\")\n",
    "Map.centerObject(fc)\n",
    "Map"
   ]
  },
  {
   "cell_type": "code",
   "execution_count": null,
   "id": "d8f49572",
   "metadata": {},
   "outputs": [],
   "source": [
    "years = ee.List.sequence(2013, 2022)"
   ]
  },
  {
   "cell_type": "code",
   "execution_count": null,
   "id": "88dbff17",
   "metadata": {},
   "outputs": [],
   "source": [
    "def yearly_image(year):\n",
    "\n",
    "    start_date = ee.Date.fromYMD(year, 1, 1)\n",
    "    end_date = start_date.advance(1, \"year\")\n",
    "\n",
    "    collection = (\n",
    "        ee.ImageCollection('LANDSAT/LC08/C02/T1')\n",
    "        .filterDate(start_date, end_date)\n",
    "        .filterBounds(fc)\n",
    "    )\n",
    "\n",
    "    image = ee.Algorithms.Landsat.simpleComposite(collection).clipToCollection(fc)\n",
    "\n",
    "    return image"
   ]
  },
  {
   "cell_type": "code",
   "execution_count": null,
   "id": "2bdca998",
   "metadata": {},
   "outputs": [],
   "source": [
    "images = years.map(yearly_image)"
   ]
  },
  {
   "cell_type": "code",
   "execution_count": null,
   "id": "3f226eeb",
   "metadata": {},
   "outputs": [],
   "source": [
    "vis_params = {'bands': ['B5', 'B4', 'B3'], 'max': 128}\n",
    "for index in range(0, 10):\n",
    "    image = ee.Image(images.get(index))\n",
    "    layer_name = \"Year \" + str(index + 2013)\n",
    "    Map.addLayer(image, vis_params, layer_name)\n",
    "Map"
   ]
  },
  {
   "cell_type": "markdown",
   "id": "c2df1471",
   "metadata": {},
   "source": [
    "## خلق السلسلة الزمنية"
   ]
  },
  {
   "cell_type": "code",
   "execution_count": null,
   "id": "ec205b84",
   "metadata": {},
   "outputs": [],
   "source": [
    "collection = ee.ImageCollection(\"COPERNICUS/S2_HARMONIZED\").filterMetadata(\n",
    "    'CLOUDY_PIXEL_PERCENTAGE', 'less_than', 10\n",
    ")"
   ]
  },
  {
   "cell_type": "code",
   "execution_count": null,
   "id": "3061d9f0",
   "metadata": {},
   "outputs": [],
   "source": [
    "start_date = '2016-01-01'\n",
    "end_date = '2022-12-31'\n",
    "region = ee.Geometry.BBox(-122.5549, 37.6968, -122.3446, 37.8111)"
   ]
  },
  {
   "cell_type": "code",
   "execution_count": null,
   "id": "fd2d2b9d",
   "metadata": {},
   "outputs": [],
   "source": [
    "images = geemap.create_timeseries(\n",
    "    collection, start_date, end_date, region, frequency='year', reducer='median'\n",
    ")\n",
    "images"
   ]
  },
  {
   "cell_type": "code",
   "execution_count": null,
   "id": "5ba15862",
   "metadata": {},
   "outputs": [],
   "source": [
    "Map = geemap.Map()\n",
    "\n",
    "vis_params = {\"min\": 0, \"max\": 4000, \"bands\": [\"B8\", \"B4\", \"B3\"]}\n",
    "labels = [str(y) for y in range(2016, 2023)]\n",
    "\n",
    "Map.addLayer(images, vis_params, \"Sentinel-2\", False)\n",
    "Map.add_time_slider(images, vis_params, time_interval=2, labels=labels)\n",
    "Map.centerObject(region)\n",
    "Map"
   ]
  },
  {
   "cell_type": "markdown",
   "id": "3b8a3d2b",
   "metadata": {},
   "source": [
    "## استخدام الفاصل الزمني نوع NAIP"
   ]
  },
  {
   "cell_type": "code",
   "execution_count": null,
   "id": "1699dab8",
   "metadata": {},
   "outputs": [],
   "source": [
    "Map = geemap.Map(center=[40, -100], zoom=4)\n",
    "Map"
   ]
  },
  {
   "cell_type": "code",
   "execution_count": null,
   "id": "57b9da87",
   "metadata": {},
   "outputs": [],
   "source": [
    "roi = Map.user_roi\n",
    "if roi is None:\n",
    "    roi = ee.Geometry.BBox(-99.1019, 47.1274, -99.0334, 47.1562)\n",
    "    Map.addLayer(roi)\n",
    "    Map.centerObject(roi)"
   ]
  },
  {
   "cell_type": "code",
   "execution_count": null,
   "id": "265d263c",
   "metadata": {},
   "outputs": [],
   "source": [
    "collection = geemap.naip_timeseries(roi, start_year=2009, end_year=2022, RGBN=True)"
   ]
  },
  {
   "cell_type": "code",
   "execution_count": null,
   "id": "df59c622",
   "metadata": {},
   "outputs": [],
   "source": [
    "years = geemap.image_dates(collection, date_format='YYYY').getInfo()\n",
    "print(years)"
   ]
  },
  {
   "cell_type": "code",
   "execution_count": null,
   "id": "1b157a71",
   "metadata": {},
   "outputs": [],
   "source": [
    "size = len(years)\n",
    "images = collection.toList(size)\n",
    "for i in range(size):\n",
    "    image = ee.Image(images.get(i))\n",
    "    Map.addLayer(image, {'bands': ['N', 'R', 'G']}, years[i])\n",
    "Map"
   ]
  },
  {
   "cell_type": "code",
   "execution_count": null,
   "id": "e7d5fee1",
   "metadata": {},
   "outputs": [],
   "source": [
    "timelapse = geemap.naip_timelapse(\n",
    "    roi,\n",
    "    out_gif=\"naip.gif\",\n",
    "    bands=['N', 'R', 'G'],\n",
    "    frames_per_second=3,\n",
    "    title='NAIP Timelapse',\n",
    ")\n",
    "geemap.show_image(timelapse)"
   ]
  },
  {
   "cell_type": "markdown",
   "id": "883dbcef",
   "metadata": {},
   "source": [
    "## الفاصل الزمني Landsat"
   ]
  },
  {
   "cell_type": "code",
   "execution_count": null,
   "id": "f8aa6a08",
   "metadata": {},
   "outputs": [],
   "source": [
    "Map = geemap.Map()\n",
    "Map"
   ]
  },
  {
   "cell_type": "code",
   "execution_count": null,
   "id": "a0e8f7ff",
   "metadata": {},
   "outputs": [],
   "source": [
    "roi = Map.user_roi\n",
    "if roi is None:\n",
    "    roi = ee.Geometry.BBox(-74.7222, -8.5867, -74.1596, -8.2824)\n",
    "    Map.addLayer(roi)\n",
    "    Map.centerObject(roi)"
   ]
  },
  {
   "cell_type": "code",
   "execution_count": null,
   "id": "eba1e5b5",
   "metadata": {},
   "outputs": [],
   "source": [
    "timelapse = geemap.landsat_timelapse(\n",
    "    roi,\n",
    "    out_gif='landsat.gif',\n",
    "    start_year=1984,\n",
    "    end_year=2022,\n",
    "    start_date='01-01',\n",
    "    end_date='12-31',\n",
    "    bands=['SWIR1', 'NIR', 'Red'],\n",
    "    frames_per_second=5,\n",
    "    title='Landsat Timelapse',\n",
    "    progress_bar_color='blue',\n",
    "    mp4=True,\n",
    ")\n",
    "geemap.show_image(timelapse)"
   ]
  },
  {
   "cell_type": "code",
   "execution_count": null,
   "id": "7d9e7e6a",
   "metadata": {},
   "outputs": [],
   "source": [
    "Map = geemap.Map()\n",
    "roi = ee.Geometry.BBox(-115.5541, 35.8044, -113.9035, 36.5581)\n",
    "Map.addLayer(roi)\n",
    "Map.centerObject(roi)\n",
    "Map"
   ]
  },
  {
   "cell_type": "code",
   "execution_count": null,
   "id": "898d68bb",
   "metadata": {},
   "outputs": [],
   "source": [
    "timelapse = geemap.landsat_timelapse(\n",
    "    roi,\n",
    "    out_gif='las_vegas.gif',\n",
    "    start_year=1984,\n",
    "    end_year=2022,\n",
    "    bands=['NIR', 'Red', 'Green'],\n",
    "    frames_per_second=5,\n",
    "    title='Las Vegas, NV',\n",
    "    font_color='blue',\n",
    ")\n",
    "geemap.show_image(timelapse)"
   ]
  },
  {
   "cell_type": "code",
   "execution_count": null,
   "id": "475e0f97",
   "metadata": {},
   "outputs": [],
   "source": [
    "Map = geemap.Map()\n",
    "roi = ee.Geometry.BBox(113.8252, 22.1988, 114.0851, 22.3497)\n",
    "Map.addLayer(roi)\n",
    "Map.centerObject(roi)\n",
    "Map"
   ]
  },
  {
   "cell_type": "code",
   "execution_count": null,
   "id": "04c68c5b",
   "metadata": {},
   "outputs": [],
   "source": [
    "timelapse = geemap.landsat_timelapse(\n",
    "    roi,\n",
    "    out_gif='hong_kong.gif',\n",
    "    start_year=1990,\n",
    "    end_year=2022,\n",
    "    start_date='01-01',\n",
    "    end_date='12-31',\n",
    "    bands=['SWIR1', 'NIR', 'Red'],\n",
    "    frames_per_second=3,\n",
    "    title='Hong Kong',\n",
    ")\n",
    "geemap.show_image(timelapse)"
   ]
  },
  {
   "cell_type": "markdown",
   "id": "71ee7860",
   "metadata": {},
   "source": [
    "## الفاصل الزمني  Sentinel-1"
   ]
  },
  {
   "cell_type": "code",
   "execution_count": null,
   "id": "d8c3248a",
   "metadata": {},
   "outputs": [],
   "source": [
    "Map = geemap.Map()\n",
    "Map"
   ]
  },
  {
   "cell_type": "code",
   "execution_count": null,
   "id": "007b3afa",
   "metadata": {},
   "outputs": [],
   "source": [
    "roi = Map.user_roi\n",
    "if roi is None:\n",
    "    roi = ee.Geometry.BBox(117.1132, 3.5227, 117.2214, 3.5843)\n",
    "    Map.addLayer(roi)\n",
    "    Map.centerObject(roi)"
   ]
  },
  {
   "cell_type": "code",
   "execution_count": null,
   "id": "6f75a486",
   "metadata": {},
   "outputs": [],
   "source": [
    "timelapse = geemap.sentinel1_timelapse(\n",
    "    roi,\n",
    "    out_gif='sentinel1.gif',\n",
    "    start_year=2019,\n",
    "    end_year=2019,\n",
    "    start_date='04-01',\n",
    "    end_date='08-01',\n",
    "    bands=['VV'],\n",
    "    frequency='day',\n",
    "    vis_params={\"min\": -30, \"max\": 0},\n",
    "    palette=\"Greys\",\n",
    "    frames_per_second=3,\n",
    "    title='Sentinel-1 Timelapse',\n",
    "    add_colorbar=True,\n",
    "    colorbar_bg_color='gray',\n",
    ")\n",
    "geemap.show_image(timelapse)"
   ]
  },
  {
   "cell_type": "markdown",
   "id": "a8328cb9",
   "metadata": {},
   "source": [
    "## الفاصل الزمني Sentinel-2"
   ]
  },
  {
   "cell_type": "code",
   "execution_count": null,
   "id": "7a1daf49",
   "metadata": {},
   "outputs": [],
   "source": [
    "Map = geemap.Map()\n",
    "Map"
   ]
  },
  {
   "cell_type": "code",
   "execution_count": null,
   "id": "f073232d",
   "metadata": {},
   "outputs": [],
   "source": [
    "roi = Map.user_roi\n",
    "if roi is None:\n",
    "    roi = ee.Geometry.BBox(-74.7222, -8.5867, -74.1596, -8.2824)\n",
    "    Map.addLayer(roi)\n",
    "    Map.centerObject(roi)"
   ]
  },
  {
   "cell_type": "code",
   "execution_count": null,
   "id": "eabe4d94",
   "metadata": {},
   "outputs": [],
   "source": [
    "timelapse = geemap.sentinel2_timelapse(\n",
    "    roi,\n",
    "    out_gif='sentinel2.gif',\n",
    "    start_year=2016,\n",
    "    end_year=2021,\n",
    "    start_date='01-01',\n",
    "    end_date='12-31',\n",
    "    frequency='year',\n",
    "    bands=['SWIR1', 'NIR', 'Red'],\n",
    "    frames_per_second=3,\n",
    "    title='Sentinel-2 Timelapse',\n",
    ")\n",
    "geemap.show_image(timelapse)"
   ]
  },
  {
   "cell_type": "markdown",
   "id": "69c76cff",
   "metadata": {},
   "source": [
    "## الفاصل الزمني  MODIS\n",
    "\n",
    "### مؤشرات الغطاء النباتي من MODIS"
   ]
  },
  {
   "cell_type": "code",
   "execution_count": null,
   "id": "2ef5d629",
   "metadata": {},
   "outputs": [],
   "source": [
    "Map = geemap.Map()\n",
    "Map"
   ]
  },
  {
   "cell_type": "code",
   "execution_count": null,
   "id": "9021533b",
   "metadata": {},
   "outputs": [],
   "source": [
    "roi = Map.user_roi\n",
    "if roi is None:\n",
    "    roi = ee.Geometry.BBox(-18.6983, -36.1630, 52.2293, 38.1446)\n",
    "    Map.addLayer(roi)\n",
    "    Map.centerObject(roi)"
   ]
  },
  {
   "cell_type": "code",
   "execution_count": null,
   "id": "5d8ae06c",
   "metadata": {},
   "outputs": [],
   "source": [
    "timelapse = geemap.modis_ndvi_timelapse(\n",
    "    roi,\n",
    "    out_gif='ndvi.gif',\n",
    "    data='Terra',\n",
    "    band='NDVI',\n",
    "    start_date='2000-01-01',\n",
    "    end_date='2022-12-31',\n",
    "    frames_per_second=3,\n",
    "    title='MODIS NDVI Timelapse',\n",
    "    overlay_data='countries',\n",
    ")\n",
    "geemap.show_image(timelapse)"
   ]
  },
  {
   "cell_type": "markdown",
   "id": "ac921757",
   "metadata": {},
   "source": [
    "### بيانات الحراة من  MODIS"
   ]
  },
  {
   "cell_type": "code",
   "execution_count": null,
   "id": "9fc3e190",
   "metadata": {},
   "outputs": [],
   "source": [
    "Map = geemap.Map()\n",
    "Map"
   ]
  },
  {
   "cell_type": "code",
   "execution_count": null,
   "id": "196b09e2",
   "metadata": {},
   "outputs": [],
   "source": [
    "roi = Map.user_roi\n",
    "if roi is None:\n",
    "    roi = ee.Geometry.BBox(-171.21, -57.13, 177.53, 79.99)\n",
    "    Map.addLayer(roi)\n",
    "    Map.centerObject(roi)"
   ]
  },
  {
   "cell_type": "code",
   "execution_count": null,
   "id": "c24a14d1",
   "metadata": {},
   "outputs": [],
   "source": [
    "timelapse = geemap.modis_ocean_color_timelapse(\n",
    "    satellite='Aqua',\n",
    "    start_date='2018-01-01',\n",
    "    end_date='2020-12-31',\n",
    "    roi=roi,\n",
    "    frequency='month',\n",
    "    out_gif='temperature.gif',\n",
    "    overlay_data='continents',\n",
    "    overlay_color='yellow',\n",
    "    overlay_opacity=0.5,\n",
    ")\n",
    "geemap.show_image(timelapse)"
   ]
  },
  {
   "cell_type": "markdown",
   "id": "95b59052",
   "metadata": {},
   "source": [
    "## الفاصل الزمني نوع  GOES"
   ]
  },
  {
   "cell_type": "code",
   "execution_count": null,
   "id": "eabeba40",
   "metadata": {},
   "outputs": [],
   "source": [
    "roi = ee.Geometry.BBox(167.1898, -28.5757, 202.6258, -12.4411)\n",
    "start_date = \"2022-01-15T03:00:00\"\n",
    "end_date = \"2022-01-15T07:00:00\"\n",
    "data = \"GOES-17\"\n",
    "scan = \"full_disk\""
   ]
  },
  {
   "cell_type": "code",
   "execution_count": null,
   "id": "48346462",
   "metadata": {},
   "outputs": [],
   "source": [
    "timelapse = geemap.goes_timelapse(\n",
    "    roi, \"goes.gif\", start_date, end_date, data, scan, framesPerSecond=5\n",
    ")\n",
    "geemap.show_image(timelapse)"
   ]
  },
  {
   "cell_type": "code",
   "execution_count": null,
   "id": "faeb6b8c",
   "metadata": {},
   "outputs": [],
   "source": [
    "roi = ee.Geometry.BBox(-159.5954, 24.5178, -114.2438, 60.4088)\n",
    "start_date = \"2021-10-24T14:00:00\"\n",
    "end_date = \"2021-10-25T01:00:00\"\n",
    "data = \"GOES-17\"\n",
    "scan = \"full_disk\""
   ]
  },
  {
   "cell_type": "code",
   "execution_count": null,
   "id": "040f1559",
   "metadata": {},
   "outputs": [],
   "source": [
    "timelapse = geemap.goes_timelapse(\n",
    "    roi, \"hurricane.gif\", start_date, end_date, data, scan, framesPerSecond=5\n",
    ")\n",
    "geemap.show_image(timelapse)"
   ]
  },
  {
   "cell_type": "code",
   "execution_count": null,
   "id": "4f842baf",
   "metadata": {},
   "outputs": [],
   "source": [
    "roi = ee.Geometry.BBox(-121.0034, 36.8488, -117.9052, 39.0490)\n",
    "start_date = \"2020-09-05T15:00:00\"\n",
    "end_date = \"2020-09-06T02:00:00\"\n",
    "data = \"GOES-17\"\n",
    "scan = \"full_disk\""
   ]
  },
  {
   "cell_type": "code",
   "execution_count": null,
   "id": "36eae673",
   "metadata": {},
   "outputs": [],
   "source": [
    "timelapse = geemap.goes_fire_timelapse(\n",
    "    roi, \"fire.gif\", start_date, end_date, data, scan, framesPerSecond=5\n",
    ")\n",
    "geemap.show_image(timelapse)"
   ]
  },
  {
   "cell_type": "markdown",
   "id": "fc21e786",
   "metadata": {},
   "source": [
    "## اخفاء التأثيرات"
   ]
  },
  {
   "cell_type": "code",
   "execution_count": null,
   "id": "f6c80d07",
   "metadata": {},
   "outputs": [],
   "source": [
    "in_gif = \"https://i.imgur.com/ZWSZC5z.gif\"\n",
    "geemap.show_image(in_gif)"
   ]
  },
  {
   "cell_type": "code",
   "execution_count": null,
   "id": "68db6f6f",
   "metadata": {},
   "outputs": [],
   "source": [
    "out_gif = \"gif_fading.gif\"\n",
    "geemap.gif_fading(in_gif, out_gif, verbose=False)\n",
    "geemap.show_image(out_gif)"
   ]
  },
  {
   "cell_type": "code",
   "execution_count": null,
   "id": "cfebcbf0",
   "metadata": {},
   "outputs": [],
   "source": [
    "roi = ee.Geometry.BBox(-69.3154, -22.8371, -69.1900, -22.7614)\n",
    "timelapse = geemap.landsat_timelapse(\n",
    "    roi,\n",
    "    out_gif='mines.gif',\n",
    "    start_year=2004,\n",
    "    end_year=2010,\n",
    "    frames_per_second=1,\n",
    "    title='Copper mines, Chile',\n",
    "    fading=True,\n",
    ")\n",
    "geemap.show_image(timelapse)"
   ]
  },
  {
   "cell_type": "markdown",
   "id": "26cf9c38",
   "metadata": {},
   "source": [
    "## اضافة نصوص متحركه حسب الفاصل الزمني"
   ]
  },
  {
   "cell_type": "code",
   "execution_count": null,
   "id": "2f335cd4",
   "metadata": {},
   "outputs": [],
   "source": [
    "url = 'https://i.imgur.com/Rx0wjSw.gif'\n",
    "in_gif = 'animation.gif'\n",
    "geemap.download_file(url, in_gif)\n",
    "geemap.show_image(in_gif)"
   ]
  },
  {
   "cell_type": "code",
   "execution_count": null,
   "id": "04a7d2d8",
   "metadata": {},
   "outputs": [],
   "source": [
    "out_gif = 'las_vegas.gif'\n",
    "geemap.add_text_to_gif(\n",
    "    in_gif,\n",
    "    out_gif,\n",
    "    xy=('3%', '5%'),\n",
    "    text_sequence=1984,\n",
    "    font_size=30,\n",
    "    font_color='#0000ff',\n",
    "    add_progress_bar=True,\n",
    "    progress_bar_color='#ffffff',\n",
    "    progress_bar_height=5,\n",
    "    duration=100,\n",
    "    loop=0,\n",
    ")\n",
    "geemap.show_image(out_gif)"
   ]
  },
  {
   "cell_type": "code",
   "execution_count": null,
   "id": "4c0a16ad",
   "metadata": {},
   "outputs": [],
   "source": [
    "geemap.add_text_to_gif(\n",
    "    out_gif, out_gif, xy=('45%', '90%'), text_sequence=\"Las Vegas\", font_color='black'\n",
    ")\n",
    "geemap.show_image(out_gif)"
   ]
  },
  {
   "cell_type": "markdown",
   "id": "8373782e",
   "metadata": {},
   "source": [
    "## أضافة صور و شريط ألوان الى الفاصل الزمني\n",
    "\n",
    "### تهيئة البيانات"
   ]
  },
  {
   "cell_type": "code",
   "execution_count": null,
   "id": "3077b731",
   "metadata": {},
   "outputs": [],
   "source": [
    "aoi = ee.Geometry.Polygon(\n",
    "    [[[-179.0, 78.0], [-179.0, -58.0], [179.0, -58.0], [179.0, 78.0]]], None, False\n",
    ")\n",
    "\n",
    "collection = (\n",
    "    ee.ImageCollection('NOAA/GFS0P25')\n",
    "    .filterDate('2018-12-22', '2018-12-23')\n",
    "    .limit(24)\n",
    "    .select('temperature_2m_above_ground')\n",
    ")\n",
    "\n",
    "video_args = {\n",
    "    'dimensions': 768,\n",
    "    'region': aoi,\n",
    "    'framesPerSecond': 10,\n",
    "    'crs': 'EPSG:3857',\n",
    "    'min': -35.0,\n",
    "    'max': 35.0,\n",
    "    'palette': ['blue', 'purple', 'cyan', 'green', 'yellow', 'red'],\n",
    "}\n",
    "\n",
    "saved_gif = 'temperature.gif'\n",
    "geemap.download_ee_video(collection, video_args, saved_gif)\n",
    "geemap.show_image(saved_gif)"
   ]
  },
  {
   "cell_type": "markdown",
   "id": "d43f955e",
   "metadata": {},
   "source": [
    "### أضافة النصوص المتحركة"
   ]
  },
  {
   "cell_type": "code",
   "execution_count": null,
   "id": "2b5d3782",
   "metadata": {},
   "outputs": [],
   "source": [
    "text = [str(n).zfill(2) + \":00\" for n in range(0, 24)]\n",
    "out_gif = 'temperature_v2.gif'\n",
    "geemap.add_text_to_gif(\n",
    "    saved_gif,\n",
    "    out_gif,\n",
    "    xy=('3%', '5%'),\n",
    "    text_sequence=text,\n",
    "    font_size=30,\n",
    "    font_color='#ffffff',\n",
    ")\n",
    "\n",
    "geemap.add_text_to_gif(\n",
    "    out_gif,\n",
    "    out_gif,\n",
    "    xy=('32%', '92%'),\n",
    "    text_sequence='NOAA GFS Hourly Temperature',\n",
    "    font_color='white',\n",
    ")\n",
    "geemap.show_image(out_gif)"
   ]
  },
  {
   "cell_type": "markdown",
   "id": "f7919bbf",
   "metadata": {},
   "source": [
    "### أضافة العلامات"
   ]
  },
  {
   "cell_type": "code",
   "execution_count": null,
   "id": "82966f67",
   "metadata": {},
   "outputs": [],
   "source": [
    "noaa_logo = 'https://i.imgur.com/gZ6BYZB.png'\n",
    "ee_logo = 'https://i.imgur.com/Qbvacvm.jpg'\n",
    "\n",
    "geemap.add_image_to_gif(\n",
    "    out_gif, out_gif, in_image=noaa_logo, xy=('2%', '80%'), image_size=(80, 80)\n",
    ")\n",
    "\n",
    "geemap.add_image_to_gif(\n",
    "    out_gif, out_gif, in_image=ee_logo, xy=('13%', '79%'), image_size=(85, 85)\n",
    ")"
   ]
  },
  {
   "cell_type": "markdown",
   "id": "3e6c3a35",
   "metadata": {},
   "source": [
    "### أضافة شريط الالوان"
   ]
  },
  {
   "cell_type": "code",
   "execution_count": null,
   "id": "85bf61cf",
   "metadata": {},
   "outputs": [],
   "source": [
    "palette = ['blue', 'purple', 'cyan', 'green', 'yellow', 'red']\n",
    "colorbar = geemap.save_colorbar(width=2.5, height=0.3, vmin=-35, vmax=35, palette=palette, transparent=True)\n",
    "geemap.show_image(colorbar)"
   ]
  },
  {
   "cell_type": "code",
   "execution_count": null,
   "id": "ada33301",
   "metadata": {},
   "outputs": [],
   "source": [
    "geemap.add_image_to_gif(\n",
    "    out_gif, out_gif, in_image=colorbar, xy=('72%', '85%'), image_size=(250, 250)\n",
    ")\n",
    "geemap.show_image(out_gif)"
   ]
  },
  {
   "cell_type": "markdown",
   "id": "1f5e7db2",
   "metadata": {},
   "source": [
    "## الخلاصة"
   ]
  }
 ],
 "metadata": {
  "jupytext": {
   "text_representation": {
    "extension": ".md",
    "format_name": "myst",
    "format_version": 0.13,
    "jupytext_version": "1.14.4"
   }
  },
  "kernelspec": {
   "display_name": "geo",
   "language": "python",
   "name": "python3"
  },
  "source_map": [
   12,
   23,
   38,
   42,
   47,
   49,
   53,
   58,
   67,
   72,
   76,
   87,
   91,
   108,
   112,
   121,
   125,
   131,
   137,
   144,
   158,
   162,
   167,
   175,
   179,
   184,
   193,
   202,
   206,
   211,
   219,
   236,
   244,
   258,
   266,
   279,
   283,
   288,
   296,
   314,
   318,
   323,
   331,
   345,
   351,
   356,
   364,
   377,
   381,
   386,
   394,
   407,
   411,
   419,
   426,
   434,
   441,
   449,
   454,
   458,
   463,
   469,
   483,
   487,
   494,
   512,
   519,
   525,
   550,
   554,
   574,
   578,
   589,
   593,
   599,
   606
  ]
 },
 "nbformat": 4,
 "nbformat_minor": 5
}