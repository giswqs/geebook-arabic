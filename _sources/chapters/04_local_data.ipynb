{
 "cells": [
  {
   "cell_type": "markdown",
   "id": "e4cb926e",
   "metadata": {},
   "source": [
    "# Using Local Geospatial Data\n",
    "\n",
    "```{contents}\n",
    ":local:\n",
    ":depth: 2\n",
    "```\n",
    "\n",
    "## Introduction\n",
    "\n",
    "## Technical requirements\n",
    "\n",
    "```bash\n",
    "conda create -n gee python\n",
    "conda activate gee\n",
    "conda install -c conda-forge mamba\n",
    "mamba install -c conda-forge pygis\n",
    "```\n",
    "\n",
    "```bash\n",
    "jupyter lab\n",
    "```"
   ]
  },
  {
   "cell_type": "code",
   "execution_count": null,
   "id": "d27a53c7",
   "metadata": {},
   "outputs": [],
   "source": [
    "# %pip install pygis"
   ]
  },
  {
   "cell_type": "code",
   "execution_count": null,
   "id": "51e5d292",
   "metadata": {},
   "outputs": [],
   "source": [
    "import ee\n",
    "import geemap"
   ]
  },
  {
   "cell_type": "code",
   "execution_count": null,
   "id": "af80b28e",
   "metadata": {},
   "outputs": [],
   "source": [
    "geemap.ee_initialize()"
   ]
  },
  {
   "cell_type": "markdown",
   "id": "3a703a13",
   "metadata": {},
   "source": [
    "## Local raster datasets\n",
    "\n",
    "### Single-band imagery"
   ]
  },
  {
   "cell_type": "code",
   "execution_count": null,
   "id": "107c0b4b",
   "metadata": {},
   "outputs": [],
   "source": [
    "url = 'https://github.com/giswqs/data/raw/main/raster/srtm90.tif'\n",
    "filename = 'dem.tif'\n",
    "geemap.download_file(url, filename)"
   ]
  },
  {
   "cell_type": "code",
   "execution_count": null,
   "id": "9f3bea00",
   "metadata": {},
   "outputs": [],
   "source": [
    "Map = geemap.Map()\n",
    "Map.add_raster(filename, cmap='terrain', layer_name=\"DEM\")\n",
    "vis_params = {'min': 0, 'max': 4000, 'palette': 'terrain'}\n",
    "Map.add_colorbar(vis_params, label='Elevation (m)')\n",
    "Map"
   ]
  },
  {
   "cell_type": "code",
   "execution_count": null,
   "id": "aae4aa00",
   "metadata": {},
   "outputs": [],
   "source": [
    "import geemap.colormaps as cm\n",
    "cm.list_colormaps()"
   ]
  },
  {
   "cell_type": "code",
   "execution_count": null,
   "id": "20b43922",
   "metadata": {},
   "outputs": [],
   "source": [
    "cm.plot_colormaps(width=12, height=0.4)"
   ]
  },
  {
   "cell_type": "markdown",
   "id": "7bd6444a",
   "metadata": {},
   "source": [
    "### Multi-band imagery"
   ]
  },
  {
   "cell_type": "code",
   "execution_count": null,
   "id": "56eaeae2",
   "metadata": {},
   "outputs": [],
   "source": [
    "url = 'https://github.com/giswqs/leafmap/raw/master/examples/data/cog.tif'\n",
    "filename = 'cog.tif'\n",
    "geemap.download_file(url, filename)"
   ]
  },
  {
   "cell_type": "code",
   "execution_count": null,
   "id": "4df6d718",
   "metadata": {},
   "outputs": [],
   "source": [
    "Map = geemap.Map()\n",
    "Map.add_raster(filename, band=[4, 1, 2], layer_name=\"Color infrared\")\n",
    "Map"
   ]
  },
  {
   "cell_type": "markdown",
   "id": "e364d3b4",
   "metadata": {},
   "source": [
    "### Interactive raster GUI\n",
    "\n",
    "## Cloud Optimized GeoTIFF (COG)\n",
    "\n",
    "### Visualizing COG"
   ]
  },
  {
   "cell_type": "code",
   "execution_count": null,
   "id": "2a3b8421",
   "metadata": {},
   "outputs": [],
   "source": [
    "url = 'https://tinyurl.com/24bo8umr'"
   ]
  },
  {
   "cell_type": "code",
   "execution_count": null,
   "id": "295ec5d2",
   "metadata": {},
   "outputs": [],
   "source": [
    "geemap.cog_bounds(url)"
   ]
  },
  {
   "cell_type": "code",
   "execution_count": null,
   "id": "ca1e6abf",
   "metadata": {},
   "outputs": [],
   "source": [
    "geemap.cog_center(url)"
   ]
  },
  {
   "cell_type": "code",
   "execution_count": null,
   "id": "0aaa6509",
   "metadata": {},
   "outputs": [],
   "source": [
    "geemap.cog_bands(url)"
   ]
  },
  {
   "cell_type": "code",
   "execution_count": null,
   "id": "aeb5a843",
   "metadata": {},
   "outputs": [],
   "source": [
    "geemap.cog_tile(url)"
   ]
  },
  {
   "cell_type": "code",
   "execution_count": null,
   "id": "f4664d3a",
   "metadata": {},
   "outputs": [],
   "source": [
    "Map = geemap.Map()\n",
    "Map.add_cog_layer(url, name=\"Fire (pre-event)\")\n",
    "Map"
   ]
  },
  {
   "cell_type": "code",
   "execution_count": null,
   "id": "364318e3",
   "metadata": {},
   "outputs": [],
   "source": [
    "url2 = 'https://tinyurl.com/2awjl66w'\n",
    "Map.add_cog_layer(url2, name=\"Fire (post-event)\")\n",
    "Map"
   ]
  },
  {
   "cell_type": "markdown",
   "id": "04c5b81b",
   "metadata": {},
   "source": [
    "### Creating COG"
   ]
  },
  {
   "cell_type": "code",
   "execution_count": null,
   "id": "5b0b35c5",
   "metadata": {},
   "outputs": [],
   "source": [
    "url = \"https://github.com/giswqs/data/raw/main/raster/srtm90.tif\"\n",
    "geemap.cog_validate(url)"
   ]
  },
  {
   "cell_type": "code",
   "execution_count": null,
   "id": "4cbbd91b",
   "metadata": {},
   "outputs": [],
   "source": [
    "geemap.cog_validate(url, verbose=True)"
   ]
  },
  {
   "cell_type": "code",
   "execution_count": null,
   "id": "11e9c250",
   "metadata": {},
   "outputs": [],
   "source": [
    "out_cog = \"cog.tif\"\n",
    "geemap.image_to_cog(url, out_cog)"
   ]
  },
  {
   "cell_type": "code",
   "execution_count": null,
   "id": "2129745a",
   "metadata": {},
   "outputs": [],
   "source": [
    "geemap.cog_validate(out_cog)"
   ]
  },
  {
   "cell_type": "code",
   "execution_count": null,
   "id": "5154a2ad",
   "metadata": {},
   "outputs": [],
   "source": [
    "Map = geemap.Map()\n",
    "Map.add_raster(out_cog, cmap=\"terrain\", layer_name=\"Local COG\")\n",
    "Map.add_cog_layer(url, cmap=\"gist_earth\", name=\"Remote COG\")\n",
    "vis_params = {'min': 0, 'max': 4000, 'palette': 'gist_earth'}\n",
    "Map.add_colorbar(vis_params, label='Elevation (m)')\n",
    "Map"
   ]
  },
  {
   "cell_type": "markdown",
   "id": "a4865688",
   "metadata": {},
   "source": [
    "### Converting NumPy arrays to COG"
   ]
  },
  {
   "cell_type": "code",
   "execution_count": null,
   "id": "a4ca64dd",
   "metadata": {},
   "outputs": [],
   "source": [
    "url = 'https://github.com/giswqs/leafmap/raw/master/examples/data/cog.tif'\n",
    "in_cog = 'cog.tif'\n",
    "out_cog = \"ndvi.tif\"\n",
    "geemap.download_file(url, in_cog, overwrite=True)"
   ]
  },
  {
   "cell_type": "code",
   "execution_count": null,
   "id": "67927453",
   "metadata": {},
   "outputs": [],
   "source": [
    "arr = geemap.image_to_numpy(in_cog)"
   ]
  },
  {
   "cell_type": "code",
   "execution_count": null,
   "id": "a9164831",
   "metadata": {},
   "outputs": [],
   "source": [
    "arr.shape"
   ]
  },
  {
   "cell_type": "code",
   "execution_count": null,
   "id": "9da49c20",
   "metadata": {},
   "outputs": [],
   "source": [
    "ndvi = (arr[3] - arr[0]) / (arr[3] + arr[0])"
   ]
  },
  {
   "cell_type": "code",
   "execution_count": null,
   "id": "a9861858",
   "metadata": {},
   "outputs": [],
   "source": [
    "ndvi.shape"
   ]
  },
  {
   "cell_type": "code",
   "execution_count": null,
   "id": "47a0451b",
   "metadata": {},
   "outputs": [],
   "source": [
    "geemap.numpy_to_cog(ndvi, out_cog, profile=in_cog)"
   ]
  },
  {
   "cell_type": "code",
   "execution_count": null,
   "id": "0ba981d7",
   "metadata": {},
   "outputs": [],
   "source": [
    "Map = geemap.Map()\n",
    "Map.add_raster(in_cog, band=[4, 1, 2], layer_name=\"Color infrared\")\n",
    "Map.add_raster(out_cog, cmap=\"Greens\", layer_name=\"NDVI\")\n",
    "Map"
   ]
  },
  {
   "cell_type": "markdown",
   "id": "08acf9be",
   "metadata": {},
   "source": [
    "### Clipping image by mask"
   ]
  },
  {
   "cell_type": "code",
   "execution_count": null,
   "id": "9b7ef329",
   "metadata": {},
   "outputs": [],
   "source": [
    "url = 'https://github.com/giswqs/data/raw/main/raster/srtm90.tif'\n",
    "dem = 'dem.tif'\n",
    "geemap.download_file(url, dem)"
   ]
  },
  {
   "cell_type": "code",
   "execution_count": null,
   "id": "b5df0892",
   "metadata": {},
   "outputs": [],
   "source": [
    "Map = geemap.Map()\n",
    "Map.add_raster(dem, cmap='terrain', layer_name=\"DEM\")\n",
    "Map"
   ]
  },
  {
   "cell_type": "code",
   "execution_count": null,
   "id": "b81a7103",
   "metadata": {},
   "outputs": [],
   "source": [
    "mask = (\n",
    "    'https://raw.githubusercontent.com/giswqs/leafmap/master/examples/data/mask.geojson'\n",
    ")"
   ]
  },
  {
   "cell_type": "code",
   "execution_count": null,
   "id": "f95b33db",
   "metadata": {},
   "outputs": [],
   "source": [
    "mask = Map.user_roi"
   ]
  },
  {
   "cell_type": "code",
   "execution_count": null,
   "id": "7edfb603",
   "metadata": {},
   "outputs": [],
   "source": [
    "mask = [\n",
    "    [-119.679565, 37.256566],\n",
    "    [-119.679565, 38.061067],\n",
    "    [-118.24585, 38.061067],\n",
    "    [-118.24585, 37.256566],\n",
    "    [-119.679565, 37.256566],\n",
    "]"
   ]
  },
  {
   "cell_type": "code",
   "execution_count": null,
   "id": "8a968b38",
   "metadata": {},
   "outputs": [],
   "source": [
    "output = 'clip.tif'\n",
    "geemap.clip_image(dem, mask, output)\n",
    "Map.add_raster(output, cmap='coolwarm', layer_name=\"Clip Image\")\n",
    "Map"
   ]
  },
  {
   "cell_type": "markdown",
   "id": "ed048e2f",
   "metadata": {},
   "source": [
    "## SpatioTemporal Asset Catalog (STAC)"
   ]
  },
  {
   "cell_type": "code",
   "execution_count": null,
   "id": "7f2ecf8b",
   "metadata": {},
   "outputs": [],
   "source": [
    "url = 'https://tinyurl.com/22vptbws'"
   ]
  },
  {
   "cell_type": "code",
   "execution_count": null,
   "id": "b837fcf7",
   "metadata": {},
   "outputs": [],
   "source": [
    "geemap.stac_bounds(url)"
   ]
  },
  {
   "cell_type": "code",
   "execution_count": null,
   "id": "07bc0e02",
   "metadata": {},
   "outputs": [],
   "source": [
    "geemap.stac_center(url)"
   ]
  },
  {
   "cell_type": "code",
   "execution_count": null,
   "id": "22117c68",
   "metadata": {},
   "outputs": [],
   "source": [
    "geemap.stac_bands(url)"
   ]
  },
  {
   "cell_type": "code",
   "execution_count": null,
   "id": "a496ac08",
   "metadata": {},
   "outputs": [],
   "source": [
    "geemap.stac_tile(url, bands=['B3', 'B2', 'B1'])"
   ]
  },
  {
   "cell_type": "code",
   "execution_count": null,
   "id": "7c9c4e39",
   "metadata": {},
   "outputs": [],
   "source": [
    "Map = geemap.Map()\n",
    "Map.add_stac_layer(url, bands=['pan'], name='Panchromatic')\n",
    "Map.add_stac_layer(url, bands=['B3', 'B2', 'B1'], name='False color')\n",
    "Map"
   ]
  },
  {
   "cell_type": "markdown",
   "id": "13b7a093",
   "metadata": {},
   "source": [
    "## Vector datasets\n",
    "\n",
    "### GeoJSON"
   ]
  },
  {
   "cell_type": "code",
   "execution_count": null,
   "id": "291a17ef",
   "metadata": {},
   "outputs": [],
   "source": [
    "in_geojson = (\n",
    "    'https://github.com/gee-community/geemap/blob/master/examples/data/cable_geo.geojson'\n",
    ")\n",
    "Map = geemap.Map()\n",
    "Map.add_geojson(in_geojson, layer_name=\"Cable lines\", info_mode=\"on_hover\")\n",
    "Map"
   ]
  },
  {
   "cell_type": "code",
   "execution_count": null,
   "id": "2d8c9bdc",
   "metadata": {},
   "outputs": [],
   "source": [
    "Map = geemap.Map()\n",
    "Map.add_basemap(\"CartoDB.DarkMatter\")\n",
    "callback = lambda feat: {\"color\": \"#\" + feat[\"properties\"][\"color\"], \"weight\": 2}\n",
    "Map.add_geojson(in_geojson, layer_name=\"Cable lines\", style_callback=callback)\n",
    "Map"
   ]
  },
  {
   "cell_type": "code",
   "execution_count": null,
   "id": "4706d634",
   "metadata": {},
   "outputs": [],
   "source": [
    "url = \"https://github.com/gee-community/geemap/blob/master/examples/data/countries.geojson\"\n",
    "Map = geemap.Map()\n",
    "Map.add_geojson(\n",
    "    url, layer_name=\"Countries\", fill_colors=['red', 'yellow', 'green', 'orange']\n",
    ")\n",
    "Map"
   ]
  },
  {
   "cell_type": "code",
   "execution_count": null,
   "id": "3f61eb83",
   "metadata": {},
   "outputs": [],
   "source": [
    "import random\n",
    "\n",
    "Map = geemap.Map()\n",
    "\n",
    "def random_color(feature):\n",
    "    return {\n",
    "        'color': 'black',\n",
    "        'weight': 3,\n",
    "        'fillColor': random.choice(['red', 'yellow', 'green', 'orange']),\n",
    "    }\n",
    "\n",
    "Map.add_geojson(url, layer_name=\"Countries\", style_callback=random_color)\n",
    "Map"
   ]
  },
  {
   "cell_type": "code",
   "execution_count": null,
   "id": "414b3699",
   "metadata": {},
   "outputs": [],
   "source": [
    "Map = geemap.Map()\n",
    "\n",
    "style = {\n",
    "    \"stroke\": True,\n",
    "    \"color\": \"#0000ff\",\n",
    "    \"weight\": 2,\n",
    "    \"opacity\": 1,\n",
    "    \"fill\": True,\n",
    "    \"fillColor\": \"#0000ff\",\n",
    "    \"fillOpacity\": 0.1,\n",
    "}\n",
    "\n",
    "hover_style = {\"fillOpacity\": 0.7}\n",
    "\n",
    "Map.add_geojson(url, layer_name=\"Countries\", style=style, hover_style=hover_style)\n",
    "Map"
   ]
  },
  {
   "cell_type": "markdown",
   "id": "25ecd3ad",
   "metadata": {},
   "source": [
    "### Shapefile"
   ]
  },
  {
   "cell_type": "code",
   "execution_count": null,
   "id": "23defb87",
   "metadata": {},
   "outputs": [],
   "source": [
    "url = \"https://github.com/gee-community/geemap/blob/master/examples/data/countries.zip\"\n",
    "geemap.download_file(url)"
   ]
  },
  {
   "cell_type": "code",
   "execution_count": null,
   "id": "424915b5",
   "metadata": {},
   "outputs": [],
   "source": [
    "Map = geemap.Map()\n",
    "in_shp = \"countries.shp\"\n",
    "Map.add_shp(in_shp, layer_name=\"Countries\")\n",
    "Map"
   ]
  },
  {
   "cell_type": "markdown",
   "id": "44f1557f",
   "metadata": {},
   "source": [
    "### KML"
   ]
  },
  {
   "cell_type": "code",
   "execution_count": null,
   "id": "1aaa56bb",
   "metadata": {},
   "outputs": [],
   "source": [
    "in_kml = \"https://github.com/gee-community/geemap/blob/master/examples/data/us_states.kml\""
   ]
  },
  {
   "cell_type": "code",
   "execution_count": null,
   "id": "6fd065b4",
   "metadata": {},
   "outputs": [],
   "source": [
    "Map = geemap.Map(center=[40, -100], zoom=4)\n",
    "Map.add_kml(in_kml, layer_name=\"US States\")\n",
    "Map"
   ]
  },
  {
   "cell_type": "markdown",
   "id": "f343cb75",
   "metadata": {},
   "source": [
    "### GeoDataFrame"
   ]
  },
  {
   "cell_type": "code",
   "execution_count": null,
   "id": "1d28e87b",
   "metadata": {},
   "outputs": [],
   "source": [
    "import geopandas as gpd"
   ]
  },
  {
   "cell_type": "code",
   "execution_count": null,
   "id": "032bebda",
   "metadata": {},
   "outputs": [],
   "source": [
    "Map = geemap.Map(center=[40, -100], zoom=4)\n",
    "gdf = gpd.read_file('countries.shp')\n",
    "Map.add_gdf(gdf, layer_name=\"US States\")\n",
    "Map"
   ]
  },
  {
   "cell_type": "markdown",
   "id": "12e358f4",
   "metadata": {},
   "source": [
    "### Other vector formats"
   ]
  },
  {
   "cell_type": "code",
   "execution_count": null,
   "id": "22be5580",
   "metadata": {},
   "outputs": [],
   "source": [
    "Map = geemap.Map()\n",
    "data = 'https://github.com/gee-community/geemap/blob/master/examples/data/countries.gpkg'\n",
    "Map.add_vector(data, layer_name=\"Countries\")\n",
    "Map"
   ]
  },
  {
   "cell_type": "markdown",
   "id": "117ea70a",
   "metadata": {},
   "source": [
    "## Creating points from XY\n",
    "\n",
    "### CSV to vector"
   ]
  },
  {
   "cell_type": "code",
   "execution_count": null,
   "id": "caecc3d5",
   "metadata": {},
   "outputs": [],
   "source": [
    "data = 'https://github.com/gee-community/geemap/blob/master/examples/data/us_cities.csv'\n",
    "geemap.csv_to_df(data)"
   ]
  },
  {
   "cell_type": "code",
   "execution_count": null,
   "id": "f2433a73",
   "metadata": {},
   "outputs": [],
   "source": [
    "geemap.csv_to_geojson(\n",
    "    data, 'cities.geojson', latitude=\"latitude\", longitude='longitude'\n",
    ")"
   ]
  },
  {
   "cell_type": "code",
   "execution_count": null,
   "id": "36c47037",
   "metadata": {},
   "outputs": [],
   "source": [
    "geemap.csv_to_shp(data, 'cities.shp', latitude=\"latitude\", longitude='longitude')"
   ]
  },
  {
   "cell_type": "code",
   "execution_count": null,
   "id": "f823f295",
   "metadata": {},
   "outputs": [],
   "source": [
    "geemap.csv_to_gdf(data, latitude=\"latitude\", longitude='longitude')"
   ]
  },
  {
   "cell_type": "code",
   "execution_count": null,
   "id": "4cf9e379",
   "metadata": {},
   "outputs": [],
   "source": [
    "geemap.csv_to_vector(data, 'cities.gpkg', latitude=\"latitude\", longitude='longitude')"
   ]
  },
  {
   "cell_type": "markdown",
   "id": "dcebbc4b",
   "metadata": {},
   "source": [
    "### Adding points from XY"
   ]
  },
  {
   "cell_type": "code",
   "execution_count": null,
   "id": "f373ba2a",
   "metadata": {},
   "outputs": [],
   "source": [
    "cities = 'https://github.com/gee-community/geemap/blob/master/examples/data/us_cities.csv'\n",
    "regions = (\n",
    "    'https://github.com/gee-community/geemap/blob/master/examples/data/us_regions.geojson'\n",
    ")"
   ]
  },
  {
   "cell_type": "code",
   "execution_count": null,
   "id": "85278a10",
   "metadata": {},
   "outputs": [],
   "source": [
    "Map = geemap.Map(center=[40, -100], zoom=4)\n",
    "Map.add_points_from_xy(cities, x=\"longitude\", y=\"latitude\")\n",
    "Map"
   ]
  },
  {
   "cell_type": "code",
   "execution_count": null,
   "id": "19961b56",
   "metadata": {},
   "outputs": [],
   "source": [
    "Map = geemap.Map(center=[40, -100], zoom=4)\n",
    "\n",
    "Map.add_geojson(regions, layer_name='US Regions')\n",
    "\n",
    "Map.add_points_from_xy(\n",
    "    cities,\n",
    "    x='longitude',\n",
    "    y='latitude',\n",
    "    layer_name='US Cities',\n",
    "    color_column='region',\n",
    "    icon_names=['gear', 'map', 'leaf', 'globe'],\n",
    "    spin=True,\n",
    "    add_legend=True,\n",
    ")\n",
    "Map"
   ]
  },
  {
   "cell_type": "markdown",
   "id": "b22c52ea",
   "metadata": {},
   "source": [
    "### Circle markers from points"
   ]
  },
  {
   "cell_type": "code",
   "execution_count": null,
   "id": "90398e44",
   "metadata": {},
   "outputs": [],
   "source": [
    "data = 'https://github.com/gee-community/geemap/blob/master/examples/data/us_cities.csv'"
   ]
  },
  {
   "cell_type": "code",
   "execution_count": null,
   "id": "29c8ab3d",
   "metadata": {},
   "outputs": [],
   "source": [
    "Map = geemap.Map(center=[40, -100], zoom=4)\n",
    "Map.add_circle_markers_from_xy(\n",
    "    data,\n",
    "    x=\"longitude\",\n",
    "    y=\"latitude\",\n",
    "    radius=10,\n",
    "    color=\"blue\",\n",
    "    fill_color=\"black\",\n",
    "    fill_opacity=0.5,\n",
    ")\n",
    "Map"
   ]
  },
  {
   "cell_type": "markdown",
   "id": "5611f1b5",
   "metadata": {},
   "source": [
    "## Vector data to Earth Engine"
   ]
  },
  {
   "cell_type": "code",
   "execution_count": null,
   "id": "747faf33",
   "metadata": {},
   "outputs": [],
   "source": [
    "in_geojson = (\n",
    "    'https://github.com/gee-community/geemap/blob/master/examples/data/countries.geojson'\n",
    ")\n",
    "Map = geemap.Map()\n",
    "fc = geemap.geojson_to_ee(in_geojson)\n",
    "Map.addLayer(fc.style(**{'color': 'ff0000', 'fillColor': '00000000'}), {}, 'Countries')\n",
    "Map"
   ]
  },
  {
   "cell_type": "code",
   "execution_count": null,
   "id": "0dbe7003",
   "metadata": {},
   "outputs": [],
   "source": [
    "url = \"https://github.com/gee-community/geemap/blob/master/examples/data/countries.zip\"\n",
    "geemap.download_file(url, overwrite=True)"
   ]
  },
  {
   "cell_type": "code",
   "execution_count": null,
   "id": "3d060955",
   "metadata": {},
   "outputs": [],
   "source": [
    "in_shp = \"countries.shp\"\n",
    "fc = geemap.shp_to_ee(in_shp)"
   ]
  },
  {
   "cell_type": "code",
   "execution_count": null,
   "id": "b8c62bb7",
   "metadata": {},
   "outputs": [],
   "source": [
    "import geopandas as gpd\n",
    "\n",
    "gdf = gpd.read_file(in_shp)\n",
    "fc = geemap.gdf_to_ee(gdf)"
   ]
  },
  {
   "cell_type": "code",
   "execution_count": null,
   "id": "315eaf92",
   "metadata": {},
   "outputs": [],
   "source": [
    "fc = geemap.vector_to_ee(url)"
   ]
  },
  {
   "cell_type": "markdown",
   "id": "17a1f492",
   "metadata": {},
   "source": [
    "## Joining attribute tables"
   ]
  },
  {
   "cell_type": "code",
   "execution_count": null,
   "id": "79c37d4f",
   "metadata": {},
   "outputs": [],
   "source": [
    "Map = geemap.Map()\n",
    "countries = ee.FeatureCollection(geemap.examples.get_ee_path('countries'))\n",
    "Map.addLayer(countries, {}, 'Countries')\n",
    "Map"
   ]
  },
  {
   "cell_type": "code",
   "execution_count": null,
   "id": "db994115",
   "metadata": {},
   "outputs": [],
   "source": [
    "geemap.ee_to_df(countries)"
   ]
  },
  {
   "cell_type": "code",
   "execution_count": null,
   "id": "3872e41c",
   "metadata": {},
   "outputs": [],
   "source": [
    "data = (\n",
    "    'https://github.com/gee-community/geemap/blob/master/examples/data/country_centroids.csv'\n",
    ")\n",
    "df = geemap.csv_to_df(data)\n",
    "df"
   ]
  },
  {
   "cell_type": "code",
   "execution_count": null,
   "id": "4804b4fc",
   "metadata": {},
   "outputs": [],
   "source": [
    "fc = geemap.ee_join_table(countries, data, src_key='ISO_A2', dst_key='country')"
   ]
  },
  {
   "cell_type": "code",
   "execution_count": null,
   "id": "db44f9b2",
   "metadata": {},
   "outputs": [],
   "source": [
    "geemap.ee_to_df(fc)"
   ]
  },
  {
   "cell_type": "code",
   "execution_count": null,
   "id": "28687639",
   "metadata": {},
   "outputs": [],
   "source": [
    "Map.addLayer(fc, {}, 'Countries with attr')\n",
    "Map"
   ]
  },
  {
   "cell_type": "markdown",
   "id": "6b6c089e",
   "metadata": {},
   "source": [
    "## Converting NetCDF to ee.Image"
   ]
  },
  {
   "cell_type": "code",
   "execution_count": null,
   "id": "1b5ba252",
   "metadata": {},
   "outputs": [],
   "source": [
    "import os\n",
    "url = 'https://github.com/gee-community/geemap/blob/master/examples/data/wind_global.nc'\n",
    "nc_file = 'wind_global.nc'\n",
    "if not os.path.exists(nc_file):\n",
    "    geemap.download_file(url)"
   ]
  },
  {
   "cell_type": "code",
   "execution_count": null,
   "id": "c8b62e0d",
   "metadata": {},
   "outputs": [],
   "source": [
    "Map = geemap.Map()\n",
    "img = geemap.netcdf_to_ee(nc_file=nc_file, var_names='u_wind')\n",
    "vis_params = {'min': -20, 'max': 25, 'palette': 'YlOrRd', 'opacity': 0.6}\n",
    "Map.addLayer(img, vis_params, \"u_wind\")\n",
    "Map"
   ]
  },
  {
   "cell_type": "code",
   "execution_count": null,
   "id": "a0a39d0b",
   "metadata": {},
   "outputs": [],
   "source": [
    "Map = geemap.Map()\n",
    "img = geemap.netcdf_to_ee(nc_file=nc_file, var_names=['u_wind', 'v_wind'])\n",
    "Map.addLayer(\n",
    "    img,\n",
    "    {'bands': ['v_wind'], 'min': -20, 'max': 25, 'palette': 'coolwarm', 'opacity': 0.8},\n",
    "    \"v_wind\",\n",
    ")\n",
    "Map"
   ]
  },
  {
   "cell_type": "markdown",
   "id": "da0ce9ef",
   "metadata": {},
   "source": [
    "## OpenStreetMap data\n",
    "\n",
    "### OSM to GeoDataFrame"
   ]
  },
  {
   "cell_type": "code",
   "execution_count": null,
   "id": "c8ef5ef1",
   "metadata": {},
   "outputs": [],
   "source": [
    "gdf = geemap.osm_to_gdf(\"Knoxville, Tennessee\")\n",
    "gdf"
   ]
  },
  {
   "cell_type": "markdown",
   "id": "311681cb",
   "metadata": {},
   "source": [
    "### OSM to ee.FeatureCollection"
   ]
  },
  {
   "cell_type": "code",
   "execution_count": null,
   "id": "42595a2f",
   "metadata": {},
   "outputs": [],
   "source": [
    "Map = geemap.Map()\n",
    "fc = geemap.osm_to_ee(\"Knoxville, Tennessee\")\n",
    "Map.addLayer(fc, {}, \"Knoxville\")\n",
    "Map.centerObject(fc, 11)\n",
    "Map"
   ]
  },
  {
   "cell_type": "markdown",
   "id": "3e0b4e2d",
   "metadata": {},
   "source": [
    "### Downloading OSM data"
   ]
  },
  {
   "cell_type": "code",
   "execution_count": null,
   "id": "166e591c",
   "metadata": {},
   "outputs": [],
   "source": [
    "import geemap.osm as osm"
   ]
  },
  {
   "cell_type": "code",
   "execution_count": null,
   "id": "3b40ae66",
   "metadata": {},
   "outputs": [],
   "source": [
    "Map = geemap.Map(add_google_map=False)\n",
    "gdf = osm.osm_gdf_from_geocode(\"New York City\")\n",
    "Map.add_gdf(gdf, layer_name=\"NYC\")\n",
    "Map"
   ]
  },
  {
   "cell_type": "code",
   "execution_count": null,
   "id": "6f1541d0",
   "metadata": {},
   "outputs": [],
   "source": [
    "place = \"University of Tennessee, Knoxville, TN\"\n",
    "tags = {\"building\": True}\n",
    "gdf = osm.osm_gdf_from_place(place, tags)\n",
    "gdf = gdf[gdf.geometry.type == \"Polygon\"]\n",
    "gdf"
   ]
  },
  {
   "cell_type": "code",
   "execution_count": null,
   "id": "8d1a2f3f",
   "metadata": {},
   "outputs": [],
   "source": [
    "Map = geemap.Map(add_google_map=False)\n",
    "Map.add_gdf(gdf, layer_name=\"Buildings\")\n",
    "Map"
   ]
  },
  {
   "cell_type": "code",
   "execution_count": null,
   "id": "78d7c1e3",
   "metadata": {},
   "outputs": [],
   "source": [
    "gdf = osm.osm_gdf_from_address(\n",
    "    address=\"New York City\", tags={\"amenity\": \"bar\"}, dist=1500\n",
    ")\n",
    "gdf"
   ]
  },
  {
   "cell_type": "code",
   "execution_count": null,
   "id": "7ec49bb0",
   "metadata": {},
   "outputs": [],
   "source": [
    "Map = geemap.Map(add_google_map=False)\n",
    "Map.add_gdf(gdf, layer_name=\"NYC bars\")\n",
    "Map"
   ]
  },
  {
   "cell_type": "code",
   "execution_count": null,
   "id": "d8021ee8",
   "metadata": {},
   "outputs": [],
   "source": [
    "gdf = osm.osm_gdf_from_point(\n",
    "    center_point=(46.7808, -96.0156),\n",
    "    tags={\"natural\": \"water\"},\n",
    "    dist=10000,\n",
    ")\n",
    "gdf"
   ]
  },
  {
   "cell_type": "code",
   "execution_count": null,
   "id": "5b35145f",
   "metadata": {},
   "outputs": [],
   "source": [
    "Map = geemap.Map(add_google_map=False)\n",
    "Map.add_gdf(gdf, layer_name=\"Lakes\")\n",
    "Map"
   ]
  },
  {
   "cell_type": "code",
   "execution_count": null,
   "id": "0142d300",
   "metadata": {},
   "outputs": [],
   "source": [
    "Map = geemap.Map(center=[40.7500, -73.9854], zoom=16, add_google_map=False)\n",
    "Map"
   ]
  },
  {
   "cell_type": "code",
   "execution_count": null,
   "id": "5cb4f61c",
   "metadata": {},
   "outputs": [],
   "source": [
    "Map.add_osm_from_view(tags={\"amenity\": \"bar\", \"building\": True})"
   ]
  },
  {
   "cell_type": "markdown",
   "id": "e06beade",
   "metadata": {},
   "source": [
    "## Reading PostGIS data\n",
    "\n",
    "```bash\n",
    "mamba install sqlalchemy psycopg2 -c conda-forge\n",
    "```"
   ]
  },
  {
   "cell_type": "code",
   "execution_count": null,
   "id": "f17542fa",
   "metadata": {},
   "outputs": [],
   "source": [
    "con = geemap.connect_postgis(\n",
    "    database=\"nyc\", host=\"localhost\", user=None, password=None, use_env_var=True\n",
    ")"
   ]
  },
  {
   "cell_type": "code",
   "execution_count": null,
   "id": "5d3896d1",
   "metadata": {},
   "outputs": [],
   "source": [
    "sql = 'SELECT * FROM nyc_neighborhoods'\n",
    "gdf = geemap.read_postgis(sql, con)\n",
    "gdf"
   ]
  },
  {
   "cell_type": "code",
   "execution_count": null,
   "id": "27e7439f",
   "metadata": {},
   "outputs": [],
   "source": [
    "Map = geemap.Map()\n",
    "Map = geemap.gdf_to_ee(gdf)\n",
    "Map.addLayer(fc, {}, \"NYC EE\")\n",
    "Map.centerObject(fc)\n",
    "Map"
   ]
  },
  {
   "cell_type": "code",
   "execution_count": null,
   "id": "57a8c63f",
   "metadata": {},
   "outputs": [],
   "source": [
    "Map = geemap.Map()\n",
    "Map.add_gdf_from_postgis(\n",
    "    sql, con, layer_name=\"NYC Neighborhoods\", fill_colors=[\"red\", \"green\", \"blue\"]\n",
    ")\n",
    "Map"
   ]
  },
  {
   "cell_type": "markdown",
   "id": "a527281e",
   "metadata": {},
   "source": [
    "## Summary"
   ]
  }
 ],
 "metadata": {
  "jupytext": {
   "text_representation": {
    "extension": ".md",
    "format_name": "myst",
    "format_version": 0.13,
    "jupytext_version": "1.11.5"
   }
  },
  "kernelspec": {
   "display_name": "Python 3",
   "language": "python",
   "name": "python3"
  },
  "source_map": [
   12,
   36,
   40,
   45,
   47,
   53,
   59,
   67,
   72,
   74,
   78,
   84,
   88,
   96,
   100,
   104,
   108,
   112,
   116,
   122,
   126,
   130,
   135,
   139,
   144,
   148,
   155,
   159,
   166,
   170,
   174,
   178,
   182,
   186,
   191,
   195,
   201,
   207,
   213,
   217,
   227,
   232,
   236,
   240,
   244,
   248,
   252,
   256,
   261,
   267,
   276,
   284,
   293,
   309,
   326,
   330,
   335,
   340,
   344,
   348,
   352,
   356,
   360,
   365,
   369,
   374,
   380,
   385,
   391,
   395,
   399,
   401,
   405,
   412,
   418,
   434,
   438,
   442,
   454,
   458,
   468,
   473,
   478,
   485,
   487,
   491,
   498,
   502,
   510,
   514,
   518,
   521,
   525,
   533,
   541,
   550,
   556,
   559,
   563,
   569,
   573,
   577,
   584,
   592,
   598,
   605,
   611,
   620,
   626,
   631,
   633,
   641,
   647,
   653,
   661,
   667
  ]
 },
 "nbformat": 4,
 "nbformat_minor": 5
}