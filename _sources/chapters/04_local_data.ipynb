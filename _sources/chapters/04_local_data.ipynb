{
 "cells": [
  {
   "cell_type": "markdown",
   "id": "4b01b29b",
   "metadata": {},
   "source": [
    "# أستخدام البيانات الجغرافية المكانية المحلية\n",
    "\n",
    "```{contents}\n",
    ":local:\n",
    ":depth: 2\n",
    "```\n",
    "\n",
    "## مدخل\n",
    "\n",
    "## المتطلبات التقنية\n",
    "\n",
    "```bash\n",
    "conda create -n gee python\n",
    "conda activate gee\n",
    "conda install -c conda-forge mamba\n",
    "mamba install -c conda-forge pygis\n",
    "```\n",
    "\n",
    "```bash\n",
    "jupyter lab\n",
    "```"
   ]
  },
  {
   "cell_type": "code",
   "execution_count": null,
   "id": "07a66c88",
   "metadata": {},
   "outputs": [],
   "source": [
    "# %pip install pygis"
   ]
  },
  {
   "cell_type": "code",
   "execution_count": null,
   "id": "a5131192",
   "metadata": {},
   "outputs": [],
   "source": [
    "import ee\n",
    "import geemap"
   ]
  },
  {
   "cell_type": "code",
   "execution_count": null,
   "id": "5b573dfc",
   "metadata": {},
   "outputs": [],
   "source": [
    "geemap.ee_initialize()"
   ]
  },
  {
   "cell_type": "markdown",
   "id": "ba2f01cf",
   "metadata": {},
   "source": [
    "## مجموعة بيانات المرئيات المحلية\n",
    "\n",
    "### مرئيات الطيف الموجي الواحد"
   ]
  },
  {
   "cell_type": "code",
   "execution_count": null,
   "id": "d8abc2f1",
   "metadata": {},
   "outputs": [],
   "source": [
    "url = 'https://github.com/giswqs/data/raw/main/raster/srtm90.tif'\n",
    "filename = 'dem.tif'\n",
    "geemap.download_file(url, filename)"
   ]
  },
  {
   "cell_type": "code",
   "execution_count": null,
   "id": "4ac3539a",
   "metadata": {},
   "outputs": [],
   "source": [
    "Map = geemap.Map()\n",
    "Map.add_raster(filename, cmap='terrain', layer_name=\"DEM\")\n",
    "vis_params = {'min': 0, 'max': 4000, 'palette': 'terrain'}\n",
    "Map.add_colorbar(vis_params, label='Elevation (m)')\n",
    "Map"
   ]
  },
  {
   "cell_type": "code",
   "execution_count": null,
   "id": "8521330b",
   "metadata": {},
   "outputs": [],
   "source": [
    "import geemap.colormaps as cm\n",
    "cm.list_colormaps()"
   ]
  },
  {
   "cell_type": "code",
   "execution_count": null,
   "id": "03c91b0f",
   "metadata": {},
   "outputs": [],
   "source": [
    "cm.plot_colormaps(width=12, height=0.4)"
   ]
  },
  {
   "cell_type": "markdown",
   "id": "7f645dbc",
   "metadata": {},
   "source": [
    "### مرئيات الطيف الموجي المتعدد"
   ]
  },
  {
   "cell_type": "code",
   "execution_count": null,
   "id": "609f41ea",
   "metadata": {},
   "outputs": [],
   "source": [
    "url = 'https://github.com/giswqs/leafmap/raw/master/examples/data/cog.tif'\n",
    "filename = 'cog.tif'\n",
    "geemap.download_file(url, filename)"
   ]
  },
  {
   "cell_type": "code",
   "execution_count": null,
   "id": "fd4cff69",
   "metadata": {},
   "outputs": [],
   "source": [
    "Map = geemap.Map()\n",
    "Map.add_raster(filename, band=[4, 1, 2], layer_name=\"Color infrared\")\n",
    "Map"
   ]
  },
  {
   "cell_type": "markdown",
   "id": "3c943808",
   "metadata": {},
   "source": [
    "### الواجهات الرسومية التفاعلية للمرئيات \n",
    "\n",
    "## بيانات صيغة GeoITFF المعدله سحابياَ\n",
    "\n",
    "### أستعراض و تمثيل بيانات GeoITFF"
   ]
  },
  {
   "cell_type": "code",
   "execution_count": null,
   "id": "fbb4769a",
   "metadata": {},
   "outputs": [],
   "source": [
    "url = 'https://tinyurl.com/24bo8umr'"
   ]
  },
  {
   "cell_type": "code",
   "execution_count": null,
   "id": "10956cef",
   "metadata": {},
   "outputs": [],
   "source": [
    "geemap.cog_bounds(url)"
   ]
  },
  {
   "cell_type": "code",
   "execution_count": null,
   "id": "f0d6d538",
   "metadata": {},
   "outputs": [],
   "source": [
    "geemap.cog_center(url)"
   ]
  },
  {
   "cell_type": "code",
   "execution_count": null,
   "id": "2174bf5e",
   "metadata": {},
   "outputs": [],
   "source": [
    "geemap.cog_bands(url)"
   ]
  },
  {
   "cell_type": "code",
   "execution_count": null,
   "id": "a3dcdfd6",
   "metadata": {},
   "outputs": [],
   "source": [
    "geemap.cog_tile(url)"
   ]
  },
  {
   "cell_type": "code",
   "execution_count": null,
   "id": "9c9876e1",
   "metadata": {},
   "outputs": [],
   "source": [
    "Map = geemap.Map()\n",
    "Map.add_cog_layer(url, name=\"Fire (pre-event)\")\n",
    "Map"
   ]
  },
  {
   "cell_type": "code",
   "execution_count": null,
   "id": "a7fb15c9",
   "metadata": {},
   "outputs": [],
   "source": [
    "url2 = 'https://tinyurl.com/2awjl66w'\n",
    "Map.add_cog_layer(url2, name=\"Fire (post-event)\")\n",
    "Map"
   ]
  },
  {
   "cell_type": "markdown",
   "id": "79e43532",
   "metadata": {},
   "source": [
    "### خلق بيانات بصيغة GeoITFF"
   ]
  },
  {
   "cell_type": "code",
   "execution_count": null,
   "id": "d816f3cb",
   "metadata": {},
   "outputs": [],
   "source": [
    "url = \"https://github.com/giswqs/data/raw/main/raster/srtm90.tif\"\n",
    "geemap.cog_validate(url)"
   ]
  },
  {
   "cell_type": "code",
   "execution_count": null,
   "id": "b530a51a",
   "metadata": {},
   "outputs": [],
   "source": [
    "geemap.cog_validate(url, verbose=True)"
   ]
  },
  {
   "cell_type": "code",
   "execution_count": null,
   "id": "6edee6af",
   "metadata": {},
   "outputs": [],
   "source": [
    "out_cog = \"cog.tif\"\n",
    "geemap.image_to_cog(url, out_cog)"
   ]
  },
  {
   "cell_type": "code",
   "execution_count": null,
   "id": "76476e20",
   "metadata": {},
   "outputs": [],
   "source": [
    "geemap.cog_validate(out_cog)"
   ]
  },
  {
   "cell_type": "code",
   "execution_count": null,
   "id": "40f7a2af",
   "metadata": {},
   "outputs": [],
   "source": [
    "Map = geemap.Map()\n",
    "Map.add_raster(out_cog, cmap=\"terrain\", layer_name=\"Local COG\")\n",
    "Map.add_cog_layer(url, cmap=\"gist_earth\", name=\"Remote COG\")\n",
    "vis_params = {'min': 0, 'max': 4000, 'palette': 'gist_earth'}\n",
    "Map.add_colorbar(vis_params, label='Elevation (m)')\n",
    "Map"
   ]
  },
  {
   "cell_type": "markdown",
   "id": "20ac9f5d",
   "metadata": {},
   "source": [
    "### تحويل البيانات من مصفوفه Numpy الى بيانات GeoITFF"
   ]
  },
  {
   "cell_type": "code",
   "execution_count": null,
   "id": "9cad30f8",
   "metadata": {},
   "outputs": [],
   "source": [
    "url = 'https://github.com/giswqs/leafmap/raw/master/examples/data/cog.tif'\n",
    "in_cog = 'cog.tif'\n",
    "out_cog = \"ndvi.tif\"\n",
    "geemap.download_file(url, in_cog, overwrite=True)"
   ]
  },
  {
   "cell_type": "code",
   "execution_count": null,
   "id": "a354bf29",
   "metadata": {},
   "outputs": [],
   "source": [
    "arr = geemap.image_to_numpy(in_cog)"
   ]
  },
  {
   "cell_type": "code",
   "execution_count": null,
   "id": "9479f51f",
   "metadata": {},
   "outputs": [],
   "source": [
    "arr.shape"
   ]
  },
  {
   "cell_type": "code",
   "execution_count": null,
   "id": "166ecfa8",
   "metadata": {},
   "outputs": [],
   "source": [
    "ndvi = (arr[3] - arr[0]) / (arr[3] + arr[0])"
   ]
  },
  {
   "cell_type": "code",
   "execution_count": null,
   "id": "1a3fbb0e",
   "metadata": {},
   "outputs": [],
   "source": [
    "ndvi.shape"
   ]
  },
  {
   "cell_type": "code",
   "execution_count": null,
   "id": "3cd56913",
   "metadata": {},
   "outputs": [],
   "source": [
    "geemap.numpy_to_cog(ndvi, out_cog, profile=in_cog)"
   ]
  },
  {
   "cell_type": "code",
   "execution_count": null,
   "id": "c60c80f1",
   "metadata": {},
   "outputs": [],
   "source": [
    "Map = geemap.Map()\n",
    "Map.add_raster(in_cog, band=[4, 1, 2], layer_name=\"Color infrared\")\n",
    "Map.add_raster(out_cog, cmap=\"Greens\", layer_name=\"NDVI\")\n",
    "Map"
   ]
  },
  {
   "cell_type": "markdown",
   "id": "8d6dadcd",
   "metadata": {},
   "source": [
    "### استقطاع مساحة صوره بأستخدام القناع"
   ]
  },
  {
   "cell_type": "code",
   "execution_count": null,
   "id": "8a43074f",
   "metadata": {},
   "outputs": [],
   "source": [
    "url = 'https://github.com/giswqs/data/raw/main/raster/srtm90.tif'\n",
    "dem = 'dem.tif'\n",
    "geemap.download_file(url, dem)"
   ]
  },
  {
   "cell_type": "code",
   "execution_count": null,
   "id": "376020aa",
   "metadata": {},
   "outputs": [],
   "source": [
    "Map = geemap.Map()\n",
    "Map.add_raster(dem, cmap='terrain', layer_name=\"DEM\")\n",
    "Map"
   ]
  },
  {
   "cell_type": "code",
   "execution_count": null,
   "id": "9c8608e9",
   "metadata": {},
   "outputs": [],
   "source": [
    "mask = (\n",
    "    'https://raw.githubusercontent.com/giswqs/leafmap/master/examples/data/mask.geojson'\n",
    ")"
   ]
  },
  {
   "cell_type": "code",
   "execution_count": null,
   "id": "687e951f",
   "metadata": {},
   "outputs": [],
   "source": [
    "mask = Map.user_roi"
   ]
  },
  {
   "cell_type": "code",
   "execution_count": null,
   "id": "676bff1a",
   "metadata": {},
   "outputs": [],
   "source": [
    "mask = [\n",
    "    [-119.679565, 37.256566],\n",
    "    [-119.679565, 38.061067],\n",
    "    [-118.24585, 38.061067],\n",
    "    [-118.24585, 37.256566],\n",
    "    [-119.679565, 37.256566],\n",
    "]"
   ]
  },
  {
   "cell_type": "code",
   "execution_count": null,
   "id": "56d37983",
   "metadata": {},
   "outputs": [],
   "source": [
    "output = 'clip.tif'\n",
    "geemap.clip_image(dem, mask, output)\n",
    "Map.add_raster(output, cmap='coolwarm', layer_name=\"Clip Image\")\n",
    "Map"
   ]
  },
  {
   "cell_type": "markdown",
   "id": "46d50a43",
   "metadata": {},
   "source": [
    "## قائمة أرشيف اصول البيانات الزمانيه-المكانية"
   ]
  },
  {
   "cell_type": "code",
   "execution_count": null,
   "id": "bc881e4d",
   "metadata": {},
   "outputs": [],
   "source": [
    "url = 'https://tinyurl.com/22vptbws'"
   ]
  },
  {
   "cell_type": "code",
   "execution_count": null,
   "id": "e09fc3c1",
   "metadata": {},
   "outputs": [],
   "source": [
    "geemap.stac_bounds(url)"
   ]
  },
  {
   "cell_type": "code",
   "execution_count": null,
   "id": "a6124359",
   "metadata": {},
   "outputs": [],
   "source": [
    "geemap.stac_center(url)"
   ]
  },
  {
   "cell_type": "code",
   "execution_count": null,
   "id": "828aef5c",
   "metadata": {},
   "outputs": [],
   "source": [
    "geemap.stac_bands(url)"
   ]
  },
  {
   "cell_type": "code",
   "execution_count": null,
   "id": "16236915",
   "metadata": {},
   "outputs": [],
   "source": [
    "geemap.stac_tile(url, bands=['B3', 'B2', 'B1'])"
   ]
  },
  {
   "cell_type": "code",
   "execution_count": null,
   "id": "3d1254d1",
   "metadata": {},
   "outputs": [],
   "source": [
    "Map = geemap.Map()\n",
    "Map.add_stac_layer(url, bands=['pan'], name='Panchromatic')\n",
    "Map.add_stac_layer(url, bands=['B3', 'B2', 'B1'], name='False color')\n",
    "Map"
   ]
  },
  {
   "cell_type": "markdown",
   "id": "6fdf0d43",
   "metadata": {},
   "source": [
    "## مجموعات بيانات المتجه\n",
    "\n",
    "### صيغة GeoJSON"
   ]
  },
  {
   "cell_type": "code",
   "execution_count": null,
   "id": "ed6f39cd",
   "metadata": {},
   "outputs": [],
   "source": [
    "in_geojson = (\n",
    "    'https://github.com/gee-community/geemap/blob/master/examples/data/cable_geo.geojson'\n",
    ")\n",
    "Map = geemap.Map()\n",
    "Map.add_geojson(in_geojson, layer_name=\"Cable lines\", info_mode=\"on_hover\")\n",
    "Map"
   ]
  },
  {
   "cell_type": "code",
   "execution_count": null,
   "id": "685ece11",
   "metadata": {},
   "outputs": [],
   "source": [
    "Map = geemap.Map()\n",
    "Map.add_basemap(\"CartoDB.DarkMatter\")\n",
    "callback = lambda feat: {\"color\": \"#\" + feat[\"properties\"][\"color\"], \"weight\": 2}\n",
    "Map.add_geojson(in_geojson, layer_name=\"Cable lines\", style_callback=callback)\n",
    "Map"
   ]
  },
  {
   "cell_type": "code",
   "execution_count": null,
   "id": "41a07640",
   "metadata": {},
   "outputs": [],
   "source": [
    "url = \"https://github.com/gee-community/geemap/blob/master/examples/data/countries.geojson\"\n",
    "Map = geemap.Map()\n",
    "Map.add_geojson(\n",
    "    url, layer_name=\"Countries\", fill_colors=['red', 'yellow', 'green', 'orange']\n",
    ")\n",
    "Map"
   ]
  },
  {
   "cell_type": "code",
   "execution_count": null,
   "id": "ee928b28",
   "metadata": {},
   "outputs": [],
   "source": [
    "import random\n",
    "\n",
    "Map = geemap.Map()\n",
    "\n",
    "def random_color(feature):\n",
    "    return {\n",
    "        'color': 'black',\n",
    "        'weight': 3,\n",
    "        'fillColor': random.choice(['red', 'yellow', 'green', 'orange']),\n",
    "    }\n",
    "\n",
    "Map.add_geojson(url, layer_name=\"Countries\", style_callback=random_color)\n",
    "Map"
   ]
  },
  {
   "cell_type": "code",
   "execution_count": null,
   "id": "0750dbad",
   "metadata": {},
   "outputs": [],
   "source": [
    "Map = geemap.Map()\n",
    "\n",
    "style = {\n",
    "    \"stroke\": True,\n",
    "    \"color\": \"#0000ff\",\n",
    "    \"weight\": 2,\n",
    "    \"opacity\": 1,\n",
    "    \"fill\": True,\n",
    "    \"fillColor\": \"#0000ff\",\n",
    "    \"fillOpacity\": 0.1,\n",
    "}\n",
    "\n",
    "hover_style = {\"fillOpacity\": 0.7}\n",
    "\n",
    "Map.add_geojson(url, layer_name=\"Countries\", style=style, hover_style=hover_style)\n",
    "Map"
   ]
  },
  {
   "cell_type": "markdown",
   "id": "9fcc8736",
   "metadata": {},
   "source": [
    "### صيغة Shapefile"
   ]
  },
  {
   "cell_type": "code",
   "execution_count": null,
   "id": "e490673b",
   "metadata": {},
   "outputs": [],
   "source": [
    "url = \"https://github.com/gee-community/geemap/blob/master/examples/data/countries.zip\"\n",
    "geemap.download_file(url)"
   ]
  },
  {
   "cell_type": "code",
   "execution_count": null,
   "id": "a62f0d6b",
   "metadata": {},
   "outputs": [],
   "source": [
    "Map = geemap.Map()\n",
    "in_shp = \"countries.shp\"\n",
    "Map.add_shp(in_shp, layer_name=\"Countries\")\n",
    "Map"
   ]
  },
  {
   "cell_type": "markdown",
   "id": "dfc5aadf",
   "metadata": {},
   "source": [
    "### صيغة KML"
   ]
  },
  {
   "cell_type": "code",
   "execution_count": null,
   "id": "b21262f7",
   "metadata": {},
   "outputs": [],
   "source": [
    "in_kml = \"https://github.com/gee-community/geemap/blob/master/examples/data/us_states.kml\""
   ]
  },
  {
   "cell_type": "code",
   "execution_count": null,
   "id": "90685542",
   "metadata": {},
   "outputs": [],
   "source": [
    "Map = geemap.Map(center=[40, -100], zoom=4)\n",
    "Map.add_kml(in_kml, layer_name=\"US States\")\n",
    "Map"
   ]
  },
  {
   "cell_type": "markdown",
   "id": "c06baa17",
   "metadata": {},
   "source": [
    "### صيغة GeoDataFrame"
   ]
  },
  {
   "cell_type": "code",
   "execution_count": null,
   "id": "ef9451d4",
   "metadata": {},
   "outputs": [],
   "source": [
    "import geopandas as gpd"
   ]
  },
  {
   "cell_type": "code",
   "execution_count": null,
   "id": "80d5f29a",
   "metadata": {},
   "outputs": [],
   "source": [
    "Map = geemap.Map(center=[40, -100], zoom=4)\n",
    "gdf = gpd.read_file('countries.shp')\n",
    "Map.add_gdf(gdf, layer_name=\"US States\")\n",
    "Map"
   ]
  },
  {
   "cell_type": "markdown",
   "id": "522df224",
   "metadata": {},
   "source": [
    "### الصيغ الاخرى للمتجه"
   ]
  },
  {
   "cell_type": "code",
   "execution_count": null,
   "id": "25b98178",
   "metadata": {},
   "outputs": [],
   "source": [
    "Map = geemap.Map()\n",
    "data = 'https://github.com/gee-community/geemap/blob/master/examples/data/countries.gpkg'\n",
    "Map.add_vector(data, layer_name=\"Countries\")\n",
    "Map"
   ]
  },
  {
   "cell_type": "markdown",
   "id": "b696f935",
   "metadata": {},
   "source": [
    "## خلق نقاط متجه من XY\n",
    "\n",
    "### تحويل ملف CSV الى متجه"
   ]
  },
  {
   "cell_type": "code",
   "execution_count": null,
   "id": "72fa09b7",
   "metadata": {},
   "outputs": [],
   "source": [
    "data = 'https://github.com/gee-community/geemap/blob/master/examples/data/us_cities.csv'\n",
    "geemap.csv_to_df(data)"
   ]
  },
  {
   "cell_type": "code",
   "execution_count": null,
   "id": "0f62907d",
   "metadata": {},
   "outputs": [],
   "source": [
    "geemap.csv_to_geojson(\n",
    "    data, 'cities.geojson', latitude=\"latitude\", longitude='longitude'\n",
    ")"
   ]
  },
  {
   "cell_type": "code",
   "execution_count": null,
   "id": "b9a1da04",
   "metadata": {},
   "outputs": [],
   "source": [
    "geemap.csv_to_shp(data, 'cities.shp', latitude=\"latitude\", longitude='longitude')"
   ]
  },
  {
   "cell_type": "code",
   "execution_count": null,
   "id": "12bd8268",
   "metadata": {},
   "outputs": [],
   "source": [
    "geemap.csv_to_gdf(data, latitude=\"latitude\", longitude='longitude')"
   ]
  },
  {
   "cell_type": "code",
   "execution_count": null,
   "id": "4e53b47a",
   "metadata": {},
   "outputs": [],
   "source": [
    "geemap.csv_to_vector(data, 'cities.gpkg', latitude=\"latitude\", longitude='longitude')"
   ]
  },
  {
   "cell_type": "markdown",
   "id": "6b606f0a",
   "metadata": {},
   "source": [
    "### أضافة نقاط الى المتجة من بيانات XY"
   ]
  },
  {
   "cell_type": "code",
   "execution_count": null,
   "id": "5d33706e",
   "metadata": {},
   "outputs": [],
   "source": [
    "cities = 'https://github.com/gee-community/geemap/blob/master/examples/data/us_cities.csv'\n",
    "regions = (\n",
    "    'https://github.com/gee-community/geemap/blob/master/examples/data/us_regions.geojson'\n",
    ")"
   ]
  },
  {
   "cell_type": "code",
   "execution_count": null,
   "id": "3a0e3629",
   "metadata": {},
   "outputs": [],
   "source": [
    "Map = geemap.Map(center=[40, -100], zoom=4)\n",
    "Map.add_points_from_xy(cities, x=\"longitude\", y=\"latitude\")\n",
    "Map"
   ]
  },
  {
   "cell_type": "code",
   "execution_count": null,
   "id": "993bcb24",
   "metadata": {},
   "outputs": [],
   "source": [
    "Map = geemap.Map(center=[40, -100], zoom=4)\n",
    "\n",
    "Map.add_geojson(regions, layer_name='US Regions')\n",
    "\n",
    "Map.add_points_from_xy(\n",
    "    cities,\n",
    "    x='longitude',\n",
    "    y='latitude',\n",
    "    layer_name='US Cities',\n",
    "    color_column='region',\n",
    "    icon_names=['gear', 'map', 'leaf', 'globe'],\n",
    "    spin=True,\n",
    "    add_legend=True,\n",
    ")\n",
    "Map"
   ]
  },
  {
   "cell_type": "markdown",
   "id": "98a7fde9",
   "metadata": {},
   "source": [
    "### خلق علامات دائريه من نقاط متجه"
   ]
  },
  {
   "cell_type": "code",
   "execution_count": null,
   "id": "fd00e02a",
   "metadata": {},
   "outputs": [],
   "source": [
    "data = 'https://github.com/gee-community/geemap/blob/master/examples/data/us_cities.csv'"
   ]
  },
  {
   "cell_type": "code",
   "execution_count": null,
   "id": "2fc2b39f",
   "metadata": {},
   "outputs": [],
   "source": [
    "Map = geemap.Map(center=[40, -100], zoom=4)\n",
    "Map.add_circle_markers_from_xy(\n",
    "    data,\n",
    "    x=\"longitude\",\n",
    "    y=\"latitude\",\n",
    "    radius=10,\n",
    "    color=\"blue\",\n",
    "    fill_color=\"black\",\n",
    "    fill_opacity=0.5,\n",
    ")\n",
    "Map"
   ]
  },
  {
   "cell_type": "markdown",
   "id": "60bf3260",
   "metadata": {},
   "source": [
    "## تصدير متجه بيانات الى Earth Engine"
   ]
  },
  {
   "cell_type": "code",
   "execution_count": null,
   "id": "98be87f2",
   "metadata": {},
   "outputs": [],
   "source": [
    "in_geojson = (\n",
    "    'https://github.com/gee-community/geemap/blob/master/examples/data/countries.geojson'\n",
    ")\n",
    "Map = geemap.Map()\n",
    "fc = geemap.geojson_to_ee(in_geojson)\n",
    "Map.addLayer(fc.style(**{'color': 'ff0000', 'fillColor': '00000000'}), {}, 'Countries')\n",
    "Map"
   ]
  },
  {
   "cell_type": "code",
   "execution_count": null,
   "id": "01902648",
   "metadata": {},
   "outputs": [],
   "source": [
    "url = \"https://github.com/gee-community/geemap/blob/master/examples/data/countries.zip\"\n",
    "geemap.download_file(url, overwrite=True)"
   ]
  },
  {
   "cell_type": "code",
   "execution_count": null,
   "id": "e0926b19",
   "metadata": {},
   "outputs": [],
   "source": [
    "in_shp = \"countries.shp\"\n",
    "fc = geemap.shp_to_ee(in_shp)"
   ]
  },
  {
   "cell_type": "code",
   "execution_count": null,
   "id": "d5c0eca8",
   "metadata": {},
   "outputs": [],
   "source": [
    "import geopandas as gpd\n",
    "\n",
    "gdf = gpd.read_file(in_shp)\n",
    "fc = geemap.gdf_to_ee(gdf)"
   ]
  },
  {
   "cell_type": "code",
   "execution_count": null,
   "id": "31ce7a55",
   "metadata": {},
   "outputs": [],
   "source": [
    "fc = geemap.vector_to_ee(url)"
   ]
  },
  {
   "cell_type": "markdown",
   "id": "07f040d8",
   "metadata": {},
   "source": [
    "## دمج جداول الخصائص للمتجهات"
   ]
  },
  {
   "cell_type": "code",
   "execution_count": null,
   "id": "6075ab3d",
   "metadata": {},
   "outputs": [],
   "source": [
    "Map = geemap.Map()\n",
    "countries = ee.FeatureCollection(geemap.examples.get_ee_path('countries'))\n",
    "Map.addLayer(countries, {}, 'Countries')\n",
    "Map"
   ]
  },
  {
   "cell_type": "code",
   "execution_count": null,
   "id": "0ee42ef7",
   "metadata": {},
   "outputs": [],
   "source": [
    "geemap.ee_to_df(countries)"
   ]
  },
  {
   "cell_type": "code",
   "execution_count": null,
   "id": "f9b65c5b",
   "metadata": {},
   "outputs": [],
   "source": [
    "data = (\n",
    "    'https://github.com/gee-community/geemap/blob/master/examples/data/country_centroids.csv'\n",
    ")\n",
    "df = geemap.csv_to_df(data)\n",
    "df"
   ]
  },
  {
   "cell_type": "code",
   "execution_count": null,
   "id": "ec8b77fc",
   "metadata": {},
   "outputs": [],
   "source": [
    "fc = geemap.ee_join_table(countries, data, src_key='ISO_A2', dst_key='country')"
   ]
  },
  {
   "cell_type": "code",
   "execution_count": null,
   "id": "9e9c80a8",
   "metadata": {},
   "outputs": [],
   "source": [
    "geemap.ee_to_df(fc)"
   ]
  },
  {
   "cell_type": "code",
   "execution_count": null,
   "id": "dd1ab744",
   "metadata": {},
   "outputs": [],
   "source": [
    "Map.addLayer(fc, {}, 'Countries with attr')\n",
    "Map"
   ]
  },
  {
   "cell_type": "markdown",
   "id": "08fbaeab",
   "metadata": {},
   "source": [
    "## تحويل بيانات بصيغة NetCDF  الى ee.Image"
   ]
  },
  {
   "cell_type": "code",
   "execution_count": null,
   "id": "34d78455",
   "metadata": {},
   "outputs": [],
   "source": [
    "import os\n",
    "url = 'https://github.com/gee-community/geemap/blob/master/examples/data/wind_global.nc'\n",
    "nc_file = 'wind_global.nc'\n",
    "if not os.path.exists(nc_file):\n",
    "    geemap.download_file(url)"
   ]
  },
  {
   "cell_type": "code",
   "execution_count": null,
   "id": "22188956",
   "metadata": {},
   "outputs": [],
   "source": [
    "Map = geemap.Map()\n",
    "img = geemap.netcdf_to_ee(nc_file=nc_file, var_names='u_wind')\n",
    "vis_params = {'min': -20, 'max': 25, 'palette': 'YlOrRd', 'opacity': 0.6}\n",
    "Map.addLayer(img, vis_params, \"u_wind\")\n",
    "Map"
   ]
  },
  {
   "cell_type": "code",
   "execution_count": null,
   "id": "adbb1f4f",
   "metadata": {},
   "outputs": [],
   "source": [
    "Map = geemap.Map()\n",
    "img = geemap.netcdf_to_ee(nc_file=nc_file, var_names=['u_wind', 'v_wind'])\n",
    "Map.addLayer(\n",
    "    img,\n",
    "    {'bands': ['v_wind'], 'min': -20, 'max': 25, 'palette': 'coolwarm', 'opacity': 0.8},\n",
    "    \"v_wind\",\n",
    ")\n",
    "Map"
   ]
  },
  {
   "cell_type": "markdown",
   "id": "bac02653",
   "metadata": {},
   "source": [
    "## بيانات  OpenStreetMap OSM \n",
    "\n",
    "### تحويل بيانات من OSM الى GeoDataFrame"
   ]
  },
  {
   "cell_type": "code",
   "execution_count": null,
   "id": "6958e958",
   "metadata": {},
   "outputs": [],
   "source": [
    "gdf = geemap.osm_to_gdf(\"Knoxville, Tennessee\")\n",
    "gdf"
   ]
  },
  {
   "cell_type": "markdown",
   "id": "985e6feb",
   "metadata": {},
   "source": [
    "### تحويل بيانات من OSM الى  ee.FeatureCollection"
   ]
  },
  {
   "cell_type": "code",
   "execution_count": null,
   "id": "8f26b896",
   "metadata": {},
   "outputs": [],
   "source": [
    "Map = geemap.Map()\n",
    "fc = geemap.osm_to_ee(\"Knoxville, Tennessee\")\n",
    "Map.addLayer(fc, {}, \"Knoxville\")\n",
    "Map.centerObject(fc, 11)\n",
    "Map"
   ]
  },
  {
   "cell_type": "markdown",
   "id": "50ddfab8",
   "metadata": {},
   "source": [
    "### تحميل بيانات OSM"
   ]
  },
  {
   "cell_type": "code",
   "execution_count": null,
   "id": "0d88e14e",
   "metadata": {},
   "outputs": [],
   "source": [
    "import geemap.osm as osm"
   ]
  },
  {
   "cell_type": "code",
   "execution_count": null,
   "id": "696eb9ca",
   "metadata": {},
   "outputs": [],
   "source": [
    "Map = geemap.Map(add_google_map=False)\n",
    "gdf = osm.osm_gdf_from_geocode(\"New York City\")\n",
    "Map.add_gdf(gdf, layer_name=\"NYC\")\n",
    "Map"
   ]
  },
  {
   "cell_type": "code",
   "execution_count": null,
   "id": "4b612bbd",
   "metadata": {},
   "outputs": [],
   "source": [
    "place = \"University of Tennessee, Knoxville, TN\"\n",
    "tags = {\"building\": True}\n",
    "gdf = osm.osm_gdf_from_place(place, tags)\n",
    "gdf = gdf[gdf.geometry.type == \"Polygon\"]\n",
    "gdf"
   ]
  },
  {
   "cell_type": "code",
   "execution_count": null,
   "id": "2f99d094",
   "metadata": {},
   "outputs": [],
   "source": [
    "Map = geemap.Map(add_google_map=False)\n",
    "Map.add_gdf(gdf, layer_name=\"Buildings\")\n",
    "Map"
   ]
  },
  {
   "cell_type": "code",
   "execution_count": null,
   "id": "27dc62c5",
   "metadata": {},
   "outputs": [],
   "source": [
    "gdf = osm.osm_gdf_from_address(\n",
    "    address=\"New York City\", tags={\"amenity\": \"bar\"}, dist=1500\n",
    ")\n",
    "gdf"
   ]
  },
  {
   "cell_type": "code",
   "execution_count": null,
   "id": "e3309b2e",
   "metadata": {},
   "outputs": [],
   "source": [
    "Map = geemap.Map(add_google_map=False)\n",
    "Map.add_gdf(gdf, layer_name=\"NYC bars\")\n",
    "Map"
   ]
  },
  {
   "cell_type": "code",
   "execution_count": null,
   "id": "d1a7ebe6",
   "metadata": {},
   "outputs": [],
   "source": [
    "gdf = osm.osm_gdf_from_point(\n",
    "    center_point=(46.7808, -96.0156),\n",
    "    tags={\"natural\": \"water\"},\n",
    "    dist=10000,\n",
    ")\n",
    "gdf"
   ]
  },
  {
   "cell_type": "code",
   "execution_count": null,
   "id": "f70c34c9",
   "metadata": {},
   "outputs": [],
   "source": [
    "Map = geemap.Map(add_google_map=False)\n",
    "Map.add_gdf(gdf, layer_name=\"Lakes\")\n",
    "Map"
   ]
  },
  {
   "cell_type": "code",
   "execution_count": null,
   "id": "882ed174",
   "metadata": {},
   "outputs": [],
   "source": [
    "Map = geemap.Map(center=[40.7500, -73.9854], zoom=16, add_google_map=False)\n",
    "Map"
   ]
  },
  {
   "cell_type": "code",
   "execution_count": null,
   "id": "7a8ec49e",
   "metadata": {},
   "outputs": [],
   "source": [
    "Map.add_osm_from_view(tags={\"amenity\": \"bar\", \"building\": True})"
   ]
  },
  {
   "cell_type": "markdown",
   "id": "25831759",
   "metadata": {},
   "source": [
    "## قرائة البيانات من برنامح PostGIS\n",
    "\n",
    "```bash\n",
    "mamba install sqlalchemy psycopg2 -c conda-forge\n",
    "```"
   ]
  },
  {
   "cell_type": "code",
   "execution_count": null,
   "id": "6a85e1ab",
   "metadata": {},
   "outputs": [],
   "source": [
    "con = geemap.connect_postgis(\n",
    "    database=\"nyc\", host=\"localhost\", user=None, password=None, use_env_var=True\n",
    ")"
   ]
  },
  {
   "cell_type": "code",
   "execution_count": null,
   "id": "f30eac4c",
   "metadata": {},
   "outputs": [],
   "source": [
    "sql = 'SELECT * FROM nyc_neighborhoods'\n",
    "gdf = geemap.read_postgis(sql, con)\n",
    "gdf"
   ]
  },
  {
   "cell_type": "code",
   "execution_count": null,
   "id": "d07e0b22",
   "metadata": {},
   "outputs": [],
   "source": [
    "Map = geemap.Map()\n",
    "Map = geemap.gdf_to_ee(gdf)\n",
    "Map.addLayer(fc, {}, \"NYC EE\")\n",
    "Map.centerObject(fc)\n",
    "Map"
   ]
  },
  {
   "cell_type": "code",
   "execution_count": null,
   "id": "07a909d9",
   "metadata": {},
   "outputs": [],
   "source": [
    "Map = geemap.Map()\n",
    "Map.add_gdf_from_postgis(\n",
    "    sql, con, layer_name=\"NYC Neighborhoods\", fill_colors=[\"red\", \"green\", \"blue\"]\n",
    ")\n",
    "Map"
   ]
  },
  {
   "cell_type": "markdown",
   "id": "dbd6209a",
   "metadata": {},
   "source": [
    "## الخلاصة"
   ]
  }
 ],
 "metadata": {
  "jupytext": {
   "text_representation": {
    "extension": ".md",
    "format_name": "myst",
    "format_version": 0.13,
    "jupytext_version": "1.11.5"
   }
  },
  "kernelspec": {
   "display_name": "Python 3",
   "language": "python",
   "name": "python3"
  },
  "source_map": [
   12,
   36,
   40,
   45,
   47,
   53,
   59,
   67,
   72,
   74,
   78,
   84,
   88,
   96,
   100,
   104,
   108,
   112,
   116,
   122,
   126,
   130,
   135,
   139,
   144,
   148,
   155,
   159,
   166,
   170,
   174,
   178,
   182,
   186,
   191,
   195,
   201,
   207,
   213,
   217,
   227,
   232,
   236,
   240,
   244,
   248,
   252,
   256,
   261,
   267,
   276,
   284,
   293,
   309,
   326,
   330,
   335,
   340,
   344,
   348,
   352,
   356,
   360,
   365,
   369,
   374,
   380,
   385,
   391,
   395,
   399,
   401,
   405,
   412,
   418,
   434,
   438,
   442,
   454,
   458,
   468,
   473,
   478,
   485,
   487,
   491,
   498,
   502,
   510,
   514,
   518,
   521,
   525,
   533,
   541,
   550,
   556,
   559,
   563,
   569,
   573,
   577,
   584,
   592,
   598,
   605,
   611,
   620,
   626,
   631,
   633,
   641,
   647,
   653,
   661,
   667
  ]
 },
 "nbformat": 4,
 "nbformat_minor": 5
}